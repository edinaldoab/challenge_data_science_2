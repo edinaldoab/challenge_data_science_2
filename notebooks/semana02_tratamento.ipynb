{
  "nbformat": 4,
  "nbformat_minor": 0,
  "metadata": {
    "colab": {
      "provenance": [],
      "authorship_tag": "ABX9TyOfuZyQiSse90hJcR1hdg87",
      "include_colab_link": true
    },
    "kernelspec": {
      "name": "python3",
      "display_name": "Python 3"
    },
    "language_info": {
      "name": "python"
    }
  },
  "cells": [
    {
      "cell_type": "markdown",
      "metadata": {
        "id": "view-in-github",
        "colab_type": "text"
      },
      "source": [
        "<a href=\"https://colab.research.google.com/github/edinaldoab/challenge_data_science_2/blob/main/notebooks/semana02_tratamento.ipynb\" target=\"_parent\"><img src=\"https://colab.research.google.com/assets/colab-badge.svg\" alt=\"Open In Colab\"/></a>"
      ]
    },
    {
      "cell_type": "markdown",
      "source": [
        "# Semana 2\n",
        "### Contextualização\n",
        "\n",
        "\n",
        "Aqui será empregado uma abordagem de **Ciências de Dados**! Toda a base tratada e disponibilizada no formato PARQUET será explorada e tratada para finalmente elencar e criar os modelos de Machine Learning.\n",
        "<br>\n",
        "<br>\n",
        "**Recordando: Na primeira semana do desafio, todos os esforços foram dedicados ao tratamento da base de dados bruta disponibilizada pelos desafiadores.**"
      ],
      "metadata": {
        "id": "sguyvI4v8vJ7"
      }
    },
    {
      "cell_type": "markdown",
      "source": [
        "# 1. Preparação do Ambiente"
      ],
      "metadata": {
        "id": "B5zbNtd08BcA"
      }
    },
    {
      "cell_type": "markdown",
      "source": [
        "## a. Instalação das dependências"
      ],
      "metadata": {
        "id": "ZgP_g3XXwcwm"
      }
    },
    {
      "cell_type": "code",
      "execution_count": 1,
      "metadata": {
        "id": "enbmM_NMUB9c"
      },
      "outputs": [],
      "source": [
        "!apt-get update -qq\n",
        "!apt-get install openjdk-8-jdk-headless -qq > /dev/null\n",
        "!wget -q https://archive.apache.org/dist/spark/spark-3.1.2/spark-3.1.2-bin-hadoop2.7.tgz\n",
        "!tar xf spark-3.1.2-bin-hadoop2.7.tgz\n",
        "!pip install -q findspark"
      ]
    },
    {
      "cell_type": "code",
      "source": [
        "import os\n",
        "os.environ[\"JAVA_HOME\"] = \"/usr/lib/jvm/java-8-openjdk-amd64\"\n",
        "os.environ[\"SPARK_HOME\"] = \"/content/spark-3.1.2-bin-hadoop2.7\""
      ],
      "metadata": {
        "id": "QK0uK6A-UzhY"
      },
      "execution_count": 2,
      "outputs": []
    },
    {
      "cell_type": "markdown",
      "source": [
        "## b. Inicialização da SparkSession"
      ],
      "metadata": {
        "id": "WBjX4aVhkXCg"
      }
    },
    {
      "cell_type": "code",
      "source": [
        "import findspark\n",
        "findspark.init()"
      ],
      "metadata": {
        "id": "_Gk1F5mMU1nt"
      },
      "execution_count": 3,
      "outputs": []
    },
    {
      "cell_type": "code",
      "source": [
        "from pyspark.sql import SparkSession\n",
        "\n",
        "spark = SparkSession.builder \\\n",
        "    .master('local[*]') \\\n",
        "    .appName(\"challenge_imob\") \\\n",
        "    .config('spark.ui.port', '4050') \\\n",
        "    .getOrCreate()"
      ],
      "metadata": {
        "id": "U-PSvJevU5aJ"
      },
      "execution_count": 4,
      "outputs": []
    },
    {
      "cell_type": "markdown",
      "source": [
        "## c. Montagem do Drive"
      ],
      "metadata": {
        "id": "ppAaMj1Ikism"
      }
    },
    {
      "cell_type": "code",
      "source": [
        "from google.colab import drive\n",
        "drive.mount('/content/drive')"
      ],
      "metadata": {
        "colab": {
          "base_uri": "https://localhost:8080/"
        },
        "id": "Z8_AQdaNVS8b",
        "outputId": "72e78e40-ae4b-4157-f0cc-0873e86f3493"
      },
      "execution_count": 5,
      "outputs": [
        {
          "output_type": "stream",
          "name": "stdout",
          "text": [
            "Mounted at /content/drive\n"
          ]
        }
      ]
    },
    {
      "cell_type": "markdown",
      "source": [
        "## d. Inicializando a  UI do Spark "
      ],
      "metadata": {
        "id": "D5ogW79Oy2as"
      }
    },
    {
      "cell_type": "code",
      "source": [
        "!wget -q https://bin.equinox.io/c/4VmDzA7iaHb/ngrok-stable-linux-amd64.zip\n",
        "!unzip ngrok-stable-linux-amd64.zip"
      ],
      "metadata": {
        "colab": {
          "base_uri": "https://localhost:8080/"
        },
        "id": "-H8K8pQFVCgk",
        "outputId": "36c95719-5e1d-4b85-84fb-fe92e8138110"
      },
      "execution_count": 6,
      "outputs": [
        {
          "output_type": "stream",
          "name": "stdout",
          "text": [
            "Archive:  ngrok-stable-linux-amd64.zip\n",
            "  inflating: ngrok                   \n"
          ]
        }
      ]
    },
    {
      "cell_type": "code",
      "source": [
        "with open('/content/drive/MyDrive/Colab Notebooks/projeto_data_science_imobni/dados/authTokenngrok.txt', 'r') as file:\n",
        "  content = file.read()\n",
        "  file.close()\n",
        "\n",
        "my_authtoken = str(content)"
      ],
      "metadata": {
        "id": "LSsGlSu4VG5h"
      },
      "execution_count": 7,
      "outputs": []
    },
    {
      "cell_type": "code",
      "source": [
        "get_ipython().system_raw('./ngrok authtoken ' + my_authtoken)\n",
        "get_ipython().system_raw('./ngrok http 4050 &')\n",
        "\n",
        "!curl -s http://localhost:4040/api/tunnels"
      ],
      "metadata": {
        "colab": {
          "base_uri": "https://localhost:8080/"
        },
        "id": "JN7VU6ErJ6-m",
        "outputId": "8471073c-a572-4d9a-aeb6-7897caf572c1"
      },
      "execution_count": 8,
      "outputs": [
        {
          "output_type": "stream",
          "name": "stdout",
          "text": [
            "{\"tunnels\":[],\"uri\":\"/api/tunnels\"}\n"
          ]
        }
      ]
    },
    {
      "cell_type": "code",
      "source": [
        "spark"
      ],
      "metadata": {
        "id": "vDWpd4nrVKwm",
        "colab": {
          "base_uri": "https://localhost:8080/",
          "height": 219
        },
        "outputId": "45bf454b-bd36-45cc-cc5e-78971ddb2568"
      },
      "execution_count": 9,
      "outputs": [
        {
          "output_type": "execute_result",
          "data": {
            "text/plain": [
              "<pyspark.sql.session.SparkSession at 0x7f8a1a6cd760>"
            ],
            "text/html": [
              "\n",
              "            <div>\n",
              "                <p><b>SparkSession - in-memory</b></p>\n",
              "                \n",
              "        <div>\n",
              "            <p><b>SparkContext</b></p>\n",
              "\n",
              "            <p><a href=\"http://b5000bf678db:4050\">Spark UI</a></p>\n",
              "\n",
              "            <dl>\n",
              "              <dt>Version</dt>\n",
              "                <dd><code>v3.1.2</code></dd>\n",
              "              <dt>Master</dt>\n",
              "                <dd><code>local[*]</code></dd>\n",
              "              <dt>AppName</dt>\n",
              "                <dd><code>challenge_imob</code></dd>\n",
              "            </dl>\n",
              "        </div>\n",
              "        \n",
              "            </div>\n",
              "        "
            ]
          },
          "metadata": {},
          "execution_count": 9
        }
      ]
    },
    {
      "cell_type": "markdown",
      "source": [
        "Carregamento dos dados:"
      ],
      "metadata": {
        "id": "9Te7vFd8ddtt"
      }
    },
    {
      "cell_type": "markdown",
      "source": [
        "# 2. Carregamento e tratamento dos dados"
      ],
      "metadata": {
        "id": "UTWlLTRvlM-K"
      }
    },
    {
      "cell_type": "markdown",
      "source": [
        "## a. Leitura do dataset"
      ],
      "metadata": {
        "id": "k8V1MvMj5PzO"
      }
    },
    {
      "cell_type": "code",
      "source": [
        "path='/content/drive/MyDrive/Colab Notebooks/projeto_data_science_imobni/dataset_parquet'\n",
        "\n",
        "data = spark.read.parquet(path)"
      ],
      "metadata": {
        "id": "6_hFMHTuddN7"
      },
      "execution_count": 104,
      "outputs": []
    },
    {
      "cell_type": "code",
      "source": [
        "data.show(5)"
      ],
      "metadata": {
        "colab": {
          "base_uri": "https://localhost:8080/"
        },
        "id": "sdt03fOPeKkA",
        "outputId": "76877bad-1f9e-4a59-eda5-9cb24c8e38ff"
      },
      "execution_count": 105,
      "outputs": [
        {
          "output_type": "stream",
          "name": "stdout",
          "text": [
            "+--------------------+-----+----------+---------+---------+--------------------+-------+------+------------+------------+-----------+----+---------------+----------+----------+-----+-----+-------+\n",
            "|                  id|andar|area_total|area_util|banheiros|     caracteristicas|quartos|suites|tipo_anuncio|tipo_unidade|   tipo_uso|vaga|         bairro|      zona|condominio| iptu| tipo|  valor|\n",
            "+--------------------+-----+----------+---------+---------+--------------------+-------+------+------------+------------+-----------+----+---------------+----------+----------+-----+-----+-------+\n",
            "|00790b85-56e3-43a...|   11|       166|      166|        5|[Academia, Churra...|      4|     4|       Usado| Apartamento|Residencial|   2|    Jacarepaguá|Zona Oeste|      2100| 4600|Venda|1750000|\n",
            "|007f8099-8e1d-45f...|    4|       640|      640|        5|[Animais permitid...|     11|     3|       Usado| Apartamento|Residencial|null|           Urca|  Zona Sul|      3060|20030|Venda|3800000|\n",
            "|00b23c6d-0e9d-4be...|    1|        50|       50|        1|[Academia, Churra...|      2|     0|       Usado| Apartamento|Residencial|   1|Parada de Lucas|Zona Norte|       363|   97|Venda| 192000|\n",
            "|012aebd7-278f-4b4...|    0|       160|      160|        4|          [Elevador]|      3|     1|       Usado| Apartamento|Residencial|   3|        Ipanema|  Zona Sul|      1530| 7440|Venda|3490000|\n",
            "|0267dcdb-7705-44a...|    0|        52|       52|        1|[Churrasqueira, P...|      2|     1|       Usado| Apartamento|Residencial|   1|      Pechincha|Zona Oeste|      null| null|Venda| 440000|\n",
            "+--------------------+-----+----------+---------+---------+--------------------+-------+------+------------+------------+-----------+----+---------------+----------+----------+-----+-----+-------+\n",
            "only showing top 5 rows\n",
            "\n"
          ]
        }
      ]
    },
    {
      "cell_type": "markdown",
      "source": [
        "## b. Seleção de features"
      ],
      "metadata": {
        "id": "klH1TWa1AIlQ"
      }
    },
    {
      "cell_type": "markdown",
      "source": [
        "Aqui devem ser removidas as colunas que possuem apenas um valor atribuído, de acordo com o que foi elaborado na primeira semana. Esta etapa é muito importante para se reduzir a complexidade dos dados e aumentar a velocidade de ajuste do modelo."
      ],
      "metadata": {
        "id": "SBWXYLwJAyUl"
      }
    },
    {
      "cell_type": "code",
      "source": [
        "data\\\n",
        "    .select('tipo')\\\n",
        "    .distinct()\\\n",
        "    .show(5)"
      ],
      "metadata": {
        "colab": {
          "base_uri": "https://localhost:8080/"
        },
        "id": "mm25lRD5gFqj",
        "outputId": "cd509379-0f6b-488a-cf7b-545e1c3b2091"
      },
      "execution_count": 106,
      "outputs": [
        {
          "output_type": "stream",
          "name": "stdout",
          "text": [
            "+-----+\n",
            "| tipo|\n",
            "+-----+\n",
            "|Venda|\n",
            "+-----+\n",
            "\n"
          ]
        }
      ]
    },
    {
      "cell_type": "code",
      "source": [
        "data\\\n",
        "    .select('tipo_anuncio')\\\n",
        "    .distinct()\\\n",
        "    .show(5)"
      ],
      "metadata": {
        "colab": {
          "base_uri": "https://localhost:8080/"
        },
        "id": "xSd2nvun96GN",
        "outputId": "7f5179dd-2441-43f8-9017-a799c799c777"
      },
      "execution_count": 107,
      "outputs": [
        {
          "output_type": "stream",
          "name": "stdout",
          "text": [
            "+------------+\n",
            "|tipo_anuncio|\n",
            "+------------+\n",
            "|       Usado|\n",
            "+------------+\n",
            "\n"
          ]
        }
      ]
    },
    {
      "cell_type": "code",
      "source": [
        "data\\\n",
        "    .select('tipo_unidade')\\\n",
        "    .distinct()\\\n",
        "    .show(5)"
      ],
      "metadata": {
        "colab": {
          "base_uri": "https://localhost:8080/"
        },
        "id": "6AR5L7TV-UB5",
        "outputId": "00da3b23-35e2-47dc-efcf-df4adfa33e82"
      },
      "execution_count": 108,
      "outputs": [
        {
          "output_type": "stream",
          "name": "stdout",
          "text": [
            "+------------+\n",
            "|tipo_unidade|\n",
            "+------------+\n",
            "| Apartamento|\n",
            "+------------+\n",
            "\n"
          ]
        }
      ]
    },
    {
      "cell_type": "code",
      "source": [
        "data\\\n",
        "    .select('tipo_uso')\\\n",
        "    .distinct()\\\n",
        "    .show(5)"
      ],
      "metadata": {
        "colab": {
          "base_uri": "https://localhost:8080/"
        },
        "id": "aaMyYHUq-XMV",
        "outputId": "1affa45e-5142-4937-c6a0-0bd88a9cff69"
      },
      "execution_count": 109,
      "outputs": [
        {
          "output_type": "stream",
          "name": "stdout",
          "text": [
            "+-----------+\n",
            "|   tipo_uso|\n",
            "+-----------+\n",
            "|Residencial|\n",
            "+-----------+\n",
            "\n"
          ]
        }
      ]
    },
    {
      "cell_type": "markdown",
      "source": [
        "As colunas `area_total` e `area_util` têm um potencial maior de aderência ao modelo. Assim, analisa-se:"
      ],
      "metadata": {
        "id": "1B9LDacC-589"
      }
    },
    {
      "cell_type": "code",
      "source": [
        "data\\\n",
        "    .select('area_total','area_util')\\\n",
        "    .show(5)"
      ],
      "metadata": {
        "colab": {
          "base_uri": "https://localhost:8080/"
        },
        "id": "sbiWtfKP_w4Z",
        "outputId": "cc7a4c6f-23b5-4e3d-9aee-ece12672987e"
      },
      "execution_count": 110,
      "outputs": [
        {
          "output_type": "stream",
          "name": "stdout",
          "text": [
            "+----------+---------+\n",
            "|area_total|area_util|\n",
            "+----------+---------+\n",
            "|       166|      166|\n",
            "|       640|      640|\n",
            "|        50|       50|\n",
            "|       160|      160|\n",
            "|        52|       52|\n",
            "+----------+---------+\n",
            "only showing top 5 rows\n",
            "\n"
          ]
        }
      ]
    },
    {
      "cell_type": "code",
      "source": [
        "data\\\n",
        "    .select('area_util', 'area_total')\\\n",
        "    .na\\\n",
        "    .drop()\\\n",
        "    .show(5)"
      ],
      "metadata": {
        "colab": {
          "base_uri": "https://localhost:8080/"
        },
        "id": "7azuTtqJBeM7",
        "outputId": "157234e1-b9d0-4d53-d115-31d8387cd6f3"
      },
      "execution_count": 111,
      "outputs": [
        {
          "output_type": "stream",
          "name": "stdout",
          "text": [
            "+---------+----------+\n",
            "|area_util|area_total|\n",
            "+---------+----------+\n",
            "|      166|       166|\n",
            "|      640|       640|\n",
            "|       50|        50|\n",
            "|      160|       160|\n",
            "|       52|        52|\n",
            "+---------+----------+\n",
            "only showing top 5 rows\n",
            "\n"
          ]
        }
      ]
    },
    {
      "cell_type": "code",
      "source": [
        "from pyspark.sql import functions as f\n",
        "\n",
        "dados_without_na = data\\\n",
        "    .select('area_util', 'area_total')\\\n",
        "    .na\\\n",
        "    .drop()\n",
        "\n",
        "quantidade_total = dados_without_na.count()\n",
        "quantidade_iguais = dados_without_na.filter(f.col('area_util') == f.col('area_total')).count()\n",
        "quantidade_distintas = quantidade_total - quantidade_iguais\n",
        "\n",
        "print(f'Quantidade de linhas: {quantidade_total}')\n",
        "print(f'Quantidade de linhas com area_util == area_total: {quantidade_iguais}')\n",
        "print(f'Quantidade de linhas diferentes: {quantidade_distintas}')"
      ],
      "metadata": {
        "colab": {
          "base_uri": "https://localhost:8080/"
        },
        "id": "kX2U1SAkAs_k",
        "outputId": "446539ad-d6e5-4882-e9cf-41d2e1db15bd"
      },
      "execution_count": 112,
      "outputs": [
        {
          "output_type": "stream",
          "name": "stdout",
          "text": [
            "Quantidade de linhas: 57368\n",
            "Quantidade de linhas com area_util == area_total: 55384\n",
            "Quantidade de linhas diferentes: 1984\n"
          ]
        }
      ]
    },
    {
      "cell_type": "markdown",
      "source": [
        "Chega-se a algumas conclusões:\n",
        "<br>\n",
        "<br>\n",
        "*  das 57368 linhas, 55384 possuem valores iguais nas colunas `area_total` e `area_util`\n",
        "*  pode-se escolher somente uma, uma vez que a maioria das informações são repetidas\n",
        "\n",
        "Para esta escolha, levou-se em conta a coluna com a menor quantidade de dados nulos:"
      ],
      "metadata": {
        "id": "KSGxUYc6CQ5Z"
      }
    },
    {
      "cell_type": "code",
      "source": [
        "colunas = ['area_total', 'area_util']\n",
        "\n",
        "data\\\n",
        "    .select([f.count(f.when(data[c].isNull(), True)).alias(c) for c in colunas])\\\n",
        "    .show()"
      ],
      "metadata": {
        "colab": {
          "base_uri": "https://localhost:8080/"
        },
        "id": "O9WMNsBlDiEB",
        "outputId": "9849ebe1-c54e-4804-bd92-5166f220748c"
      },
      "execution_count": 113,
      "outputs": [
        {
          "output_type": "stream",
          "name": "stdout",
          "text": [
            "+----------+---------+\n",
            "|area_total|area_util|\n",
            "+----------+---------+\n",
            "|      9194|        0|\n",
            "+----------+---------+\n",
            "\n"
          ]
        }
      ]
    },
    {
      "cell_type": "code",
      "source": [
        "# cont = []\n",
        "# for c in colunas:\n",
        "#     cont.append(f.count(f.when(data[c].isNull(), True)).alias(c))\n",
        "\n",
        "# data.select(cont).show()"
      ],
      "metadata": {
        "id": "FnskgwEUGepr"
      },
      "execution_count": 114,
      "outputs": []
    },
    {
      "cell_type": "markdown",
      "source": [
        "A `area_total` não possui nenhum valor nulo! Pode-se então eliminar a coluna `area_util`."
      ],
      "metadata": {
        "id": "tNgXvMs8FhWf"
      }
    },
    {
      "cell_type": "code",
      "source": [
        "data = data\\\n",
        "    .drop('area_total','tipo_anuncio','tipo_unidade','tipo_uso','tipo')"
      ],
      "metadata": {
        "id": "HeU_YfSSZIus"
      },
      "execution_count": 115,
      "outputs": []
    },
    {
      "cell_type": "code",
      "source": [
        "data.show(5)"
      ],
      "metadata": {
        "colab": {
          "base_uri": "https://localhost:8080/"
        },
        "id": "IXNFAbfaZmuG",
        "outputId": "67da22c1-2eae-4078-c213-a96b4320458d"
      },
      "execution_count": 116,
      "outputs": [
        {
          "output_type": "stream",
          "name": "stdout",
          "text": [
            "+--------------------+-----+---------+---------+--------------------+-------+------+----+---------------+----------+----------+-----+-------+\n",
            "|                  id|andar|area_util|banheiros|     caracteristicas|quartos|suites|vaga|         bairro|      zona|condominio| iptu|  valor|\n",
            "+--------------------+-----+---------+---------+--------------------+-------+------+----+---------------+----------+----------+-----+-------+\n",
            "|00790b85-56e3-43a...|   11|      166|        5|[Academia, Churra...|      4|     4|   2|    Jacarepaguá|Zona Oeste|      2100| 4600|1750000|\n",
            "|007f8099-8e1d-45f...|    4|      640|        5|[Animais permitid...|     11|     3|null|           Urca|  Zona Sul|      3060|20030|3800000|\n",
            "|00b23c6d-0e9d-4be...|    1|       50|        1|[Academia, Churra...|      2|     0|   1|Parada de Lucas|Zona Norte|       363|   97| 192000|\n",
            "|012aebd7-278f-4b4...|    0|      160|        4|          [Elevador]|      3|     1|   3|        Ipanema|  Zona Sul|      1530| 7440|3490000|\n",
            "|0267dcdb-7705-44a...|    0|       52|        1|[Churrasqueira, P...|      2|     1|   1|      Pechincha|Zona Oeste|      null| null| 440000|\n",
            "+--------------------+-----+---------+---------+--------------------+-------+------+----+---------------+----------+----------+-----+-------+\n",
            "only showing top 5 rows\n",
            "\n"
          ]
        }
      ]
    },
    {
      "cell_type": "markdown",
      "source": [
        "## c. Conversão dos tipos das colunas"
      ],
      "metadata": {
        "id": "3nJjfzbPFvHP"
      }
    },
    {
      "cell_type": "code",
      "source": [
        "data.printSchema()"
      ],
      "metadata": {
        "colab": {
          "base_uri": "https://localhost:8080/"
        },
        "id": "CseT-TRoZ5ac",
        "outputId": "a6b2d1af-d457-46e1-9655-7ff0f566195a"
      },
      "execution_count": 117,
      "outputs": [
        {
          "output_type": "stream",
          "name": "stdout",
          "text": [
            "root\n",
            " |-- id: string (nullable = true)\n",
            " |-- andar: long (nullable = true)\n",
            " |-- area_util: string (nullable = true)\n",
            " |-- banheiros: long (nullable = true)\n",
            " |-- caracteristicas: array (nullable = true)\n",
            " |    |-- element: string (containsNull = true)\n",
            " |-- quartos: long (nullable = true)\n",
            " |-- suites: long (nullable = true)\n",
            " |-- vaga: long (nullable = true)\n",
            " |-- bairro: string (nullable = true)\n",
            " |-- zona: string (nullable = true)\n",
            " |-- condominio: string (nullable = true)\n",
            " |-- iptu: string (nullable = true)\n",
            " |-- valor: string (nullable = true)\n",
            "\n"
          ]
        }
      ]
    },
    {
      "cell_type": "markdown",
      "source": [
        "Os dados numéricos estão tipados em sua maioria como string, enquanto deveriam receber as seguintes conversões:\n",
        "\n"
      ],
      "metadata": {
        "id": "H_zJIhe-CAqc"
      }
    },
    {
      "cell_type": "code",
      "source": [
        "from pyspark.sql.types import IntegerType, DoubleType"
      ],
      "metadata": {
        "id": "ODNBdeeybESg"
      },
      "execution_count": 118,
      "outputs": []
    },
    {
      "cell_type": "code",
      "source": [
        "data = data\\\n",
        "    .withColumn('andar', data['andar'].cast(IntegerType()))\\\n",
        "    .withColumn('area_util', data['area_util'].cast(DoubleType()))\\\n",
        "    .withColumn('banheiros', data['banheiros'].cast(IntegerType()))\\\n",
        "    .withColumn('quartos', data['quartos'].cast(IntegerType()))\\\n",
        "    .withColumn('suites', data['suites'].cast(IntegerType()))\\\n",
        "    .withColumn('condominio', data['condominio'].cast(DoubleType()))\\\n",
        "    .withColumn('vaga', data['vaga'].cast(IntegerType()))\\\n",
        "    .withColumn('iptu', data['iptu'].cast(DoubleType()))\\\n",
        "    .withColumn('valor', data['valor'].cast(DoubleType()))"
      ],
      "metadata": {
        "id": "966o4l9gjcr1"
      },
      "execution_count": 119,
      "outputs": []
    },
    {
      "cell_type": "code",
      "execution_count": 120,
      "metadata": {
        "id": "Msj6oUl2z9Ap",
        "outputId": "c3363ea0-cd5d-4b08-b64f-2790cf7d5110",
        "colab": {
          "base_uri": "https://localhost:8080/"
        }
      },
      "outputs": [
        {
          "output_type": "stream",
          "name": "stdout",
          "text": [
            "root\n",
            " |-- id: string (nullable = true)\n",
            " |-- andar: integer (nullable = true)\n",
            " |-- area_util: double (nullable = true)\n",
            " |-- banheiros: integer (nullable = true)\n",
            " |-- caracteristicas: array (nullable = true)\n",
            " |    |-- element: string (containsNull = true)\n",
            " |-- quartos: integer (nullable = true)\n",
            " |-- suites: integer (nullable = true)\n",
            " |-- vaga: integer (nullable = true)\n",
            " |-- bairro: string (nullable = true)\n",
            " |-- zona: string (nullable = true)\n",
            " |-- condominio: double (nullable = true)\n",
            " |-- iptu: double (nullable = true)\n",
            " |-- valor: double (nullable = true)\n",
            "\n"
          ]
        }
      ],
      "source": [
        "data.printSchema()"
      ]
    },
    {
      "cell_type": "markdown",
      "source": [
        "## d. Tratamento da coluna `caracteristicas`"
      ],
      "metadata": {
        "id": "fU_KVD3fGQqf"
      }
    },
    {
      "cell_type": "code",
      "source": [
        "data\\\n",
        "    .select('caracteristicas')\\\n",
        "    .show(100, truncate=False)"
      ],
      "metadata": {
        "colab": {
          "base_uri": "https://localhost:8080/"
        },
        "id": "AX2mUIzzb_Bt",
        "outputId": "d47e24fa-22fc-4b6a-e577-50f30cb4ed73"
      },
      "execution_count": 121,
      "outputs": [
        {
          "output_type": "stream",
          "name": "stdout",
          "text": [
            "+--------------------------------------------------------------------------------------------------------------------------------------------------+\n",
            "|caracteristicas                                                                                                                                   |\n",
            "+--------------------------------------------------------------------------------------------------------------------------------------------------+\n",
            "|[Academia, Churrasqueira, Piscina, Playground, Salão de festas, Elevador, Condomínio fechado, Portão eletrônico, Portaria 24h, Animais permitidos]|\n",
            "|[Animais permitidos, Portão eletrônico]                                                                                                           |\n",
            "|[Academia, Churrasqueira, Piscina, Playground, Salão de festas, Condomínio fechado, Portaria 24h, Animais permitidos]                             |\n",
            "|[Elevador]                                                                                                                                        |\n",
            "|[Churrasqueira, Piscina, Playground, Salão de festas]                                                                                             |\n",
            "|[Elevador, Academia, Churrasqueira, Piscina, Playground, Salão de festas, Condomínio fechado, Portão eletrônico, Portaria 24h]                    |\n",
            "|[Academia, Condomínio fechado, Piscina, Playground, Salão de festas, Portão eletrônico, Portaria 24h, Elevador]                                   |\n",
            "|[Academia, Churrasqueira, Piscina, Salão de festas, Elevador, Condomínio fechado, Portão eletrônico, Portaria 24h, Animais permitidos]            |\n",
            "|[Condomínio fechado, Portão eletrônico, Academia, Churrasqueira, Piscina, Playground, Salão de festas, Elevador, Animais permitidos]              |\n",
            "|[Academia, Churrasqueira, Piscina, Playground, Salão de festas, Elevador, Condomínio fechado, Portão eletrônico, Portaria 24h, Animais permitidos]|\n",
            "|[]                                                                                                                                                |\n",
            "|[Academia, Elevador, Salão de festas, Condomínio fechado, Portão eletrônico, Portaria 24h, Animais permitidos]                                    |\n",
            "|[Salão de festas]                                                                                                                                 |\n",
            "|[Condomínio fechado, Academia, Churrasqueira, Piscina, Playground, Salão de festas, Elevador]                                                     |\n",
            "|[Piscina]                                                                                                                                         |\n",
            "|[Academia, Churrasqueira, Condomínio fechado, Elevador, Piscina, Playground, Portão eletrônico, Portaria 24h, Salão de festas, Animais permitidos]|\n",
            "|[Condomínio fechado, Piscina, Elevador]                                                                                                           |\n",
            "|[Academia, Churrasqueira, Elevador, Piscina, Salão de festas, Playground, Condomínio fechado, Portão eletrônico, Portaria 24h, Animais permitidos]|\n",
            "|[Academia, Churrasqueira, Piscina, Playground, Salão de festas, Elevador, Condomínio fechado, Portão eletrônico, Portaria 24h, Animais permitidos]|\n",
            "|[Academia, Churrasqueira, Piscina, Playground, Salão de festas, Elevador, Condomínio fechado, Portão eletrônico, Portaria 24h, Animais permitidos]|\n",
            "|[Churrasqueira, Piscina, Playground, Salão de festas]                                                                                             |\n",
            "|[Academia, Churrasqueira, Playground]                                                                                                             |\n",
            "|[Playground, Elevador]                                                                                                                            |\n",
            "|[Academia, Churrasqueira, Piscina, Playground, Salão de festas, Elevador, Condomínio fechado, Portão eletrônico, Portaria 24h, Animais permitidos]|\n",
            "|[]                                                                                                                                                |\n",
            "|[Academia, Churrasqueira, Piscina, Playground, Salão de festas, Elevador, Portaria 24h, Condomínio fechado, Animais permitidos]                   |\n",
            "|[]                                                                                                                                                |\n",
            "|[Churrasqueira, Elevador, Academia, Salão de festas, Piscina]                                                                                     |\n",
            "|[Elevador, Academia, Churrasqueira, Piscina, Playground, Salão de festas, Condomínio fechado, Portão eletrônico, Portaria 24h, Animais permitidos]|\n",
            "|[]                                                                                                                                                |\n",
            "|[]                                                                                                                                                |\n",
            "|[Elevador, Churrasqueira, Salão de festas, Playground]                                                                                            |\n",
            "|[Academia, Churrasqueira, Piscina, Playground, Salão de festas, Elevador, Condomínio fechado, Portão eletrônico, Portaria 24h, Animais permitidos]|\n",
            "|[]                                                                                                                                                |\n",
            "|[Academia, Churrasqueira, Condomínio fechado, Elevador, Piscina, Playground, Portão eletrônico, Portaria 24h, Salão de festas, Animais permitidos]|\n",
            "|[]                                                                                                                                                |\n",
            "|[Academia, Churrasqueira, Condomínio fechado, Elevador, Piscina, Playground, Portão eletrônico, Portaria 24h, Salão de festas, Animais permitidos]|\n",
            "|[Piscina, Academia, Elevador, Salão de festas, Condomínio fechado, Portaria 24h]                                                                  |\n",
            "|[Academia, Churrasqueira, Piscina, Playground, Salão de festas, Elevador, Condomínio fechado, Portão eletrônico, Portaria 24h, Animais permitidos]|\n",
            "|[Piscina, Elevador, Playground, Salão de festas]                                                                                                  |\n",
            "|[Academia, Elevador, Condomínio fechado, Portão eletrônico, Churrasqueira, Piscina, Animais permitidos]                                           |\n",
            "|[Elevador, Academia, Piscina, Salão de festas, Condomínio fechado, Portão eletrônico, Portaria 24h, Animais permitidos]                           |\n",
            "|[Elevador, Playground, Salão de festas, Condomínio fechado, Portão eletrônico, Portaria 24h, Animais permitidos]                                  |\n",
            "|[Academia, Churrasqueira, Piscina, Playground, Salão de festas, Elevador, Condomínio fechado, Portão eletrônico, Portaria 24h, Animais permitidos]|\n",
            "|[Elevador, Academia, Churrasqueira, Playground, Piscina, Condomínio fechado, Portaria 24h]                                                        |\n",
            "|[]                                                                                                                                                |\n",
            "|[Condomínio fechado, Portão eletrônico, Portaria 24h, Playground, Piscina, Salão de festas, Elevador, Churrasqueira, Academia, Animais permitidos]|\n",
            "|[]                                                                                                                                                |\n",
            "|[Elevador, Portaria 24h, Condomínio fechado, Portão eletrônico, Animais permitidos]                                                               |\n",
            "|[Elevador]                                                                                                                                        |\n",
            "|[Churrasqueira, Playground, Piscina, Salão de festas, Condomínio fechado, Portaria 24h, Animais permitidos]                                       |\n",
            "|[]                                                                                                                                                |\n",
            "|[Churrasqueira, Academia, Salão de festas]                                                                                                        |\n",
            "|[]                                                                                                                                                |\n",
            "|[Elevador, Portaria 24h, Portão eletrônico, Condomínio fechado]                                                                                   |\n",
            "|[Academia, Churrasqueira, Piscina, Playground, Salão de festas, Elevador, Condomínio fechado, Portão eletrônico, Portaria 24h, Animais permitidos]|\n",
            "|[]                                                                                                                                                |\n",
            "|[Elevador, Salão de festas, Portão eletrônico, Animais permitidos]                                                                                |\n",
            "|[]                                                                                                                                                |\n",
            "|[Portão eletrônico, Animais permitidos]                                                                                                           |\n",
            "|[Churrasqueira, Academia, Piscina, Salão de festas, Elevador, Condomínio fechado, Portão eletrônico, Portaria 24h, Animais permitidos]            |\n",
            "|[Academia, Churrasqueira, Piscina, Playground, Salão de festas, Elevador, Portaria 24h, Portão eletrônico, Condomínio fechado, Animais permitidos]|\n",
            "|[Elevador, Churrasqueira, Academia, Playground, Piscina, Salão de festas, Condomínio fechado, Portaria 24h, Portão eletrônico, Animais permitidos]|\n",
            "|[Academia, Churrasqueira, Piscina, Playground, Elevador, Salão de festas, Condomínio fechado, Portão eletrônico, Portaria 24h, Animais permitidos]|\n",
            "|[Elevador]                                                                                                                                        |\n",
            "|[Playground, Salão de festas]                                                                                                                     |\n",
            "|[Elevador, Academia, Churrasqueira, Piscina, Playground, Salão de festas, Condomínio fechado, Portão eletrônico, Portaria 24h, Animais permitidos]|\n",
            "|[Academia, Churrasqueira, Piscina, Playground, Salão de festas, Elevador, Condomínio fechado, Portão eletrônico, Portaria 24h, Animais permitidos]|\n",
            "|[Portaria 24h, Elevador]                                                                                                                          |\n",
            "|[Elevador, Portão eletrônico, Animais permitidos]                                                                                                 |\n",
            "|[Elevador, Condomínio fechado, Portão eletrônico, Portaria 24h, Animais permitidos]                                                               |\n",
            "|[Academia, Churrasqueira, Salão de festas, Playground, Piscina]                                                                                   |\n",
            "|[Academia, Churrasqueira, Piscina, Playground, Salão de festas, Elevador, Condomínio fechado, Portão eletrônico, Portaria 24h]                    |\n",
            "|[Elevador, Academia, Piscina, Playground, Salão de festas, Condomínio fechado, Portão eletrônico, Portaria 24h, Animais permitidos]               |\n",
            "|[Academia, Churrasqueira, Piscina, Playground, Salão de festas, Condomínio fechado, Portão eletrônico, Portaria 24h, Animais permitidos]          |\n",
            "|[Academia, Churrasqueira, Piscina, Playground, Elevador, Salão de festas, Condomínio fechado, Portão eletrônico, Portaria 24h, Animais permitidos]|\n",
            "|[Academia, Churrasqueira, Piscina, Playground, Salão de festas, Elevador, Condomínio fechado, Portão eletrônico, Portaria 24h, Animais permitidos]|\n",
            "|[Playground, Elevador, Condomínio fechado, Portão eletrônico, Portaria 24h, Animais permitidos]                                                   |\n",
            "|[]                                                                                                                                                |\n",
            "|[Elevador, Portaria 24h, Animais permitidos]                                                                                                      |\n",
            "|[Condomínio fechado, Portaria 24h, Portão eletrônico, Animais permitidos]                                                                         |\n",
            "|[]                                                                                                                                                |\n",
            "|[]                                                                                                                                                |\n",
            "|[Condomínio fechado, Portão eletrônico, Portaria 24h, Academia, Piscina, Salão de festas, Elevador, Churrasqueira, Playground, Animais permitidos]|\n",
            "|[Elevador, Condomínio fechado, Portão eletrônico, Portaria 24h, Animais permitidos]                                                               |\n",
            "|[Playground, Portaria 24h]                                                                                                                        |\n",
            "|[Academia, Churrasqueira, Piscina, Playground, Elevador, Salão de festas, Condomínio fechado, Portão eletrônico, Portaria 24h, Animais permitidos]|\n",
            "|[]                                                                                                                                                |\n",
            "|[]                                                                                                                                                |\n",
            "|[Academia, Churrasqueira, Piscina, Playground, Elevador, Salão de festas, Condomínio fechado, Portão eletrônico, Portaria 24h, Animais permitidos]|\n",
            "|[Playground, Salão de festas]                                                                                                                     |\n",
            "|[Elevador, Academia, Churrasqueira, Piscina, Playground, Salão de festas, Condomínio fechado, Portão eletrônico, Portaria 24h, Animais permitidos]|\n",
            "|[Academia, Churrasqueira, Piscina, Salão de festas, Elevador, Condomínio fechado, Portão eletrônico]                                              |\n",
            "|[Elevador, Condomínio fechado, Portão eletrônico, Portaria 24h, Animais permitidos]                                                               |\n",
            "|[Academia, Piscina, Elevador, Portaria 24h, Animais permitidos]                                                                                   |\n",
            "|[Academia, Churrasqueira, Condomínio fechado, Elevador, Piscina, Playground, Portão eletrônico, Portaria 24h, Salão de festas, Animais permitidos]|\n",
            "|[]                                                                                                                                                |\n",
            "|[]                                                                                                                                                |\n",
            "|[]                                                                                                                                                |\n",
            "|[]                                                                                                                                                |\n",
            "+--------------------------------------------------------------------------------------------------------------------------------------------------+\n",
            "only showing top 100 rows\n",
            "\n"
          ]
        }
      ]
    },
    {
      "cell_type": "markdown",
      "source": [
        "A consulta da coluna característica mostra que algumas listas atribuídas estão vazias. A tratativa para este caso, é convertê-las para `null`:"
      ],
      "metadata": {
        "id": "_eYeJKDqDYrr"
      }
    },
    {
      "cell_type": "code",
      "source": [
        "data = data.withColumn('caracteristicas', f.when((f.size(f.col('caracteristicas')) == 0), f.lit(None)).otherwise(f.col('caracteristicas')))"
      ],
      "metadata": {
        "id": "O0ZzV132wB_b"
      },
      "execution_count": 122,
      "outputs": []
    },
    {
      "cell_type": "code",
      "source": [
        "data.show()"
      ],
      "metadata": {
        "colab": {
          "base_uri": "https://localhost:8080/"
        },
        "id": "8YUyyY1OdAbz",
        "outputId": "af3312ae-ecbf-472b-f449-55effadc7148"
      },
      "execution_count": 123,
      "outputs": [
        {
          "output_type": "stream",
          "name": "stdout",
          "text": [
            "+--------------------+-----+---------+---------+--------------------+-------+------+----+--------------------+----------+----------+-------+---------+\n",
            "|                  id|andar|area_util|banheiros|     caracteristicas|quartos|suites|vaga|              bairro|      zona|condominio|   iptu|    valor|\n",
            "+--------------------+-----+---------+---------+--------------------+-------+------+----+--------------------+----------+----------+-------+---------+\n",
            "|00790b85-56e3-43a...|   11|    166.0|        5|[Academia, Churra...|      4|     4|   2|         Jacarepaguá|Zona Oeste|    2100.0| 4600.0|1750000.0|\n",
            "|007f8099-8e1d-45f...|    4|    640.0|        5|[Animais permitid...|     11|     3|null|                Urca|  Zona Sul|    3060.0|20030.0|3800000.0|\n",
            "|00b23c6d-0e9d-4be...|    1|     50.0|        1|[Academia, Churra...|      2|     0|   1|     Parada de Lucas|Zona Norte|     363.0|   97.0| 192000.0|\n",
            "|012aebd7-278f-4b4...|    0|    160.0|        4|          [Elevador]|      3|     1|   3|             Ipanema|  Zona Sul|    1530.0| 7440.0|3490000.0|\n",
            "|0267dcdb-7705-44a...|    0|     52.0|        1|[Churrasqueira, P...|      2|     1|   1|           Pechincha|Zona Oeste|      null|   null| 440000.0|\n",
            "|02ad9d93-7b89-46b...|    0|    219.0|        4|[Elevador, Academ...|      4|     2|   3|     Barra da Tijuca|Zona Oeste|    2800.0| 5855.0|2300000.0|\n",
            "|02ef01fe-9333-40f...|    0|     75.0|        2|[Academia, Condom...|      3|     1|   1|            Botafogo|  Zona Sul|      10.0|   10.0|1345000.0|\n",
            "|04171318-00f9-430...|    0|     82.0|        2|[Academia, Churra...|      3|     1|   1|Recreio dos Bande...|Zona Oeste|     870.0| 1900.0| 484999.0|\n",
            "|04a03e35-1a8b-4fc...|    0|    187.0|        5|[Condomínio fecha...|      4|     2|   3|     Barra da Tijuca|Zona Oeste|    2600.0| 5800.0|1950000.0|\n",
            "|04a8d9c5-daca-44f...|    8|    132.0|        3|[Academia, Churra...|      4|     2|   2|         Jacarepaguá|Zona Oeste|       1.0|    1.0|1330000.0|\n",
            "|058e6011-b830-455...|   11|    153.0|        4|                null|      3|     2|   2|               Gávea|  Zona Sul|    2200.0|  350.0|3100000.0|\n",
            "|05beb775-9afa-428...|    2|     80.0|        1|[Academia, Elevad...|      3|     0|   1|          Copacabana|  Zona Sul|     940.0|  160.0| 749000.0|\n",
            "|067673ae-4b0f-444...|    0|    148.0|        3|   [Salão de festas]|      3|     1|   1|          Copacabana|  Zona Sul|    1500.0| 3800.0|1100000.0|\n",
            "|07bd5c4a-e06d-4da...|    0|     52.0|        1|[Condomínio fecha...|      2|  null|   1|         Jacarepaguá|Zona Oeste|     500.0|  300.0| 270000.0|\n",
            "|07d28395-2a02-485...|    0|    121.0|        2|           [Piscina]|      4|     1|   2|     Barra da Tijuca|Zona Oeste|    1460.0|   null|1150000.0|\n",
            "|08f243b2-ff9f-447...|    0|    160.0|        6|[Academia, Churra...|      4|     4|   2|     Barra da Tijuca|Zona Oeste|    1920.0| 5000.0|1423000.0|\n",
            "|09a73a8c-7314-4dd...|    0|    214.0|        4|[Condomínio fecha...|      4|     3|   2|            Botafogo|  Zona Sul|    1600.0|   10.0|3160000.0|\n",
            "|09afc288-5ca7-40b...|    9|    102.0|        3|[Academia, Churra...|      3|     2|   1|              Tijuca|Zona Norte|    1000.0|   96.0|1120000.0|\n",
            "|0a34687d-4c41-41b...|    2|    266.0|        4|[Academia, Churra...|      4|  null|   2|     Barra da Tijuca|Zona Oeste|    6000.0|    0.0|4955300.0|\n",
            "|0a35241d-3051-40c...|    0|     65.0|        2|[Academia, Churra...|      2|     1|   1|Recreio dos Bande...|Zona Oeste|     900.0|    0.0| 615000.0|\n",
            "+--------------------+-----+---------+---------+--------------------+-------+------+----+--------------------+----------+----------+-------+---------+\n",
            "only showing top 20 rows\n",
            "\n"
          ]
        }
      ]
    },
    {
      "cell_type": "markdown",
      "source": [
        "## e. Tratamento dos dados faltantes"
      ],
      "metadata": {
        "id": "77eTRePOf099"
      }
    },
    {
      "cell_type": "markdown",
      "source": [
        "Como os modelos de ML não lidam bem com dados faltantes, analisa-se onde e o quanto eles estão alocados nas colunas:"
      ],
      "metadata": {
        "id": "5xnniVEzgorg"
      }
    },
    {
      "cell_type": "code",
      "source": [
        "data\\\n",
        "    .select([f.count(f.when(data[c].isNull(), True)).alias(c) for c in data.columns])\\\n",
        "    .show()"
      ],
      "metadata": {
        "colab": {
          "base_uri": "https://localhost:8080/"
        },
        "id": "Fblmg_GQdta9",
        "outputId": "be973c09-b98d-4998-9ece-0731b4d200e0"
      },
      "execution_count": 124,
      "outputs": [
        {
          "output_type": "stream",
          "name": "stdout",
          "text": [
            "+---+-----+---------+---------+---------------+-------+------+----+------+----+----------+----+-----+\n",
            "| id|andar|area_util|banheiros|caracteristicas|quartos|suites|vaga|bairro|zona|condominio|iptu|valor|\n",
            "+---+-----+---------+---------+---------------+-------+------+----+------+----+----------+----+-----+\n",
            "|  0|    0|        0|        0|          12736|      0|  5554|3017|     0|   0|      2371|7199|    0|\n",
            "+---+-----+---------+---------+---------------+-------+------+----+------+----+----------+----+-----+\n",
            "\n"
          ]
        }
      ]
    },
    {
      "cell_type": "code",
      "source": [
        "data.printSchema()"
      ],
      "metadata": {
        "colab": {
          "base_uri": "https://localhost:8080/"
        },
        "id": "Kr45T2K8hLMz",
        "outputId": "66e39a87-17c6-485b-aa65-d478d56e9e36"
      },
      "execution_count": 125,
      "outputs": [
        {
          "output_type": "stream",
          "name": "stdout",
          "text": [
            "root\n",
            " |-- id: string (nullable = true)\n",
            " |-- andar: integer (nullable = true)\n",
            " |-- area_util: double (nullable = true)\n",
            " |-- banheiros: integer (nullable = true)\n",
            " |-- caracteristicas: array (nullable = true)\n",
            " |    |-- element: string (containsNull = true)\n",
            " |-- quartos: integer (nullable = true)\n",
            " |-- suites: integer (nullable = true)\n",
            " |-- vaga: integer (nullable = true)\n",
            " |-- bairro: string (nullable = true)\n",
            " |-- zona: string (nullable = true)\n",
            " |-- condominio: double (nullable = true)\n",
            " |-- iptu: double (nullable = true)\n",
            " |-- valor: double (nullable = true)\n",
            "\n"
          ]
        }
      ]
    },
    {
      "cell_type": "markdown",
      "source": [
        "Para os dados numéricos, trocam-se os valores nulos pelo número zero:"
      ],
      "metadata": {
        "id": "0J-G_IFUhV1n"
      }
    },
    {
      "cell_type": "code",
      "source": [
        "data = data\\\n",
        "    .select('*')\\\n",
        "    .na\\\n",
        "    .fill(0)"
      ],
      "metadata": {
        "id": "2rzHTOfEhUJ-"
      },
      "execution_count": 126,
      "outputs": []
    },
    {
      "cell_type": "code",
      "source": [
        "data.show()"
      ],
      "metadata": {
        "colab": {
          "base_uri": "https://localhost:8080/"
        },
        "id": "GIQVSJ-ihqaM",
        "outputId": "1b32e592-331a-4414-ccc8-249e884e9248"
      },
      "execution_count": 127,
      "outputs": [
        {
          "output_type": "stream",
          "name": "stdout",
          "text": [
            "+--------------------+-----+---------+---------+--------------------+-------+------+----+--------------------+----------+----------+-------+---------+\n",
            "|                  id|andar|area_util|banheiros|     caracteristicas|quartos|suites|vaga|              bairro|      zona|condominio|   iptu|    valor|\n",
            "+--------------------+-----+---------+---------+--------------------+-------+------+----+--------------------+----------+----------+-------+---------+\n",
            "|00790b85-56e3-43a...|   11|    166.0|        5|[Academia, Churra...|      4|     4|   2|         Jacarepaguá|Zona Oeste|    2100.0| 4600.0|1750000.0|\n",
            "|007f8099-8e1d-45f...|    4|    640.0|        5|[Animais permitid...|     11|     3|   0|                Urca|  Zona Sul|    3060.0|20030.0|3800000.0|\n",
            "|00b23c6d-0e9d-4be...|    1|     50.0|        1|[Academia, Churra...|      2|     0|   1|     Parada de Lucas|Zona Norte|     363.0|   97.0| 192000.0|\n",
            "|012aebd7-278f-4b4...|    0|    160.0|        4|          [Elevador]|      3|     1|   3|             Ipanema|  Zona Sul|    1530.0| 7440.0|3490000.0|\n",
            "|0267dcdb-7705-44a...|    0|     52.0|        1|[Churrasqueira, P...|      2|     1|   1|           Pechincha|Zona Oeste|       0.0|    0.0| 440000.0|\n",
            "|02ad9d93-7b89-46b...|    0|    219.0|        4|[Elevador, Academ...|      4|     2|   3|     Barra da Tijuca|Zona Oeste|    2800.0| 5855.0|2300000.0|\n",
            "|02ef01fe-9333-40f...|    0|     75.0|        2|[Academia, Condom...|      3|     1|   1|            Botafogo|  Zona Sul|      10.0|   10.0|1345000.0|\n",
            "|04171318-00f9-430...|    0|     82.0|        2|[Academia, Churra...|      3|     1|   1|Recreio dos Bande...|Zona Oeste|     870.0| 1900.0| 484999.0|\n",
            "|04a03e35-1a8b-4fc...|    0|    187.0|        5|[Condomínio fecha...|      4|     2|   3|     Barra da Tijuca|Zona Oeste|    2600.0| 5800.0|1950000.0|\n",
            "|04a8d9c5-daca-44f...|    8|    132.0|        3|[Academia, Churra...|      4|     2|   2|         Jacarepaguá|Zona Oeste|       1.0|    1.0|1330000.0|\n",
            "|058e6011-b830-455...|   11|    153.0|        4|                null|      3|     2|   2|               Gávea|  Zona Sul|    2200.0|  350.0|3100000.0|\n",
            "|05beb775-9afa-428...|    2|     80.0|        1|[Academia, Elevad...|      3|     0|   1|          Copacabana|  Zona Sul|     940.0|  160.0| 749000.0|\n",
            "|067673ae-4b0f-444...|    0|    148.0|        3|   [Salão de festas]|      3|     1|   1|          Copacabana|  Zona Sul|    1500.0| 3800.0|1100000.0|\n",
            "|07bd5c4a-e06d-4da...|    0|     52.0|        1|[Condomínio fecha...|      2|     0|   1|         Jacarepaguá|Zona Oeste|     500.0|  300.0| 270000.0|\n",
            "|07d28395-2a02-485...|    0|    121.0|        2|           [Piscina]|      4|     1|   2|     Barra da Tijuca|Zona Oeste|    1460.0|    0.0|1150000.0|\n",
            "|08f243b2-ff9f-447...|    0|    160.0|        6|[Academia, Churra...|      4|     4|   2|     Barra da Tijuca|Zona Oeste|    1920.0| 5000.0|1423000.0|\n",
            "|09a73a8c-7314-4dd...|    0|    214.0|        4|[Condomínio fecha...|      4|     3|   2|            Botafogo|  Zona Sul|    1600.0|   10.0|3160000.0|\n",
            "|09afc288-5ca7-40b...|    9|    102.0|        3|[Academia, Churra...|      3|     2|   1|              Tijuca|Zona Norte|    1000.0|   96.0|1120000.0|\n",
            "|0a34687d-4c41-41b...|    2|    266.0|        4|[Academia, Churra...|      4|     0|   2|     Barra da Tijuca|Zona Oeste|    6000.0|    0.0|4955300.0|\n",
            "|0a35241d-3051-40c...|    0|     65.0|        2|[Academia, Churra...|      2|     1|   1|Recreio dos Bande...|Zona Oeste|     900.0|    0.0| 615000.0|\n",
            "+--------------------+-----+---------+---------+--------------------+-------+------+----+--------------------+----------+----------+-------+---------+\n",
            "only showing top 20 rows\n",
            "\n"
          ]
        }
      ]
    },
    {
      "cell_type": "markdown",
      "source": [
        "Em seguida, analisa-se a coluna não numérica `zona`:"
      ],
      "metadata": {
        "id": "hbeTaVxUiMPV"
      }
    },
    {
      "cell_type": "code",
      "source": [
        "data\\\n",
        "    .select('zona')\\\n",
        "    .groupBy('zona')\\\n",
        "    .count()\\\n",
        "    .show()"
      ],
      "metadata": {
        "colab": {
          "base_uri": "https://localhost:8080/"
        },
        "id": "J-lh899lhrnW",
        "outputId": "d1bd3cdf-45dd-42fd-b3ec-bcf4a73f8e4f"
      },
      "execution_count": 128,
      "outputs": [
        {
          "output_type": "stream",
          "name": "stdout",
          "text": [
            "+------------+-----+\n",
            "|        zona|count|\n",
            "+------------+-----+\n",
            "|  Zona Norte|11897|\n",
            "|  Zona Oeste|32979|\n",
            "|Zona Central| 1144|\n",
            "|    Zona Sul|20531|\n",
            "|            |   11|\n",
            "+------------+-----+\n",
            "\n"
          ]
        }
      ]
    },
    {
      "cell_type": "markdown",
      "source": [
        "Os 11 valores que possuem como zona uma string vazia, podem ser desconsiderados:"
      ],
      "metadata": {
        "id": "j5DZmFEZis5s"
      }
    },
    {
      "cell_type": "code",
      "source": [
        "data = data.filter(f.col('zona') != '')"
      ],
      "metadata": {
        "id": "kquhgqAVilsm"
      },
      "execution_count": 129,
      "outputs": []
    },
    {
      "cell_type": "code",
      "source": [
        "data\\\n",
        "    .select('zona')\\\n",
        "    .groupBy('zona')\\\n",
        "    .count()\\\n",
        "    .show()"
      ],
      "metadata": {
        "colab": {
          "base_uri": "https://localhost:8080/"
        },
        "id": "KL26Wy32jFRd",
        "outputId": "5d7ae015-e309-4c41-b0cc-d1b54707e6c0"
      },
      "execution_count": 130,
      "outputs": [
        {
          "output_type": "stream",
          "name": "stdout",
          "text": [
            "+------------+-----+\n",
            "|        zona|count|\n",
            "+------------+-----+\n",
            "|  Zona Norte|11897|\n",
            "|  Zona Oeste|32979|\n",
            "|Zona Central| 1144|\n",
            "|    Zona Sul|20531|\n",
            "+------------+-----+\n",
            "\n"
          ]
        }
      ]
    },
    {
      "cell_type": "markdown",
      "source": [
        "# Preparação dos dados para o modelo de ML"
      ],
      "metadata": {
        "id": "ceE_viNfj6JT"
      }
    },
    {
      "cell_type": "markdown",
      "source": [
        "## a. Variáveis dummy"
      ],
      "metadata": {
        "id": "8tCmJ56gsaY0"
      }
    },
    {
      "cell_type": "markdown",
      "source": [
        "As variáveis categóricas serão transformadas em variáveis binárias. Isto é, se a variável tem uma categoria atribuída, ela receberá 1, caso o contrário, receberá 0.\n",
        "\n",
        "Antes, deve-se desmembrar o conjunto `características` em outro dataset e o de `zona` também."
      ],
      "metadata": {
        "id": "fBMxEbETsaY1"
      }
    },
    {
      "cell_type": "markdown",
      "source": [
        "Desmembrando a coluna `caracteristicas` em outro dataset:"
      ],
      "metadata": {
        "id": "j4yOjWtJll5k"
      }
    },
    {
      "cell_type": "code",
      "source": [
        "data\\\n",
        "    .select(\"*\", f.explode(\"caracteristicas\").alias(\"cara\"))\\\n",
        "    .groupBy(\"id\")\\\n",
        "    .pivot('cara')\\\n",
        "    .agg(f.lit(1))\\\n",
        "    .na\\\n",
        "    .fill(0)\\\n",
        "    .show(truncate=False)"
      ],
      "metadata": {
        "colab": {
          "base_uri": "https://localhost:8080/"
        },
        "id": "kOpU73lAmBvv",
        "outputId": "941d5ee0-b832-43b7-9b4d-ec4e6ce7d984"
      },
      "execution_count": 131,
      "outputs": [
        {
          "output_type": "stream",
          "name": "stdout",
          "text": [
            "+------------------------------------+--------+------------------+-------------+------------------+--------+-------+----------+------------+-----------------+---------------+\n",
            "|id                                  |Academia|Animais permitidos|Churrasqueira|Condomínio fechado|Elevador|Piscina|Playground|Portaria 24h|Portão eletrônico|Salão de festas|\n",
            "+------------------------------------+--------+------------------+-------------+------------------+--------+-------+----------+------------+-----------------+---------------+\n",
            "|1bbc40f3-4f5c-4595-99b1-56ef42a54ede|1       |0                 |0            |1                 |1       |1      |1         |1           |1                |1              |\n",
            "|afecddff-f4cc-4ab8-bdbf-242b7dff7241|1       |1                 |1            |1                 |1       |1      |1         |1           |1                |1              |\n",
            "|bfffedfe-99e7-4aed-9a9f-f766225a0f1f|0       |1                 |1            |1                 |1       |0      |1         |0           |1                |1              |\n",
            "|fcb67af3-5601-415f-9d1f-75280923a4e3|1       |1                 |1            |0                 |0       |1      |1         |0           |0                |1              |\n",
            "|fd96bbd5-d631-416a-9f84-29091cefe14c|1       |1                 |1            |1                 |1       |1      |1         |1           |1                |1              |\n",
            "|07cbfef2-efbf-4e89-a023-db65e76cc820|0       |1                 |0            |0                 |1       |0      |0         |1           |0                |0              |\n",
            "|10e9d118-dbad-43c3-879d-6def0d60f8ed|0       |1                 |1            |1                 |0       |1      |1         |1           |1                |1              |\n",
            "|156a1fa5-37ca-43db-8448-df4a35f45496|1       |0                 |1            |1                 |1       |1      |1         |1           |1                |1              |\n",
            "|3030d17c-5681-4b2f-b333-3e363a92ddda|1       |1                 |1            |1                 |1       |1      |0         |1           |1                |1              |\n",
            "|6179c8a4-1fd2-4f54-a91d-68d1ba80dd26|1       |1                 |0            |1                 |1       |1      |1         |1           |1                |1              |\n",
            "|62baf185-103d-4489-956a-d2cc707a66cd|1       |0                 |1            |1                 |0       |1      |1         |0           |0                |0              |\n",
            "|631efda0-5e10-422c-990a-f6c47f6ec4c7|1       |1                 |1            |1                 |1       |1      |1         |1           |1                |1              |\n",
            "|ca1e84d7-86c8-4b1e-aa5a-db99c8c9d0d3|1       |0                 |1            |1                 |1       |1      |1         |1           |1                |1              |\n",
            "|d9e139a5-e85d-4e1b-b77f-1b120d146fb3|1       |1                 |1            |1                 |1       |1      |1         |1           |1                |1              |\n",
            "|e7be09eb-6223-4b41-b255-30a5f7d67771|1       |1                 |1            |1                 |1       |1      |1         |1           |1                |1              |\n",
            "|fd26aeb2-a7b3-4f80-97ed-fe3eb928c123|1       |1                 |1            |1                 |1       |1      |1         |1           |1                |1              |\n",
            "|107507e0-f075-47e1-9002-b2dcc85503e9|0       |1                 |1            |1                 |1       |0      |0         |0           |1                |0              |\n",
            "|2abfa092-e52e-4121-94d0-3bc52d79b0f9|1       |1                 |1            |1                 |1       |1      |1         |1           |1                |1              |\n",
            "|3b2c3a52-cf59-47f7-b86b-b35671827e33|0       |0                 |0            |0                 |1       |0      |0         |0           |1                |0              |\n",
            "|6a4ce9ac-1eb0-4d4b-9a65-5e6d842777bf|1       |0                 |1            |0                 |1       |1      |1         |0           |0                |1              |\n",
            "+------------------------------------+--------+------------------+-------------+------------------+--------+-------+----------+------------+-----------------+---------------+\n",
            "only showing top 20 rows\n",
            "\n"
          ]
        }
      ]
    },
    {
      "cell_type": "code",
      "source": [
        "caracteristicas = data\\\n",
        "    .select('*', f.explode('caracteristicas').alias('cara'))\\\n",
        "    .groupby('id')\\\n",
        "    .pivot('cara')\\\n",
        "    .agg(f.lit(1))\\\n",
        "    .na\\\n",
        "    .fill(0)"
      ],
      "metadata": {
        "id": "J4AxlOoVllWU"
      },
      "execution_count": 132,
      "outputs": []
    },
    {
      "cell_type": "code",
      "source": [
        "caracteristicas.show(5)"
      ],
      "metadata": {
        "colab": {
          "base_uri": "https://localhost:8080/"
        },
        "id": "OfhrBMdFqyAm",
        "outputId": "7ea3328e-3d66-4abb-9f16-d355ea2cef75"
      },
      "execution_count": 133,
      "outputs": [
        {
          "output_type": "stream",
          "name": "stdout",
          "text": [
            "+--------------------+--------+------------------+-------------+------------------+--------+-------+----------+------------+-----------------+---------------+\n",
            "|                  id|Academia|Animais permitidos|Churrasqueira|Condomínio fechado|Elevador|Piscina|Playground|Portaria 24h|Portão eletrônico|Salão de festas|\n",
            "+--------------------+--------+------------------+-------------+------------------+--------+-------+----------+------------+-----------------+---------------+\n",
            "|1bbc40f3-4f5c-459...|       1|                 0|            0|                 1|       1|      1|         1|           1|                1|              1|\n",
            "|afecddff-f4cc-4ab...|       1|                 1|            1|                 1|       1|      1|         1|           1|                1|              1|\n",
            "|bfffedfe-99e7-4ae...|       0|                 1|            1|                 1|       1|      0|         1|           0|                1|              1|\n",
            "|fcb67af3-5601-415...|       1|                 1|            1|                 0|       0|      1|         1|           0|                0|              1|\n",
            "|fd96bbd5-d631-416...|       1|                 1|            1|                 1|       1|      1|         1|           1|                1|              1|\n",
            "+--------------------+--------+------------------+-------------+------------------+--------+-------+----------+------------+-----------------+---------------+\n",
            "only showing top 5 rows\n",
            "\n"
          ]
        }
      ]
    },
    {
      "cell_type": "code",
      "source": [
        "zona = data\\\n",
        "    .groupby('id')\\\n",
        "    .pivot('zona')\\\n",
        "    .agg(f.lit(1))\\\n",
        "    .na\\\n",
        "    .fill(0)"
      ],
      "metadata": {
        "id": "nz4i3gJRrPaT"
      },
      "execution_count": 134,
      "outputs": []
    },
    {
      "cell_type": "code",
      "source": [
        "zona.show(5)"
      ],
      "metadata": {
        "colab": {
          "base_uri": "https://localhost:8080/"
        },
        "id": "DEytDxJZraFz",
        "outputId": "44b5cce4-7738-480b-9b5f-864c743b6701"
      },
      "execution_count": 135,
      "outputs": [
        {
          "output_type": "stream",
          "name": "stdout",
          "text": [
            "+--------------------+------------+----------+----------+--------+\n",
            "|                  id|Zona Central|Zona Norte|Zona Oeste|Zona Sul|\n",
            "+--------------------+------------+----------+----------+--------+\n",
            "|4e47e4d4-3326-4eb...|           0|         0|         0|       1|\n",
            "|02fba6ef-a691-442...|           0|         0|         1|       0|\n",
            "|3dd5d200-0a7f-43d...|           0|         0|         0|       1|\n",
            "|82707939-71bd-40c...|           0|         0|         0|       1|\n",
            "|fc03c1a9-8bbb-41a...|           0|         1|         0|       0|\n",
            "+--------------------+------------+----------+----------+--------+\n",
            "only showing top 5 rows\n",
            "\n"
          ]
        }
      ]
    },
    {
      "cell_type": "markdown",
      "source": [],
      "metadata": {
        "id": "cvAhEMhvsOVh"
      }
    },
    {
      "cell_type": "markdown",
      "source": [
        "## b. Montando o conjunto de dados completo"
      ],
      "metadata": {
        "id": "8VK26GEnkLWn"
      }
    },
    {
      "cell_type": "code",
      "source": [
        "cont_rows_original = data.count()"
      ],
      "metadata": {
        "id": "N-oiEJI0kQ_5"
      },
      "execution_count": 136,
      "outputs": []
    },
    {
      "cell_type": "code",
      "source": [
        "data = data\\\n",
        "    .join(zona, 'id', how='inner')\\\n",
        "    .join(caracteristicas, 'id', how='left')\\\n",
        "    .drop('zona','cara','caracteristicas')\\\n",
        "    .na\\\n",
        "    .fill(0)"
      ],
      "metadata": {
        "id": "ClIEj2lZtrmN"
      },
      "execution_count": 137,
      "outputs": []
    },
    {
      "cell_type": "markdown",
      "source": [
        "Validando se os joins realizados não comprometerão a quantidade de linhas da base original:"
      ],
      "metadata": {
        "id": "Ezy9KUIcuHNE"
      }
    },
    {
      "cell_type": "code",
      "source": [
        "print(f'#linhas antes: {cont_rows_original}')\n",
        "print(f'#linhas depois: {data.count()}')\n",
        "print(f'#linhas perdidas: {cont_rows_original - data.count()}')"
      ],
      "metadata": {
        "colab": {
          "base_uri": "https://localhost:8080/"
        },
        "id": "tambWP0kuFiN",
        "outputId": "3ab0a9c1-c178-4c67-83bc-779bb4e32920"
      },
      "execution_count": 138,
      "outputs": [
        {
          "output_type": "stream",
          "name": "stdout",
          "text": [
            "#linhas antes: 66551\n",
            "#linhas depois: 66551\n",
            "#linhas perdidas: 0\n"
          ]
        }
      ]
    },
    {
      "cell_type": "code",
      "source": [
        "data.show(5)"
      ],
      "metadata": {
        "colab": {
          "base_uri": "https://localhost:8080/"
        },
        "id": "bEsTwljausyt",
        "outputId": "b74686bd-8b77-486e-aa74-ac71f1361961"
      },
      "execution_count": 139,
      "outputs": [
        {
          "output_type": "stream",
          "name": "stdout",
          "text": [
            "+--------------------+-----+---------+---------+-------+------+----+---------------+----------+-------+---------+------------+----------+----------+--------+--------+------------------+-------------+------------------+--------+-------+----------+------------+-----------------+---------------+\n",
            "|                  id|andar|area_util|banheiros|quartos|suites|vaga|         bairro|condominio|   iptu|    valor|Zona Central|Zona Norte|Zona Oeste|Zona Sul|Academia|Animais permitidos|Churrasqueira|Condomínio fechado|Elevador|Piscina|Playground|Portaria 24h|Portão eletrônico|Salão de festas|\n",
            "+--------------------+-----+---------+---------+-------+------+----+---------------+----------+-------+---------+------------+----------+----------+--------+--------+------------------+-------------+------------------+--------+-------+----------+------------+-----------------+---------------+\n",
            "|00790b85-56e3-43a...|   11|    166.0|        5|      4|     4|   2|    Jacarepaguá|    2100.0| 4600.0|1750000.0|           0|         0|         1|       0|       1|                 1|            1|                 1|       1|      1|         1|           1|                1|              1|\n",
            "|007f8099-8e1d-45f...|    4|    640.0|        5|     11|     3|   0|           Urca|    3060.0|20030.0|3800000.0|           0|         0|         0|       1|       0|                 1|            0|                 0|       0|      0|         0|           0|                1|              0|\n",
            "|00b23c6d-0e9d-4be...|    1|     50.0|        1|      2|     0|   1|Parada de Lucas|     363.0|   97.0| 192000.0|           0|         1|         0|       0|       1|                 1|            1|                 1|       0|      1|         1|           1|                0|              1|\n",
            "|012aebd7-278f-4b4...|    0|    160.0|        4|      3|     1|   3|        Ipanema|    1530.0| 7440.0|3490000.0|           0|         0|         0|       1|       0|                 0|            0|                 0|       1|      0|         0|           0|                0|              0|\n",
            "|0267dcdb-7705-44a...|    0|     52.0|        1|      2|     1|   1|      Pechincha|       0.0|    0.0| 440000.0|           0|         0|         1|       0|       0|                 0|            1|                 0|       0|      1|         1|           0|                0|              1|\n",
            "+--------------------+-----+---------+---------+-------+------+----+---------------+----------+-------+---------+------------+----------+----------+--------+--------+------------------+-------------+------------------+--------+-------+----------+------------+-----------------+---------------+\n",
            "only showing top 5 rows\n",
            "\n"
          ]
        }
      ]
    },
    {
      "cell_type": "code",
      "source": [
        "data.filter(f.col('id')==\"be269ddf-a4a3-4a72-bd54-93cdccf512dd\").show(5)"
      ],
      "metadata": {
        "colab": {
          "base_uri": "https://localhost:8080/"
        },
        "id": "3sST4RwJwJMW",
        "outputId": "d79f4476-b358-4f45-9334-c9a2e9746b8b"
      },
      "execution_count": 140,
      "outputs": [
        {
          "output_type": "stream",
          "name": "stdout",
          "text": [
            "+--------------------+-----+---------+---------+-------+------+----+------------+----------+----+--------+------------+----------+----------+--------+--------+------------------+-------------+------------------+--------+-------+----------+------------+-----------------+---------------+\n",
            "|                  id|andar|area_util|banheiros|quartos|suites|vaga|      bairro|condominio|iptu|   valor|Zona Central|Zona Norte|Zona Oeste|Zona Sul|Academia|Animais permitidos|Churrasqueira|Condomínio fechado|Elevador|Piscina|Playground|Portaria 24h|Portão eletrônico|Salão de festas|\n",
            "+--------------------+-----+---------+---------+-------+------+----+------------+----------+----+--------+------------+----------+----------+--------+--------+------------------+-------------+------------------+--------+-------+----------+------------+-----------------+---------------+\n",
            "|be269ddf-a4a3-4a7...|    0|     45.0|        1|      2|     0|   1|Campo Grande|     356.0| 0.0|140000.0|           0|         0|         1|       0|       0|                 0|            1|                 1|       0|      1|         0|           0|                0|              0|\n",
            "+--------------------+-----+---------+---------+-------+------+----+------------+----------+----+--------+------------+----------+----------+--------+--------+------------------+-------------+------------------+--------+-------+----------+------------+-----------------+---------------+\n",
            "\n"
          ]
        }
      ]
    },
    {
      "cell_type": "markdown",
      "source": [
        "# Disponibilização do dataset em PARQUET"
      ],
      "metadata": {
        "id": "h2f3BT_rzuPx"
      }
    },
    {
      "cell_type": "code",
      "source": [
        "data = data\\\n",
        "    .withColumnRenamed('Zona Central','zona_central')\\\n",
        "    .withColumnRenamed('Zona Norte','zona_norte')\\\n",
        "    .withColumnRenamed('Zona Oeste','zona_oeste')\\\n",
        "    .withColumnRenamed('Zona Sul','zona_sul')\\\n",
        "    .withColumnRenamed('Animais Permitidos','animais_permitidos')\\\n",
        "    .withColumnRenamed('Portaria 24h','portaria_24h')\\\n",
        "    .withColumnRenamed('Salão de festas','salao_de_festas')\\\n",
        "    .withColumnRenamed('Condomínio fechado','condominio_fechado')\\\n",
        "    .withColumnRenamed('Portão eletrônico','portao_eletronico')"
      ],
      "metadata": {
        "id": "yuKyiCFL2pNj"
      },
      "execution_count": 141,
      "outputs": []
    },
    {
      "cell_type": "code",
      "source": [
        "data\\\n",
        "    .write\\\n",
        "    .parquet('/content/drive/MyDrive/Colab Notebooks/projeto_data_science_imobni/dataset_ml_regressao', mode='overwrite')"
      ],
      "metadata": {
        "id": "3Z9zDPwwz15B"
      },
      "execution_count": 142,
      "outputs": []
    },
    {
      "cell_type": "markdown",
      "source": [
        "# Extra"
      ],
      "metadata": {
        "id": "M5TFwU8r5Obd"
      }
    },
    {
      "cell_type": "markdown",
      "source": [
        "## a. Análise de correlação"
      ],
      "metadata": {
        "id": "MGqTYtBc5W0W"
      }
    },
    {
      "cell_type": "markdown",
      "source": [
        "Com o intuito de detectar a redundância entre as variáveis, realiza-se a análise da **correlação** entre as variáveis numéricas da base:"
      ],
      "metadata": {
        "id": "qzVG8a5E5kRZ"
      }
    },
    {
      "cell_type": "code",
      "source": [
        "from pyspark.ml.stat import Correlation"
      ],
      "metadata": {
        "id": "otc1KIB45dch"
      },
      "execution_count": 143,
      "outputs": []
    },
    {
      "cell_type": "code",
      "source": [
        "lista_zona = ['zona_central','zona_norte','zona_oeste','zona_sul']\n",
        "\n",
        "lista_caracteristicas = ['condominio_fechado',\n",
        "                        'Playground',\n",
        "                        'portao_eletronico',\n",
        "                        'Piscina',\n",
        "                        'animais_permitidos',\n",
        "                        'portaria_24h',\n",
        "                        'Elevador',\n",
        "                        'Academia',\n",
        "                        'salao_de_festas',\n",
        "                        'Churrasqueira']"
      ],
      "metadata": {
        "id": "J1IaBYt-59UD"
      },
      "execution_count": 144,
      "outputs": []
    },
    {
      "cell_type": "code",
      "source": [
        "input_col_corr = [i for i in data.columns if i not in ['id', 'bairro'] + lista_zona + lista_caracteristicas]\n",
        "\n",
        "print(input_col_corr)"
      ],
      "metadata": {
        "colab": {
          "base_uri": "https://localhost:8080/"
        },
        "id": "IrtLCHS46izf",
        "outputId": "b1488933-15cd-4a4e-abf6-c14a88f5e94a"
      },
      "execution_count": 145,
      "outputs": [
        {
          "output_type": "stream",
          "name": "stdout",
          "text": [
            "['andar', 'area_util', 'banheiros', 'quartos', 'suites', 'vaga', 'condominio', 'iptu', 'valor']\n"
          ]
        }
      ]
    },
    {
      "cell_type": "code",
      "source": [
        "from pyspark.ml.feature import VectorAssembler"
      ],
      "metadata": {
        "id": "fJXKK7de6x6E"
      },
      "execution_count": 146,
      "outputs": []
    },
    {
      "cell_type": "code",
      "source": [
        "assembler = VectorAssembler(inputCols=input_col_corr,outputCol='features')"
      ],
      "metadata": {
        "id": "n-9uBfsO7FsE"
      },
      "execution_count": 147,
      "outputs": []
    },
    {
      "cell_type": "code",
      "source": [
        "df = assembler.transform(data).select('features')"
      ],
      "metadata": {
        "id": "mVW55P-U7RHs"
      },
      "execution_count": 148,
      "outputs": []
    },
    {
      "cell_type": "code",
      "source": [
        "correlacao = Correlation.corr(df, 'features','pearson').collect()[0][0]"
      ],
      "metadata": {
        "id": "8n2kivEW9JRk"
      },
      "execution_count": 149,
      "outputs": []
    },
    {
      "cell_type": "code",
      "source": [
        "rows = correlacao.toArray().tolist()\n",
        "df = spark.createDataFrame(rows,input_col_corr)\n",
        "\n",
        "df.show(5)"
      ],
      "metadata": {
        "colab": {
          "base_uri": "https://localhost:8080/"
        },
        "id": "kHeVdifj9WXt",
        "outputId": "2b58e469-101e-4989-ad70-d69da8062e8f"
      },
      "execution_count": 150,
      "outputs": [
        {
          "output_type": "stream",
          "name": "stdout",
          "text": [
            "+--------------------+--------------------+-------------------+-------------------+--------------------+--------------------+--------------------+--------------------+--------------------+\n",
            "|               andar|           area_util|          banheiros|            quartos|              suites|                vaga|          condominio|                iptu|               valor|\n",
            "+--------------------+--------------------+-------------------+-------------------+--------------------+--------------------+--------------------+--------------------+--------------------+\n",
            "|                 1.0|0.020674885718290365|0.01757715331670837|0.01008345278433918|0.024274113790925932|0.018271843474796625|0.006617930248883...|3.810955786364057...|0.016145590401859373|\n",
            "|0.020674885718290365|                 1.0| 0.6710305514514978| 0.6740755967299021|  0.6201287358480546|  0.4719284382321347|0.045676565706072016|0.021337139034350524|  0.7586357636188664|\n",
            "| 0.01757715331670837|  0.6710305514514978|                1.0| 0.6490253601517088|  0.7398380483026235|  0.4450585140921761|0.027186703575109068| 0.01393440561543921|  0.5750107985373965|\n",
            "| 0.01008345278433918|  0.6740755967299021| 0.6490253601517088|                1.0|  0.5799251460932825| 0.43044160283005484|0.021652594286620294|0.017249962452912174|  0.5305709093076326|\n",
            "|0.024274113790925932|  0.6201287358480546| 0.7398380483026235| 0.5799251460932825|                 1.0| 0.45818387437915953|0.029063364640751016|0.011828513398197996|  0.5834392308805729|\n",
            "+--------------------+--------------------+-------------------+-------------------+--------------------+--------------------+--------------------+--------------------+--------------------+\n",
            "only showing top 5 rows\n",
            "\n"
          ]
        }
      ]
    },
    {
      "cell_type": "code",
      "source": [
        "import numpy as np\n",
        "import matplotlib.pyplot as plt\n",
        "import seaborn as sns\n",
        "\n",
        "corr = df.toPandas().set_index([input_col_corr])\n",
        "mask = np.zeros_like(corr)\n",
        "mask[np.triu_indices_from(mask)] = True\n",
        "with sns.axes_style(\"white\"):\n",
        "    f, ax = plt.subplots(figsize=(12, 12))\n",
        "    ax = sns.heatmap(corr, mask=mask, fmt=\".2\",  annot=True, cbar=False, cmap='BuGn')\n",
        "    ax.tick_params(labelsize=14)\n",
        "    ax.set_title('Correlação entre variáveis', fontsize=20, loc='left', pad=20)"
      ],
      "metadata": {
        "colab": {
          "base_uri": "https://localhost:8080/",
          "height": 740
        },
        "id": "Rkr7405Z9fKG",
        "outputId": "e3d4f952-7dc9-4039-af50-0886016ce264"
      },
      "execution_count": 151,
      "outputs": [
        {
          "output_type": "display_data",
          "data": {
            "text/plain": [
              "<Figure size 864x864 with 1 Axes>"
            ],
            "image/png": "[encoded data removed]"
          },
          "metadata": {}
        }
      ]
    },
    {
      "cell_type": "markdown",
      "source": [
        "O gráfico de correlação leva à conclusão de que o `valor` do apartamento tem uma correlação relativamento alta com as variáveis de `area_util` e `banheiros` quando comparada com o conjunto, porém não é tão forte. Sendo assim, nenhuma das variáveis serão descartadas."
      ],
      "metadata": {
        "id": "tGSVxGU6DW7Q"
      }
    },
    {
      "cell_type": "markdown",
      "source": [
        "## b. Vetorização dos dados"
      ],
      "metadata": {
        "id": "3wnk3BgWEJZR"
      }
    },
    {
      "cell_type": "markdown",
      "source": [
        "Para preparar os dados para o modelo de ML do PySpark, deve-se primeiro vetorizá-los a partir da chamada da função `VectorAssemble`."
      ],
      "metadata": {
        "id": "fGfgJdHGERWY"
      }
    },
    {
      "cell_type": "code",
      "source": [
        "from pyspark.ml.feature import VectorAssembler"
      ],
      "metadata": {
        "id": "rwMAoY4DYdxV"
      },
      "execution_count": 152,
      "outputs": []
    },
    {
      "cell_type": "code",
      "source": [
        "data.withColumnRenamed('valor','label').show(5)"
      ],
      "metadata": {
        "colab": {
          "base_uri": "https://localhost:8080/"
        },
        "id": "LKvLHkpxE5fD",
        "outputId": "f696da92-cfda-402e-b21c-901c935b94c4"
      },
      "execution_count": 153,
      "outputs": [
        {
          "output_type": "stream",
          "name": "stdout",
          "text": [
            "+--------------------+-----+---------+---------+-------+------+----+---------------+----------+-------+---------+------------+----------+----------+--------+--------+------------------+-------------+------------------+--------+-------+----------+------------+-----------------+---------------+\n",
            "|                  id|andar|area_util|banheiros|quartos|suites|vaga|         bairro|condominio|   iptu|    label|zona_central|zona_norte|zona_oeste|zona_sul|Academia|animais_permitidos|Churrasqueira|condominio_fechado|Elevador|Piscina|Playground|portaria_24h|portao_eletronico|salao_de_festas|\n",
            "+--------------------+-----+---------+---------+-------+------+----+---------------+----------+-------+---------+------------+----------+----------+--------+--------+------------------+-------------+------------------+--------+-------+----------+------------+-----------------+---------------+\n",
            "|00790b85-56e3-43a...|   11|    166.0|        5|      4|     4|   2|    Jacarepaguá|    2100.0| 4600.0|1750000.0|           0|         0|         1|       0|       1|                 1|            1|                 1|       1|      1|         1|           1|                1|              1|\n",
            "|007f8099-8e1d-45f...|    4|    640.0|        5|     11|     3|   0|           Urca|    3060.0|20030.0|3800000.0|           0|         0|         0|       1|       0|                 1|            0|                 0|       0|      0|         0|           0|                1|              0|\n",
            "|00b23c6d-0e9d-4be...|    1|     50.0|        1|      2|     0|   1|Parada de Lucas|     363.0|   97.0| 192000.0|           0|         1|         0|       0|       1|                 1|            1|                 1|       0|      1|         1|           1|                0|              1|\n",
            "|012aebd7-278f-4b4...|    0|    160.0|        4|      3|     1|   3|        Ipanema|    1530.0| 7440.0|3490000.0|           0|         0|         0|       1|       0|                 0|            0|                 0|       1|      0|         0|           0|                0|              0|\n",
            "|0267dcdb-7705-44a...|    0|     52.0|        1|      2|     1|   1|      Pechincha|       0.0|    0.0| 440000.0|           0|         0|         1|       0|       0|                 0|            1|                 0|       0|      1|         1|           0|                0|              1|\n",
            "+--------------------+-----+---------+---------+-------+------+----+---------------+----------+-------+---------+------------+----------+----------+--------+--------+------------------+-------------+------------------+--------+-------+----------+------------+-----------------+---------------+\n",
            "only showing top 5 rows\n",
            "\n"
          ]
        }
      ]
    },
    {
      "cell_type": "code",
      "source": [
        "data = data.withColumnRenamed('valor','label')"
      ],
      "metadata": {
        "id": "yGvQHSsaFZ_i"
      },
      "execution_count": 154,
      "outputs": []
    },
    {
      "cell_type": "markdown",
      "source": [
        "Todas as colunas serão utilizadas no modelo, exceto as colunas \n",
        "*  `label`: variável alvo,\n",
        "*  `id`: identificador único e \n",
        "*  `bairro`: não foi transformada em variável dummy por possuir muitas atribuições"
      ],
      "metadata": {
        "id": "IuJjuiz3GulH"
      }
    },
    {
      "cell_type": "code",
      "source": [
        "input_col = [i for i in data.columns if i not in ['label', 'id', 'bairro']]"
      ],
      "metadata": {
        "id": "f6Wm9UtwH2LC"
      },
      "execution_count": 155,
      "outputs": []
    },
    {
      "cell_type": "code",
      "source": [
        "assembler = VectorAssembler(inputCols=input_col, outputCol='features')"
      ],
      "metadata": {
        "id": "6leTKCrgHbxU"
      },
      "execution_count": 156,
      "outputs": []
    },
    {
      "cell_type": "code",
      "source": [
        "data_prep = assembler.transform(data).select('features','label')"
      ],
      "metadata": {
        "id": "ZOaHqMf6IKX5"
      },
      "execution_count": 157,
      "outputs": []
    },
    {
      "cell_type": "code",
      "source": [
        "data_prep.show(5, truncate=False)"
      ],
      "metadata": {
        "colab": {
          "base_uri": "https://localhost:8080/"
        },
        "id": "kFpTd0LEIRsZ",
        "outputId": "c5b00a1e-1715-4de0-fb9e-2c2e63edbd66"
      },
      "execution_count": 158,
      "outputs": [
        {
          "output_type": "stream",
          "name": "stdout",
          "text": [
            "+--------------------------------------------------------------------------------------------------+---------+\n",
            "|features                                                                                          |label    |\n",
            "+--------------------------------------------------------------------------------------------------+---------+\n",
            "|[11.0,166.0,5.0,4.0,4.0,2.0,2100.0,4600.0,0.0,0.0,1.0,0.0,1.0,1.0,1.0,1.0,1.0,1.0,1.0,1.0,1.0,1.0]|1750000.0|\n",
            "|(22,[0,1,2,3,4,6,7,11,13,20],[4.0,640.0,5.0,11.0,3.0,3060.0,20030.0,1.0,1.0,1.0])                 |3800000.0|\n",
            "|[1.0,50.0,1.0,2.0,0.0,1.0,363.0,97.0,0.0,1.0,0.0,0.0,1.0,1.0,1.0,1.0,0.0,1.0,1.0,1.0,0.0,1.0]     |192000.0 |\n",
            "|(22,[1,2,3,4,5,6,7,11,16],[160.0,4.0,3.0,1.0,3.0,1530.0,7440.0,1.0,1.0])                          |3490000.0|\n",
            "|(22,[1,2,3,4,5,10,14,17,18,21],[52.0,1.0,2.0,1.0,1.0,1.0,1.0,1.0,1.0,1.0])                        |440000.0 |\n",
            "+--------------------------------------------------------------------------------------------------+---------+\n",
            "only showing top 5 rows\n",
            "\n"
          ]
        }
      ]
    },
    {
      "cell_type": "markdown",
      "source": [
        "## c. Modelos de regressão"
      ],
      "metadata": {
        "id": "6qDrLMXfJDOj"
      }
    },
    {
      "cell_type": "markdown",
      "source": [
        "Tendo os dados devidademente vetorizados, é hora de construir os modelos de regressão para previsão dos valores dos imóveis! Aqui foi elencado o método **Random Forest**, que segue o fluxo:\n",
        "\n",
        "> Coleção de árvores de decisão > treinamento de cada árvore com uma amostra aleaatória dos dados > cálculo da média dos resultados para cada uma das árvores."
      ],
      "metadata": {
        "id": "jN5j3jeeJKya"
      }
    },
    {
      "cell_type": "code",
      "source": [
        "from pyspark.ml.regression import RandomForestRegressor"
      ],
      "metadata": {
        "id": "rI1Z0rC7IWL0"
      },
      "execution_count": 159,
      "outputs": []
    },
    {
      "cell_type": "code",
      "source": [
        "treino, teste = data_prep.randomSplit([0.7, 0.3], seed=101)"
      ],
      "metadata": {
        "id": "uHjj8zSJKVbM"
      },
      "execution_count": 160,
      "outputs": []
    },
    {
      "cell_type": "code",
      "source": [
        "rfr = RandomForestRegressor(seed=13, maxDepth=13, numTrees=13)"
      ],
      "metadata": {
        "id": "50bKTaFrKZ99"
      },
      "execution_count": 161,
      "outputs": []
    },
    {
      "cell_type": "code",
      "source": [
        "modelo_rfr = rfr.fit(treino)"
      ],
      "metadata": {
        "id": "HTuDkcRkKby-"
      },
      "execution_count": 162,
      "outputs": []
    },
    {
      "cell_type": "code",
      "source": [
        "previsoes_rfr_treino = modelo_rfr.transform(treino)"
      ],
      "metadata": {
        "id": "0nONJ-nFKdr1"
      },
      "execution_count": 163,
      "outputs": []
    },
    {
      "cell_type": "code",
      "source": [
        "previsoes_rfr_treino.show(5, truncate=False)"
      ],
      "metadata": {
        "colab": {
          "base_uri": "https://localhost:8080/"
        },
        "id": "SHczVQ5NLdm0",
        "outputId": "256944e8-2e6c-48b7-ec7d-25f99f714385"
      },
      "execution_count": 164,
      "outputs": [
        {
          "output_type": "stream",
          "name": "stdout",
          "text": [
            "+-------------------------------------------------------------------------------------+--------+------------------+\n",
            "|features                                                                             |label   |prediction        |\n",
            "+-------------------------------------------------------------------------------------+--------+------------------+\n",
            "|(22,[0,1,2,3,4,5,6,7,8,16,19,20],[16.0,12.0,1.0,1.0,1.0,1.0,1.0,1.0,1.0,1.0,1.0,1.0])|90000.0 |290874.871084537  |\n",
            "|(22,[0,1,2,3,4,5,6,7,9],[1.0,45.0,2.0,2.0,1.0,1.0,500.0,10.0,1.0])                   |460000.0|337461.01532134635|\n",
            "|(22,[0,1,2,3,4,5,6,7,9],[1.0,57.0,2.0,2.0,1.0,1.0,500.0,472.0,1.0])                  |330000.0|372921.97804198257|\n",
            "|(22,[0,1,2,3,4,5,6,7,9],[1.0,60.0,2.0,2.0,1.0,1.0,510.0,55.0,1.0])                   |349000.0|377059.331401189  |\n",
            "|(22,[0,1,2,3,4,5,6,7,9],[1.0,82.0,2.0,3.0,1.0,1.0,10.0,10.0,1.0])                    |755000.0|654498.1822630602 |\n",
            "+-------------------------------------------------------------------------------------+--------+------------------+\n",
            "only showing top 5 rows\n",
            "\n"
          ]
        }
      ]
    },
    {
      "cell_type": "markdown",
      "source": [
        "### Métricas"
      ],
      "metadata": {
        "id": "cF9KNfd_L-rR"
      }
    },
    {
      "cell_type": "markdown",
      "source": [
        "De acordo com o material disponibilizado pela Alura, estas foram as métricas elencadas:\n",
        "\n",
        "> **RMSE** - Raiz do Erro Quadrático Médio. É a métrica que calcula a raiz quadrada do erro médio entre os valores reais e as predições da regressão. Quanto menor esse valor, melhor será o modelo, uma vez que estará cometendo menos erros. Matematicamente, pode ser definida como:\n",
        "\n",
        "<center>\n",
        "\n",
        "$ RMSE = \\sqrt{\\dfrac{1}{n} \\displaystyle\\sum^{n}_{j=1} (y_{j} - \\widehat{y}_{j})^{2} } $\n",
        "\n",
        "</center>\n",
        "\n",
        "> **R2** - ou **coeficiente de determinação** é uma medida estatística que representa a porcentagem de variação da variável resposta que é explicada pelo modelo de regressão. Por se tratar de uma porcentagem, seu valor varia de 0 a 1, onde:\n",
        "\n",
        "- 0 indica que o modelo não explica nada da variabilidade dos dados de resposta ao redor de sua média;\n",
        "- 1 indica que o modelo explica toda a variabilidade dos dados de resposta ao redor de sua média.\n",
        "\n",
        "> Portanto, quanto mais próximo de 1 for o valor de R2, melhor será o desempenho do modelo de regressão. Se estivermos trabalhando com apenas duas variáveis, o coeficiente R2 será o quadrado do coeficiente de correlação de Pearson entre as duas variáveis."
      ],
      "metadata": {
        "id": "3z-4tGkkMOcH"
      }
    },
    {
      "cell_type": "markdown",
      "source": [
        "Para analisar o comportamento dos modelos, utiliza-se a classe `RegressionEvaluator` da biblioteca `pyspark.ml.evaluation`:"
      ],
      "metadata": {
        "id": "J_-PcczLSV1K"
      }
    },
    {
      "cell_type": "code",
      "source": [
        "from pyspark.ml.evaluation import RegressionEvaluator"
      ],
      "metadata": {
        "id": "ISBhpbx7TD5F"
      },
      "execution_count": 165,
      "outputs": []
    },
    {
      "cell_type": "code",
      "source": [
        "evaluator = RegressionEvaluator()"
      ],
      "metadata": {
        "id": "nt6_Rp9gTFjz"
      },
      "execution_count": 166,
      "outputs": []
    },
    {
      "cell_type": "code",
      "source": [
        "print(evaluator.evaluate(previsoes_rfr_treino, {evaluator.metricName: 'r2'}))\n",
        "print(evaluator.evaluate(previsoes_rfr_treino, {evaluator.metricName: 'rmse'}))"
      ],
      "metadata": {
        "colab": {
          "base_uri": "https://localhost:8080/"
        },
        "id": "Hr7ZDLs-THLL",
        "outputId": "2cfa5dc3-2fa4-48f0-e0c6-e72faed59522"
      },
      "execution_count": 167,
      "outputs": [
        {
          "output_type": "stream",
          "name": "stdout",
          "text": [
            "0.9200413465115913\n",
            "419770.42908880586\n"
          ]
        }
      ]
    },
    {
      "cell_type": "code",
      "source": [
        "previsoes_rfr_teste = modelo_rfr.transform(teste)\n",
        "previsoes_rfr_teste.show(5, truncate=False)"
      ],
      "metadata": {
        "colab": {
          "base_uri": "https://localhost:8080/"
        },
        "id": "Pm3-5Wh4ThR9",
        "outputId": "7650ce0a-d09a-4274-ab52-f4b28fe59dc3"
      },
      "execution_count": 168,
      "outputs": [
        {
          "output_type": "stream",
          "name": "stdout",
          "text": [
            "+-----------------------------------------------------------------------+---------+------------------+\n",
            "|features                                                               |label    |prediction        |\n",
            "+-----------------------------------------------------------------------+---------+------------------+\n",
            "|(22,[0,1,2,3,4,5,6,7,9],[1.0,79.0,2.0,3.0,1.0,1.0,10.0,10.0,1.0])      |540000.0 |631696.7663591568 |\n",
            "|(22,[0,1,2,3,4,5,6,7,9],[1.0,81.0,2.0,3.0,1.0,1.0,989.0,264.0,1.0])    |880000.0 |557999.3212772656 |\n",
            "|(22,[0,1,2,3,4,5,6,7,9],[5.0,158.0,4.0,3.0,1.0,2.0,1277.0,175.0,1.0])  |890001.0 |1066708.2421688854|\n",
            "|(22,[0,1,2,3,4,5,6,7,9],[6.0,152.0,2.0,4.0,1.0,3.0,20.0,20.0,1.0])     |1007000.0|1268237.4447354064|\n",
            "|(22,[0,1,2,3,4,5,6,7,9],[11.0,121.0,3.0,3.0,1.0,1.0,1150.0,2238.0,1.0])|530000.0 |785727.5420421803 |\n",
            "+-----------------------------------------------------------------------+---------+------------------+\n",
            "only showing top 5 rows\n",
            "\n"
          ]
        }
      ]
    },
    {
      "cell_type": "code",
      "source": [
        "print('Random Forest Regression')\n",
        "print('='*30)\n",
        "print('Dados de Treino')\n",
        "print('='*30)\n",
        "print(f'R²: {evaluator.evaluate(previsoes_rfr_treino, {evaluator.metricName: \"r2\"})}')\n",
        "print(f'RMSE: {evaluator.evaluate(previsoes_rfr_treino, {evaluator.metricName: \"rmse\"})}')\n",
        "print('')\n",
        "print('='*30)\n",
        "print('Dados de Teste')\n",
        "print('='*30)\n",
        "print(f'R²: {evaluator.evaluate(previsoes_rfr_teste, {evaluator.metricName: \"r2\"})}')\n",
        "print(f'RMSE: {evaluator.evaluate(previsoes_rfr_teste, {evaluator.metricName: \"rmse\"})}')"
      ],
      "metadata": {
        "colab": {
          "base_uri": "https://localhost:8080/"
        },
        "id": "akzh6q-ATo4y",
        "outputId": "d8e5b30e-2e4f-4971-f475-c65597c2af60"
      },
      "execution_count": 171,
      "outputs": [
        {
          "output_type": "stream",
          "name": "stdout",
          "text": [
            "Random Forest Regression\n",
            "==============================\n",
            "Dados de Treino\n",
            "==============================\n",
            "R²: 0.9200413465115913\n",
            "RMSE: 419770.42908880586\n",
            "\n",
            "==============================\n",
            "Dados de Teste\n",
            "==============================\n",
            "R²: 0.8244718485514867\n",
            "RMSE: 604314.5513668193\n"
          ]
        }
      ]
    },
    {
      "cell_type": "markdown",
      "source": [
        "## Otimização"
      ],
      "metadata": {
        "id": "qxJvK9KTnimu"
      }
    },
    {
      "cell_type": "markdown",
      "source": [
        "Para tentar melhorar o desempenho do modelo, recorre-se à técnica de otimização de hiperparâmetros, utilizando-se validação cruzada. Além da classe `CrossValidator`, importa-se a classe `ParamGridBuilder` para delimitar o espaço de busca por hiperparâmetros."
      ],
      "metadata": {
        "id": "SeALgyNlnmoF"
      }
    },
    {
      "cell_type": "code",
      "source": [
        "from pyspark.ml.tuning import CrossValidator, ParamGridBuilder"
      ],
      "metadata": {
        "id": "TocuafLZnNc1"
      },
      "execution_count": 172,
      "outputs": []
    },
    {
      "cell_type": "code",
      "source": [
        "rfr = RandomForestRegressor()"
      ],
      "metadata": {
        "id": "PAsttisKocUm"
      },
      "execution_count": 173,
      "outputs": []
    },
    {
      "cell_type": "code",
      "source": [
        "grid = ParamGridBuilder() \\\n",
        "    .addGrid(rfr.numTrees, [10, 20, 30]) \\\n",
        "    .addGrid(rfr.maxDepth, [5, 10]) \\\n",
        "    .addGrid(rfr.maxBins, [10, 32, 45]) \\\n",
        "    .build()"
      ],
      "metadata": {
        "id": "3TMap02VoeQ9"
      },
      "execution_count": 174,
      "outputs": []
    },
    {
      "cell_type": "code",
      "source": [
        "evaluator = RegressionEvaluator()"
      ],
      "metadata": {
        "id": "UgzaOBBEogg_"
      },
      "execution_count": 175,
      "outputs": []
    },
    {
      "cell_type": "code",
      "source": [
        "rfr_cv = CrossValidator(\n",
        "    estimator=rfr,\n",
        "    estimatorParamMaps=grid,\n",
        "    evaluator=evaluator,\n",
        "    numFolds=3\n",
        ")"
      ],
      "metadata": {
        "id": "y3TKT1R0ojz9"
      },
      "execution_count": 176,
      "outputs": []
    },
    {
      "cell_type": "code",
      "source": [
        "modelo_rfr_cv = rfr_cv.fit(treino)"
      ],
      "metadata": {
        "id": "Bbnm2W9tolpd"
      },
      "execution_count": 177,
      "outputs": []
    },
    {
      "cell_type": "markdown",
      "source": [
        "Consegue-se, então, descobrir quais os melhores parâmetros para se aplicar ao modelo:"
      ],
      "metadata": {
        "id": "mrP3zk4zo0Yq"
      }
    },
    {
      "cell_type": "code",
      "source": [
        "modelo_rfr_cv.bestModel"
      ],
      "metadata": {
        "colab": {
          "base_uri": "https://localhost:8080/"
        },
        "id": "_vWnTB_yophd",
        "outputId": "7fef7c11-5277-4ea0-ac45-ff5745442ecb"
      },
      "execution_count": 178,
      "outputs": [
        {
          "output_type": "execute_result",
          "data": {
            "text/plain": [
              "RandomForestRegressionModel: uid=RandomForestRegressor_0fbc4dd00689, numTrees=30, numFeatures=22"
            ]
          },
          "metadata": {},
          "execution_count": 178
        }
      ]
    },
    {
      "cell_type": "code",
      "source": [
        "previsoes_rfr_cv_teste = modelo_rfr_cv.transform(teste)"
      ],
      "metadata": {
        "id": "Ow8_Wzp8rZmx"
      },
      "execution_count": 180,
      "outputs": []
    },
    {
      "cell_type": "markdown",
      "source": [
        "Resultados otimizados:"
      ],
      "metadata": {
        "id": "79rAvODapKkD"
      }
    },
    {
      "cell_type": "code",
      "source": [
        "print('Random Forest')\n",
        "print('='*30)\n",
        "print('Sem Cross Validation')\n",
        "print('='*30)\n",
        "print(f'R²: {evaluator.evaluate(previsoes_rfr_teste, {evaluator.metricName: \"r2\"})}')\n",
        "print(f'RMSE: {evaluator.evaluate(previsoes_rfr_teste, {evaluator.metricName: \"rmse\"})}')\n",
        "print('')\n",
        "print('='*30)\n",
        "print(\"Com Cross Validation\")\n",
        "print('='*30)\n",
        "print(f'R²: {evaluator.evaluate(previsoes_rfr_cv_teste, {evaluator.metricName: \"r2\"})}')\n",
        "print(f'RMSE: {evaluator.evaluate(previsoes_rfr_cv_teste, {evaluator.metricName: \"rmse\"})}')"
      ],
      "metadata": {
        "colab": {
          "base_uri": "https://localhost:8080/"
        },
        "id": "eQmtwPx0pVIc",
        "outputId": "37665966-bc3b-45bf-f2d4-52e2e76b8401"
      },
      "execution_count": 181,
      "outputs": [
        {
          "output_type": "stream",
          "name": "stdout",
          "text": [
            "Random Forest\n",
            "==============================\n",
            "Sem Cross Validation\n",
            "==============================\n",
            "R²: 0.8244718485514867\n",
            "RMSE: 604314.5513668193\n",
            "\n",
            "==============================\n",
            "Com Cross Validation\n",
            "==============================\n",
            "R²: 0.8301963549432031\n",
            "RMSE: 594378.6025849007\n"
          ]
        }
      ]
    },
    {
      "cell_type": "markdown",
      "source": [
        "## Implementação do algoritmo *Gradient-boosted tree regression*"
      ],
      "metadata": {
        "id": "yJnLzdQKrKmb"
      }
    },
    {
      "cell_type": "markdown",
      "source": [
        "Como atividade extra, analisa-se o desempenho também do método Gradient-boosted tree regression(gbt):"
      ],
      "metadata": {
        "id": "oPjTOQ3drhNI"
      }
    },
    {
      "cell_type": "code",
      "source": [
        "from pyspark.ml.regression import GBTRegressor\n",
        "\n",
        "gbt = GBTRegressor()"
      ],
      "metadata": {
        "id": "jNDvte9ksKMk"
      },
      "execution_count": 182,
      "outputs": []
    },
    {
      "cell_type": "code",
      "source": [
        "modelo_gbt = gbt.fit(treino)"
      ],
      "metadata": {
        "id": "WjZdlLPosNbA"
      },
      "execution_count": 183,
      "outputs": []
    },
    {
      "cell_type": "code",
      "source": [
        "previsoes_gbt_treino = modelo_gbt.transform(treino);"
      ],
      "metadata": {
        "id": "Ev0EBxUXsPYD"
      },
      "execution_count": 184,
      "outputs": []
    },
    {
      "cell_type": "code",
      "source": [
        "previsoes_gbt_treino.select(\"prediction\", \"label\", \"features\").show(5)"
      ],
      "metadata": {
        "colab": {
          "base_uri": "https://localhost:8080/"
        },
        "id": "RBjd5nbasRlf",
        "outputId": "a64e9bc3-46f4-4869-b4e8-3f5623d9f101"
      },
      "execution_count": 185,
      "outputs": [
        {
          "output_type": "stream",
          "name": "stdout",
          "text": [
            "+------------------+--------+--------------------+\n",
            "|        prediction|   label|            features|\n",
            "+------------------+--------+--------------------+\n",
            "| 329604.0047318636| 90000.0|(22,[0,1,2,3,4,5,...|\n",
            "|288942.73081958544|460000.0|(22,[0,1,2,3,4,5,...|\n",
            "|275521.00088633935|330000.0|(22,[0,1,2,3,4,5,...|\n",
            "|288942.73081958544|349000.0|(22,[0,1,2,3,4,5,...|\n",
            "| 646471.9253735066|755000.0|(22,[0,1,2,3,4,5,...|\n",
            "+------------------+--------+--------------------+\n",
            "only showing top 5 rows\n",
            "\n"
          ]
        }
      ]
    },
    {
      "cell_type": "code",
      "source": [
        "previsoes_gbt_teste = modelo_gbt.transform(teste);"
      ],
      "metadata": {
        "id": "Q-r-qnBFsW-f"
      },
      "execution_count": 186,
      "outputs": []
    },
    {
      "cell_type": "code",
      "source": [
        "print(f'RMSE nos dados de teste: {evaluator.evaluate(previsoes_gbt_teste, {evaluator.metricName: \"rmse\"})}')\n",
        "\n",
        "print(f'R2 nos dados de teste: {evaluator.evaluate(previsoes_gbt_teste, {evaluator.metricName: \"r2\"})}')"
      ],
      "metadata": {
        "colab": {
          "base_uri": "https://localhost:8080/"
        },
        "id": "XflW1rpysZiJ",
        "outputId": "fa408755-180c-4125-d2df-48f89838061c"
      },
      "execution_count": 187,
      "outputs": [
        {
          "output_type": "stream",
          "name": "stdout",
          "text": [
            "RMSE nos dados de teste: 656092.9521126129\n",
            "R2 nos dados de teste: 0.7931043210126401\n"
          ]
        }
      ]
    }
  ]
}