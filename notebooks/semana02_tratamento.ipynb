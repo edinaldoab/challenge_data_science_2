{
  "nbformat": 4,
  "nbformat_minor": 0,
  "metadata": {
    "colab": {
      "provenance": [],
      "toc_visible": true,
      "authorship_tag": "ABX9TyOHb9PvJ8HKTYn9qjkzFPh+",
      "include_colab_link": true
    },
    "kernelspec": {
      "name": "python3",
      "display_name": "Python 3"
    },
    "language_info": {
      "name": "python"
    }
  },
  "cells": [
    {
      "cell_type": "markdown",
      "metadata": {
        "id": "view-in-github",
        "colab_type": "text"
      },
      "source": [
        "<a href=\"https://colab.research.google.com/github/edinaldoab/challenge_data_science_2/blob/main/notebooks/semana02_tratamento.ipynb\" target=\"_parent\"><img src=\"https://colab.research.google.com/assets/colab-badge.svg\" alt=\"Open In Colab\"/></a>"
      ]
    },
    {
      "cell_type": "markdown",
      "source": [
        "# Semana 2\n",
        "### Contextualização\n",
        "\n",
        "\n",
        "Aqui será empregado uma abordagem de **Ciências de Dados**! Toda a base tratada e disponibilizada no formato PARQUET será explorada e tratada para finalmente elencar e criar os modelos de Machine Learning.\n",
        "<br>\n",
        "<br>\n",
        "**Recordando: Na primeira semana do desafio, todos os esforços foram dedicados ao tratamento da base de dados bruta disponibilizada pelos desafiadores.**"
      ],
      "metadata": {
        "id": "sguyvI4v8vJ7"
      }
    },
    {
      "cell_type": "markdown",
      "source": [
        "# 1. Preparação do Ambiente"
      ],
      "metadata": {
        "id": "B5zbNtd08BcA"
      }
    },
    {
      "cell_type": "markdown",
      "source": [
        "## a. Instalação das dependências"
      ],
      "metadata": {
        "id": "ZgP_g3XXwcwm"
      }
    },
    {
      "cell_type": "code",
      "execution_count": 1,
      "metadata": {
        "id": "enbmM_NMUB9c"
      },
      "outputs": [],
      "source": [
        "!apt-get update -qq\n",
        "!apt-get install openjdk-8-jdk-headless -qq > /dev/null\n",
        "!wget -q https://archive.apache.org/dist/spark/spark-3.1.2/spark-3.1.2-bin-hadoop2.7.tgz\n",
        "!tar xf spark-3.1.2-bin-hadoop2.7.tgz\n",
        "!pip install -q findspark"
      ]
    },
    {
      "cell_type": "code",
      "source": [
        "import os\n",
        "os.environ[\"JAVA_HOME\"] = \"/usr/lib/jvm/java-8-openjdk-amd64\"\n",
        "os.environ[\"SPARK_HOME\"] = \"/content/spark-3.1.2-bin-hadoop2.7\""
      ],
      "metadata": {
        "id": "QK0uK6A-UzhY"
      },
      "execution_count": 2,
      "outputs": []
    },
    {
      "cell_type": "markdown",
      "source": [
        "## b. Inicialização da SparkSession"
      ],
      "metadata": {
        "id": "WBjX4aVhkXCg"
      }
    },
    {
      "cell_type": "code",
      "source": [
        "import findspark\n",
        "findspark.init()"
      ],
      "metadata": {
        "id": "_Gk1F5mMU1nt"
      },
      "execution_count": 3,
      "outputs": []
    },
    {
      "cell_type": "code",
      "source": [
        "from pyspark.sql import SparkSession\n",
        "\n",
        "spark = SparkSession.builder \\\n",
        "    .master('local[*]') \\\n",
        "    .appName(\"challenge_imob\") \\\n",
        "    .config('spark.ui.port', '4050') \\\n",
        "    .getOrCreate()"
      ],
      "metadata": {
        "id": "U-PSvJevU5aJ"
      },
      "execution_count": 4,
      "outputs": []
    },
    {
      "cell_type": "markdown",
      "source": [
        "## c. Montagem do Drive"
      ],
      "metadata": {
        "id": "ppAaMj1Ikism"
      }
    },
    {
      "cell_type": "code",
      "source": [
        "from google.colab import drive\n",
        "drive.mount('/content/drive')"
      ],
      "metadata": {
        "colab": {
          "base_uri": "https://localhost:8080/"
        },
        "id": "Z8_AQdaNVS8b",
        "outputId": "d6a4d96e-4b12-4ceb-8ad8-3fe90af04376"
      },
      "execution_count": 5,
      "outputs": [
        {
          "output_type": "stream",
          "name": "stdout",
          "text": [
            "Mounted at /content/drive\n"
          ]
        }
      ]
    },
    {
      "cell_type": "markdown",
      "source": [
        "## d. Inicializando a  UI do Spark "
      ],
      "metadata": {
        "id": "D5ogW79Oy2as"
      }
    },
    {
      "cell_type": "code",
      "source": [
        "!wget -q https://bin.equinox.io/c/4VmDzA7iaHb/ngrok-stable-linux-amd64.zip\n",
        "!unzip ngrok-stable-linux-amd64.zip"
      ],
      "metadata": {
        "colab": {
          "base_uri": "https://localhost:8080/"
        },
        "id": "-H8K8pQFVCgk",
        "outputId": "210d4788-ae71-4c09-cbd1-b42fd0e75e12"
      },
      "execution_count": null,
      "outputs": [
        {
          "output_type": "stream",
          "name": "stdout",
          "text": [
            "Archive:  ngrok-stable-linux-amd64.zip\n",
            "replace ngrok? [y]es, [n]o, [A]ll, [N]one, [r]ename: y\n",
            "  inflating: ngrok                   \n"
          ]
        }
      ]
    },
    {
      "cell_type": "code",
      "source": [
        "with open('/content/drive/MyDrive/Colab Notebooks/projeto_data_science_imobni/dados/authTokenngrok.txt', 'r') as file:\n",
        "  content = file.read()\n",
        "  file.close()\n",
        "\n",
        "my_authtoken = str(content)"
      ],
      "metadata": {
        "id": "LSsGlSu4VG5h"
      },
      "execution_count": null,
      "outputs": []
    },
    {
      "cell_type": "code",
      "source": [
        "get_ipython().system_raw('./ngrok authtoken ' + my_authtoken)\n",
        "get_ipython().system_raw('./ngrok http 4050 &')\n",
        "\n",
        "!curl -s http://localhost:4040/api/tunnels"
      ],
      "metadata": {
        "colab": {
          "base_uri": "https://localhost:8080/"
        },
        "id": "JN7VU6ErJ6-m",
        "outputId": "d25d30df-884d-4400-fd70-2ae6f2eee13f"
      },
      "execution_count": null,
      "outputs": [
        {
          "output_type": "stream",
          "name": "stdout",
          "text": [
            "{\"tunnels\":[{\"name\":\"command_line\",\"uri\":\"/api/tunnels/command_line\",\"public_url\":\"https://331a-34-75-20-66.ngrok.io\",\"proto\":\"https\",\"config\":{\"addr\":\"http://localhost:4050\",\"inspect\":true},\"metrics\":{\"conns\":{\"count\":0,\"gauge\":0,\"rate1\":0,\"rate5\":0,\"rate15\":0,\"p50\":0,\"p90\":0,\"p95\":0,\"p99\":0},\"http\":{\"count\":0,\"rate1\":0,\"rate5\":0,\"rate15\":0,\"p50\":0,\"p90\":0,\"p95\":0,\"p99\":0}}},{\"name\":\"command_line (http)\",\"uri\":\"/api/tunnels/command_line%20%28http%29\",\"public_url\":\"http://331a-34-75-20-66.ngrok.io\",\"proto\":\"http\",\"config\":{\"addr\":\"http://localhost:4050\",\"inspect\":true},\"metrics\":{\"conns\":{\"count\":0,\"gauge\":0,\"rate1\":0,\"rate5\":0,\"rate15\":0,\"p50\":0,\"p90\":0,\"p95\":0,\"p99\":0},\"http\":{\"count\":0,\"rate1\":0,\"rate5\":0,\"rate15\":0,\"p50\":0,\"p90\":0,\"p95\":0,\"p99\":0}}}],\"uri\":\"/api/tunnels\"}\n"
          ]
        }
      ]
    },
    {
      "cell_type": "code",
      "source": [
        "spark"
      ],
      "metadata": {
        "id": "vDWpd4nrVKwm",
        "colab": {
          "base_uri": "https://localhost:8080/",
          "height": 219
        },
        "outputId": "c87c3384-eefd-4f35-bddd-d96aac071e0c"
      },
      "execution_count": null,
      "outputs": [
        {
          "output_type": "execute_result",
          "data": {
            "text/plain": [
              "<pyspark.sql.session.SparkSession at 0x7f35ec7ba8b0>"
            ],
            "text/html": [
              "\n",
              "            <div>\n",
              "                <p><b>SparkSession - in-memory</b></p>\n",
              "                \n",
              "        <div>\n",
              "            <p><b>SparkContext</b></p>\n",
              "\n",
              "            <p><a href=\"http://41751a9c3066:4050\">Spark UI</a></p>\n",
              "\n",
              "            <dl>\n",
              "              <dt>Version</dt>\n",
              "                <dd><code>v3.1.2</code></dd>\n",
              "              <dt>Master</dt>\n",
              "                <dd><code>local[*]</code></dd>\n",
              "              <dt>AppName</dt>\n",
              "                <dd><code>challenge_imob</code></dd>\n",
              "            </dl>\n",
              "        </div>\n",
              "        \n",
              "            </div>\n",
              "        "
            ]
          },
          "metadata": {},
          "execution_count": 133
        }
      ]
    },
    {
      "cell_type": "markdown",
      "source": [
        "Carregamento dos dados:"
      ],
      "metadata": {
        "id": "9Te7vFd8ddtt"
      }
    },
    {
      "cell_type": "markdown",
      "source": [
        "# 2. Carregamento e tratamento dos dados"
      ],
      "metadata": {
        "id": "UTWlLTRvlM-K"
      }
    },
    {
      "cell_type": "markdown",
      "source": [
        "## a. Leitura do dataset"
      ],
      "metadata": {
        "id": "k8V1MvMj5PzO"
      }
    },
    {
      "cell_type": "code",
      "source": [
        "path='/content/drive/MyDrive/Colab Notebooks/projeto_data_science_imobni/dataset_parquet'\n",
        "\n",
        "data = spark.read.parquet(path)"
      ],
      "metadata": {
        "id": "6_hFMHTuddN7"
      },
      "execution_count": 65,
      "outputs": []
    },
    {
      "cell_type": "code",
      "source": [
        "data.show(5)"
      ],
      "metadata": {
        "colab": {
          "base_uri": "https://localhost:8080/"
        },
        "id": "sdt03fOPeKkA",
        "outputId": "6657d43d-56c2-4841-fc1d-04289cb2fede"
      },
      "execution_count": 66,
      "outputs": [
        {
          "output_type": "stream",
          "name": "stdout",
          "text": [
            "+--------------------+-----+----------+---------+---------+--------------------+-------+------+------------+------------+-----------+----+---------------+----------+----------+-----+-----+-------+\n",
            "|                  id|andar|area_total|area_util|banheiros|     caracteristicas|quartos|suites|tipo_anuncio|tipo_unidade|   tipo_uso|vaga|         bairro|      zona|condominio| iptu| tipo|  valor|\n",
            "+--------------------+-----+----------+---------+---------+--------------------+-------+------+------------+------------+-----------+----+---------------+----------+----------+-----+-----+-------+\n",
            "|00790b85-56e3-43a...|   11|       166|      166|        5|[Academia, Churra...|      4|     4|       Usado| Apartamento|Residencial|   2|    Jacarepaguá|Zona Oeste|      2100| 4600|Venda|1750000|\n",
            "|007f8099-8e1d-45f...|    4|       640|      640|        5|[Animais permitid...|     11|     3|       Usado| Apartamento|Residencial|null|           Urca|  Zona Sul|      3060|20030|Venda|3800000|\n",
            "|00b23c6d-0e9d-4be...|    1|        50|       50|        1|[Academia, Churra...|      2|     0|       Usado| Apartamento|Residencial|   1|Parada de Lucas|Zona Norte|       363|   97|Venda| 192000|\n",
            "|012aebd7-278f-4b4...|    0|       160|      160|        4|          [Elevador]|      3|     1|       Usado| Apartamento|Residencial|   3|        Ipanema|  Zona Sul|      1530| 7440|Venda|3490000|\n",
            "|0267dcdb-7705-44a...|    0|        52|       52|        1|[Churrasqueira, P...|      2|     1|       Usado| Apartamento|Residencial|   1|      Pechincha|Zona Oeste|      null| null|Venda| 440000|\n",
            "+--------------------+-----+----------+---------+---------+--------------------+-------+------+------------+------------+-----------+----+---------------+----------+----------+-----+-----+-------+\n",
            "only showing top 5 rows\n",
            "\n"
          ]
        }
      ]
    },
    {
      "cell_type": "markdown",
      "source": [
        "## b. Seleção de features"
      ],
      "metadata": {
        "id": "klH1TWa1AIlQ"
      }
    },
    {
      "cell_type": "markdown",
      "source": [
        "Aqui devem ser removidas as colunas que possuem apenas um valor atribuído, de acordo com o que foi elaborado na primeira semana. Esta etapa é muito importante para se reduzir a complexidade dos dados e aumentar a velocidade de ajuste do modelo."
      ],
      "metadata": {
        "id": "SBWXYLwJAyUl"
      }
    },
    {
      "cell_type": "code",
      "source": [
        "data\\\n",
        "    .select('tipo')\\\n",
        "    .distinct()\\\n",
        "    .show(5)"
      ],
      "metadata": {
        "colab": {
          "base_uri": "https://localhost:8080/"
        },
        "id": "mm25lRD5gFqj",
        "outputId": "ed7aa855-4390-4a3d-ac63-3cc7461c2274"
      },
      "execution_count": 67,
      "outputs": [
        {
          "output_type": "stream",
          "name": "stdout",
          "text": [
            "+-----+\n",
            "| tipo|\n",
            "+-----+\n",
            "|Venda|\n",
            "+-----+\n",
            "\n"
          ]
        }
      ]
    },
    {
      "cell_type": "code",
      "source": [
        "data\\\n",
        "    .select('tipo_anuncio')\\\n",
        "    .distinct()\\\n",
        "    .show(5)"
      ],
      "metadata": {
        "colab": {
          "base_uri": "https://localhost:8080/"
        },
        "id": "xSd2nvun96GN",
        "outputId": "229de6ef-3cd9-4aa5-d221-5f06fbc8e142"
      },
      "execution_count": 68,
      "outputs": [
        {
          "output_type": "stream",
          "name": "stdout",
          "text": [
            "+------------+\n",
            "|tipo_anuncio|\n",
            "+------------+\n",
            "|       Usado|\n",
            "+------------+\n",
            "\n"
          ]
        }
      ]
    },
    {
      "cell_type": "code",
      "source": [
        "data\\\n",
        "    .select('tipo_unidade')\\\n",
        "    .distinct()\\\n",
        "    .show(5)"
      ],
      "metadata": {
        "colab": {
          "base_uri": "https://localhost:8080/"
        },
        "id": "6AR5L7TV-UB5",
        "outputId": "f9d073de-70ed-43bf-c189-5d23fab9d1a7"
      },
      "execution_count": 69,
      "outputs": [
        {
          "output_type": "stream",
          "name": "stdout",
          "text": [
            "+------------+\n",
            "|tipo_unidade|\n",
            "+------------+\n",
            "| Apartamento|\n",
            "+------------+\n",
            "\n"
          ]
        }
      ]
    },
    {
      "cell_type": "code",
      "source": [
        "data\\\n",
        "    .select('tipo_uso')\\\n",
        "    .distinct()\\\n",
        "    .show(5)"
      ],
      "metadata": {
        "colab": {
          "base_uri": "https://localhost:8080/"
        },
        "id": "aaMyYHUq-XMV",
        "outputId": "c859f0a5-55c7-4ec6-fb87-738ccbafc49f"
      },
      "execution_count": 70,
      "outputs": [
        {
          "output_type": "stream",
          "name": "stdout",
          "text": [
            "+-----------+\n",
            "|   tipo_uso|\n",
            "+-----------+\n",
            "|Residencial|\n",
            "+-----------+\n",
            "\n"
          ]
        }
      ]
    },
    {
      "cell_type": "markdown",
      "source": [
        "As colunas `area_total` e `area_util` têm um potencial maior de aderência ao modelo. Assim, analisa-se:"
      ],
      "metadata": {
        "id": "1B9LDacC-589"
      }
    },
    {
      "cell_type": "code",
      "source": [
        "data\\\n",
        "    .select('area_total','area_util')\\\n",
        "    .show(5)"
      ],
      "metadata": {
        "colab": {
          "base_uri": "https://localhost:8080/"
        },
        "id": "sbiWtfKP_w4Z",
        "outputId": "f5450e55-8064-4fe2-86ca-dfa05dc3ddcf"
      },
      "execution_count": 71,
      "outputs": [
        {
          "output_type": "stream",
          "name": "stdout",
          "text": [
            "+----------+---------+\n",
            "|area_total|area_util|\n",
            "+----------+---------+\n",
            "|       166|      166|\n",
            "|       640|      640|\n",
            "|        50|       50|\n",
            "|       160|      160|\n",
            "|        52|       52|\n",
            "+----------+---------+\n",
            "only showing top 5 rows\n",
            "\n"
          ]
        }
      ]
    },
    {
      "cell_type": "code",
      "source": [
        "data\\\n",
        "    .select('area_util', 'area_total')\\\n",
        "    .na\\\n",
        "    .drop()\\\n",
        "    .show(5)"
      ],
      "metadata": {
        "colab": {
          "base_uri": "https://localhost:8080/"
        },
        "id": "7azuTtqJBeM7",
        "outputId": "5b9e6c83-915e-4487-a0c8-edc010ef1cfa"
      },
      "execution_count": 72,
      "outputs": [
        {
          "output_type": "stream",
          "name": "stdout",
          "text": [
            "+---------+----------+\n",
            "|area_util|area_total|\n",
            "+---------+----------+\n",
            "|      166|       166|\n",
            "|      640|       640|\n",
            "|       50|        50|\n",
            "|      160|       160|\n",
            "|       52|        52|\n",
            "+---------+----------+\n",
            "only showing top 5 rows\n",
            "\n"
          ]
        }
      ]
    },
    {
      "cell_type": "code",
      "source": [
        "from pyspark.sql import functions as f\n",
        "\n",
        "dados_without_na = data\\\n",
        "    .select('area_util', 'area_total')\\\n",
        "    .na\\\n",
        "    .drop()\n",
        "\n",
        "quantidade_total = dados_without_na.count()\n",
        "quantidade_iguais = dados_without_na.filter(f.col('area_util') == f.col('area_total')).count()\n",
        "quantidade_distintas = quantidade_total - quantidade_iguais\n",
        "\n",
        "print(f'Quantidade de linhas: {quantidade_total}')\n",
        "print(f'Quantidade de linhas com area_util == area_total: {quantidade_iguais}')\n",
        "print(f'Quantidade de linhas diferentes: {quantidade_distintas}')"
      ],
      "metadata": {
        "colab": {
          "base_uri": "https://localhost:8080/"
        },
        "id": "kX2U1SAkAs_k",
        "outputId": "4ade50d7-b002-456a-ad43-a04dbe54da3e"
      },
      "execution_count": 73,
      "outputs": [
        {
          "output_type": "stream",
          "name": "stdout",
          "text": [
            "Quantidade de linhas: 57368\n",
            "Quantidade de linhas com area_util == area_total: 55384\n",
            "Quantidade de linhas diferentes: 1984\n"
          ]
        }
      ]
    },
    {
      "cell_type": "markdown",
      "source": [
        "Chega-se a algumas conclusões:\n",
        "<br>\n",
        "<br>\n",
        "*  das 57368 linhas, 55384 possuem valores iguais nas colunas `area_total` e `area_util`\n",
        "*  pode-se escolher somente uma, uma vez que a maioria das informações são repetidas\n",
        "\n",
        "Para esta escolha, levou-se em conta a coluna com a menor quantidade de dados nulos:"
      ],
      "metadata": {
        "id": "KSGxUYc6CQ5Z"
      }
    },
    {
      "cell_type": "code",
      "source": [
        "colunas = ['area_total', 'area_util']\n",
        "\n",
        "data\\\n",
        "    .select([f.count(f.when(data[c].isNull(), True)).alias(c) for c in colunas])\\\n",
        "    .show()"
      ],
      "metadata": {
        "colab": {
          "base_uri": "https://localhost:8080/"
        },
        "id": "O9WMNsBlDiEB",
        "outputId": "51a9e761-22a2-4968-ee08-51cebc8b179a"
      },
      "execution_count": 74,
      "outputs": [
        {
          "output_type": "stream",
          "name": "stdout",
          "text": [
            "+----------+---------+\n",
            "|area_total|area_util|\n",
            "+----------+---------+\n",
            "|      9194|        0|\n",
            "+----------+---------+\n",
            "\n"
          ]
        }
      ]
    },
    {
      "cell_type": "code",
      "source": [
        "'''\n",
        "cont = []\n",
        "for c in colunas:\n",
        "    cont.append(f.count(f.when(data[c].isNull(), True)).alias(c))\n",
        "\n",
        "data.select(cont).show()"
      ],
      "metadata": {
        "colab": {
          "base_uri": "https://localhost:8080/",
          "height": 153
        },
        "id": "FnskgwEUGepr",
        "outputId": "77d1f4b7-6041-4294-bb29-3fa481d9e1dc"
      },
      "execution_count": 75,
      "outputs": [
        {
          "output_type": "error",
          "ename": "SyntaxError",
          "evalue": "ignored",
          "traceback": [
            "\u001b[0;36m  File \u001b[0;32m\"<ipython-input-75-94cff592d787>\"\u001b[0;36m, line \u001b[0;32m6\u001b[0m\n\u001b[0;31m    data.select(cont).show()\u001b[0m\n\u001b[0m                            \n^\u001b[0m\n\u001b[0;31mSyntaxError\u001b[0m\u001b[0;31m:\u001b[0m EOF while scanning triple-quoted string literal\n"
          ]
        }
      ]
    },
    {
      "cell_type": "markdown",
      "source": [
        "A `area_total` não possui nenhum valor nulo! Pode-se então eliminar a coluna `area_util`."
      ],
      "metadata": {
        "id": "tNgXvMs8FhWf"
      }
    },
    {
      "cell_type": "code",
      "source": [
        "data = data\\\n",
        "    .drop('area_total','tipo_anuncio','tipo_unidade','tipo_uso','tipo')"
      ],
      "metadata": {
        "id": "HeU_YfSSZIus"
      },
      "execution_count": 76,
      "outputs": []
    },
    {
      "cell_type": "code",
      "source": [
        "data.show(5)"
      ],
      "metadata": {
        "colab": {
          "base_uri": "https://localhost:8080/"
        },
        "id": "IXNFAbfaZmuG",
        "outputId": "29c25f8b-295b-4d56-adf3-fedc0afdf4a9"
      },
      "execution_count": 77,
      "outputs": [
        {
          "output_type": "stream",
          "name": "stdout",
          "text": [
            "+--------------------+-----+---------+---------+--------------------+-------+------+----+---------------+----------+----------+-----+-------+\n",
            "|                  id|andar|area_util|banheiros|     caracteristicas|quartos|suites|vaga|         bairro|      zona|condominio| iptu|  valor|\n",
            "+--------------------+-----+---------+---------+--------------------+-------+------+----+---------------+----------+----------+-----+-------+\n",
            "|00790b85-56e3-43a...|   11|      166|        5|[Academia, Churra...|      4|     4|   2|    Jacarepaguá|Zona Oeste|      2100| 4600|1750000|\n",
            "|007f8099-8e1d-45f...|    4|      640|        5|[Animais permitid...|     11|     3|null|           Urca|  Zona Sul|      3060|20030|3800000|\n",
            "|00b23c6d-0e9d-4be...|    1|       50|        1|[Academia, Churra...|      2|     0|   1|Parada de Lucas|Zona Norte|       363|   97| 192000|\n",
            "|012aebd7-278f-4b4...|    0|      160|        4|          [Elevador]|      3|     1|   3|        Ipanema|  Zona Sul|      1530| 7440|3490000|\n",
            "|0267dcdb-7705-44a...|    0|       52|        1|[Churrasqueira, P...|      2|     1|   1|      Pechincha|Zona Oeste|      null| null| 440000|\n",
            "+--------------------+-----+---------+---------+--------------------+-------+------+----+---------------+----------+----------+-----+-------+\n",
            "only showing top 5 rows\n",
            "\n"
          ]
        }
      ]
    },
    {
      "cell_type": "markdown",
      "source": [
        "## c. Conversão dos tipos das colunas"
      ],
      "metadata": {
        "id": "3nJjfzbPFvHP"
      }
    },
    {
      "cell_type": "code",
      "source": [
        "data.printSchema()"
      ],
      "metadata": {
        "colab": {
          "base_uri": "https://localhost:8080/"
        },
        "id": "CseT-TRoZ5ac",
        "outputId": "aa03466c-997d-4242-b296-5e89365c9292"
      },
      "execution_count": 78,
      "outputs": [
        {
          "output_type": "stream",
          "name": "stdout",
          "text": [
            "root\n",
            " |-- id: string (nullable = true)\n",
            " |-- andar: long (nullable = true)\n",
            " |-- area_util: string (nullable = true)\n",
            " |-- banheiros: long (nullable = true)\n",
            " |-- caracteristicas: array (nullable = true)\n",
            " |    |-- element: string (containsNull = true)\n",
            " |-- quartos: long (nullable = true)\n",
            " |-- suites: long (nullable = true)\n",
            " |-- vaga: long (nullable = true)\n",
            " |-- bairro: string (nullable = true)\n",
            " |-- zona: string (nullable = true)\n",
            " |-- condominio: string (nullable = true)\n",
            " |-- iptu: string (nullable = true)\n",
            " |-- valor: string (nullable = true)\n",
            "\n"
          ]
        }
      ]
    },
    {
      "cell_type": "markdown",
      "source": [
        "Os dados numéricos estão tipados em sua maioria como string, enquanto deveriam receber as seguintes conversões:\n",
        "\n"
      ],
      "metadata": {
        "id": "H_zJIhe-CAqc"
      }
    },
    {
      "cell_type": "code",
      "source": [
        "from pyspark.sql.types import IntegerType, DoubleType"
      ],
      "metadata": {
        "id": "ODNBdeeybESg"
      },
      "execution_count": 79,
      "outputs": []
    },
    {
      "cell_type": "code",
      "source": [
        "data = data\\\n",
        "    .withColumn('andar', data['andar'].cast(IntegerType()))\\\n",
        "    .withColumn('area_util', data['area_util'].cast(DoubleType()))\\\n",
        "    .withColumn('banheiros', data['banheiros'].cast(IntegerType()))\\\n",
        "    .withColumn('quartos', data['quartos'].cast(IntegerType()))\\\n",
        "    .withColumn('suites', data['suites'].cast(IntegerType()))\\\n",
        "    .withColumn('condominio', data['condominio'].cast(DoubleType()))\\\n",
        "    .withColumn('vaga', data['vaga'].cast(IntegerType()))\\\n",
        "    .withColumn('iptu', data['iptu'].cast(DoubleType()))\\\n",
        "    .withColumn('valor', data['valor'].cast(DoubleType()))"
      ],
      "metadata": {
        "id": "966o4l9gjcr1"
      },
      "execution_count": 80,
      "outputs": []
    },
    {
      "cell_type": "code",
      "execution_count": 81,
      "metadata": {
        "id": "Msj6oUl2z9Ap",
        "outputId": "2c3bc9d8-1d51-4d74-d4d6-ca28648ebd6f",
        "colab": {
          "base_uri": "https://localhost:8080/"
        }
      },
      "outputs": [
        {
          "output_type": "stream",
          "name": "stdout",
          "text": [
            "root\n",
            " |-- id: string (nullable = true)\n",
            " |-- andar: integer (nullable = true)\n",
            " |-- area_util: double (nullable = true)\n",
            " |-- banheiros: integer (nullable = true)\n",
            " |-- caracteristicas: array (nullable = true)\n",
            " |    |-- element: string (containsNull = true)\n",
            " |-- quartos: integer (nullable = true)\n",
            " |-- suites: integer (nullable = true)\n",
            " |-- vaga: integer (nullable = true)\n",
            " |-- bairro: string (nullable = true)\n",
            " |-- zona: string (nullable = true)\n",
            " |-- condominio: double (nullable = true)\n",
            " |-- iptu: double (nullable = true)\n",
            " |-- valor: double (nullable = true)\n",
            "\n"
          ]
        }
      ],
      "source": [
        "data.printSchema()"
      ]
    },
    {
      "cell_type": "markdown",
      "source": [
        "## d. Tratamento da coluna `caracteristicas`"
      ],
      "metadata": {
        "id": "fU_KVD3fGQqf"
      }
    },
    {
      "cell_type": "code",
      "source": [
        "data\\\n",
        "    .select('caracteristicas')\\\n",
        "    .show(100, truncate=False)"
      ],
      "metadata": {
        "colab": {
          "base_uri": "https://localhost:8080/"
        },
        "id": "AX2mUIzzb_Bt",
        "outputId": "eea11032-ef78-4bfb-8418-72f70608eb15"
      },
      "execution_count": 82,
      "outputs": [
        {
          "output_type": "stream",
          "name": "stdout",
          "text": [
            "+--------------------------------------------------------------------------------------------------------------------------------------------------+\n",
            "|caracteristicas                                                                                                                                   |\n",
            "+--------------------------------------------------------------------------------------------------------------------------------------------------+\n",
            "|[Academia, Churrasqueira, Piscina, Playground, Salão de festas, Elevador, Condomínio fechado, Portão eletrônico, Portaria 24h, Animais permitidos]|\n",
            "|[Animais permitidos, Portão eletrônico]                                                                                                           |\n",
            "|[Academia, Churrasqueira, Piscina, Playground, Salão de festas, Condomínio fechado, Portaria 24h, Animais permitidos]                             |\n",
            "|[Elevador]                                                                                                                                        |\n",
            "|[Churrasqueira, Piscina, Playground, Salão de festas]                                                                                             |\n",
            "|[Elevador, Academia, Churrasqueira, Piscina, Playground, Salão de festas, Condomínio fechado, Portão eletrônico, Portaria 24h]                    |\n",
            "|[Academia, Condomínio fechado, Piscina, Playground, Salão de festas, Portão eletrônico, Portaria 24h, Elevador]                                   |\n",
            "|[Academia, Churrasqueira, Piscina, Salão de festas, Elevador, Condomínio fechado, Portão eletrônico, Portaria 24h, Animais permitidos]            |\n",
            "|[Condomínio fechado, Portão eletrônico, Academia, Churrasqueira, Piscina, Playground, Salão de festas, Elevador, Animais permitidos]              |\n",
            "|[Academia, Churrasqueira, Piscina, Playground, Salão de festas, Elevador, Condomínio fechado, Portão eletrônico, Portaria 24h, Animais permitidos]|\n",
            "|[]                                                                                                                                                |\n",
            "|[Academia, Elevador, Salão de festas, Condomínio fechado, Portão eletrônico, Portaria 24h, Animais permitidos]                                    |\n",
            "|[Salão de festas]                                                                                                                                 |\n",
            "|[Condomínio fechado, Academia, Churrasqueira, Piscina, Playground, Salão de festas, Elevador]                                                     |\n",
            "|[Piscina]                                                                                                                                         |\n",
            "|[Academia, Churrasqueira, Condomínio fechado, Elevador, Piscina, Playground, Portão eletrônico, Portaria 24h, Salão de festas, Animais permitidos]|\n",
            "|[Condomínio fechado, Piscina, Elevador]                                                                                                           |\n",
            "|[Academia, Churrasqueira, Elevador, Piscina, Salão de festas, Playground, Condomínio fechado, Portão eletrônico, Portaria 24h, Animais permitidos]|\n",
            "|[Academia, Churrasqueira, Piscina, Playground, Salão de festas, Elevador, Condomínio fechado, Portão eletrônico, Portaria 24h, Animais permitidos]|\n",
            "|[Academia, Churrasqueira, Piscina, Playground, Salão de festas, Elevador, Condomínio fechado, Portão eletrônico, Portaria 24h, Animais permitidos]|\n",
            "|[Churrasqueira, Piscina, Playground, Salão de festas]                                                                                             |\n",
            "|[Academia, Churrasqueira, Playground]                                                                                                             |\n",
            "|[Playground, Elevador]                                                                                                                            |\n",
            "|[Academia, Churrasqueira, Piscina, Playground, Salão de festas, Elevador, Condomínio fechado, Portão eletrônico, Portaria 24h, Animais permitidos]|\n",
            "|[]                                                                                                                                                |\n",
            "|[Academia, Churrasqueira, Piscina, Playground, Salão de festas, Elevador, Portaria 24h, Condomínio fechado, Animais permitidos]                   |\n",
            "|[]                                                                                                                                                |\n",
            "|[Churrasqueira, Elevador, Academia, Salão de festas, Piscina]                                                                                     |\n",
            "|[Elevador, Academia, Churrasqueira, Piscina, Playground, Salão de festas, Condomínio fechado, Portão eletrônico, Portaria 24h, Animais permitidos]|\n",
            "|[]                                                                                                                                                |\n",
            "|[]                                                                                                                                                |\n",
            "|[Elevador, Churrasqueira, Salão de festas, Playground]                                                                                            |\n",
            "|[Academia, Churrasqueira, Piscina, Playground, Salão de festas, Elevador, Condomínio fechado, Portão eletrônico, Portaria 24h, Animais permitidos]|\n",
            "|[]                                                                                                                                                |\n",
            "|[Academia, Churrasqueira, Condomínio fechado, Elevador, Piscina, Playground, Portão eletrônico, Portaria 24h, Salão de festas, Animais permitidos]|\n",
            "|[]                                                                                                                                                |\n",
            "|[Academia, Churrasqueira, Condomínio fechado, Elevador, Piscina, Playground, Portão eletrônico, Portaria 24h, Salão de festas, Animais permitidos]|\n",
            "|[Piscina, Academia, Elevador, Salão de festas, Condomínio fechado, Portaria 24h]                                                                  |\n",
            "|[Academia, Churrasqueira, Piscina, Playground, Salão de festas, Elevador, Condomínio fechado, Portão eletrônico, Portaria 24h, Animais permitidos]|\n",
            "|[Piscina, Elevador, Playground, Salão de festas]                                                                                                  |\n",
            "|[Academia, Elevador, Condomínio fechado, Portão eletrônico, Churrasqueira, Piscina, Animais permitidos]                                           |\n",
            "|[Elevador, Academia, Piscina, Salão de festas, Condomínio fechado, Portão eletrônico, Portaria 24h, Animais permitidos]                           |\n",
            "|[Elevador, Playground, Salão de festas, Condomínio fechado, Portão eletrônico, Portaria 24h, Animais permitidos]                                  |\n",
            "|[Academia, Churrasqueira, Piscina, Playground, Salão de festas, Elevador, Condomínio fechado, Portão eletrônico, Portaria 24h, Animais permitidos]|\n",
            "|[Elevador, Academia, Churrasqueira, Playground, Piscina, Condomínio fechado, Portaria 24h]                                                        |\n",
            "|[]                                                                                                                                                |\n",
            "|[Condomínio fechado, Portão eletrônico, Portaria 24h, Playground, Piscina, Salão de festas, Elevador, Churrasqueira, Academia, Animais permitidos]|\n",
            "|[]                                                                                                                                                |\n",
            "|[Elevador, Portaria 24h, Condomínio fechado, Portão eletrônico, Animais permitidos]                                                               |\n",
            "|[Elevador]                                                                                                                                        |\n",
            "|[Churrasqueira, Playground, Piscina, Salão de festas, Condomínio fechado, Portaria 24h, Animais permitidos]                                       |\n",
            "|[]                                                                                                                                                |\n",
            "|[Churrasqueira, Academia, Salão de festas]                                                                                                        |\n",
            "|[]                                                                                                                                                |\n",
            "|[Elevador, Portaria 24h, Portão eletrônico, Condomínio fechado]                                                                                   |\n",
            "|[Academia, Churrasqueira, Piscina, Playground, Salão de festas, Elevador, Condomínio fechado, Portão eletrônico, Portaria 24h, Animais permitidos]|\n",
            "|[]                                                                                                                                                |\n",
            "|[Elevador, Salão de festas, Portão eletrônico, Animais permitidos]                                                                                |\n",
            "|[]                                                                                                                                                |\n",
            "|[Portão eletrônico, Animais permitidos]                                                                                                           |\n",
            "|[Churrasqueira, Academia, Piscina, Salão de festas, Elevador, Condomínio fechado, Portão eletrônico, Portaria 24h, Animais permitidos]            |\n",
            "|[Academia, Churrasqueira, Piscina, Playground, Salão de festas, Elevador, Portaria 24h, Portão eletrônico, Condomínio fechado, Animais permitidos]|\n",
            "|[Elevador, Churrasqueira, Academia, Playground, Piscina, Salão de festas, Condomínio fechado, Portaria 24h, Portão eletrônico, Animais permitidos]|\n",
            "|[Academia, Churrasqueira, Piscina, Playground, Elevador, Salão de festas, Condomínio fechado, Portão eletrônico, Portaria 24h, Animais permitidos]|\n",
            "|[Elevador]                                                                                                                                        |\n",
            "|[Playground, Salão de festas]                                                                                                                     |\n",
            "|[Elevador, Academia, Churrasqueira, Piscina, Playground, Salão de festas, Condomínio fechado, Portão eletrônico, Portaria 24h, Animais permitidos]|\n",
            "|[Academia, Churrasqueira, Piscina, Playground, Salão de festas, Elevador, Condomínio fechado, Portão eletrônico, Portaria 24h, Animais permitidos]|\n",
            "|[Portaria 24h, Elevador]                                                                                                                          |\n",
            "|[Elevador, Portão eletrônico, Animais permitidos]                                                                                                 |\n",
            "|[Elevador, Condomínio fechado, Portão eletrônico, Portaria 24h, Animais permitidos]                                                               |\n",
            "|[Academia, Churrasqueira, Salão de festas, Playground, Piscina]                                                                                   |\n",
            "|[Academia, Churrasqueira, Piscina, Playground, Salão de festas, Elevador, Condomínio fechado, Portão eletrônico, Portaria 24h]                    |\n",
            "|[Elevador, Academia, Piscina, Playground, Salão de festas, Condomínio fechado, Portão eletrônico, Portaria 24h, Animais permitidos]               |\n",
            "|[Academia, Churrasqueira, Piscina, Playground, Salão de festas, Condomínio fechado, Portão eletrônico, Portaria 24h, Animais permitidos]          |\n",
            "|[Academia, Churrasqueira, Piscina, Playground, Elevador, Salão de festas, Condomínio fechado, Portão eletrônico, Portaria 24h, Animais permitidos]|\n",
            "|[Academia, Churrasqueira, Piscina, Playground, Salão de festas, Elevador, Condomínio fechado, Portão eletrônico, Portaria 24h, Animais permitidos]|\n",
            "|[Playground, Elevador, Condomínio fechado, Portão eletrônico, Portaria 24h, Animais permitidos]                                                   |\n",
            "|[]                                                                                                                                                |\n",
            "|[Elevador, Portaria 24h, Animais permitidos]                                                                                                      |\n",
            "|[Condomínio fechado, Portaria 24h, Portão eletrônico, Animais permitidos]                                                                         |\n",
            "|[]                                                                                                                                                |\n",
            "|[]                                                                                                                                                |\n",
            "|[Condomínio fechado, Portão eletrônico, Portaria 24h, Academia, Piscina, Salão de festas, Elevador, Churrasqueira, Playground, Animais permitidos]|\n",
            "|[Elevador, Condomínio fechado, Portão eletrônico, Portaria 24h, Animais permitidos]                                                               |\n",
            "|[Playground, Portaria 24h]                                                                                                                        |\n",
            "|[Academia, Churrasqueira, Piscina, Playground, Elevador, Salão de festas, Condomínio fechado, Portão eletrônico, Portaria 24h, Animais permitidos]|\n",
            "|[]                                                                                                                                                |\n",
            "|[]                                                                                                                                                |\n",
            "|[Academia, Churrasqueira, Piscina, Playground, Elevador, Salão de festas, Condomínio fechado, Portão eletrônico, Portaria 24h, Animais permitidos]|\n",
            "|[Playground, Salão de festas]                                                                                                                     |\n",
            "|[Elevador, Academia, Churrasqueira, Piscina, Playground, Salão de festas, Condomínio fechado, Portão eletrônico, Portaria 24h, Animais permitidos]|\n",
            "|[Academia, Churrasqueira, Piscina, Salão de festas, Elevador, Condomínio fechado, Portão eletrônico]                                              |\n",
            "|[Elevador, Condomínio fechado, Portão eletrônico, Portaria 24h, Animais permitidos]                                                               |\n",
            "|[Academia, Piscina, Elevador, Portaria 24h, Animais permitidos]                                                                                   |\n",
            "|[Academia, Churrasqueira, Condomínio fechado, Elevador, Piscina, Playground, Portão eletrônico, Portaria 24h, Salão de festas, Animais permitidos]|\n",
            "|[]                                                                                                                                                |\n",
            "|[]                                                                                                                                                |\n",
            "|[]                                                                                                                                                |\n",
            "|[]                                                                                                                                                |\n",
            "+--------------------------------------------------------------------------------------------------------------------------------------------------+\n",
            "only showing top 100 rows\n",
            "\n"
          ]
        }
      ]
    },
    {
      "cell_type": "markdown",
      "source": [
        "A consulta da coluna característica mostra que algumas listas atribuídas estão vazias. A tratativa para este caso, é convertê-las para `null`:"
      ],
      "metadata": {
        "id": "_eYeJKDqDYrr"
      }
    },
    {
      "cell_type": "code",
      "source": [
        "data = data.withColumn('caracteristicas', f.when((f.size(f.col('caracteristicas')) == 0), f.lit(None)).otherwise(f.col('caracteristicas')))"
      ],
      "metadata": {
        "id": "O0ZzV132wB_b"
      },
      "execution_count": 83,
      "outputs": []
    },
    {
      "cell_type": "code",
      "source": [
        "data.show()"
      ],
      "metadata": {
        "colab": {
          "base_uri": "https://localhost:8080/"
        },
        "id": "8YUyyY1OdAbz",
        "outputId": "0902a5dd-a91a-4093-f6a1-d9c1c2708336"
      },
      "execution_count": 84,
      "outputs": [
        {
          "output_type": "stream",
          "name": "stdout",
          "text": [
            "+--------------------+-----+---------+---------+--------------------+-------+------+----+--------------------+----------+----------+-------+---------+\n",
            "|                  id|andar|area_util|banheiros|     caracteristicas|quartos|suites|vaga|              bairro|      zona|condominio|   iptu|    valor|\n",
            "+--------------------+-----+---------+---------+--------------------+-------+------+----+--------------------+----------+----------+-------+---------+\n",
            "|00790b85-56e3-43a...|   11|    166.0|        5|[Academia, Churra...|      4|     4|   2|         Jacarepaguá|Zona Oeste|    2100.0| 4600.0|1750000.0|\n",
            "|007f8099-8e1d-45f...|    4|    640.0|        5|[Animais permitid...|     11|     3|null|                Urca|  Zona Sul|    3060.0|20030.0|3800000.0|\n",
            "|00b23c6d-0e9d-4be...|    1|     50.0|        1|[Academia, Churra...|      2|     0|   1|     Parada de Lucas|Zona Norte|     363.0|   97.0| 192000.0|\n",
            "|012aebd7-278f-4b4...|    0|    160.0|        4|          [Elevador]|      3|     1|   3|             Ipanema|  Zona Sul|    1530.0| 7440.0|3490000.0|\n",
            "|0267dcdb-7705-44a...|    0|     52.0|        1|[Churrasqueira, P...|      2|     1|   1|           Pechincha|Zona Oeste|      null|   null| 440000.0|\n",
            "|02ad9d93-7b89-46b...|    0|    219.0|        4|[Elevador, Academ...|      4|     2|   3|     Barra da Tijuca|Zona Oeste|    2800.0| 5855.0|2300000.0|\n",
            "|02ef01fe-9333-40f...|    0|     75.0|        2|[Academia, Condom...|      3|     1|   1|            Botafogo|  Zona Sul|      10.0|   10.0|1345000.0|\n",
            "|04171318-00f9-430...|    0|     82.0|        2|[Academia, Churra...|      3|     1|   1|Recreio dos Bande...|Zona Oeste|     870.0| 1900.0| 484999.0|\n",
            "|04a03e35-1a8b-4fc...|    0|    187.0|        5|[Condomínio fecha...|      4|     2|   3|     Barra da Tijuca|Zona Oeste|    2600.0| 5800.0|1950000.0|\n",
            "|04a8d9c5-daca-44f...|    8|    132.0|        3|[Academia, Churra...|      4|     2|   2|         Jacarepaguá|Zona Oeste|       1.0|    1.0|1330000.0|\n",
            "|058e6011-b830-455...|   11|    153.0|        4|                null|      3|     2|   2|               Gávea|  Zona Sul|    2200.0|  350.0|3100000.0|\n",
            "|05beb775-9afa-428...|    2|     80.0|        1|[Academia, Elevad...|      3|     0|   1|          Copacabana|  Zona Sul|     940.0|  160.0| 749000.0|\n",
            "|067673ae-4b0f-444...|    0|    148.0|        3|   [Salão de festas]|      3|     1|   1|          Copacabana|  Zona Sul|    1500.0| 3800.0|1100000.0|\n",
            "|07bd5c4a-e06d-4da...|    0|     52.0|        1|[Condomínio fecha...|      2|  null|   1|         Jacarepaguá|Zona Oeste|     500.0|  300.0| 270000.0|\n",
            "|07d28395-2a02-485...|    0|    121.0|        2|           [Piscina]|      4|     1|   2|     Barra da Tijuca|Zona Oeste|    1460.0|   null|1150000.0|\n",
            "|08f243b2-ff9f-447...|    0|    160.0|        6|[Academia, Churra...|      4|     4|   2|     Barra da Tijuca|Zona Oeste|    1920.0| 5000.0|1423000.0|\n",
            "|09a73a8c-7314-4dd...|    0|    214.0|        4|[Condomínio fecha...|      4|     3|   2|            Botafogo|  Zona Sul|    1600.0|   10.0|3160000.0|\n",
            "|09afc288-5ca7-40b...|    9|    102.0|        3|[Academia, Churra...|      3|     2|   1|              Tijuca|Zona Norte|    1000.0|   96.0|1120000.0|\n",
            "|0a34687d-4c41-41b...|    2|    266.0|        4|[Academia, Churra...|      4|  null|   2|     Barra da Tijuca|Zona Oeste|    6000.0|    0.0|4955300.0|\n",
            "|0a35241d-3051-40c...|    0|     65.0|        2|[Academia, Churra...|      2|     1|   1|Recreio dos Bande...|Zona Oeste|     900.0|    0.0| 615000.0|\n",
            "+--------------------+-----+---------+---------+--------------------+-------+------+----+--------------------+----------+----------+-------+---------+\n",
            "only showing top 20 rows\n",
            "\n"
          ]
        }
      ]
    },
    {
      "cell_type": "markdown",
      "source": [
        "## e. Tratamento dos dados faltantes"
      ],
      "metadata": {
        "id": "77eTRePOf099"
      }
    },
    {
      "cell_type": "markdown",
      "source": [
        "Como os modelos de ML não lidam bem com dados faltantes, analisa-se onde e o quanto eles estão alocados nas colunas:"
      ],
      "metadata": {
        "id": "5xnniVEzgorg"
      }
    },
    {
      "cell_type": "code",
      "source": [
        "data\\\n",
        "    .select([f.count(f.when(data[c].isNull(), True)).alias(c) for c in data.columns])\\\n",
        "    .show()"
      ],
      "metadata": {
        "colab": {
          "base_uri": "https://localhost:8080/"
        },
        "id": "Fblmg_GQdta9",
        "outputId": "568adb7a-01a7-4b25-9b45-8a508daf09c4"
      },
      "execution_count": 85,
      "outputs": [
        {
          "output_type": "stream",
          "name": "stdout",
          "text": [
            "+---+-----+---------+---------+---------------+-------+------+----+------+----+----------+----+-----+\n",
            "| id|andar|area_util|banheiros|caracteristicas|quartos|suites|vaga|bairro|zona|condominio|iptu|valor|\n",
            "+---+-----+---------+---------+---------------+-------+------+----+------+----+----------+----+-----+\n",
            "|  0|    0|        0|        0|          12736|      0|  5554|3017|     0|   0|      2371|7199|    0|\n",
            "+---+-----+---------+---------+---------------+-------+------+----+------+----+----------+----+-----+\n",
            "\n"
          ]
        }
      ]
    },
    {
      "cell_type": "code",
      "source": [
        "data.printSchema()"
      ],
      "metadata": {
        "colab": {
          "base_uri": "https://localhost:8080/"
        },
        "id": "Kr45T2K8hLMz",
        "outputId": "1c8e282e-c4ea-4b70-b908-4fd3ab89a33c"
      },
      "execution_count": 86,
      "outputs": [
        {
          "output_type": "stream",
          "name": "stdout",
          "text": [
            "root\n",
            " |-- id: string (nullable = true)\n",
            " |-- andar: integer (nullable = true)\n",
            " |-- area_util: double (nullable = true)\n",
            " |-- banheiros: integer (nullable = true)\n",
            " |-- caracteristicas: array (nullable = true)\n",
            " |    |-- element: string (containsNull = true)\n",
            " |-- quartos: integer (nullable = true)\n",
            " |-- suites: integer (nullable = true)\n",
            " |-- vaga: integer (nullable = true)\n",
            " |-- bairro: string (nullable = true)\n",
            " |-- zona: string (nullable = true)\n",
            " |-- condominio: double (nullable = true)\n",
            " |-- iptu: double (nullable = true)\n",
            " |-- valor: double (nullable = true)\n",
            "\n"
          ]
        }
      ]
    },
    {
      "cell_type": "markdown",
      "source": [
        "Para os dados numéricos, trocam-se os valores nulos pelo número zero:"
      ],
      "metadata": {
        "id": "0J-G_IFUhV1n"
      }
    },
    {
      "cell_type": "code",
      "source": [
        "data = data\\\n",
        "    .select('*')\\\n",
        "    .na\\\n",
        "    .fill(0)"
      ],
      "metadata": {
        "id": "2rzHTOfEhUJ-"
      },
      "execution_count": 87,
      "outputs": []
    },
    {
      "cell_type": "code",
      "source": [
        "data.show()"
      ],
      "metadata": {
        "colab": {
          "base_uri": "https://localhost:8080/"
        },
        "id": "GIQVSJ-ihqaM",
        "outputId": "a152e4b9-f522-4158-feab-fa0cc21ad676"
      },
      "execution_count": 88,
      "outputs": [
        {
          "output_type": "stream",
          "name": "stdout",
          "text": [
            "+--------------------+-----+---------+---------+--------------------+-------+------+----+--------------------+----------+----------+-------+---------+\n",
            "|                  id|andar|area_util|banheiros|     caracteristicas|quartos|suites|vaga|              bairro|      zona|condominio|   iptu|    valor|\n",
            "+--------------------+-----+---------+---------+--------------------+-------+------+----+--------------------+----------+----------+-------+---------+\n",
            "|00790b85-56e3-43a...|   11|    166.0|        5|[Academia, Churra...|      4|     4|   2|         Jacarepaguá|Zona Oeste|    2100.0| 4600.0|1750000.0|\n",
            "|007f8099-8e1d-45f...|    4|    640.0|        5|[Animais permitid...|     11|     3|   0|                Urca|  Zona Sul|    3060.0|20030.0|3800000.0|\n",
            "|00b23c6d-0e9d-4be...|    1|     50.0|        1|[Academia, Churra...|      2|     0|   1|     Parada de Lucas|Zona Norte|     363.0|   97.0| 192000.0|\n",
            "|012aebd7-278f-4b4...|    0|    160.0|        4|          [Elevador]|      3|     1|   3|             Ipanema|  Zona Sul|    1530.0| 7440.0|3490000.0|\n",
            "|0267dcdb-7705-44a...|    0|     52.0|        1|[Churrasqueira, P...|      2|     1|   1|           Pechincha|Zona Oeste|       0.0|    0.0| 440000.0|\n",
            "|02ad9d93-7b89-46b...|    0|    219.0|        4|[Elevador, Academ...|      4|     2|   3|     Barra da Tijuca|Zona Oeste|    2800.0| 5855.0|2300000.0|\n",
            "|02ef01fe-9333-40f...|    0|     75.0|        2|[Academia, Condom...|      3|     1|   1|            Botafogo|  Zona Sul|      10.0|   10.0|1345000.0|\n",
            "|04171318-00f9-430...|    0|     82.0|        2|[Academia, Churra...|      3|     1|   1|Recreio dos Bande...|Zona Oeste|     870.0| 1900.0| 484999.0|\n",
            "|04a03e35-1a8b-4fc...|    0|    187.0|        5|[Condomínio fecha...|      4|     2|   3|     Barra da Tijuca|Zona Oeste|    2600.0| 5800.0|1950000.0|\n",
            "|04a8d9c5-daca-44f...|    8|    132.0|        3|[Academia, Churra...|      4|     2|   2|         Jacarepaguá|Zona Oeste|       1.0|    1.0|1330000.0|\n",
            "|058e6011-b830-455...|   11|    153.0|        4|                null|      3|     2|   2|               Gávea|  Zona Sul|    2200.0|  350.0|3100000.0|\n",
            "|05beb775-9afa-428...|    2|     80.0|        1|[Academia, Elevad...|      3|     0|   1|          Copacabana|  Zona Sul|     940.0|  160.0| 749000.0|\n",
            "|067673ae-4b0f-444...|    0|    148.0|        3|   [Salão de festas]|      3|     1|   1|          Copacabana|  Zona Sul|    1500.0| 3800.0|1100000.0|\n",
            "|07bd5c4a-e06d-4da...|    0|     52.0|        1|[Condomínio fecha...|      2|     0|   1|         Jacarepaguá|Zona Oeste|     500.0|  300.0| 270000.0|\n",
            "|07d28395-2a02-485...|    0|    121.0|        2|           [Piscina]|      4|     1|   2|     Barra da Tijuca|Zona Oeste|    1460.0|    0.0|1150000.0|\n",
            "|08f243b2-ff9f-447...|    0|    160.0|        6|[Academia, Churra...|      4|     4|   2|     Barra da Tijuca|Zona Oeste|    1920.0| 5000.0|1423000.0|\n",
            "|09a73a8c-7314-4dd...|    0|    214.0|        4|[Condomínio fecha...|      4|     3|   2|            Botafogo|  Zona Sul|    1600.0|   10.0|3160000.0|\n",
            "|09afc288-5ca7-40b...|    9|    102.0|        3|[Academia, Churra...|      3|     2|   1|              Tijuca|Zona Norte|    1000.0|   96.0|1120000.0|\n",
            "|0a34687d-4c41-41b...|    2|    266.0|        4|[Academia, Churra...|      4|     0|   2|     Barra da Tijuca|Zona Oeste|    6000.0|    0.0|4955300.0|\n",
            "|0a35241d-3051-40c...|    0|     65.0|        2|[Academia, Churra...|      2|     1|   1|Recreio dos Bande...|Zona Oeste|     900.0|    0.0| 615000.0|\n",
            "+--------------------+-----+---------+---------+--------------------+-------+------+----+--------------------+----------+----------+-------+---------+\n",
            "only showing top 20 rows\n",
            "\n"
          ]
        }
      ]
    },
    {
      "cell_type": "markdown",
      "source": [
        "Em seguida, analisa-se a coluna não numérica `zona`:"
      ],
      "metadata": {
        "id": "hbeTaVxUiMPV"
      }
    },
    {
      "cell_type": "code",
      "source": [
        "data\\\n",
        "    .select('zona')\\\n",
        "    .groupBy('zona')\\\n",
        "    .count()\\\n",
        "    .show()"
      ],
      "metadata": {
        "colab": {
          "base_uri": "https://localhost:8080/"
        },
        "id": "J-lh899lhrnW",
        "outputId": "2004e1df-6c33-4a89-9b17-d9ad4d49d1de"
      },
      "execution_count": 89,
      "outputs": [
        {
          "output_type": "stream",
          "name": "stdout",
          "text": [
            "+------------+-----+\n",
            "|        zona|count|\n",
            "+------------+-----+\n",
            "|  Zona Norte|11897|\n",
            "|  Zona Oeste|32979|\n",
            "|Zona Central| 1144|\n",
            "|    Zona Sul|20531|\n",
            "|            |   11|\n",
            "+------------+-----+\n",
            "\n"
          ]
        }
      ]
    },
    {
      "cell_type": "markdown",
      "source": [
        "Os 11 valores que possuem como zona uma string vazia, podem ser desconsiderados:"
      ],
      "metadata": {
        "id": "j5DZmFEZis5s"
      }
    },
    {
      "cell_type": "code",
      "source": [
        "data = data.filter(f.col('zona') != '')"
      ],
      "metadata": {
        "id": "kquhgqAVilsm"
      },
      "execution_count": 90,
      "outputs": []
    },
    {
      "cell_type": "code",
      "source": [
        "data\\\n",
        "    .select('zona')\\\n",
        "    .groupBy('zona')\\\n",
        "    .count()\\\n",
        "    .show()"
      ],
      "metadata": {
        "colab": {
          "base_uri": "https://localhost:8080/"
        },
        "id": "KL26Wy32jFRd",
        "outputId": "e74567b7-d4fd-499a-afcf-d7d6bc0157a5"
      },
      "execution_count": 91,
      "outputs": [
        {
          "output_type": "stream",
          "name": "stdout",
          "text": [
            "+------------+-----+\n",
            "|        zona|count|\n",
            "+------------+-----+\n",
            "|  Zona Norte|11897|\n",
            "|  Zona Oeste|32979|\n",
            "|Zona Central| 1144|\n",
            "|    Zona Sul|20531|\n",
            "+------------+-----+\n",
            "\n"
          ]
        }
      ]
    },
    {
      "cell_type": "markdown",
      "source": [
        "# Preparação dos dados para o modelo de ML"
      ],
      "metadata": {
        "id": "ceE_viNfj6JT"
      }
    },
    {
      "cell_type": "markdown",
      "source": [
        "## a. Variáveis dummy"
      ],
      "metadata": {
        "id": "8tCmJ56gsaY0"
      }
    },
    {
      "cell_type": "markdown",
      "source": [
        "As variáveis categóricas serão transformadas em variáveis binárias. Isto é, se a variável tem uma categoria atribuída, ela receberá 1, caso o contrário, receberá 0.\n",
        "\n",
        "Antes, deve-se desmembrar o conjunto `características` em outro dataset e o de `zona` também."
      ],
      "metadata": {
        "id": "fBMxEbETsaY1"
      }
    },
    {
      "cell_type": "markdown",
      "source": [
        "Desmembrando a coluna `caracteristicas` em outro dataset:"
      ],
      "metadata": {
        "id": "j4yOjWtJll5k"
      }
    },
    {
      "cell_type": "code",
      "source": [
        "data\\\n",
        "    .select(\"*\", f.explode(\"caracteristicas\").alias(\"cara\"))\\\n",
        "    .groupBy(\"id\")\\\n",
        "    .pivot('cara')\\\n",
        "    .agg(f.lit(1))\\\n",
        "    .na\\\n",
        "    .fill(0)\\\n",
        "    .show(truncate=False)"
      ],
      "metadata": {
        "colab": {
          "base_uri": "https://localhost:8080/"
        },
        "id": "kOpU73lAmBvv",
        "outputId": "46ebbc1d-175d-448b-d677-d21eb8874ce4"
      },
      "execution_count": 99,
      "outputs": [
        {
          "output_type": "stream",
          "name": "stdout",
          "text": [
            "+------------------------------------+--------+------------------+-------------+------------------+--------+-------+----------+------------+-----------------+---------------+\n",
            "|id                                  |Academia|Animais permitidos|Churrasqueira|Condomínio fechado|Elevador|Piscina|Playground|Portaria 24h|Portão eletrônico|Salão de festas|\n",
            "+------------------------------------+--------+------------------+-------------+------------------+--------+-------+----------+------------+-----------------+---------------+\n",
            "|1bbc40f3-4f5c-4595-99b1-56ef42a54ede|1       |0                 |0            |1                 |1       |1      |1         |1           |1                |1              |\n",
            "|afecddff-f4cc-4ab8-bdbf-242b7dff7241|1       |1                 |1            |1                 |1       |1      |1         |1           |1                |1              |\n",
            "|bfffedfe-99e7-4aed-9a9f-f766225a0f1f|0       |1                 |1            |1                 |1       |0      |1         |0           |1                |1              |\n",
            "|fcb67af3-5601-415f-9d1f-75280923a4e3|1       |1                 |1            |0                 |0       |1      |1         |0           |0                |1              |\n",
            "|fd96bbd5-d631-416a-9f84-29091cefe14c|1       |1                 |1            |1                 |1       |1      |1         |1           |1                |1              |\n",
            "|07cbfef2-efbf-4e89-a023-db65e76cc820|0       |1                 |0            |0                 |1       |0      |0         |1           |0                |0              |\n",
            "|10e9d118-dbad-43c3-879d-6def0d60f8ed|0       |1                 |1            |1                 |0       |1      |1         |1           |1                |1              |\n",
            "|156a1fa5-37ca-43db-8448-df4a35f45496|1       |0                 |1            |1                 |1       |1      |1         |1           |1                |1              |\n",
            "|3030d17c-5681-4b2f-b333-3e363a92ddda|1       |1                 |1            |1                 |1       |1      |0         |1           |1                |1              |\n",
            "|6179c8a4-1fd2-4f54-a91d-68d1ba80dd26|1       |1                 |0            |1                 |1       |1      |1         |1           |1                |1              |\n",
            "|62baf185-103d-4489-956a-d2cc707a66cd|1       |0                 |1            |1                 |0       |1      |1         |0           |0                |0              |\n",
            "|631efda0-5e10-422c-990a-f6c47f6ec4c7|1       |1                 |1            |1                 |1       |1      |1         |1           |1                |1              |\n",
            "|ca1e84d7-86c8-4b1e-aa5a-db99c8c9d0d3|1       |0                 |1            |1                 |1       |1      |1         |1           |1                |1              |\n",
            "|d9e139a5-e85d-4e1b-b77f-1b120d146fb3|1       |1                 |1            |1                 |1       |1      |1         |1           |1                |1              |\n",
            "|e7be09eb-6223-4b41-b255-30a5f7d67771|1       |1                 |1            |1                 |1       |1      |1         |1           |1                |1              |\n",
            "|fd26aeb2-a7b3-4f80-97ed-fe3eb928c123|1       |1                 |1            |1                 |1       |1      |1         |1           |1                |1              |\n",
            "|107507e0-f075-47e1-9002-b2dcc85503e9|0       |1                 |1            |1                 |1       |0      |0         |0           |1                |0              |\n",
            "|2abfa092-e52e-4121-94d0-3bc52d79b0f9|1       |1                 |1            |1                 |1       |1      |1         |1           |1                |1              |\n",
            "|3b2c3a52-cf59-47f7-b86b-b35671827e33|0       |0                 |0            |0                 |1       |0      |0         |0           |1                |0              |\n",
            "|6a4ce9ac-1eb0-4d4b-9a65-5e6d842777bf|1       |0                 |1            |0                 |1       |1      |1         |0           |0                |1              |\n",
            "+------------------------------------+--------+------------------+-------------+------------------+--------+-------+----------+------------+-----------------+---------------+\n",
            "only showing top 20 rows\n",
            "\n"
          ]
        }
      ]
    },
    {
      "cell_type": "code",
      "source": [
        "caracteristicas = data\\\n",
        "    .select('*', f.explode('caracteristicas').alias('cara'))\\\n",
        "    .groupby('id')\\\n",
        "    .pivot('cara')\\\n",
        "    .agg(f.lit(1))\\\n",
        "    .na\\\n",
        "    .fill(0)"
      ],
      "metadata": {
        "id": "J4AxlOoVllWU"
      },
      "execution_count": 102,
      "outputs": []
    },
    {
      "cell_type": "code",
      "source": [
        "caracteristicas.show(5)"
      ],
      "metadata": {
        "colab": {
          "base_uri": "https://localhost:8080/"
        },
        "id": "OfhrBMdFqyAm",
        "outputId": "d3f24e8e-c601-4ec2-ea06-07357e78d284"
      },
      "execution_count": 103,
      "outputs": [
        {
          "output_type": "stream",
          "name": "stdout",
          "text": [
            "+--------------------+--------+------------------+-------------+------------------+--------+-------+----------+------------+-----------------+---------------+\n",
            "|                  id|Academia|Animais permitidos|Churrasqueira|Condomínio fechado|Elevador|Piscina|Playground|Portaria 24h|Portão eletrônico|Salão de festas|\n",
            "+--------------------+--------+------------------+-------------+------------------+--------+-------+----------+------------+-----------------+---------------+\n",
            "|1bbc40f3-4f5c-459...|       1|                 0|            0|                 1|       1|      1|         1|           1|                1|              1|\n",
            "|afecddff-f4cc-4ab...|       1|                 1|            1|                 1|       1|      1|         1|           1|                1|              1|\n",
            "|bfffedfe-99e7-4ae...|       0|                 1|            1|                 1|       1|      0|         1|           0|                1|              1|\n",
            "|fcb67af3-5601-415...|       1|                 1|            1|                 0|       0|      1|         1|           0|                0|              1|\n",
            "|fd96bbd5-d631-416...|       1|                 1|            1|                 1|       1|      1|         1|           1|                1|              1|\n",
            "+--------------------+--------+------------------+-------------+------------------+--------+-------+----------+------------+-----------------+---------------+\n",
            "only showing top 5 rows\n",
            "\n"
          ]
        }
      ]
    },
    {
      "cell_type": "code",
      "source": [
        "zona = data\\\n",
        "    .groupby('id')\\\n",
        "    .pivot('zona')\\\n",
        "    .agg(f.lit(1))\\\n",
        "    .na\\\n",
        "    .fill(0)"
      ],
      "metadata": {
        "id": "nz4i3gJRrPaT"
      },
      "execution_count": 104,
      "outputs": []
    },
    {
      "cell_type": "code",
      "source": [
        "zona.show(5)"
      ],
      "metadata": {
        "colab": {
          "base_uri": "https://localhost:8080/"
        },
        "id": "DEytDxJZraFz",
        "outputId": "60375873-4719-41f2-d0f3-a1cf464e75e8"
      },
      "execution_count": 105,
      "outputs": [
        {
          "output_type": "stream",
          "name": "stdout",
          "text": [
            "+--------------------+------------+----------+----------+--------+\n",
            "|                  id|Zona Central|Zona Norte|Zona Oeste|Zona Sul|\n",
            "+--------------------+------------+----------+----------+--------+\n",
            "|4e47e4d4-3326-4eb...|           0|         0|         0|       1|\n",
            "|02fba6ef-a691-442...|           0|         0|         1|       0|\n",
            "|3dd5d200-0a7f-43d...|           0|         0|         0|       1|\n",
            "|82707939-71bd-40c...|           0|         0|         0|       1|\n",
            "|fc03c1a9-8bbb-41a...|           0|         1|         0|       0|\n",
            "+--------------------+------------+----------+----------+--------+\n",
            "only showing top 5 rows\n",
            "\n"
          ]
        }
      ]
    },
    {
      "cell_type": "markdown",
      "source": [],
      "metadata": {
        "id": "cvAhEMhvsOVh"
      }
    },
    {
      "cell_type": "markdown",
      "source": [
        "## b. Montando o conjunto de dados completo"
      ],
      "metadata": {
        "id": "8VK26GEnkLWn"
      }
    },
    {
      "cell_type": "code",
      "source": [
        "cont_rows_original = data.count()"
      ],
      "metadata": {
        "id": "N-oiEJI0kQ_5"
      },
      "execution_count": 106,
      "outputs": []
    },
    {
      "cell_type": "code",
      "source": [
        "data = data\\\n",
        "    .join(zona, 'id', how='inner')\\\n",
        "    .join(caracteristicas, 'id', how='left')\\\n",
        "    .drop('zona','cara','caracteristicas')\\\n",
        "    .na\\\n",
        "    .fill(0)"
      ],
      "metadata": {
        "id": "ClIEj2lZtrmN"
      },
      "execution_count": 107,
      "outputs": []
    },
    {
      "cell_type": "markdown",
      "source": [
        "Validando se os joins realizados não comprometerão a quantidade de linhas da base original:"
      ],
      "metadata": {
        "id": "Ezy9KUIcuHNE"
      }
    },
    {
      "cell_type": "code",
      "source": [
        "print(f'#linhas antes: {cont_rows_original}')\n",
        "print(f'#linhas depois: {data.count()}')\n",
        "print(f'#linhas perdidas: {cont_rows_original - data.count()}')"
      ],
      "metadata": {
        "colab": {
          "base_uri": "https://localhost:8080/"
        },
        "id": "tambWP0kuFiN",
        "outputId": "bf8411bb-a084-45f4-8677-cffa3ebc82c1"
      },
      "execution_count": 108,
      "outputs": [
        {
          "output_type": "stream",
          "name": "stdout",
          "text": [
            "#linhas antes: 66551\n",
            "#linhas depois: 66551\n",
            "#linhas perdidas: 0\n"
          ]
        }
      ]
    },
    {
      "cell_type": "code",
      "source": [
        "data.show(5)"
      ],
      "metadata": {
        "colab": {
          "base_uri": "https://localhost:8080/"
        },
        "id": "bEsTwljausyt",
        "outputId": "3730e24b-5248-4c46-8224-9a3132257549"
      },
      "execution_count": 109,
      "outputs": [
        {
          "output_type": "stream",
          "name": "stdout",
          "text": [
            "+--------------------+-----+---------+---------+-------+------+----+---------------+----------+-------+---------+------------+----------+----------+--------+--------+------------------+-------------+------------------+--------+-------+----------+------------+-----------------+---------------+\n",
            "|                  id|andar|area_util|banheiros|quartos|suites|vaga|         bairro|condominio|   iptu|    valor|Zona Central|Zona Norte|Zona Oeste|Zona Sul|Academia|Animais permitidos|Churrasqueira|Condomínio fechado|Elevador|Piscina|Playground|Portaria 24h|Portão eletrônico|Salão de festas|\n",
            "+--------------------+-----+---------+---------+-------+------+----+---------------+----------+-------+---------+------------+----------+----------+--------+--------+------------------+-------------+------------------+--------+-------+----------+------------+-----------------+---------------+\n",
            "|00790b85-56e3-43a...|   11|    166.0|        5|      4|     4|   2|    Jacarepaguá|    2100.0| 4600.0|1750000.0|           0|         0|         1|       0|       1|                 1|            1|                 1|       1|      1|         1|           1|                1|              1|\n",
            "|007f8099-8e1d-45f...|    4|    640.0|        5|     11|     3|   0|           Urca|    3060.0|20030.0|3800000.0|           0|         0|         0|       1|       0|                 1|            0|                 0|       0|      0|         0|           0|                1|              0|\n",
            "|00b23c6d-0e9d-4be...|    1|     50.0|        1|      2|     0|   1|Parada de Lucas|     363.0|   97.0| 192000.0|           0|         1|         0|       0|       1|                 1|            1|                 1|       0|      1|         1|           1|                0|              1|\n",
            "|012aebd7-278f-4b4...|    0|    160.0|        4|      3|     1|   3|        Ipanema|    1530.0| 7440.0|3490000.0|           0|         0|         0|       1|       0|                 0|            0|                 0|       1|      0|         0|           0|                0|              0|\n",
            "|0267dcdb-7705-44a...|    0|     52.0|        1|      2|     1|   1|      Pechincha|       0.0|    0.0| 440000.0|           0|         0|         1|       0|       0|                 0|            1|                 0|       0|      1|         1|           0|                0|              1|\n",
            "+--------------------+-----+---------+---------+-------+------+----+---------------+----------+-------+---------+------------+----------+----------+--------+--------+------------------+-------------+------------------+--------+-------+----------+------------+-----------------+---------------+\n",
            "only showing top 5 rows\n",
            "\n"
          ]
        }
      ]
    },
    {
      "cell_type": "code",
      "source": [
        "data.filter(f.col('id')==\"be269ddf-a4a3-4a72-bd54-93cdccf512dd\").show(5)"
      ],
      "metadata": {
        "colab": {
          "base_uri": "https://localhost:8080/"
        },
        "id": "3sST4RwJwJMW",
        "outputId": "6aedbf4c-37fc-4fba-9acd-5aade887fbd9"
      },
      "execution_count": 111,
      "outputs": [
        {
          "output_type": "stream",
          "name": "stdout",
          "text": [
            "+--------------------+-----+---------+---------+-------+------+----+------------+----------+----+--------+------------+----------+----------+--------+--------+------------------+-------------+------------------+--------+-------+----------+------------+-----------------+---------------+\n",
            "|                  id|andar|area_util|banheiros|quartos|suites|vaga|      bairro|condominio|iptu|   valor|Zona Central|Zona Norte|Zona Oeste|Zona Sul|Academia|Animais permitidos|Churrasqueira|Condomínio fechado|Elevador|Piscina|Playground|Portaria 24h|Portão eletrônico|Salão de festas|\n",
            "+--------------------+-----+---------+---------+-------+------+----+------------+----------+----+--------+------------+----------+----------+--------+--------+------------------+-------------+------------------+--------+-------+----------+------------+-----------------+---------------+\n",
            "|be269ddf-a4a3-4a7...|    0|     45.0|        1|      2|     0|   1|Campo Grande|     356.0| 0.0|140000.0|           0|         0|         1|       0|       0|                 0|            1|                 1|       0|      1|         0|           0|                0|              0|\n",
            "+--------------------+-----+---------+---------+-------+------+----+------------+----------+----+--------+------------+----------+----------+--------+--------+------------------+-------------+------------------+--------+-------+----------+------------+-----------------+---------------+\n",
            "\n"
          ]
        }
      ]
    },
    {
      "cell_type": "markdown",
      "source": [
        "# Disponibilização do dataset em PARQUET"
      ],
      "metadata": {
        "id": "h2f3BT_rzuPx"
      }
    },
    {
      "cell_type": "code",
      "source": [
        "data = data\\\n",
        "    .withColumnRenamed('Zona Central','zona_central')\\\n",
        "    .withColumnRenamed('Zona Norte','zona_norte')\\\n",
        "    .withColumnRenamed('Zona Oeste','zona_oeste')\\\n",
        "    .withColumnRenamed('Zona Sul','zona_sul')\\\n",
        "    .withColumnRenamed('Animais Permitidos','animais_permitidos')\\\n",
        "    .withColumnRenamed('Portaria 24h','portaria_24h')\\\n",
        "    .withColumnRenamed('Salão de festas','salao_de_festas')\\\n",
        "    .withColumnRenamed('Condomínio fechado','condominio_fechado')\\\n",
        "    .withColumnRenamed('Portão eletrônico','portao_eletronico')"
      ],
      "metadata": {
        "id": "yuKyiCFL2pNj"
      },
      "execution_count": 123,
      "outputs": []
    },
    {
      "cell_type": "code",
      "source": [
        "data.write.parquet('/content/drive/MyDrive/Colab Notebooks/projeto_data_science_imobni/dataset_ml_regressao')"
      ],
      "metadata": {
        "id": "3Z9zDPwwz15B"
      },
      "execution_count": 124,
      "outputs": []
    },
    {
      "cell_type": "markdown",
      "source": [
        "# Extra"
      ],
      "metadata": {
        "id": "M5TFwU8r5Obd"
      }
    },
    {
      "cell_type": "markdown",
      "source": [
        "## a. Análise de correlação"
      ],
      "metadata": {
        "id": "MGqTYtBc5W0W"
      }
    },
    {
      "cell_type": "markdown",
      "source": [
        "Com o intuito de detectar a redundância entre as variáveis, realiza-se a análise da **correlação** entre as variáveis numéricas da base:"
      ],
      "metadata": {
        "id": "qzVG8a5E5kRZ"
      }
    },
    {
      "cell_type": "code",
      "source": [
        "from pyspark.ml.stat import Correlation"
      ],
      "metadata": {
        "id": "otc1KIB45dch"
      },
      "execution_count": 125,
      "outputs": []
    },
    {
      "cell_type": "code",
      "source": [
        "lista_zona = ['zona_central','zona_norte','zona_oeste','zona_sul']\n",
        "\n",
        "lista_caracteristicas = ['condominio_fechado',\n",
        "                        'Playground',\n",
        "                        'portao_eletronico',\n",
        "                        'Piscina',\n",
        "                        'animais_permitidos',\n",
        "                        'portaria_24h',\n",
        "                        'Elevador',\n",
        "                        'Academia',\n",
        "                        'salao_de_festas',\n",
        "                        'Churrasqueira']"
      ],
      "metadata": {
        "id": "J1IaBYt-59UD"
      },
      "execution_count": 127,
      "outputs": []
    },
    {
      "cell_type": "code",
      "source": [
        "input_col_corr = [i for i in data.columns if i not in ['id', 'bairro'] + lista_zona + lista_caracteristicas]\n",
        "\n",
        "print(input_col_corr)"
      ],
      "metadata": {
        "colab": {
          "base_uri": "https://localhost:8080/"
        },
        "id": "IrtLCHS46izf",
        "outputId": "e0359493-c5cb-4175-cfb7-2a853a74e427"
      },
      "execution_count": 129,
      "outputs": [
        {
          "output_type": "stream",
          "name": "stdout",
          "text": [
            "['andar', 'area_util', 'banheiros', 'quartos', 'suites', 'vaga', 'condominio', 'iptu', 'valor']\n"
          ]
        }
      ]
    },
    {
      "cell_type": "code",
      "source": [
        "from pyspark.ml.feature import VectorAssembler"
      ],
      "metadata": {
        "id": "fJXKK7de6x6E"
      },
      "execution_count": 131,
      "outputs": []
    },
    {
      "cell_type": "code",
      "source": [
        "assembler = VectorAssembler(inputCols=input_col_corr,outputCol='features')"
      ],
      "metadata": {
        "id": "n-9uBfsO7FsE"
      },
      "execution_count": 132,
      "outputs": []
    },
    {
      "cell_type": "code",
      "source": [
        "df = assembler.transform(data).select('features')"
      ],
      "metadata": {
        "id": "mVW55P-U7RHs"
      },
      "execution_count": 133,
      "outputs": []
    },
    {
      "cell_type": "code",
      "source": [
        "correlacao = Correlation.corr(df, 'features','pearson').collect()[0][0]"
      ],
      "metadata": {
        "id": "8n2kivEW9JRk"
      },
      "execution_count": 134,
      "outputs": []
    },
    {
      "cell_type": "code",
      "source": [
        "rows = correlacao.toArray().tolist()\n",
        "df = spark.createDataFrame(rows,input_col_corr)\n",
        "\n",
        "df.show(5)"
      ],
      "metadata": {
        "colab": {
          "base_uri": "https://localhost:8080/"
        },
        "id": "kHeVdifj9WXt",
        "outputId": "29900659-bd3b-4566-9bbb-77d42006d640"
      },
      "execution_count": 136,
      "outputs": [
        {
          "output_type": "stream",
          "name": "stdout",
          "text": [
            "+--------------------+--------------------+-------------------+-------------------+--------------------+--------------------+--------------------+--------------------+--------------------+\n",
            "|               andar|           area_util|          banheiros|            quartos|              suites|                vaga|          condominio|                iptu|               valor|\n",
            "+--------------------+--------------------+-------------------+-------------------+--------------------+--------------------+--------------------+--------------------+--------------------+\n",
            "|                 1.0|0.020674885718290365|0.01757715331670837|0.01008345278433918|0.024274113790925932|0.018271843474796625|0.006617930248883...|3.810955786364057...|0.016145590401859373|\n",
            "|0.020674885718290365|                 1.0| 0.6710305514514978| 0.6740755967299021|  0.6201287358480546|  0.4719284382321347|0.045676565706072016|0.021337139034350524|  0.7586357636188664|\n",
            "| 0.01757715331670837|  0.6710305514514978|                1.0| 0.6490253601517088|  0.7398380483026235|  0.4450585140921761|0.027186703575109068| 0.01393440561543921|  0.5750107985373965|\n",
            "| 0.01008345278433918|  0.6740755967299021| 0.6490253601517088|                1.0|  0.5799251460932825| 0.43044160283005484|0.021652594286620294|0.017249962452912174|  0.5305709093076326|\n",
            "|0.024274113790925932|  0.6201287358480546| 0.7398380483026235| 0.5799251460932825|                 1.0| 0.45818387437915953|0.029063364640751016|0.011828513398197996|  0.5834392308805729|\n",
            "+--------------------+--------------------+-------------------+-------------------+--------------------+--------------------+--------------------+--------------------+--------------------+\n",
            "only showing top 5 rows\n",
            "\n"
          ]
        }
      ]
    },
    {
      "cell_type": "code",
      "source": [
        "import numpy as np\n",
        "import matplotlib.pyplot as plt\n",
        "import seaborn as sns\n",
        "\n",
        "corr = df.toPandas().set_index([input_col_corr])\n",
        "mask = np.zeros_like(corr)\n",
        "mask[np.triu_indices_from(mask)] = True\n",
        "with sns.axes_style(\"white\"):\n",
        "    f, ax = plt.subplots(figsize=(12, 12))\n",
        "    ax = sns.heatmap(corr, mask=mask, fmt=\".2\",  annot=True, cbar=False, cmap='Oranges')\n",
        "    ax.tick_params(labelsize=14)\n",
        "    ax.set_title('Correlação entre variáveis', fontsize=20, loc='left', pad=20)"
      ],
      "metadata": {
        "colab": {
          "base_uri": "https://localhost:8080/",
          "height": 740
        },
        "id": "Rkr7405Z9fKG",
        "outputId": "58aca054-c59c-482f-9915-915e35c34332"
      },
      "execution_count": 137,
      "outputs": [
        {
          "output_type": "display_data",
          "data": {
            "text/plain": [
              "<Figure size 864x864 with 1 Axes>"
            ],
            "image/png": "[encoded data removed]"
          },
          "metadata": {}
        }
      ]
    }
  ]
}