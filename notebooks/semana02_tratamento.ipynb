{
  "nbformat": 4,
  "nbformat_minor": 0,
  "metadata": {
    "colab": {
      "provenance": [],
      "toc_visible": true,
      "authorship_tag": "ABX9TyPu2ep9tQKw6Orz4i9YRVce",
      "include_colab_link": true
    },
    "kernelspec": {
      "name": "python3",
      "display_name": "Python 3"
    },
    "language_info": {
      "name": "python"
    }
  },
  "cells": [
    {
      "cell_type": "markdown",
      "metadata": {
        "id": "view-in-github",
        "colab_type": "text"
      },
      "source": [
        "<a href=\"https://colab.research.google.com/github/edinaldoab/challenge_data_science_2/blob/main/notebooks/semana02_tratamento.ipynb\" target=\"_parent\"><img src=\"https://colab.research.google.com/assets/colab-badge.svg\" alt=\"Open In Colab\"/></a>"
      ]
    },
    {
      "cell_type": "markdown",
      "source": [
        "# Semana 2\n",
        "### Contextualização\n",
        "\n",
        "\n",
        "Aqui será empregado uma abordagem de **Ciências de Dados**! Toda a base tratada e disponibilizada no formato PARQUET será explorada e tratada para finalmente elencar e criar os modelos de Machine Learning.\n",
        "<br>\n",
        "<br>\n",
        "**Recordando: Na primeira semana do desafio, todos os esforços foram dedicados ao tratamento da base de dados bruta disponibilizada pelos desafiadores.**"
      ],
      "metadata": {
        "id": "sguyvI4v8vJ7"
      }
    },
    {
      "cell_type": "markdown",
      "source": [
        "# 1. Preparação do Ambiente"
      ],
      "metadata": {
        "id": "B5zbNtd08BcA"
      }
    },
    {
      "cell_type": "markdown",
      "source": [
        "## a. Instalação das dependências"
      ],
      "metadata": {
        "id": "ZgP_g3XXwcwm"
      }
    },
    {
      "cell_type": "code",
      "execution_count": 1,
      "metadata": {
        "id": "enbmM_NMUB9c"
      },
      "outputs": [],
      "source": [
        "!apt-get update -qq\n",
        "!apt-get install openjdk-8-jdk-headless -qq > /dev/null\n",
        "!wget -q https://archive.apache.org/dist/spark/spark-3.1.2/spark-3.1.2-bin-hadoop2.7.tgz\n",
        "!tar xf spark-3.1.2-bin-hadoop2.7.tgz\n",
        "!pip install -q findspark"
      ]
    },
    {
      "cell_type": "code",
      "source": [
        "import os\n",
        "os.environ[\"JAVA_HOME\"] = \"/usr/lib/jvm/java-8-openjdk-amd64\"\n",
        "os.environ[\"SPARK_HOME\"] = \"/content/spark-3.1.2-bin-hadoop2.7\""
      ],
      "metadata": {
        "id": "QK0uK6A-UzhY"
      },
      "execution_count": 2,
      "outputs": []
    },
    {
      "cell_type": "markdown",
      "source": [
        "## b. Inicialização da SparkSession"
      ],
      "metadata": {
        "id": "WBjX4aVhkXCg"
      }
    },
    {
      "cell_type": "code",
      "source": [
        "import findspark\n",
        "findspark.init()"
      ],
      "metadata": {
        "id": "_Gk1F5mMU1nt"
      },
      "execution_count": 3,
      "outputs": []
    },
    {
      "cell_type": "code",
      "source": [
        "from pyspark.sql import SparkSession\n",
        "\n",
        "spark = SparkSession.builder \\\n",
        "    .master('local[*]') \\\n",
        "    .appName(\"challenge_imob\") \\\n",
        "    .config('spark.ui.port', '4050') \\\n",
        "    .getOrCreate()"
      ],
      "metadata": {
        "id": "U-PSvJevU5aJ"
      },
      "execution_count": 4,
      "outputs": []
    },
    {
      "cell_type": "markdown",
      "source": [
        "## c. Montagem do Drive"
      ],
      "metadata": {
        "id": "ppAaMj1Ikism"
      }
    },
    {
      "cell_type": "code",
      "source": [
        "from google.colab import drive\n",
        "drive.mount('/content/drive')"
      ],
      "metadata": {
        "colab": {
          "base_uri": "https://localhost:8080/"
        },
        "id": "Z8_AQdaNVS8b",
        "outputId": "d6a4d96e-4b12-4ceb-8ad8-3fe90af04376"
      },
      "execution_count": 5,
      "outputs": [
        {
          "output_type": "stream",
          "name": "stdout",
          "text": [
            "Mounted at /content/drive\n"
          ]
        }
      ]
    },
    {
      "cell_type": "markdown",
      "source": [
        "## d. Inicializando a  UI do Spark "
      ],
      "metadata": {
        "id": "D5ogW79Oy2as"
      }
    },
    {
      "cell_type": "code",
      "source": [
        "!wget -q https://bin.equinox.io/c/4VmDzA7iaHb/ngrok-stable-linux-amd64.zip\n",
        "!unzip ngrok-stable-linux-amd64.zip"
      ],
      "metadata": {
        "colab": {
          "base_uri": "https://localhost:8080/"
        },
        "id": "-H8K8pQFVCgk",
        "outputId": "210d4788-ae71-4c09-cbd1-b42fd0e75e12"
      },
      "execution_count": null,
      "outputs": [
        {
          "output_type": "stream",
          "name": "stdout",
          "text": [
            "Archive:  ngrok-stable-linux-amd64.zip\n",
            "replace ngrok? [y]es, [n]o, [A]ll, [N]one, [r]ename: y\n",
            "  inflating: ngrok                   \n"
          ]
        }
      ]
    },
    {
      "cell_type": "code",
      "source": [
        "with open('/content/drive/MyDrive/Colab Notebooks/projeto_data_science_imobni/dados/authTokenngrok.txt', 'r') as file:\n",
        "  content = file.read()\n",
        "  file.close()\n",
        "\n",
        "my_authtoken = str(content)"
      ],
      "metadata": {
        "id": "LSsGlSu4VG5h"
      },
      "execution_count": null,
      "outputs": []
    },
    {
      "cell_type": "code",
      "source": [
        "get_ipython().system_raw('./ngrok authtoken ' + my_authtoken)\n",
        "get_ipython().system_raw('./ngrok http 4050 &')\n",
        "\n",
        "!curl -s http://localhost:4040/api/tunnels"
      ],
      "metadata": {
        "colab": {
          "base_uri": "https://localhost:8080/"
        },
        "id": "JN7VU6ErJ6-m",
        "outputId": "d25d30df-884d-4400-fd70-2ae6f2eee13f"
      },
      "execution_count": null,
      "outputs": [
        {
          "output_type": "stream",
          "name": "stdout",
          "text": [
            "{\"tunnels\":[{\"name\":\"command_line\",\"uri\":\"/api/tunnels/command_line\",\"public_url\":\"https://331a-34-75-20-66.ngrok.io\",\"proto\":\"https\",\"config\":{\"addr\":\"http://localhost:4050\",\"inspect\":true},\"metrics\":{\"conns\":{\"count\":0,\"gauge\":0,\"rate1\":0,\"rate5\":0,\"rate15\":0,\"p50\":0,\"p90\":0,\"p95\":0,\"p99\":0},\"http\":{\"count\":0,\"rate1\":0,\"rate5\":0,\"rate15\":0,\"p50\":0,\"p90\":0,\"p95\":0,\"p99\":0}}},{\"name\":\"command_line (http)\",\"uri\":\"/api/tunnels/command_line%20%28http%29\",\"public_url\":\"http://331a-34-75-20-66.ngrok.io\",\"proto\":\"http\",\"config\":{\"addr\":\"http://localhost:4050\",\"inspect\":true},\"metrics\":{\"conns\":{\"count\":0,\"gauge\":0,\"rate1\":0,\"rate5\":0,\"rate15\":0,\"p50\":0,\"p90\":0,\"p95\":0,\"p99\":0},\"http\":{\"count\":0,\"rate1\":0,\"rate5\":0,\"rate15\":0,\"p50\":0,\"p90\":0,\"p95\":0,\"p99\":0}}}],\"uri\":\"/api/tunnels\"}\n"
          ]
        }
      ]
    },
    {
      "cell_type": "code",
      "source": [
        "spark"
      ],
      "metadata": {
        "id": "vDWpd4nrVKwm",
        "colab": {
          "base_uri": "https://localhost:8080/",
          "height": 219
        },
        "outputId": "c87c3384-eefd-4f35-bddd-d96aac071e0c"
      },
      "execution_count": null,
      "outputs": [
        {
          "output_type": "execute_result",
          "data": {
            "text/plain": [
              "<pyspark.sql.session.SparkSession at 0x7f35ec7ba8b0>"
            ],
            "text/html": [
              "\n",
              "            <div>\n",
              "                <p><b>SparkSession - in-memory</b></p>\n",
              "                \n",
              "        <div>\n",
              "            <p><b>SparkContext</b></p>\n",
              "\n",
              "            <p><a href=\"http://41751a9c3066:4050\">Spark UI</a></p>\n",
              "\n",
              "            <dl>\n",
              "              <dt>Version</dt>\n",
              "                <dd><code>v3.1.2</code></dd>\n",
              "              <dt>Master</dt>\n",
              "                <dd><code>local[*]</code></dd>\n",
              "              <dt>AppName</dt>\n",
              "                <dd><code>challenge_imob</code></dd>\n",
              "            </dl>\n",
              "        </div>\n",
              "        \n",
              "            </div>\n",
              "        "
            ]
          },
          "metadata": {},
          "execution_count": 133
        }
      ]
    },
    {
      "cell_type": "markdown",
      "source": [
        "Carregamento dos dados:"
      ],
      "metadata": {
        "id": "9Te7vFd8ddtt"
      }
    },
    {
      "cell_type": "markdown",
      "source": [
        "# 2. Carregamento e tratamento dos dados"
      ],
      "metadata": {
        "id": "UTWlLTRvlM-K"
      }
    },
    {
      "cell_type": "markdown",
      "source": [
        "## a. Leitura do dataset"
      ],
      "metadata": {
        "id": "k8V1MvMj5PzO"
      }
    },
    {
      "cell_type": "code",
      "source": [
        "path='/content/drive/MyDrive/Colab Notebooks/projeto_data_science_imobni/dataset_parquet'\n",
        "\n",
        "data = spark.read.parquet(path)"
      ],
      "metadata": {
        "id": "6_hFMHTuddN7"
      },
      "execution_count": 6,
      "outputs": []
    },
    {
      "cell_type": "code",
      "source": [
        "data.show(5)"
      ],
      "metadata": {
        "colab": {
          "base_uri": "https://localhost:8080/"
        },
        "id": "sdt03fOPeKkA",
        "outputId": "8d518bca-337d-4096-9df0-bd7e85c2083e"
      },
      "execution_count": 7,
      "outputs": [
        {
          "output_type": "stream",
          "name": "stdout",
          "text": [
            "+--------------------+-----+----------+---------+---------+--------------------+-------+------+------------+------------+-----------+----+---------------+----------+----------+-----+-----+-------+\n",
            "|                  id|andar|area_total|area_util|banheiros|     caracteristicas|quartos|suites|tipo_anuncio|tipo_unidade|   tipo_uso|vaga|         bairro|      zona|condominio| iptu| tipo|  valor|\n",
            "+--------------------+-----+----------+---------+---------+--------------------+-------+------+------------+------------+-----------+----+---------------+----------+----------+-----+-----+-------+\n",
            "|00790b85-56e3-43a...|   11|       166|      166|        5|[Academia, Churra...|      4|     4|       Usado| Apartamento|Residencial|   2|    Jacarepaguá|Zona Oeste|      2100| 4600|Venda|1750000|\n",
            "|007f8099-8e1d-45f...|    4|       640|      640|        5|[Animais permitid...|     11|     3|       Usado| Apartamento|Residencial|null|           Urca|  Zona Sul|      3060|20030|Venda|3800000|\n",
            "|00b23c6d-0e9d-4be...|    1|        50|       50|        1|[Academia, Churra...|      2|     0|       Usado| Apartamento|Residencial|   1|Parada de Lucas|Zona Norte|       363|   97|Venda| 192000|\n",
            "|012aebd7-278f-4b4...|    0|       160|      160|        4|          [Elevador]|      3|     1|       Usado| Apartamento|Residencial|   3|        Ipanema|  Zona Sul|      1530| 7440|Venda|3490000|\n",
            "|0267dcdb-7705-44a...|    0|        52|       52|        1|[Churrasqueira, P...|      2|     1|       Usado| Apartamento|Residencial|   1|      Pechincha|Zona Oeste|      null| null|Venda| 440000|\n",
            "+--------------------+-----+----------+---------+---------+--------------------+-------+------+------------+------------+-----------+----+---------------+----------+----------+-----+-----+-------+\n",
            "only showing top 5 rows\n",
            "\n"
          ]
        }
      ]
    },
    {
      "cell_type": "markdown",
      "source": [
        "## b. Seleção de features"
      ],
      "metadata": {
        "id": "klH1TWa1AIlQ"
      }
    },
    {
      "cell_type": "markdown",
      "source": [
        "Aqui devem ser removidas as colunas que possuem apenas um valor atribuído, de acordo com o que foi elaborado na primeira semana. Esta etapa é muito importante para se reduzir a complexidade dos dados e aumentar a velocidade de ajuste do modelo."
      ],
      "metadata": {
        "id": "SBWXYLwJAyUl"
      }
    },
    {
      "cell_type": "code",
      "source": [
        "data\\\n",
        "    .select('tipo')\\\n",
        "    .distinct()\\\n",
        "    .show(5)"
      ],
      "metadata": {
        "colab": {
          "base_uri": "https://localhost:8080/"
        },
        "id": "mm25lRD5gFqj",
        "outputId": "b9d84f82-00b6-4a2f-9806-a46992b935d7"
      },
      "execution_count": 9,
      "outputs": [
        {
          "output_type": "stream",
          "name": "stdout",
          "text": [
            "+-----+\n",
            "| tipo|\n",
            "+-----+\n",
            "|Venda|\n",
            "+-----+\n",
            "\n"
          ]
        }
      ]
    },
    {
      "cell_type": "code",
      "source": [
        "data\\\n",
        "    .select('tipo_anuncio')\\\n",
        "    .distinct()\\\n",
        "    .show(5)"
      ],
      "metadata": {
        "colab": {
          "base_uri": "https://localhost:8080/"
        },
        "id": "xSd2nvun96GN",
        "outputId": "a08874ce-4d12-4d26-c2cf-69d8e246edf3"
      },
      "execution_count": 10,
      "outputs": [
        {
          "output_type": "stream",
          "name": "stdout",
          "text": [
            "+------------+\n",
            "|tipo_anuncio|\n",
            "+------------+\n",
            "|       Usado|\n",
            "+------------+\n",
            "\n"
          ]
        }
      ]
    },
    {
      "cell_type": "code",
      "source": [
        "data\\\n",
        "    .select('tipo_unidade')\\\n",
        "    .distinct()\\\n",
        "    .show(5)"
      ],
      "metadata": {
        "colab": {
          "base_uri": "https://localhost:8080/"
        },
        "id": "6AR5L7TV-UB5",
        "outputId": "5bc07a2b-a919-42c6-9d4c-23b5df960bd4"
      },
      "execution_count": 11,
      "outputs": [
        {
          "output_type": "stream",
          "name": "stdout",
          "text": [
            "+------------+\n",
            "|tipo_unidade|\n",
            "+------------+\n",
            "| Apartamento|\n",
            "+------------+\n",
            "\n"
          ]
        }
      ]
    },
    {
      "cell_type": "code",
      "source": [
        "data\\\n",
        "    .select('tipo_uso')\\\n",
        "    .distinct()\\\n",
        "    .show(5)"
      ],
      "metadata": {
        "colab": {
          "base_uri": "https://localhost:8080/"
        },
        "id": "aaMyYHUq-XMV",
        "outputId": "5f68802e-c1bf-42e5-db69-55f526594b52"
      },
      "execution_count": 12,
      "outputs": [
        {
          "output_type": "stream",
          "name": "stdout",
          "text": [
            "+-----------+\n",
            "|   tipo_uso|\n",
            "+-----------+\n",
            "|Residencial|\n",
            "+-----------+\n",
            "\n"
          ]
        }
      ]
    },
    {
      "cell_type": "markdown",
      "source": [
        "As colunas `area_total` e `area_util` têm um potencial maior de aderência ao modelo. Assim, analisa-se:"
      ],
      "metadata": {
        "id": "1B9LDacC-589"
      }
    },
    {
      "cell_type": "code",
      "source": [
        "data\\\n",
        "    .select('area_total','area_util')\\\n",
        "    .show(5)"
      ],
      "metadata": {
        "colab": {
          "base_uri": "https://localhost:8080/"
        },
        "id": "sbiWtfKP_w4Z",
        "outputId": "af3c1f88-3abe-4d55-926a-ae3102d731d2"
      },
      "execution_count": 15,
      "outputs": [
        {
          "output_type": "stream",
          "name": "stdout",
          "text": [
            "+----------+---------+\n",
            "|area_total|area_util|\n",
            "+----------+---------+\n",
            "|       166|      166|\n",
            "|       640|      640|\n",
            "|        50|       50|\n",
            "|       160|      160|\n",
            "|        52|       52|\n",
            "+----------+---------+\n",
            "only showing top 5 rows\n",
            "\n"
          ]
        }
      ]
    },
    {
      "cell_type": "code",
      "source": [
        "data\\\n",
        "    .select('area_util', 'area_total')\\\n",
        "    .na\\\n",
        "    .drop()\\\n",
        "    .show(5)"
      ],
      "metadata": {
        "colab": {
          "base_uri": "https://localhost:8080/"
        },
        "id": "7azuTtqJBeM7",
        "outputId": "b9475959-f79e-48b7-9d61-1cee5d11b08b"
      },
      "execution_count": 21,
      "outputs": [
        {
          "output_type": "stream",
          "name": "stdout",
          "text": [
            "+---------+----------+\n",
            "|area_util|area_total|\n",
            "+---------+----------+\n",
            "|      166|       166|\n",
            "|      640|       640|\n",
            "|       50|        50|\n",
            "|      160|       160|\n",
            "|       52|        52|\n",
            "+---------+----------+\n",
            "only showing top 5 rows\n",
            "\n"
          ]
        }
      ]
    },
    {
      "cell_type": "code",
      "source": [
        "from pyspark.sql import functions as f\n",
        "\n",
        "dados_without_na = data\\\n",
        "    .select('area_util', 'area_total')\\\n",
        "    .na\\\n",
        "    .drop()\n",
        "\n",
        "quantidade_total = dados_without_na.count()\n",
        "quantidade_iguais = dados_without_na.filter(f.col('area_util') == f.col('area_total')).count()\n",
        "quantidade_distintas = quantidade_total - quantidade_iguais\n",
        "\n",
        "print(f'Quantidade de linhas: {quantidade_total}')\n",
        "print(f'Quantidade de linhas com area_util == area_total: {quantidade_iguais}')\n",
        "print(f'Quantidade de linhas diferentes: {quantidade_distintas}')"
      ],
      "metadata": {
        "colab": {
          "base_uri": "https://localhost:8080/"
        },
        "id": "kX2U1SAkAs_k",
        "outputId": "12fbc53e-3160-4b71-cc0d-753d0905a334"
      },
      "execution_count": 17,
      "outputs": [
        {
          "output_type": "stream",
          "name": "stdout",
          "text": [
            "Quantidade de linhas: 57368\n",
            "Quantidade de linhas com area_util == area_total: 55384\n",
            "Quantidade de linhas diferentes: 1984\n"
          ]
        }
      ]
    },
    {
      "cell_type": "markdown",
      "source": [
        "Chega-se a algumas conclusões:\n",
        "<br>\n",
        "<br>\n",
        "*  das 57368 linhas, 55384 possuem valores iguais nas colunas `area_total` e `area_util`\n",
        "*  pode-se escolher somente uma, uma vez que a maioria das informações são repetidas\n",
        "\n",
        "Para esta escolha, levou-se em conta a coluna com a menor quantidade de dados nulos:"
      ],
      "metadata": {
        "id": "KSGxUYc6CQ5Z"
      }
    },
    {
      "cell_type": "code",
      "source": [
        "colunas = ['area_total', 'area_util']\n",
        "\n",
        "data\\\n",
        "    .select([f.count(f.when(data[c].isNull(), True)).alias(c) for c in colunas])\\\n",
        "    .show()"
      ],
      "metadata": {
        "colab": {
          "base_uri": "https://localhost:8080/"
        },
        "id": "O9WMNsBlDiEB",
        "outputId": "faad9d6b-19d9-44e0-bbae-d379df71d353"
      },
      "execution_count": 29,
      "outputs": [
        {
          "output_type": "stream",
          "name": "stdout",
          "text": [
            "+----------+---------+\n",
            "|area_total|area_util|\n",
            "+----------+---------+\n",
            "|      9194|        0|\n",
            "+----------+---------+\n",
            "\n"
          ]
        }
      ]
    },
    {
      "cell_type": "code",
      "source": [
        "'''\n",
        "cont = []\n",
        "for c in colunas:\n",
        "    cont.append(f.count(f.when(data[c].isNull(), True)).alias(c))\n",
        "\n",
        "data.select(cont).show()"
      ],
      "metadata": {
        "colab": {
          "base_uri": "https://localhost:8080/"
        },
        "id": "FnskgwEUGepr",
        "outputId": "efa9762a-7973-4cb8-831c-16f0ffa75329"
      },
      "execution_count": 30,
      "outputs": [
        {
          "output_type": "stream",
          "name": "stdout",
          "text": [
            "+----------+---------+\n",
            "|area_total|area_util|\n",
            "+----------+---------+\n",
            "|      9194|        0|\n",
            "+----------+---------+\n",
            "\n"
          ]
        }
      ]
    },
    {
      "cell_type": "markdown",
      "source": [
        "A `area_total` não possui nenhum valor nulo! Pode-se então eliminar a coluna `area_util`."
      ],
      "metadata": {
        "id": "tNgXvMs8FhWf"
      }
    },
    {
      "cell_type": "code",
      "source": [
        "data = data\\\n",
        "    .drop('area_total','tipo_anuncio','tipo_unidade','tipo_uso','tipo')"
      ],
      "metadata": {
        "id": "HeU_YfSSZIus"
      },
      "execution_count": 31,
      "outputs": []
    },
    {
      "cell_type": "code",
      "source": [
        "data.show(5)"
      ],
      "metadata": {
        "colab": {
          "base_uri": "https://localhost:8080/"
        },
        "id": "IXNFAbfaZmuG",
        "outputId": "a9774f23-e49d-4463-b46f-a283500ca7c6"
      },
      "execution_count": 32,
      "outputs": [
        {
          "output_type": "stream",
          "name": "stdout",
          "text": [
            "+--------------------+-----+---------+---------+--------------------+-------+------+----+---------------+----------+----------+-----+-------+\n",
            "|                  id|andar|area_util|banheiros|     caracteristicas|quartos|suites|vaga|         bairro|      zona|condominio| iptu|  valor|\n",
            "+--------------------+-----+---------+---------+--------------------+-------+------+----+---------------+----------+----------+-----+-------+\n",
            "|00790b85-56e3-43a...|   11|      166|        5|[Academia, Churra...|      4|     4|   2|    Jacarepaguá|Zona Oeste|      2100| 4600|1750000|\n",
            "|007f8099-8e1d-45f...|    4|      640|        5|[Animais permitid...|     11|     3|null|           Urca|  Zona Sul|      3060|20030|3800000|\n",
            "|00b23c6d-0e9d-4be...|    1|       50|        1|[Academia, Churra...|      2|     0|   1|Parada de Lucas|Zona Norte|       363|   97| 192000|\n",
            "|012aebd7-278f-4b4...|    0|      160|        4|          [Elevador]|      3|     1|   3|        Ipanema|  Zona Sul|      1530| 7440|3490000|\n",
            "|0267dcdb-7705-44a...|    0|       52|        1|[Churrasqueira, P...|      2|     1|   1|      Pechincha|Zona Oeste|      null| null| 440000|\n",
            "+--------------------+-----+---------+---------+--------------------+-------+------+----+---------------+----------+----------+-----+-------+\n",
            "only showing top 5 rows\n",
            "\n"
          ]
        }
      ]
    },
    {
      "cell_type": "markdown",
      "source": [
        "## c. Conversão dos tipos das colunas"
      ],
      "metadata": {
        "id": "3nJjfzbPFvHP"
      }
    },
    {
      "cell_type": "code",
      "source": [
        "data.printSchema()"
      ],
      "metadata": {
        "colab": {
          "base_uri": "https://localhost:8080/"
        },
        "id": "CseT-TRoZ5ac",
        "outputId": "a986b334-9894-4f6d-85f7-0a8a5f288129"
      },
      "execution_count": 33,
      "outputs": [
        {
          "output_type": "stream",
          "name": "stdout",
          "text": [
            "root\n",
            " |-- id: string (nullable = true)\n",
            " |-- andar: long (nullable = true)\n",
            " |-- area_util: string (nullable = true)\n",
            " |-- banheiros: long (nullable = true)\n",
            " |-- caracteristicas: array (nullable = true)\n",
            " |    |-- element: string (containsNull = true)\n",
            " |-- quartos: long (nullable = true)\n",
            " |-- suites: long (nullable = true)\n",
            " |-- vaga: long (nullable = true)\n",
            " |-- bairro: string (nullable = true)\n",
            " |-- zona: string (nullable = true)\n",
            " |-- condominio: string (nullable = true)\n",
            " |-- iptu: string (nullable = true)\n",
            " |-- valor: string (nullable = true)\n",
            "\n"
          ]
        }
      ]
    },
    {
      "cell_type": "markdown",
      "source": [
        "Os dados numéricos estão tipados em sua maioria como string, enquanto deveriam receber as seguintes conversões:\n",
        "\n"
      ],
      "metadata": {
        "id": "H_zJIhe-CAqc"
      }
    },
    {
      "cell_type": "code",
      "source": [
        "from pyspark.sql.types import IntegerType, DoubleType"
      ],
      "metadata": {
        "id": "ODNBdeeybESg"
      },
      "execution_count": 40,
      "outputs": []
    },
    {
      "cell_type": "code",
      "source": [
        "data = data\\\n",
        "    .withColumn('andar', data['andar'].cast(IntegerType()))\\\n",
        "    .withColumn('area_util', data['area_util'].cast(DoubleType()))\\\n",
        "    .withColumn('banheiros', data['banheiros'].cast(IntegerType()))\\\n",
        "    .withColumn('quartos', data['quartos'].cast(IntegerType()))\\\n",
        "    .withColumn('suites', data['suites'].cast(IntegerType()))\\\n",
        "    .withColumn('condominio', data['condominio'].cast(DoubleType()))\\\n",
        "    .withColumn('vaga', data['vaga'].cast(IntegerType()))\\\n",
        "    .withColumn('iptu', data['iptu'].cast(DoubleType()))\\\n",
        "    .withColumn('valor', data['valor'].cast(DoubleType()))"
      ],
      "metadata": {
        "id": "966o4l9gjcr1"
      },
      "execution_count": 41,
      "outputs": []
    },
    {
      "cell_type": "code",
      "execution_count": 42,
      "metadata": {
        "id": "Msj6oUl2z9Ap",
        "outputId": "dcd0a237-0ee8-4c8d-d500-4a7adf2d9567",
        "colab": {
          "base_uri": "https://localhost:8080/"
        }
      },
      "outputs": [
        {
          "output_type": "stream",
          "name": "stdout",
          "text": [
            "root\n",
            " |-- id: string (nullable = true)\n",
            " |-- andar: integer (nullable = true)\n",
            " |-- area_util: double (nullable = true)\n",
            " |-- banheiros: integer (nullable = true)\n",
            " |-- caracteristicas: array (nullable = true)\n",
            " |    |-- element: string (containsNull = true)\n",
            " |-- quartos: integer (nullable = true)\n",
            " |-- suites: integer (nullable = true)\n",
            " |-- vaga: integer (nullable = true)\n",
            " |-- bairro: string (nullable = true)\n",
            " |-- zona: string (nullable = true)\n",
            " |-- condominio: double (nullable = true)\n",
            " |-- iptu: double (nullable = true)\n",
            " |-- valor: double (nullable = true)\n",
            "\n"
          ]
        }
      ],
      "source": [
        "data.printSchema()"
      ]
    },
    {
      "cell_type": "markdown",
      "source": [
        "## d. Tratamento da coluna `caracteristicas`"
      ],
      "metadata": {
        "id": "fU_KVD3fGQqf"
      }
    },
    {
      "cell_type": "code",
      "source": [
        "data\\\n",
        "    .select('caracteristicas')\\\n",
        "    .show(100, truncate=False)"
      ],
      "metadata": {
        "colab": {
          "base_uri": "https://localhost:8080/"
        },
        "id": "AX2mUIzzb_Bt",
        "outputId": "d56c5675-9bb3-430d-964c-0aed6cdb272d"
      },
      "execution_count": 45,
      "outputs": [
        {
          "output_type": "stream",
          "name": "stdout",
          "text": [
            "+--------------------------------------------------------------------------------------------------------------------------------------------------+\n",
            "|caracteristicas                                                                                                                                   |\n",
            "+--------------------------------------------------------------------------------------------------------------------------------------------------+\n",
            "|[Academia, Churrasqueira, Piscina, Playground, Salão de festas, Elevador, Condomínio fechado, Portão eletrônico, Portaria 24h, Animais permitidos]|\n",
            "|[Animais permitidos, Portão eletrônico]                                                                                                           |\n",
            "|[Academia, Churrasqueira, Piscina, Playground, Salão de festas, Condomínio fechado, Portaria 24h, Animais permitidos]                             |\n",
            "|[Elevador]                                                                                                                                        |\n",
            "|[Churrasqueira, Piscina, Playground, Salão de festas]                                                                                             |\n",
            "|[Elevador, Academia, Churrasqueira, Piscina, Playground, Salão de festas, Condomínio fechado, Portão eletrônico, Portaria 24h]                    |\n",
            "|[Academia, Condomínio fechado, Piscina, Playground, Salão de festas, Portão eletrônico, Portaria 24h, Elevador]                                   |\n",
            "|[Academia, Churrasqueira, Piscina, Salão de festas, Elevador, Condomínio fechado, Portão eletrônico, Portaria 24h, Animais permitidos]            |\n",
            "|[Condomínio fechado, Portão eletrônico, Academia, Churrasqueira, Piscina, Playground, Salão de festas, Elevador, Animais permitidos]              |\n",
            "|[Academia, Churrasqueira, Piscina, Playground, Salão de festas, Elevador, Condomínio fechado, Portão eletrônico, Portaria 24h, Animais permitidos]|\n",
            "|[]                                                                                                                                                |\n",
            "|[Academia, Elevador, Salão de festas, Condomínio fechado, Portão eletrônico, Portaria 24h, Animais permitidos]                                    |\n",
            "|[Salão de festas]                                                                                                                                 |\n",
            "|[Condomínio fechado, Academia, Churrasqueira, Piscina, Playground, Salão de festas, Elevador]                                                     |\n",
            "|[Piscina]                                                                                                                                         |\n",
            "|[Academia, Churrasqueira, Condomínio fechado, Elevador, Piscina, Playground, Portão eletrônico, Portaria 24h, Salão de festas, Animais permitidos]|\n",
            "|[Condomínio fechado, Piscina, Elevador]                                                                                                           |\n",
            "|[Academia, Churrasqueira, Elevador, Piscina, Salão de festas, Playground, Condomínio fechado, Portão eletrônico, Portaria 24h, Animais permitidos]|\n",
            "|[Academia, Churrasqueira, Piscina, Playground, Salão de festas, Elevador, Condomínio fechado, Portão eletrônico, Portaria 24h, Animais permitidos]|\n",
            "|[Academia, Churrasqueira, Piscina, Playground, Salão de festas, Elevador, Condomínio fechado, Portão eletrônico, Portaria 24h, Animais permitidos]|\n",
            "|[Churrasqueira, Piscina, Playground, Salão de festas]                                                                                             |\n",
            "|[Academia, Churrasqueira, Playground]                                                                                                             |\n",
            "|[Playground, Elevador]                                                                                                                            |\n",
            "|[Academia, Churrasqueira, Piscina, Playground, Salão de festas, Elevador, Condomínio fechado, Portão eletrônico, Portaria 24h, Animais permitidos]|\n",
            "|[]                                                                                                                                                |\n",
            "|[Academia, Churrasqueira, Piscina, Playground, Salão de festas, Elevador, Portaria 24h, Condomínio fechado, Animais permitidos]                   |\n",
            "|[]                                                                                                                                                |\n",
            "|[Churrasqueira, Elevador, Academia, Salão de festas, Piscina]                                                                                     |\n",
            "|[Elevador, Academia, Churrasqueira, Piscina, Playground, Salão de festas, Condomínio fechado, Portão eletrônico, Portaria 24h, Animais permitidos]|\n",
            "|[]                                                                                                                                                |\n",
            "|[]                                                                                                                                                |\n",
            "|[Elevador, Churrasqueira, Salão de festas, Playground]                                                                                            |\n",
            "|[Academia, Churrasqueira, Piscina, Playground, Salão de festas, Elevador, Condomínio fechado, Portão eletrônico, Portaria 24h, Animais permitidos]|\n",
            "|[]                                                                                                                                                |\n",
            "|[Academia, Churrasqueira, Condomínio fechado, Elevador, Piscina, Playground, Portão eletrônico, Portaria 24h, Salão de festas, Animais permitidos]|\n",
            "|[]                                                                                                                                                |\n",
            "|[Academia, Churrasqueira, Condomínio fechado, Elevador, Piscina, Playground, Portão eletrônico, Portaria 24h, Salão de festas, Animais permitidos]|\n",
            "|[Piscina, Academia, Elevador, Salão de festas, Condomínio fechado, Portaria 24h]                                                                  |\n",
            "|[Academia, Churrasqueira, Piscina, Playground, Salão de festas, Elevador, Condomínio fechado, Portão eletrônico, Portaria 24h, Animais permitidos]|\n",
            "|[Piscina, Elevador, Playground, Salão de festas]                                                                                                  |\n",
            "|[Academia, Elevador, Condomínio fechado, Portão eletrônico, Churrasqueira, Piscina, Animais permitidos]                                           |\n",
            "|[Elevador, Academia, Piscina, Salão de festas, Condomínio fechado, Portão eletrônico, Portaria 24h, Animais permitidos]                           |\n",
            "|[Elevador, Playground, Salão de festas, Condomínio fechado, Portão eletrônico, Portaria 24h, Animais permitidos]                                  |\n",
            "|[Academia, Churrasqueira, Piscina, Playground, Salão de festas, Elevador, Condomínio fechado, Portão eletrônico, Portaria 24h, Animais permitidos]|\n",
            "|[Elevador, Academia, Churrasqueira, Playground, Piscina, Condomínio fechado, Portaria 24h]                                                        |\n",
            "|[]                                                                                                                                                |\n",
            "|[Condomínio fechado, Portão eletrônico, Portaria 24h, Playground, Piscina, Salão de festas, Elevador, Churrasqueira, Academia, Animais permitidos]|\n",
            "|[]                                                                                                                                                |\n",
            "|[Elevador, Portaria 24h, Condomínio fechado, Portão eletrônico, Animais permitidos]                                                               |\n",
            "|[Elevador]                                                                                                                                        |\n",
            "|[Churrasqueira, Playground, Piscina, Salão de festas, Condomínio fechado, Portaria 24h, Animais permitidos]                                       |\n",
            "|[]                                                                                                                                                |\n",
            "|[Churrasqueira, Academia, Salão de festas]                                                                                                        |\n",
            "|[]                                                                                                                                                |\n",
            "|[Elevador, Portaria 24h, Portão eletrônico, Condomínio fechado]                                                                                   |\n",
            "|[Academia, Churrasqueira, Piscina, Playground, Salão de festas, Elevador, Condomínio fechado, Portão eletrônico, Portaria 24h, Animais permitidos]|\n",
            "|[]                                                                                                                                                |\n",
            "|[Elevador, Salão de festas, Portão eletrônico, Animais permitidos]                                                                                |\n",
            "|[]                                                                                                                                                |\n",
            "|[Portão eletrônico, Animais permitidos]                                                                                                           |\n",
            "|[Churrasqueira, Academia, Piscina, Salão de festas, Elevador, Condomínio fechado, Portão eletrônico, Portaria 24h, Animais permitidos]            |\n",
            "|[Academia, Churrasqueira, Piscina, Playground, Salão de festas, Elevador, Portaria 24h, Portão eletrônico, Condomínio fechado, Animais permitidos]|\n",
            "|[Elevador, Churrasqueira, Academia, Playground, Piscina, Salão de festas, Condomínio fechado, Portaria 24h, Portão eletrônico, Animais permitidos]|\n",
            "|[Academia, Churrasqueira, Piscina, Playground, Elevador, Salão de festas, Condomínio fechado, Portão eletrônico, Portaria 24h, Animais permitidos]|\n",
            "|[Elevador]                                                                                                                                        |\n",
            "|[Playground, Salão de festas]                                                                                                                     |\n",
            "|[Elevador, Academia, Churrasqueira, Piscina, Playground, Salão de festas, Condomínio fechado, Portão eletrônico, Portaria 24h, Animais permitidos]|\n",
            "|[Academia, Churrasqueira, Piscina, Playground, Salão de festas, Elevador, Condomínio fechado, Portão eletrônico, Portaria 24h, Animais permitidos]|\n",
            "|[Portaria 24h, Elevador]                                                                                                                          |\n",
            "|[Elevador, Portão eletrônico, Animais permitidos]                                                                                                 |\n",
            "|[Elevador, Condomínio fechado, Portão eletrônico, Portaria 24h, Animais permitidos]                                                               |\n",
            "|[Academia, Churrasqueira, Salão de festas, Playground, Piscina]                                                                                   |\n",
            "|[Academia, Churrasqueira, Piscina, Playground, Salão de festas, Elevador, Condomínio fechado, Portão eletrônico, Portaria 24h]                    |\n",
            "|[Elevador, Academia, Piscina, Playground, Salão de festas, Condomínio fechado, Portão eletrônico, Portaria 24h, Animais permitidos]               |\n",
            "|[Academia, Churrasqueira, Piscina, Playground, Salão de festas, Condomínio fechado, Portão eletrônico, Portaria 24h, Animais permitidos]          |\n",
            "|[Academia, Churrasqueira, Piscina, Playground, Elevador, Salão de festas, Condomínio fechado, Portão eletrônico, Portaria 24h, Animais permitidos]|\n",
            "|[Academia, Churrasqueira, Piscina, Playground, Salão de festas, Elevador, Condomínio fechado, Portão eletrônico, Portaria 24h, Animais permitidos]|\n",
            "|[Playground, Elevador, Condomínio fechado, Portão eletrônico, Portaria 24h, Animais permitidos]                                                   |\n",
            "|[]                                                                                                                                                |\n",
            "|[Elevador, Portaria 24h, Animais permitidos]                                                                                                      |\n",
            "|[Condomínio fechado, Portaria 24h, Portão eletrônico, Animais permitidos]                                                                         |\n",
            "|[]                                                                                                                                                |\n",
            "|[]                                                                                                                                                |\n",
            "|[Condomínio fechado, Portão eletrônico, Portaria 24h, Academia, Piscina, Salão de festas, Elevador, Churrasqueira, Playground, Animais permitidos]|\n",
            "|[Elevador, Condomínio fechado, Portão eletrônico, Portaria 24h, Animais permitidos]                                                               |\n",
            "|[Playground, Portaria 24h]                                                                                                                        |\n",
            "|[Academia, Churrasqueira, Piscina, Playground, Elevador, Salão de festas, Condomínio fechado, Portão eletrônico, Portaria 24h, Animais permitidos]|\n",
            "|[]                                                                                                                                                |\n",
            "|[]                                                                                                                                                |\n",
            "|[Academia, Churrasqueira, Piscina, Playground, Elevador, Salão de festas, Condomínio fechado, Portão eletrônico, Portaria 24h, Animais permitidos]|\n",
            "|[Playground, Salão de festas]                                                                                                                     |\n",
            "|[Elevador, Academia, Churrasqueira, Piscina, Playground, Salão de festas, Condomínio fechado, Portão eletrônico, Portaria 24h, Animais permitidos]|\n",
            "|[Academia, Churrasqueira, Piscina, Salão de festas, Elevador, Condomínio fechado, Portão eletrônico]                                              |\n",
            "|[Elevador, Condomínio fechado, Portão eletrônico, Portaria 24h, Animais permitidos]                                                               |\n",
            "|[Academia, Piscina, Elevador, Portaria 24h, Animais permitidos]                                                                                   |\n",
            "|[Academia, Churrasqueira, Condomínio fechado, Elevador, Piscina, Playground, Portão eletrônico, Portaria 24h, Salão de festas, Animais permitidos]|\n",
            "|[]                                                                                                                                                |\n",
            "|[]                                                                                                                                                |\n",
            "|[]                                                                                                                                                |\n",
            "|[]                                                                                                                                                |\n",
            "+--------------------------------------------------------------------------------------------------------------------------------------------------+\n",
            "only showing top 100 rows\n",
            "\n"
          ]
        }
      ]
    },
    {
      "cell_type": "markdown",
      "source": [
        "A consulta da coluna característica mostra que algumas listas atribuídas estão vazias. A tratativa para este caso, é convertê-las para `null`:"
      ],
      "metadata": {
        "id": "_eYeJKDqDYrr"
      }
    },
    {
      "cell_type": "code",
      "source": [
        "data = data.withColumn('caracteristicas', f.when((f.size(f.col('caracteristicas')) == 0), f.lit(None)).otherwise(f.col('caracteristicas')))"
      ],
      "metadata": {
        "id": "O0ZzV132wB_b"
      },
      "execution_count": 46,
      "outputs": []
    },
    {
      "cell_type": "code",
      "source": [
        "data.show()"
      ],
      "metadata": {
        "colab": {
          "base_uri": "https://localhost:8080/"
        },
        "id": "8YUyyY1OdAbz",
        "outputId": "1f7144d2-a16f-4def-a6b7-b18721a5c63f"
      },
      "execution_count": 51,
      "outputs": [
        {
          "output_type": "stream",
          "name": "stdout",
          "text": [
            "+--------------------+-----+---------+---------+--------------------+-------+------+----+--------------------+----------+----------+-------+---------+\n",
            "|                  id|andar|area_util|banheiros|     caracteristicas|quartos|suites|vaga|              bairro|      zona|condominio|   iptu|    valor|\n",
            "+--------------------+-----+---------+---------+--------------------+-------+------+----+--------------------+----------+----------+-------+---------+\n",
            "|00790b85-56e3-43a...|   11|    166.0|        5|[Academia, Churra...|      4|     4|   2|         Jacarepaguá|Zona Oeste|    2100.0| 4600.0|1750000.0|\n",
            "|007f8099-8e1d-45f...|    4|    640.0|        5|[Animais permitid...|     11|     3|null|                Urca|  Zona Sul|    3060.0|20030.0|3800000.0|\n",
            "|00b23c6d-0e9d-4be...|    1|     50.0|        1|[Academia, Churra...|      2|     0|   1|     Parada de Lucas|Zona Norte|     363.0|   97.0| 192000.0|\n",
            "|012aebd7-278f-4b4...|    0|    160.0|        4|          [Elevador]|      3|     1|   3|             Ipanema|  Zona Sul|    1530.0| 7440.0|3490000.0|\n",
            "|0267dcdb-7705-44a...|    0|     52.0|        1|[Churrasqueira, P...|      2|     1|   1|           Pechincha|Zona Oeste|      null|   null| 440000.0|\n",
            "|02ad9d93-7b89-46b...|    0|    219.0|        4|[Elevador, Academ...|      4|     2|   3|     Barra da Tijuca|Zona Oeste|    2800.0| 5855.0|2300000.0|\n",
            "|02ef01fe-9333-40f...|    0|     75.0|        2|[Academia, Condom...|      3|     1|   1|            Botafogo|  Zona Sul|      10.0|   10.0|1345000.0|\n",
            "|04171318-00f9-430...|    0|     82.0|        2|[Academia, Churra...|      3|     1|   1|Recreio dos Bande...|Zona Oeste|     870.0| 1900.0| 484999.0|\n",
            "|04a03e35-1a8b-4fc...|    0|    187.0|        5|[Condomínio fecha...|      4|     2|   3|     Barra da Tijuca|Zona Oeste|    2600.0| 5800.0|1950000.0|\n",
            "|04a8d9c5-daca-44f...|    8|    132.0|        3|[Academia, Churra...|      4|     2|   2|         Jacarepaguá|Zona Oeste|       1.0|    1.0|1330000.0|\n",
            "|058e6011-b830-455...|   11|    153.0|        4|                null|      3|     2|   2|               Gávea|  Zona Sul|    2200.0|  350.0|3100000.0|\n",
            "|05beb775-9afa-428...|    2|     80.0|        1|[Academia, Elevad...|      3|     0|   1|          Copacabana|  Zona Sul|     940.0|  160.0| 749000.0|\n",
            "|067673ae-4b0f-444...|    0|    148.0|        3|   [Salão de festas]|      3|     1|   1|          Copacabana|  Zona Sul|    1500.0| 3800.0|1100000.0|\n",
            "|07bd5c4a-e06d-4da...|    0|     52.0|        1|[Condomínio fecha...|      2|  null|   1|         Jacarepaguá|Zona Oeste|     500.0|  300.0| 270000.0|\n",
            "|07d28395-2a02-485...|    0|    121.0|        2|           [Piscina]|      4|     1|   2|     Barra da Tijuca|Zona Oeste|    1460.0|   null|1150000.0|\n",
            "|08f243b2-ff9f-447...|    0|    160.0|        6|[Academia, Churra...|      4|     4|   2|     Barra da Tijuca|Zona Oeste|    1920.0| 5000.0|1423000.0|\n",
            "|09a73a8c-7314-4dd...|    0|    214.0|        4|[Condomínio fecha...|      4|     3|   2|            Botafogo|  Zona Sul|    1600.0|   10.0|3160000.0|\n",
            "|09afc288-5ca7-40b...|    9|    102.0|        3|[Academia, Churra...|      3|     2|   1|              Tijuca|Zona Norte|    1000.0|   96.0|1120000.0|\n",
            "|0a34687d-4c41-41b...|    2|    266.0|        4|[Academia, Churra...|      4|  null|   2|     Barra da Tijuca|Zona Oeste|    6000.0|    0.0|4955300.0|\n",
            "|0a35241d-3051-40c...|    0|     65.0|        2|[Academia, Churra...|      2|     1|   1|Recreio dos Bande...|Zona Oeste|     900.0|    0.0| 615000.0|\n",
            "+--------------------+-----+---------+---------+--------------------+-------+------+----+--------------------+----------+----------+-------+---------+\n",
            "only showing top 20 rows\n",
            "\n"
          ]
        }
      ]
    },
    {
      "cell_type": "code",
      "source": [],
      "metadata": {
        "id": "Fblmg_GQdta9"
      },
      "execution_count": null,
      "outputs": []
    }
  ]
}