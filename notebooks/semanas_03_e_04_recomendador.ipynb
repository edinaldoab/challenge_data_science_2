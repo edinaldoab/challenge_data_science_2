{
  "nbformat": 4,
  "nbformat_minor": 0,
  "metadata": {
    "colab": {
      "provenance": [],
      "authorship_tag": "ABX9TyOsaH7ffX3aCQz2k/Sj/Irn",
      "include_colab_link": true
    },
    "kernelspec": {
      "name": "python3",
      "display_name": "Python 3"
    },
    "language_info": {
      "name": "python"
    }
  },
  "cells": [
    {
      "cell_type": "markdown",
      "metadata": {
        "id": "view-in-github",
        "colab_type": "text"
      },
      "source": [
        "<a href=\"https://colab.research.google.com/github/edinaldoab/challenge_data_science_2/blob/main/notebooks/semanas_03_e_04_recomendador.ipynb\" target=\"_parent\"><img src=\"https://colab.research.google.com/assets/colab-badge.svg\" alt=\"Open In Colab\"/></a>"
      ]
    },
    {
      "cell_type": "markdown",
      "source": [
        "# Semanas 03 e 04\n",
        "\n",
        "Durante as semanas 3 e 4 vamos focar em melhorar o sistema de recomendação da InsightPlaces.\n",
        "Nosso sistema não está recebendo os clicks que esperava apenas recomendando imoveis das mesmas regiões e na mesma faixa de preço, por isso como parte do time de Data Science precisamos criar uma nova mecânica de recomendação de imóveis.\n",
        "\n",
        "O objetivo é criar um sistema de recomendação de imóveis baseado em similaridade de características. A base de dados utilizada será a base de dados tratada na semana 2, após transformar as variáveis categóricas em variáveis binárias e antes de aplicarmos a vetorização."
      ],
      "metadata": {
        "id": "sguyvI4v8vJ7"
      }
    },
    {
      "cell_type": "markdown",
      "source": [
        "# 1. Preparação do Ambiente"
      ],
      "metadata": {
        "id": "B5zbNtd08BcA"
      }
    },
    {
      "cell_type": "markdown",
      "source": [
        "## a. Instalação das dependências"
      ],
      "metadata": {
        "id": "ZgP_g3XXwcwm"
      }
    },
    {
      "cell_type": "code",
      "execution_count": 1,
      "metadata": {
        "id": "enbmM_NMUB9c"
      },
      "outputs": [],
      "source": [
        "!apt-get update -qq\n",
        "!apt-get install openjdk-8-jdk-headless -qq > /dev/null\n",
        "!wget -q https://archive.apache.org/dist/spark/spark-3.1.2/spark-3.1.2-bin-hadoop2.7.tgz\n",
        "!tar xf spark-3.1.2-bin-hadoop2.7.tgz\n",
        "!pip install -q findspark"
      ]
    },
    {
      "cell_type": "code",
      "source": [
        "import os\n",
        "os.environ[\"JAVA_HOME\"] = \"/usr/lib/jvm/java-8-openjdk-amd64\"\n",
        "os.environ[\"SPARK_HOME\"] = \"/content/spark-3.1.2-bin-hadoop2.7\""
      ],
      "metadata": {
        "id": "QK0uK6A-UzhY"
      },
      "execution_count": 2,
      "outputs": []
    },
    {
      "cell_type": "markdown",
      "source": [
        "## b. Inicialização da SparkSession"
      ],
      "metadata": {
        "id": "WBjX4aVhkXCg"
      }
    },
    {
      "cell_type": "code",
      "source": [
        "import findspark\n",
        "findspark.init()"
      ],
      "metadata": {
        "id": "_Gk1F5mMU1nt"
      },
      "execution_count": 3,
      "outputs": []
    },
    {
      "cell_type": "code",
      "source": [
        "from pyspark.sql import SparkSession\n",
        "\n",
        "spark = SparkSession.builder \\\n",
        "    .master('local[*]') \\\n",
        "    .appName(\"recomendador\") \\\n",
        "    .config('spark.ui.port', '4050') \\\n",
        "    .getOrCreate()"
      ],
      "metadata": {
        "id": "U-PSvJevU5aJ"
      },
      "execution_count": 4,
      "outputs": []
    },
    {
      "cell_type": "markdown",
      "source": [
        "## c. Montagem do Drive"
      ],
      "metadata": {
        "id": "ppAaMj1Ikism"
      }
    },
    {
      "cell_type": "code",
      "source": [
        "from google.colab import drive\n",
        "drive.mount('/content/drive')"
      ],
      "metadata": {
        "colab": {
          "base_uri": "https://localhost:8080/"
        },
        "id": "Z8_AQdaNVS8b",
        "outputId": "592c3083-03c0-424b-e456-e941fabca386"
      },
      "execution_count": 5,
      "outputs": [
        {
          "output_type": "stream",
          "name": "stdout",
          "text": [
            "Mounted at /content/drive\n"
          ]
        }
      ]
    },
    {
      "cell_type": "markdown",
      "source": [
        "## d. Inicializando a  UI do Spark "
      ],
      "metadata": {
        "id": "D5ogW79Oy2as"
      }
    },
    {
      "cell_type": "code",
      "source": [
        "!wget -q https://bin.equinox.io/c/4VmDzA7iaHb/ngrok-stable-linux-amd64.zip\n",
        "!unzip ngrok-stable-linux-amd64.zip"
      ],
      "metadata": {
        "colab": {
          "base_uri": "https://localhost:8080/"
        },
        "id": "-H8K8pQFVCgk",
        "outputId": "3cdf42d3-f706-4a79-ec14-1ccf6d8995fe"
      },
      "execution_count": 6,
      "outputs": [
        {
          "output_type": "stream",
          "name": "stdout",
          "text": [
            "Archive:  ngrok-stable-linux-amd64.zip\n",
            "  inflating: ngrok                   \n"
          ]
        }
      ]
    },
    {
      "cell_type": "code",
      "source": [
        "with open('/content/drive/MyDrive/Colab Notebooks/projeto_data_science_imobni/dados/authTokenngrok.txt', 'r') as file:\n",
        "  content = file.read()\n",
        "  file.close()\n",
        "\n",
        "my_authtoken = str(content)"
      ],
      "metadata": {
        "id": "LSsGlSu4VG5h"
      },
      "execution_count": 7,
      "outputs": []
    },
    {
      "cell_type": "code",
      "source": [
        "get_ipython().system_raw('./ngrok authtoken ' + my_authtoken)\n",
        "get_ipython().system_raw('./ngrok http 4050 &')\n",
        "\n",
        "!curl -s http://localhost:4040/api/tunnels"
      ],
      "metadata": {
        "colab": {
          "base_uri": "https://localhost:8080/"
        },
        "id": "JN7VU6ErJ6-m",
        "outputId": "abd5e458-cb2a-49c6-843f-656adc9adde3"
      },
      "execution_count": 8,
      "outputs": [
        {
          "output_type": "stream",
          "name": "stdout",
          "text": [
            "{\"tunnels\":[],\"uri\":\"/api/tunnels\"}\n"
          ]
        }
      ]
    },
    {
      "cell_type": "code",
      "source": [
        "spark"
      ],
      "metadata": {
        "id": "vDWpd4nrVKwm",
        "colab": {
          "base_uri": "https://localhost:8080/",
          "height": 219
        },
        "outputId": "47105168-5647-425b-d6ff-255a5e8c3c5f"
      },
      "execution_count": 9,
      "outputs": [
        {
          "output_type": "execute_result",
          "data": {
            "text/plain": [
              "<pyspark.sql.session.SparkSession at 0x7ff0ac3eba00>"
            ],
            "text/html": [
              "\n",
              "            <div>\n",
              "                <p><b>SparkSession - in-memory</b></p>\n",
              "                \n",
              "        <div>\n",
              "            <p><b>SparkContext</b></p>\n",
              "\n",
              "            <p><a href=\"http://c33e83081241:4050\">Spark UI</a></p>\n",
              "\n",
              "            <dl>\n",
              "              <dt>Version</dt>\n",
              "                <dd><code>v3.1.2</code></dd>\n",
              "              <dt>Master</dt>\n",
              "                <dd><code>local[*]</code></dd>\n",
              "              <dt>AppName</dt>\n",
              "                <dd><code>recomendador</code></dd>\n",
              "            </dl>\n",
              "        </div>\n",
              "        \n",
              "            </div>\n",
              "        "
            ]
          },
          "metadata": {},
          "execution_count": 9
        }
      ]
    },
    {
      "cell_type": "markdown",
      "source": [
        "Carregamento dos dados:"
      ],
      "metadata": {
        "id": "9Te7vFd8ddtt"
      }
    },
    {
      "cell_type": "markdown",
      "source": [
        "# 2. Carregamento e preparação dos dados"
      ],
      "metadata": {
        "id": "UTWlLTRvlM-K"
      }
    },
    {
      "cell_type": "markdown",
      "source": [
        "## a. Leitura do dataset"
      ],
      "metadata": {
        "id": "k8V1MvMj5PzO"
      }
    },
    {
      "cell_type": "code",
      "source": [
        "path='/content/drive/MyDrive/Colab Notebooks/projeto_data_science_imobni/dataset_ml_regressao'\n",
        "\n",
        "data = spark.read.parquet(path)"
      ],
      "metadata": {
        "id": "6_hFMHTuddN7"
      },
      "execution_count": 10,
      "outputs": []
    },
    {
      "cell_type": "code",
      "source": [
        "data.show(5)"
      ],
      "metadata": {
        "colab": {
          "base_uri": "https://localhost:8080/"
        },
        "id": "sdt03fOPeKkA",
        "outputId": "715594a5-0294-41b5-f12e-1cf22fd9e3da"
      },
      "execution_count": 11,
      "outputs": [
        {
          "output_type": "stream",
          "name": "stdout",
          "text": [
            "+--------------------+-----+---------+---------+-------+------+----+---------------+----------+-------+---------+------------+----------+----------+--------+--------+------------------+-------------+------------------+--------+-------+----------+------------+-----------------+---------------+\n",
            "|                  id|andar|area_util|banheiros|quartos|suites|vaga|         bairro|condominio|   iptu|    valor|zona_central|zona_norte|zona_oeste|zona_sul|Academia|animais_permitidos|Churrasqueira|condominio_fechado|Elevador|Piscina|Playground|portaria_24h|portao_eletronico|salao_de_festas|\n",
            "+--------------------+-----+---------+---------+-------+------+----+---------------+----------+-------+---------+------------+----------+----------+--------+--------+------------------+-------------+------------------+--------+-------+----------+------------+-----------------+---------------+\n",
            "|00790b85-56e3-43a...|   11|    166.0|        5|      4|     4|   2|    Jacarepaguá|    2100.0| 4600.0|1750000.0|           0|         0|         1|       0|       1|                 1|            1|                 1|       1|      1|         1|           1|                1|              1|\n",
            "|007f8099-8e1d-45f...|    4|    640.0|        5|     11|     3|   0|           Urca|    3060.0|20030.0|3800000.0|           0|         0|         0|       1|       0|                 1|            0|                 0|       0|      0|         0|           0|                1|              0|\n",
            "|00b23c6d-0e9d-4be...|    1|     50.0|        1|      2|     0|   1|Parada de Lucas|     363.0|   97.0| 192000.0|           0|         1|         0|       0|       1|                 1|            1|                 1|       0|      1|         1|           1|                0|              1|\n",
            "|012aebd7-278f-4b4...|    0|    160.0|        4|      3|     1|   3|        Ipanema|    1530.0| 7440.0|3490000.0|           0|         0|         0|       1|       0|                 0|            0|                 0|       1|      0|         0|           0|                0|              0|\n",
            "|0267dcdb-7705-44a...|    0|     52.0|        1|      2|     1|   1|      Pechincha|       0.0|    0.0| 440000.0|           0|         0|         1|       0|       0|                 0|            1|                 0|       0|      1|         1|           0|                0|              1|\n",
            "+--------------------+-----+---------+---------+-------+------+----+---------------+----------+-------+---------+------------+----------+----------+--------+--------+------------------+-------------+------------------+--------+-------+----------+------------+-----------------+---------------+\n",
            "only showing top 5 rows\n",
            "\n"
          ]
        }
      ]
    },
    {
      "cell_type": "code",
      "source": [
        "data.printSchema()"
      ],
      "metadata": {
        "colab": {
          "base_uri": "https://localhost:8080/"
        },
        "id": "cAHnwqXxzYeC",
        "outputId": "4a6400e4-0708-45f6-d168-82c823836c05"
      },
      "execution_count": 12,
      "outputs": [
        {
          "output_type": "stream",
          "name": "stdout",
          "text": [
            "root\n",
            " |-- id: string (nullable = true)\n",
            " |-- andar: integer (nullable = true)\n",
            " |-- area_util: double (nullable = true)\n",
            " |-- banheiros: integer (nullable = true)\n",
            " |-- quartos: integer (nullable = true)\n",
            " |-- suites: integer (nullable = true)\n",
            " |-- vaga: integer (nullable = true)\n",
            " |-- bairro: string (nullable = true)\n",
            " |-- condominio: double (nullable = true)\n",
            " |-- iptu: double (nullable = true)\n",
            " |-- valor: double (nullable = true)\n",
            " |-- zona_central: integer (nullable = true)\n",
            " |-- zona_norte: integer (nullable = true)\n",
            " |-- zona_oeste: integer (nullable = true)\n",
            " |-- zona_sul: integer (nullable = true)\n",
            " |-- Academia: integer (nullable = true)\n",
            " |-- animais_permitidos: integer (nullable = true)\n",
            " |-- Churrasqueira: integer (nullable = true)\n",
            " |-- condominio_fechado: integer (nullable = true)\n",
            " |-- Elevador: integer (nullable = true)\n",
            " |-- Piscina: integer (nullable = true)\n",
            " |-- Playground: integer (nullable = true)\n",
            " |-- portaria_24h: integer (nullable = true)\n",
            " |-- portao_eletronico: integer (nullable = true)\n",
            " |-- salao_de_festas: integer (nullable = true)\n",
            "\n"
          ]
        }
      ]
    },
    {
      "cell_type": "code",
      "source": [
        "print(f'Quantidade de linhas: {data.count()}')\n",
        "print(f'Quantidade de colunas: {len(data.columns)}')"
      ],
      "metadata": {
        "colab": {
          "base_uri": "https://localhost:8080/"
        },
        "id": "Oa4jrwC3znSb",
        "outputId": "73a1eb63-b473-4a39-9764-5a33fd4eccc7"
      },
      "execution_count": 14,
      "outputs": [
        {
          "output_type": "stream",
          "name": "stdout",
          "text": [
            "Quantidade de linhas: 66551\n",
            "Quantidade de colunas: 25\n"
          ]
        }
      ]
    },
    {
      "cell_type": "markdown",
      "source": [
        "Checagem de nulos: "
      ],
      "metadata": {
        "id": "1RdqH2juz7je"
      }
    },
    {
      "cell_type": "code",
      "source": [
        "from pyspark.sql import functions as f"
      ],
      "metadata": {
        "id": "Qkp28Jvn0Cq7"
      },
      "execution_count": 15,
      "outputs": []
    },
    {
      "cell_type": "code",
      "source": [
        "data.select([f.count(f.when(f.isnull(c), 1)).alias(c) for c in data.columns]).show()"
      ],
      "metadata": {
        "colab": {
          "base_uri": "https://localhost:8080/"
        },
        "id": "Z3ENcRlK0Mw_",
        "outputId": "a8f64942-5eff-4a02-94d2-54d3baffc447"
      },
      "execution_count": 18,
      "outputs": [
        {
          "output_type": "stream",
          "name": "stdout",
          "text": [
            "+---+-----+---------+---------+-------+------+----+------+----------+----+-----+------------+----------+----------+--------+--------+------------------+-------------+------------------+--------+-------+----------+------------+-----------------+---------------+\n",
            "| id|andar|area_util|banheiros|quartos|suites|vaga|bairro|condominio|iptu|valor|zona_central|zona_norte|zona_oeste|zona_sul|Academia|animais_permitidos|Churrasqueira|condominio_fechado|Elevador|Piscina|Playground|portaria_24h|portao_eletronico|salao_de_festas|\n",
            "+---+-----+---------+---------+-------+------+----+------+----------+----+-----+------------+----------+----------+--------+--------+------------------+-------------+------------------+--------+-------+----------+------------+-----------------+---------------+\n",
            "|  0|    0|        0|        0|      0|     0|   0|     0|         0|   0|    0|           0|         0|         0|       0|       0|                 0|            0|                 0|       0|      0|         0|           0|                0|              0|\n",
            "+---+-----+---------+---------+-------+------+----+------+----------+----+-----+------------+----------+----------+--------+--------+------------------+-------------+------------------+--------+-------+----------+------------+-----------------+---------------+\n",
            "\n"
          ]
        }
      ]
    },
    {
      "cell_type": "markdown",
      "source": [
        "Nenhuma variável com atributo nulo, como previsto no último tratamento!"
      ],
      "metadata": {
        "id": "BnnncKXw06mx"
      }
    },
    {
      "cell_type": "markdown",
      "source": [
        "## b. Preparração dos dados"
      ],
      "metadata": {
        "id": "klH1TWa1AIlQ"
      }
    },
    {
      "cell_type": "markdown",
      "source": [
        "O modddelo de clustering a ser montado também demanda a vetorizaçõ dos dados, assim como os modelos de regressão demandavam:"
      ],
      "metadata": {
        "id": "SBWXYLwJAyUl"
      }
    },
    {
      "cell_type": "code",
      "source": [
        "from pyspark.ml.feature import VectorAssembler"
      ],
      "metadata": {
        "id": "-HSE9RpA8_fn"
      },
      "execution_count": 27,
      "outputs": []
    },
    {
      "cell_type": "code",
      "source": [
        "data.columns"
      ],
      "metadata": {
        "colab": {
          "base_uri": "https://localhost:8080/"
        },
        "id": "mm25lRD5gFqj",
        "outputId": "0f47e304-9747-4d24-8031-c1b7227de3f9"
      },
      "execution_count": 19,
      "outputs": [
        {
          "output_type": "execute_result",
          "data": {
            "text/plain": [
              "['id',\n",
              " 'andar',\n",
              " 'area_util',\n",
              " 'banheiros',\n",
              " 'quartos',\n",
              " 'suites',\n",
              " 'vaga',\n",
              " 'bairro',\n",
              " 'condominio',\n",
              " 'iptu',\n",
              " 'valor',\n",
              " 'zona_central',\n",
              " 'zona_norte',\n",
              " 'zona_oeste',\n",
              " 'zona_sul',\n",
              " 'Academia',\n",
              " 'animais_permitidos',\n",
              " 'Churrasqueira',\n",
              " 'condominio_fechado',\n",
              " 'Elevador',\n",
              " 'Piscina',\n",
              " 'Playground',\n",
              " 'portaria_24h',\n",
              " 'portao_eletronico',\n",
              " 'salao_de_festas']"
            ]
          },
          "metadata": {},
          "execution_count": 19
        }
      ]
    },
    {
      "cell_type": "markdown",
      "source": [
        "Desta vez, todas as colunas serão utilizadas no modelo, exceto:\n",
        "*  `id`: identificador único e \n",
        "*  `bairro`: não foi transformada em variável dummy por possuir muitas atribuições\n",
        "\n",
        "Aqui, outra especificidade: a coluna `valor` não é removida para o modelo, pois o cluster será criado de acordo com um algoritmo não supervisionado, em que não é necessário uma variável alvo. "
      ],
      "metadata": {
        "id": "b-Sj7Wy69kG6"
      }
    },
    {
      "cell_type": "code",
      "source": [
        "input_col = [i for i in data.columns if i not in ['id', 'bairro']]\n",
        "\n",
        "print(input_col)"
      ],
      "metadata": {
        "colab": {
          "base_uri": "https://localhost:8080/"
        },
        "id": "xSd2nvun96GN",
        "outputId": "e56397cc-3c10-4f81-94ae-f25326ef4c31"
      },
      "execution_count": 25,
      "outputs": [
        {
          "output_type": "stream",
          "name": "stdout",
          "text": [
            "['andar', 'area_util', 'banheiros', 'quartos', 'suites', 'vaga', 'condominio', 'iptu', 'valor', 'zona_central', 'zona_norte', 'zona_oeste', 'zona_sul', 'Academia', 'animais_permitidos', 'Churrasqueira', 'condominio_fechado', 'Elevador', 'Piscina', 'Playground', 'portaria_24h', 'portao_eletronico', 'salao_de_festas']\n"
          ]
        }
      ]
    },
    {
      "cell_type": "code",
      "source": [
        "assembler = VectorAssembler(inputCols=input_col, outputCol='features')"
      ],
      "metadata": {
        "id": "6AR5L7TV-UB5"
      },
      "execution_count": 28,
      "outputs": []
    },
    {
      "cell_type": "code",
      "source": [
        "data_prep = assembler.transform(data).select(['features'])"
      ],
      "metadata": {
        "id": "p38aWnN0-vE6"
      },
      "execution_count": 29,
      "outputs": []
    },
    {
      "cell_type": "code",
      "source": [
        "data_prep.show(truncate=False, n=5)"
      ],
      "metadata": {
        "colab": {
          "base_uri": "https://localhost:8080/"
        },
        "id": "aaMyYHUq-XMV",
        "outputId": "79f0e7e5-8ec4-494b-8f11-50625ead72d0"
      },
      "execution_count": 30,
      "outputs": [
        {
          "output_type": "stream",
          "name": "stdout",
          "text": [
            "+------------------------------------------------------------------------------------------------------------+\n",
            "|features                                                                                                    |\n",
            "+------------------------------------------------------------------------------------------------------------+\n",
            "|[11.0,166.0,5.0,4.0,4.0,2.0,2100.0,4600.0,1750000.0,0.0,0.0,1.0,0.0,1.0,1.0,1.0,1.0,1.0,1.0,1.0,1.0,1.0,1.0]|\n",
            "|(23,[0,1,2,3,4,6,7,8,12,14,21],[4.0,640.0,5.0,11.0,3.0,3060.0,20030.0,3800000.0,1.0,1.0,1.0])               |\n",
            "|[1.0,50.0,1.0,2.0,0.0,1.0,363.0,97.0,192000.0,0.0,1.0,0.0,0.0,1.0,1.0,1.0,1.0,0.0,1.0,1.0,1.0,0.0,1.0]      |\n",
            "|(23,[1,2,3,4,5,6,7,8,12,17],[160.0,4.0,3.0,1.0,3.0,1530.0,7440.0,3490000.0,1.0,1.0])                        |\n",
            "|(23,[1,2,3,4,5,8,11,15,18,19,22],[52.0,1.0,2.0,1.0,1.0,440000.0,1.0,1.0,1.0,1.0,1.0])                       |\n",
            "+------------------------------------------------------------------------------------------------------------+\n",
            "only showing top 5 rows\n",
            "\n"
          ]
        }
      ]
    },
    {
      "cell_type": "markdown",
      "source": [
        "## c. Padronização dos dados"
      ],
      "metadata": {
        "id": "rRcOy-E3_SPt"
      }
    },
    {
      "cell_type": "markdown",
      "source": [
        "Com a classe `StandardScaler` do PySpark, pode-se padronizar os dados, fazendo com que adquiram média 0 e desvio padrão 1, de acordo com a fórmula *z-score*:\n",
        "\n",
        "<center>\n",
        "$x_{i} = \\dfrac{x_{i} - \\mu}{\\sigma}$\n",
        "</center>\n",
        "\n",
        "em que a $\\mu$ representa a média aritmética do conjunto e $\\sigma$ seu desvio padrão."
      ],
      "metadata": {
        "id": "DRaKquyi_Xwo"
      }
    },
    {
      "cell_type": "code",
      "source": [
        "from pyspark.ml.feature import StandardScaler"
      ],
      "metadata": {
        "id": "1f5kTs9z_XHh"
      },
      "execution_count": 31,
      "outputs": []
    },
    {
      "cell_type": "code",
      "source": [
        "scaler = StandardScaler(inputCol='features', outputCol='scaled_features')\n",
        "scaler_model = scaler.fit(data_prep)\n",
        "data_scaler = scaler_model.transform(data_prep)"
      ],
      "metadata": {
        "id": "zH7KOnT6BYb1"
      },
      "execution_count": 33,
      "outputs": []
    },
    {
      "cell_type": "code",
      "source": [
        "data_scaler.show(5, truncate=False)"
      ],
      "metadata": {
        "colab": {
          "base_uri": "https://localhost:8080/"
        },
        "id": "eYnmusinBjzq",
        "outputId": "f066781c-394c-4af8-c583-3be1d581c67f"
      },
      "execution_count": 35,
      "outputs": [
        {
          "output_type": "stream",
          "name": "stdout",
          "text": [
            "+------------------------------------------------------------------------------------------------------------+----------------------------------------------------------------------------------------------------------------------------------------------------------------------------------------------------------------------------------------------------------------------------------------------------------------------------------------------------------------------------------------------------+\n",
            "|features                                                                                                    |scaled_features                                                                                                                                                                                                                                                                                                                                                                                     |\n",
            "+------------------------------------------------------------------------------------------------------------+----------------------------------------------------------------------------------------------------------------------------------------------------------------------------------------------------------------------------------------------------------------------------------------------------------------------------------------------------------------------------------------------------+\n",
            "|[11.0,166.0,5.0,4.0,4.0,2.0,2100.0,4600.0,1750000.0,0.0,0.0,1.0,0.0,1.0,1.0,1.0,1.0,1.0,1.0,1.0,1.0,1.0,1.0]|[0.7484249436138242,1.8631589191009639,3.6811694096817855,4.403280974701521,3.753883296713496,1.4893400916863258,0.020162028711138737,0.026879151254259267,1.189023524203362,0.0,0.0,2.0000643742960476,0.0,2.029288675697721,2.0063986358410992,2.00212608660304,2.0026140142259217,2.0917437099198977,1.9999864552247013,2.001812384720792,2.007706141209056,2.0142448870054395,2.000069820806827]|\n",
            "|(23,[0,1,2,3,4,6,7,8,12,14,21],[4.0,640.0,5.0,11.0,3.0,3060.0,20030.0,3800000.0,1.0,1.0,1.0])               |(23,[0,1,2,3,4,6,7,8,12,14,21],[0.27215452495048154,7.183263302557933,3.6811694096817855,12.109022680429183,2.815412472535122,0.029378956121945018,0.11704117383104633,2.581879652555872,2.165075093568037,2.0063986358410992,2.0142448870054395])                                                                                                                                                  |\n",
            "|[1.0,50.0,1.0,2.0,0.0,1.0,363.0,97.0,192000.0,0.0,1.0,0.0,0.0,1.0,1.0,1.0,1.0,0.0,1.0,1.0,1.0,0.0,1.0]      |[0.06803863123762038,0.5611924455123385,0.7362338819363571,2.2016404873507605,0.0,0.7446700458431629,0.0034851506772111246,5.66799493839815E-4,0.13045286665545458,0.0,2.6098864683972236,0.0,0.0,2.029288675697721,2.0063986358410992,2.00212608660304,2.0026140142259217,0.0,1.9999864552247013,2.001812384720792,2.007706141209056,0.0,2.000069820806827]                                        |\n",
            "|(23,[1,2,3,4,5,6,7,8,12,17],[160.0,4.0,3.0,1.0,3.0,1530.0,7440.0,3490000.0,1.0,1.0])                        |(23,[1,2,3,4,5,6,7,8,12,17],[1.7958158256394832,2.9449355277454283,3.302460731026141,0.938470824178374,2.2340101375294887,0.014689478060972509,0.0434741055068889,2.371252628268419,2.165075093568037,2.0917437099198977])                                                                                                                                                                          |\n",
            "|(23,[1,2,3,4,5,8,11,15,18,19,22],[52.0,1.0,2.0,1.0,1.0,440000.0,1.0,1.0,1.0,1.0,1.0])                       |(23,[1,2,3,4,5,8,11,15,18,19,22],[0.5836401433328321,0.7362338819363571,2.2016404873507605,0.938470824178374,0.7446700458431629,0.29895448608541675,2.0000643742960476,2.00212608660304,1.9999864552247013,2.001812384720792,2.000069820806827])                                                                                                                                                    |\n",
            "+------------------------------------------------------------------------------------------------------------+----------------------------------------------------------------------------------------------------------------------------------------------------------------------------------------------------------------------------------------------------------------------------------------------------------------------------------------------------------------------------------------------------+\n",
            "only showing top 5 rows\n",
            "\n"
          ]
        }
      ]
    },
    {
      "cell_type": "markdown",
      "source": [
        "## d. Redução de dimensionalidade"
      ],
      "metadata": {
        "id": "d3iRzXTdC_8i"
      }
    },
    {
      "cell_type": "markdown",
      "source": [
        "Para gerar uma combinação linear de todas as colunas e assim diminuir a dimensão do sistema, realiza-se a redução de dimensionalidade através da classe `PCA`:"
      ],
      "metadata": {
        "id": "JEVK_C3SDOfH"
      }
    },
    {
      "cell_type": "markdown",
      "source": [],
      "metadata": {
        "id": "NpM-HUUhDFwG"
      }
    },
    {
      "cell_type": "code",
      "source": [
        "from pyspark.ml.feature import PCA"
      ],
      "metadata": {
        "id": "RZsm1GlcC_mr"
      },
      "execution_count": 37,
      "outputs": []
    },
    {
      "cell_type": "code",
      "source": [
        "pca = PCA(k=2, inputCol='scaled_features', outputCol='pca_features')\n",
        "model_pca = pca.fit(data_scaler)\n",
        "data_pca = model_pca.transform(data_scaler)"
      ],
      "metadata": {
        "id": "ippVDjAPBrbi"
      },
      "execution_count": 39,
      "outputs": []
    },
    {
      "cell_type": "code",
      "source": [
        "data_pca.select('pca_features').show(5, truncate=False)"
      ],
      "metadata": {
        "colab": {
          "base_uri": "https://localhost:8080/"
        },
        "id": "VY04ivGUDwm5",
        "outputId": "13139384-b037-446f-dba7-49fcb3713f67"
      },
      "execution_count": 40,
      "outputs": [
        {
          "output_type": "stream",
          "name": "stdout",
          "text": [
            "+-----------------------------------------+\n",
            "|pca_features                             |\n",
            "+-----------------------------------------+\n",
            "|[-7.914179810286645,-5.023192740643855]  |\n",
            "|[-2.9387320766371854,-11.039000981915969]|\n",
            "|[-5.091216714107638,-0.14189723285462086]|\n",
            "|[-1.3047552598967092,-5.1610096090868485]|\n",
            "|[-3.394864973027069,-1.895405603870326]  |\n",
            "+-----------------------------------------+\n",
            "only showing top 5 rows\n",
            "\n"
          ]
        }
      ]
    },
    {
      "cell_type": "markdown",
      "source": [
        "# Criação de um pipeline de transformação"
      ],
      "metadata": {
        "id": "HFFENwxBEGie"
      }
    },
    {
      "cell_type": "markdown",
      "source": [
        "A implementação da classe `Pipeline` facilita muito a forma como se estabelece um conjunto de transformações de dados nos scripts PySpark: "
      ],
      "metadata": {
        "id": "mt3c4oHREiCu"
      }
    },
    {
      "cell_type": "code",
      "source": [
        "from pyspark.ml import Pipeline"
      ],
      "metadata": {
        "id": "RT33wuhVEWIF"
      },
      "execution_count": 41,
      "outputs": []
    },
    {
      "cell_type": "markdown",
      "source": [
        "Como se viu nas células anteriores, o pipeline deste projeto é constituído pelos seguintes estágios:\n",
        "\n",
        "`vectorr_assembler` > `standard_scaler` > `pca`"
      ],
      "metadata": {
        "id": "XMGlNHtOFdwH"
      }
    },
    {
      "cell_type": "code",
      "source": [
        "pca_pipeline = Pipeline(stages=[assembler, scaler, pca])"
      ],
      "metadata": {
        "id": "wwDtTU7eGW8O"
      },
      "execution_count": 42,
      "outputs": []
    },
    {
      "cell_type": "code",
      "source": [
        "pca_pipeline_model = pca_pipeline.fit(data)"
      ],
      "metadata": {
        "id": "6OJxStbDGrO1"
      },
      "execution_count": 44,
      "outputs": []
    },
    {
      "cell_type": "code",
      "source": [
        "data_pca = pca_pipeline_model.transform(data)"
      ],
      "metadata": {
        "id": "ViEo3CemGvpl"
      },
      "execution_count": 47,
      "outputs": []
    },
    {
      "cell_type": "code",
      "source": [
        "data_pca.show(5)"
      ],
      "metadata": {
        "colab": {
          "base_uri": "https://localhost:8080/"
        },
        "id": "_hzGmw3rHHNN",
        "outputId": "fd63bc8a-cb0f-4f15-baa9-9740b2c94a39"
      },
      "execution_count": 48,
      "outputs": [
        {
          "output_type": "stream",
          "name": "stdout",
          "text": [
            "+--------------------+-----+---------+---------+-------+------+----+---------------+----------+-------+---------+------------+----------+----------+--------+--------+------------------+-------------+------------------+--------+-------+----------+------------+-----------------+---------------+--------------------+--------------------+--------------------+\n",
            "|                  id|andar|area_util|banheiros|quartos|suites|vaga|         bairro|condominio|   iptu|    valor|zona_central|zona_norte|zona_oeste|zona_sul|Academia|animais_permitidos|Churrasqueira|condominio_fechado|Elevador|Piscina|Playground|portaria_24h|portao_eletronico|salao_de_festas|            features|     scaled_features|        pca_features|\n",
            "+--------------------+-----+---------+---------+-------+------+----+---------------+----------+-------+---------+------------+----------+----------+--------+--------+------------------+-------------+------------------+--------+-------+----------+------------+-----------------+---------------+--------------------+--------------------+--------------------+\n",
            "|00790b85-56e3-43a...|   11|    166.0|        5|      4|     4|   2|    Jacarepaguá|    2100.0| 4600.0|1750000.0|           0|         0|         1|       0|       1|                 1|            1|                 1|       1|      1|         1|           1|                1|              1|[11.0,166.0,5.0,4...|[0.74842494361382...|[-7.9141798102866...|\n",
            "|007f8099-8e1d-45f...|    4|    640.0|        5|     11|     3|   0|           Urca|    3060.0|20030.0|3800000.0|           0|         0|         0|       1|       0|                 1|            0|                 0|       0|      0|         0|           0|                1|              0|(23,[0,1,2,3,4,6,...|(23,[0,1,2,3,4,6,...|[-2.9387320766371...|\n",
            "|00b23c6d-0e9d-4be...|    1|     50.0|        1|      2|     0|   1|Parada de Lucas|     363.0|   97.0| 192000.0|           0|         1|         0|       0|       1|                 1|            1|                 1|       0|      1|         1|           1|                0|              1|[1.0,50.0,1.0,2.0...|[0.06803863123762...|[-5.0912167141076...|\n",
            "|012aebd7-278f-4b4...|    0|    160.0|        4|      3|     1|   3|        Ipanema|    1530.0| 7440.0|3490000.0|           0|         0|         0|       1|       0|                 0|            0|                 0|       1|      0|         0|           0|                0|              0|(23,[1,2,3,4,5,6,...|(23,[1,2,3,4,5,6,...|[-1.3047552598967...|\n",
            "|0267dcdb-7705-44a...|    0|     52.0|        1|      2|     1|   1|      Pechincha|       0.0|    0.0| 440000.0|           0|         0|         1|       0|       0|                 0|            1|                 0|       0|      1|         1|           0|                0|              1|(23,[1,2,3,4,5,8,...|(23,[1,2,3,4,5,8,...|[-3.3948649730270...|\n",
            "+--------------------+-----+---------+---------+-------+------+----+---------------+----------+-------+---------+------------+----------+----------+--------+--------+------------------+-------------+------------------+--------+-------+----------+------------+-----------------+---------------+--------------------+--------------------+--------------------+\n",
            "only showing top 5 rows\n",
            "\n"
          ]
        }
      ]
    },
    {
      "cell_type": "markdown",
      "source": [
        "Resultado da redução:"
      ],
      "metadata": {
        "id": "YSh0PNHoIWsW"
      }
    },
    {
      "cell_type": "code",
      "source": [
        "data_pca.select('pca_features').show(5, truncate=False)"
      ],
      "metadata": {
        "colab": {
          "base_uri": "https://localhost:8080/"
        },
        "id": "3q1DT47LH15d",
        "outputId": "2ce3aa68-a5a6-4679-b2ff-f5901141a2b0"
      },
      "execution_count": 50,
      "outputs": [
        {
          "output_type": "stream",
          "name": "stdout",
          "text": [
            "+-----------------------------------------+\n",
            "|pca_features                             |\n",
            "+-----------------------------------------+\n",
            "|[-7.914179810286645,-5.023192740643855]  |\n",
            "|[-2.9387320766371854,-11.039000981915969]|\n",
            "|[-5.091216714107638,-0.14189723285462086]|\n",
            "|[-1.3047552598967092,-5.1610096090868485]|\n",
            "|[-3.394864973027069,-1.895405603870326]  |\n",
            "+-----------------------------------------+\n",
            "only showing top 5 rows\n",
            "\n"
          ]
        }
      ]
    },
    {
      "cell_type": "markdown",
      "source": [
        "#Clusterização dos dados com o algoritmo KMeans"
      ],
      "metadata": {
        "id": "U_NV0ExuId9g"
      }
    },
    {
      "cell_type": "markdown",
      "source": [
        "Com a classe `KMeans` implementa-se o algoritmo que será responsável por agrupar os dados que possuem características semelhantes (cluster)."
      ],
      "metadata": {
        "id": "gLkcWMuUIo78"
      }
    },
    {
      "cell_type": "code",
      "source": [
        "from pyspark.ml.clustering import KMeans"
      ],
      "metadata": {
        "id": "qd10Efr2LCRj"
      },
      "execution_count": 51,
      "outputs": []
    },
    {
      "cell_type": "code",
      "source": [
        "SEED = 1224"
      ],
      "metadata": {
        "id": "DXg_Q9MtLDo8"
      },
      "execution_count": 52,
      "outputs": []
    },
    {
      "cell_type": "markdown",
      "source": [
        "O algoritmo `KMeans` precisa das seguintes entradas:\n",
        "\n",
        "*  `featuresCol`: coluna dos dados a serem clusterizados\n",
        "*  `predictionCol`: coluna de clusters a que cada dado pertence\n",
        "*  `k`: número de cluster a serem criados\n",
        "*  `seed`: número para geração de números pseudoaletórios\n"
      ],
      "metadata": {
        "id": "9HNULX5BLX9g"
      }
    },
    {
      "cell_type": "code",
      "source": [
        "kmeans = KMeans(featuresCol='pca_features', predictionCol='cluster_pca', k=5, seed=SEED)"
      ],
      "metadata": {
        "id": "aHADQE6MLIB9"
      },
      "execution_count": 53,
      "outputs": []
    },
    {
      "cell_type": "code",
      "source": [
        "model_kmeans = kmeans.fit(data_pca)"
      ],
      "metadata": {
        "id": "r2DVdrMGRcFb"
      },
      "execution_count": 54,
      "outputs": []
    },
    {
      "cell_type": "code",
      "source": [
        "predictions_kmeans = model_kmeans.transform(data_pca)"
      ],
      "metadata": {
        "id": "oT0QaqQNRfar"
      },
      "execution_count": 55,
      "outputs": []
    },
    {
      "cell_type": "code",
      "source": [
        "predictions_kmeans.select('pca_features', 'cluster_pca')\\\n",
        "    .show(5, truncate=False)"
      ],
      "metadata": {
        "colab": {
          "base_uri": "https://localhost:8080/"
        },
        "id": "PWU3bTZIRlrC",
        "outputId": "d7339b08-431e-4f9f-851d-0202b0b37bb9"
      },
      "execution_count": 56,
      "outputs": [
        {
          "output_type": "stream",
          "name": "stdout",
          "text": [
            "+-----------------------------------------+-----------+\n",
            "|pca_features                             |cluster_pca|\n",
            "+-----------------------------------------+-----------+\n",
            "|[-7.914179810286645,-5.023192740643855]  |1          |\n",
            "|[-2.9387320766371854,-11.039000981915969]|3          |\n",
            "|[-5.091216714107638,-0.14189723285462086]|2          |\n",
            "|[-1.3047552598967092,-5.1610096090868485]|3          |\n",
            "|[-3.394864973027069,-1.895405603870326]  |4          |\n",
            "+-----------------------------------------+-----------+\n",
            "only showing top 5 rows\n",
            "\n"
          ]
        }
      ]
    },
    {
      "cell_type": "markdown",
      "source": [
        "## a. Análise dos clusters criados"
      ],
      "metadata": {
        "id": "27BjZU2JR9GL"
      }
    },
    {
      "cell_type": "markdown",
      "source": [
        "A query a seguir mostra um resumo para informações dos clusters de acordo com as informações dos cômodos e de tamanho do imóvel:"
      ],
      "metadata": {
        "id": "uTxzq8riSZ9q"
      }
    },
    {
      "cell_type": "code",
      "source": [
        "data_pca\\\n",
        "    .join(predictions_kmeans.select('id', 'cluster_pca'), on='id')\\\n",
        "    .groupBy('cluster_pca')\\\n",
        "    .agg(\n",
        "        f.count('id').alias('quantidade'),\n",
        "        f.mean('valor').alias('valor_medio'),\n",
        "        f.mean('area_util').alias('area_media'),\n",
        "        f.round(f.mean('quartos'),0).alias('quartos_medio'),\n",
        "        f.round(f.mean('vaga'), 0).alias('vagas_medio'),\n",
        "        f.round(f.mean('banheiros'), 0).alias('banheiros_medio'),\n",
        "        f.round(f.mean('suites'), 0).alias('suites_medio'),\n",
        "        f.mean('condominio').alias('condominio_medio'),\n",
        "        f.mean('iptu').alias('iptu_medio'),\n",
        "    )\\\n",
        "    .orderBy('cluster_pca')\\\n",
        "    .show()"
      ],
      "metadata": {
        "colab": {
          "base_uri": "https://localhost:8080/"
        },
        "id": "j2uSXrUORqcb",
        "outputId": "dd73207f-a6bd-41ed-de6b-13dc2169c19f"
      },
      "execution_count": 57,
      "outputs": [
        {
          "output_type": "stream",
          "name": "stdout",
          "text": [
            "+-----------+----------+------------------+------------------+-------------+-----------+---------------+------------+------------------+------------------+\n",
            "|cluster_pca|quantidade|       valor_medio|        area_media|quartos_medio|vagas_medio|banheiros_medio|suites_medio|  condominio_medio|        iptu_medio|\n",
            "+-----------+----------+------------------+------------------+-------------+-----------+---------------+------------+------------------+------------------+\n",
            "|          0|     17674| 808818.4721059183| 84.18343329184113|          2.0|        1.0|            2.0|         0.0|1672.2981215344573|1728.4869299536042|\n",
            "|          1|      5187| 3847158.789666474| 282.5008675534991|          4.0|        3.0|            5.0|         3.0| 16862.68016194332|16832.253518411413|\n",
            "|          2|     20501| 856104.6322618409| 90.19145407541096|          2.0|        1.0|            2.0|         1.0| 4294.944929515634|3311.0277547436713|\n",
            "|          3|      8300|2702813.2746987953|207.83048192771085|          4.0|        2.0|            4.0|         2.0| 6563.902168674699|12932.812409638555|\n",
            "|          4|     14889| 800073.9991268722|  83.4073477063604|          2.0|        1.0|            2.0|         1.0|3358.8673517361813|2035.5830478877024|\n",
            "+-----------+----------+------------------+------------------+-------------+-----------+---------------+------------+------------------+------------------+\n",
            "\n"
          ]
        }
      ]
    },
    {
      "cell_type": "markdown",
      "source": [
        "## b. Pesquisa pelo número ideal de componentes após a transformação PCA"
      ],
      "metadata": {
        "id": "yh0gMOFETVMk"
      }
    },
    {
      "cell_type": "markdown",
      "source": [
        "Como atividade extra, verifica-se a quantidade ideal de componentes que os dados devem possuir após a transformação PCA. Para isto, vale-se da medida de **variância explicada**."
      ],
      "metadata": {
        "id": "_rXF-4uaT6fv"
      }
    },
    {
      "cell_type": "code",
      "source": [
        "pca_pipeline_model.stages[2].explainedVariance"
      ],
      "metadata": {
        "colab": {
          "base_uri": "https://localhost:8080/"
        },
        "id": "4Rg9jFFTSL9T",
        "outputId": "0a03c7b3-0754-40dd-df52-faf80fb5acef"
      },
      "execution_count": 58,
      "outputs": [
        {
          "output_type": "execute_result",
          "data": {
            "text/plain": [
              "DenseVector([0.2655, 0.1721])"
            ]
          },
          "metadata": {},
          "execution_count": 58
        }
      ]
    },
    {
      "cell_type": "code",
      "source": [
        "k = len(input_col)"
      ],
      "metadata": {
        "id": "lyb-9T74V-fD"
      },
      "execution_count": 59,
      "outputs": []
    },
    {
      "cell_type": "code",
      "source": [
        "print(k)"
      ],
      "metadata": {
        "colab": {
          "base_uri": "https://localhost:8080/"
        },
        "id": "GZTY-bfpWLBv",
        "outputId": "26aa3908-b67e-4d0d-dd63-6b70628b6fb7"
      },
      "execution_count": 60,
      "outputs": [
        {
          "output_type": "stream",
          "name": "stdout",
          "text": [
            "23\n"
          ]
        }
      ]
    },
    {
      "cell_type": "code",
      "source": [
        "data_pca.select('pca_features').show(5, truncate=False)"
      ],
      "metadata": {
        "colab": {
          "base_uri": "https://localhost:8080/"
        },
        "id": "ZjOXuZNjWNLW",
        "outputId": "680bb6f4-77e6-443e-c2b9-8f6346326ddc"
      },
      "execution_count": 61,
      "outputs": [
        {
          "output_type": "stream",
          "name": "stdout",
          "text": [
            "+-----------------------------------------+\n",
            "|pca_features                             |\n",
            "+-----------------------------------------+\n",
            "|[-7.914179810286645,-5.023192740643855]  |\n",
            "|[-2.9387320766371854,-11.039000981915969]|\n",
            "|[-5.091216714107638,-0.14189723285462086]|\n",
            "|[-1.3047552598967092,-5.1610096090868485]|\n",
            "|[-3.394864973027069,-1.895405603870326]  |\n",
            "+-----------------------------------------+\n",
            "only showing top 5 rows\n",
            "\n"
          ]
        }
      ]
    },
    {
      "cell_type": "code",
      "source": [
        "pca = PCA(k=k, inputCol='scaled_features', outputCol='pca_features')\n",
        "model_pca = pca.fit(data_pca.drop('pca_features'))\n",
        "data_imoveis_pca = model_pca.transform(data_pca.drop('pca_features'))"
      ],
      "metadata": {
        "id": "JzkVyDxVWUbu"
      },
      "execution_count": 63,
      "outputs": []
    },
    {
      "cell_type": "code",
      "source": [
        "data_imoveis_pca.select(\"pca_features\").show(5, truncate=False)"
      ],
      "metadata": {
        "colab": {
          "base_uri": "https://localhost:8080/"
        },
        "id": "SfSLdskbWqG2",
        "outputId": "22d228dd-8f72-4aef-e807-735cb08fc3ae"
      },
      "execution_count": 64,
      "outputs": [
        {
          "output_type": "stream",
          "name": "stdout",
          "text": [
            "+------------------------------------------------------------------------------------------------------------------------------------------------------------------------------------------------------------------------------------------------------------------------------------------------------------------------------------------------------------------------------------------------------------------------------------------------------------------------------+\n",
            "|pca_features                                                                                                                                                                                                                                                                                                                                                                                                                                                                  |\n",
            "+------------------------------------------------------------------------------------------------------------------------------------------------------------------------------------------------------------------------------------------------------------------------------------------------------------------------------------------------------------------------------------------------------------------------------------------------------------------------------+\n",
            "|[-7.914179810286645,-5.023192740643855,-1.0110361124443572,0.9748710818561165,-0.2847670025663571,-0.2961858190165721,-0.2529093215299001,0.15758878102810409,-0.1907265107479153,-1.4929831544379613,-0.3025048154020183,1.5825753216022198,0.4641954050452842,-1.535691087479147,0.013938385381818859,-0.03144277071261006,0.07079600992008397,-0.14839656523959222,0.35118743532382396,0.008214085520153125,-0.012062402861494431,0.22612740314283722,-1.2628719820691996] |\n",
            "|[-2.9387320766371854,-11.039000981915969,-4.038490438016008,2.187986153253321,-0.4378607661628024,-0.09260027190872544,-0.24182651704594338,-0.3104240030730797,-0.3643822542584864,-3.8549488855288434,1.853058676082265,3.589376551467244,-5.242280814919676,-4.509630525985292,-0.4084148095676265,0.6556649496662995,0.9685023457504999,-0.5291446213360733,0.7330671170355295,-0.5478676108987832,1.490495202760369,-1.2980952922752556,-1.2628719820685868]             |\n",
            "|[-5.091216714107638,-0.14189723285462086,-0.14369304838874064,2.7753925806355486,0.1370110834766389,1.0604617546093669,-0.26372821861880286,0.011836528170183602,-0.028905507930924324,0.06484333214654973,1.6402863650250483,0.46137665321507415,-0.7694091500062232,-1.4053625482719843,-0.5443681539966999,0.9658235058066449,0.01945190064973537,0.014781736280163882,-0.4489242317162744,0.013093576330420909,-1.3744731852794285,0.1574955510797076,-1.2628719820689345]|\n",
            "|[-1.3047552598967092,-5.1610096090868485,-2.151348198589035,0.5930678901415247,-0.04180116151994076,1.1330543488639435,-0.40791655584302233,-0.052819882501376855,-0.11364752665465891,0.6168218484408536,-1.659006612955144,0.9809835730929037,-0.678283175394524,-1.0427654660685086,0.02566365794293951,0.06520727360549664,0.06718993671270543,0.22657657952394308,-0.6204512214305324,-0.08822766337720514,0.035847621799685765,0.9407446902631738,-1.2628719820688925]  |\n",
            "|[-3.394864973027069,-1.895405603870326,2.041885447153389,0.021934892842320086,0.08521905610799077,0.9684732130864777,-0.19199331605261818,0.27117912696807334,-0.032173423277574976,-0.10906260891881214,0.5833764025594678,1.1827075970833694,-0.8566305250892665,-0.7040100817712798,-0.19699711324380786,-0.8959261439459912,-0.6382025949507539,-0.10198041757573062,0.5837957623435854,-0.8429721590297152,-0.1427414193286976,0.14279501027987018,-1.2628719820690002]  |\n",
            "+------------------------------------------------------------------------------------------------------------------------------------------------------------------------------------------------------------------------------------------------------------------------------------------------------------------------------------------------------------------------------------------------------------------------------------------------------------------------------+\n",
            "only showing top 5 rows\n",
            "\n"
          ]
        }
      ]
    },
    {
      "cell_type": "code",
      "source": [
        "round(sum(model_pca.explainedVariance)*100)"
      ],
      "metadata": {
        "colab": {
          "base_uri": "https://localhost:8080/"
        },
        "id": "yq_lZ3FEW012",
        "outputId": "52c2a0e1-b2f8-43c4-a11c-6d3b242fe914"
      },
      "execution_count": 66,
      "outputs": [
        {
          "output_type": "execute_result",
          "data": {
            "text/plain": [
              "100"
            ]
          },
          "metadata": {},
          "execution_count": 66
        }
      ]
    },
    {
      "cell_type": "markdown",
      "source": [
        "As 23 colunas explicam  100% dos daods."
      ],
      "metadata": {
        "id": "szJNvY4gXC2E"
      }
    },
    {
      "cell_type": "code",
      "source": [
        "model_pca.explainedVariance[:]"
      ],
      "metadata": {
        "colab": {
          "base_uri": "https://localhost:8080/"
        },
        "id": "PDog-1QMW6vO",
        "outputId": "7f80bd29-c910-4ed7-8bfd-728dbf9d8031"
      },
      "execution_count": 67,
      "outputs": [
        {
          "output_type": "execute_result",
          "data": {
            "text/plain": [
              "array([2.65457494e-01, 1.72067301e-01, 9.12744818e-02, 5.43737219e-02,\n",
              "       5.22298117e-02, 4.66203459e-02, 4.42659008e-02, 4.16021312e-02,\n",
              "       3.46818214e-02, 2.72266440e-02, 2.43947461e-02, 2.01043117e-02,\n",
              "       1.92103152e-02, 1.76122901e-02, 1.55070658e-02, 1.38947785e-02,\n",
              "       1.20074124e-02, 1.13351577e-02, 1.01096341e-02, 9.23012235e-03,\n",
              "       8.89844650e-03, 7.89606599e-03, 8.58369421e-15])"
            ]
          },
          "metadata": {},
          "execution_count": 67
        }
      ]
    },
    {
      "cell_type": "markdown",
      "source": [
        "Soma cumulativa (`cumsum`) dos valores de variância para cada componente principal:"
      ],
      "metadata": {
        "id": "YA6e6f6GXXpd"
      }
    },
    {
      "cell_type": "code",
      "source": [
        "import numpy as np"
      ],
      "metadata": {
        "id": "r5ET4fbxXP6-"
      },
      "execution_count": 68,
      "outputs": []
    },
    {
      "cell_type": "code",
      "source": [
        "lista_valores = np.cumsum(model_pca.explainedVariance[:])"
      ],
      "metadata": {
        "id": "2nxQlX-sXnwW"
      },
      "execution_count": 69,
      "outputs": []
    },
    {
      "cell_type": "code",
      "source": [
        "print(lista_valores)"
      ],
      "metadata": {
        "colab": {
          "base_uri": "https://localhost:8080/"
        },
        "id": "Ecfp7yyrYnns",
        "outputId": "255f9a63-0947-4b61-af27-779059ba7e63"
      },
      "execution_count": 70,
      "outputs": [
        {
          "output_type": "stream",
          "name": "stdout",
          "text": [
            "[0.26545749 0.43752479 0.52879928 0.583173   0.63540281 0.68202316\n",
            " 0.72628906 0.76789119 0.80257301 0.82979965 0.8541944  0.87429871\n",
            " 0.89350903 0.91112132 0.92662838 0.94052316 0.95253057 0.96386573\n",
            " 0.97397537 0.98320549 0.99210393 1.         1.        ]\n"
          ]
        }
      ]
    },
    {
      "cell_type": "markdown",
      "source": [
        "Com o intuito de se explicar até 70% dos dados, atualiza-se o valor de k:"
      ],
      "metadata": {
        "id": "DQc8dTQwYqxA"
      }
    },
    {
      "cell_type": "code",
      "source": [
        "k = sum(lista_valores <= 0.7)\n",
        "\n",
        "print(f'Novo k: {k}')"
      ],
      "metadata": {
        "colab": {
          "base_uri": "https://localhost:8080/"
        },
        "id": "6jofMwj2Ypav",
        "outputId": "d8cd87c4-1334-4ff1-e0a5-2f1d4d010e8f"
      },
      "execution_count": 73,
      "outputs": [
        {
          "output_type": "stream",
          "name": "stdout",
          "text": [
            "Novo k: 6\n"
          ]
        }
      ]
    },
    {
      "cell_type": "markdown",
      "source": [
        "E atualiza-se a redução também:"
      ],
      "metadata": {
        "id": "HsR_HFHvZL5j"
      }
    },
    {
      "cell_type": "code",
      "source": [
        "pca = PCA(k=k, inputCol='scaled_features', outputCol='pca_features')\n",
        "model_pca = pca.fit(data_pca.drop('pca_features'))\n",
        "data_imoveis_pca_final = model_pca.transform(data_pca.drop('pca_features'))"
      ],
      "metadata": {
        "id": "kP0I08P-Y3wP"
      },
      "execution_count": 75,
      "outputs": []
    },
    {
      "cell_type": "code",
      "source": [
        "data_imoveis_pca_final.select('pca_features').show(truncate=False, n=5)"
      ],
      "metadata": {
        "colab": {
          "base_uri": "https://localhost:8080/"
        },
        "id": "oTkzH5IhZcFP",
        "outputId": "c13c6755-b552-484d-dede-1432e4099010"
      },
      "execution_count": 76,
      "outputs": [
        {
          "output_type": "stream",
          "name": "stdout",
          "text": [
            "+-----------------------------------------------------------------------------------------------------------------------+\n",
            "|pca_features                                                                                                           |\n",
            "+-----------------------------------------------------------------------------------------------------------------------+\n",
            "|[-7.914179810286645,-5.023192740643855,-1.0110361124443572,0.9748710818561165,-0.2847670025663571,-0.2961858190165721] |\n",
            "|[-2.9387320766371854,-11.039000981915969,-4.038490438016008,2.187986153253321,-0.4378607661628024,-0.09260027190872544]|\n",
            "|[-5.091216714107638,-0.14189723285462086,-0.14369304838874064,2.7753925806355486,0.1370110834766389,1.0604617546093669]|\n",
            "|[-1.3047552598967092,-5.1610096090868485,-2.151348198589035,0.5930678901415247,-0.04180116151994076,1.1330543488639435]|\n",
            "|[-3.394864973027069,-1.895405603870326,2.041885447153389,0.021934892842320086,0.08521905610799077,0.9684732130864777]  |\n",
            "+-----------------------------------------------------------------------------------------------------------------------+\n",
            "only showing top 5 rows\n",
            "\n"
          ]
        }
      ]
    },
    {
      "cell_type": "markdown",
      "source": [
        "Validando a porcentagem de dados explicados pelo conjunto principal:"
      ],
      "metadata": {
        "id": "6NziWtuzZqET"
      }
    },
    {
      "cell_type": "code",
      "source": [
        "sum(model_pca.explainedVariance) *100"
      ],
      "metadata": {
        "colab": {
          "base_uri": "https://localhost:8080/"
        },
        "id": "7lYNOTtyZjBv",
        "outputId": "00e2c482-34ca-4011-9803-a4ec2085908c"
      },
      "execution_count": 77,
      "outputs": [
        {
          "output_type": "execute_result",
          "data": {
            "text/plain": [
              "68.20231562211643"
            ]
          },
          "metadata": {},
          "execution_count": 77
        }
      ]
    },
    {
      "cell_type": "markdown",
      "source": [
        "Novo pipeline:"
      ],
      "metadata": {
        "id": "tD1TWhWdapzg"
      }
    },
    {
      "cell_type": "code",
      "source": [
        "pca_pipeline = Pipeline(stages=[assembler, scaler, pca])"
      ],
      "metadata": {
        "id": "lTtSY88ra5Rk"
      },
      "execution_count": 78,
      "outputs": []
    },
    {
      "cell_type": "code",
      "source": [
        "model_pca_pipeline = pca_pipeline.fit(data)"
      ],
      "metadata": {
        "id": "FL_kT_F8a5Rl"
      },
      "execution_count": 81,
      "outputs": []
    },
    {
      "cell_type": "code",
      "source": [
        "projection = model_pca_pipeline.transform(data)"
      ],
      "metadata": {
        "id": "aCpT72fpa5Rm"
      },
      "execution_count": 82,
      "outputs": []
    },
    {
      "cell_type": "code",
      "source": [
        "projection.select('pca_features').show(truncate=False, n=5)"
      ],
      "metadata": {
        "colab": {
          "base_uri": "https://localhost:8080/"
        },
        "outputId": "0275e564-a82a-47e4-c2f1-4f9b612b188d",
        "id": "lViYzS65a5Rm"
      },
      "execution_count": 83,
      "outputs": [
        {
          "output_type": "stream",
          "name": "stdout",
          "text": [
            "+-----------------------------------------------------------------------------------------------------------------------+\n",
            "|pca_features                                                                                                           |\n",
            "+-----------------------------------------------------------------------------------------------------------------------+\n",
            "|[-7.914179810286645,-5.023192740643855,-1.0110361124443572,0.9748710818561165,-0.2847670025663571,-0.2961858190165721] |\n",
            "|[-2.9387320766371854,-11.039000981915969,-4.038490438016008,2.187986153253321,-0.4378607661628024,-0.09260027190872544]|\n",
            "|[-5.091216714107638,-0.14189723285462086,-0.14369304838874064,2.7753925806355486,0.1370110834766389,1.0604617546093669]|\n",
            "|[-1.3047552598967092,-5.1610096090868485,-2.151348198589035,0.5930678901415247,-0.04180116151994076,1.1330543488639435]|\n",
            "|[-3.394864973027069,-1.895405603870326,2.041885447153389,0.021934892842320086,0.08521905610799077,0.9684732130864777]  |\n",
            "+-----------------------------------------------------------------------------------------------------------------------+\n",
            "only showing top 5 rows\n",
            "\n"
          ]
        }
      ]
    },
    {
      "cell_type": "markdown",
      "source": [
        "Cálculo do Silhoute Score\n",
        "\n",
        "> Silhoutte Score é uma métrica usada para calculara o quão bom está a clusterização utilizada. Esse valor varia de -1 a 1.\n",
        "\n",
        "*  1: Significa que os clusters estão bem separados uns dos outros.\n",
        "\n",
        "*  0: Significa que os clusters são indiferentes, ou podemos dizer que a distância entre os clusters não é significativa.\n",
        "\n",
        "*  -1: Significa que os clusters são atribuídos da maneira errada.\n",
        "\n",
        "Reprodução: Alura"
      ],
      "metadata": {
        "id": "Lw5mhToqbhXZ"
      }
    },
    {
      "cell_type": "markdown",
      "source": [
        "Aumentando-se a quantidade de cluster para 50, garante-se que todos sejam mais bem definidos, uma vez que a volumetria de dados é grande."
      ],
      "metadata": {
        "id": "c2PvkmIfcWBB"
      }
    },
    {
      "cell_type": "code",
      "source": [
        "from pyspark.ml.clustering import KMeans\n",
        "from pyspark.ml.evaluation import ClusteringEvaluator\n",
        "silhouette_score=[]\n",
        "\n",
        "evaluator = ClusteringEvaluator(predictionCol='cluster_pca', featuresCol='pca_features', \\\n",
        "                                metricName='silhouette', distanceMeasure='squaredEuclidean')\n",
        "silhouette_score = {}\n",
        "\n",
        "for i in range(2,51):\n",
        "    \n",
        "    KMeans_algo = KMeans(k=i, featuresCol='pca_features', predictionCol='cluster_pca', seed=SEED)\n",
        "    \n",
        "    KMeans_fit = KMeans_algo.fit(projection)\n",
        "    \n",
        "    output = KMeans_fit.transform(projection)\n",
        "    \n",
        "    score = evaluator.evaluate(output)\n",
        "    silhouette_score[i] = score"
      ],
      "metadata": {
        "id": "7pTfTkjhcJju"
      },
      "execution_count": 84,
      "outputs": []
    },
    {
      "cell_type": "code",
      "source": [
        "silhouette_score"
      ],
      "metadata": {
        "colab": {
          "base_uri": "https://localhost:8080/"
        },
        "id": "0tKZXi5tdWJI",
        "outputId": "5a88e8e5-28a5-437e-c9e0-c60e6f2e9a4b"
      },
      "execution_count": 86,
      "outputs": [
        {
          "output_type": "execute_result",
          "data": {
            "text/plain": [
              "{2: 0.4806427415486872,\n",
              " 3: 0.49203887905769156,\n",
              " 4: 0.4191525822925099,\n",
              " 5: 0.44274988480339267,\n",
              " 6: 0.4315961667254472,\n",
              " 7: 0.4271389330967459,\n",
              " 8: 0.48762369061277383,\n",
              " 9: 0.46664547667636025,\n",
              " 10: 0.44835129159163506,\n",
              " 11: 0.4367608779937447,\n",
              " 12: 0.473656680512776,\n",
              " 13: 0.4601000892125327,\n",
              " 14: 0.508133224849908,\n",
              " 15: 0.49105002889659577,\n",
              " 16: 0.5094277635859876,\n",
              " 17: 0.5074604040822153,\n",
              " 18: 0.501428736996892,\n",
              " 19: 0.4935339599833687,\n",
              " 20: 0.5156679386505055,\n",
              " 21: 0.49304150672411695,\n",
              " 22: 0.5296317789910818,\n",
              " 23: 0.5094133207960251,\n",
              " 24: 0.5155370675485829,\n",
              " 25: 0.5314632354412274,\n",
              " 26: 0.5208086043856796,\n",
              " 27: 0.49139656446765295,\n",
              " 28: 0.5100374807517398,\n",
              " 29: 0.5210941580269356,\n",
              " 30: 0.5142727228943784,\n",
              " 31: 0.49870307713458223,\n",
              " 32: 0.48135266233898655,\n",
              " 33: 0.5145046203612771,\n",
              " 34: 0.5089193027984322,\n",
              " 35: 0.5175029147861618,\n",
              " 36: 0.5110855838904148,\n",
              " 37: 0.4953987374557303,\n",
              " 38: 0.47604207188868086,\n",
              " 39: 0.5204852078331769,\n",
              " 40: 0.48429500229406935,\n",
              " 41: 0.4883790145856585,\n",
              " 42: 0.49849232144183286,\n",
              " 43: 0.5103570311494647,\n",
              " 44: 0.4912478088184749,\n",
              " 45: 0.5067931986278471,\n",
              " 46: 0.5055975999446405,\n",
              " 47: 0.4994319158447556,\n",
              " 48: 0.4994374584348383,\n",
              " 49: 0.4874021264287294,\n",
              " 50: 0.4819660213263385}"
            ]
          },
          "metadata": {},
          "execution_count": 86
        }
      ]
    },
    {
      "cell_type": "code",
      "source": [
        "k_best = [key for key, value in silhouette_score.items() if value == max(silhouette_score.values())]\n",
        "k_best[0]"
      ],
      "metadata": {
        "colab": {
          "base_uri": "https://localhost:8080/"
        },
        "id": "FgnBN_OjdYNx",
        "outputId": "ebfabcbf-9d61-4d8a-c5ac-d23b92efb241"
      },
      "execution_count": 87,
      "outputs": [
        {
          "output_type": "execute_result",
          "data": {
            "text/plain": [
              "25"
            ]
          },
          "metadata": {},
          "execution_count": 87
        }
      ]
    },
    {
      "cell_type": "code",
      "source": [
        "kmeans = KMeans(k=k_best[0], featuresCol='pca_features', predictionCol='cluster_pca', seed=SEED)\n",
        "modelo_kmeans = kmeans.fit(projection)\n",
        "projection_kmeans = modelo_kmeans.transform(projection)"
      ],
      "metadata": {
        "id": "4QJ_ai3-djyT"
      },
      "execution_count": 89,
      "outputs": []
    },
    {
      "cell_type": "code",
      "source": [
        "projection_kmeans.select(['pca_features','cluster_pca', \"id\"]).show(truncate=False)"
      ],
      "metadata": {
        "colab": {
          "base_uri": "https://localhost:8080/"
        },
        "id": "edvNbAeqdg7T",
        "outputId": "5b7d1b1a-fb9f-495c-e2d6-c48d123bf87e"
      },
      "execution_count": 90,
      "outputs": [
        {
          "output_type": "stream",
          "name": "stdout",
          "text": [
            "+--------------------------------------------------------------------------------------------------------------------------+-----------+------------------------------------+\n",
            "|pca_features                                                                                                              |cluster_pca|id                                  |\n",
            "+--------------------------------------------------------------------------------------------------------------------------+-----------+------------------------------------+\n",
            "|[-7.914179810286645,-5.023192740643855,-1.0110361124443572,0.9748710818561165,-0.2847670025663571,-0.2961858190165721]    |21         |00790b85-56e3-43a5-a499-9e4c3708b95c|\n",
            "|[-2.9387320766371854,-11.039000981915969,-4.038490438016008,2.187986153253321,-0.4378607661628024,-0.09260027190872544]   |5          |007f8099-8e1d-45f6-9cdf-dee58ea462f4|\n",
            "|[-5.091216714107638,-0.14189723285462086,-0.14369304838874064,2.7753925806355486,0.1370110834766389,1.0604617546093669]   |12         |00b23c6d-0e9d-4be3-a4cc-cf64ca06f3d2|\n",
            "|[-1.3047552598967092,-5.1610096090868485,-2.151348198589035,0.5930678901415247,-0.04180116151994076,1.1330543488639435]   |18         |012aebd7-278f-4b4f-b621-a7b0b0f15201|\n",
            "|[-3.394864973027069,-1.895405603870326,2.041885447153389,0.021934892842320086,0.08521905610799077,0.9684732130864777]     |19         |0267dcdb-7705-44ad-b4f5-fa94720aa3cc|\n",
            "|[-7.160649456143886,-4.855811927166315,-0.42263319621007067,0.876576551314847,-0.14351151943459986,0.3902043547085856]    |21         |02ad9d93-7b89-46b2-b07e-182773c19065|\n",
            "|[-5.196716599117333,-2.0821513368415396,-2.438142395790293,0.28774488063645964,0.02954503281046792,2.0753271367400674]    |15         |02ef01fe-9333-40f5-ab7b-6bc638657932|\n",
            "|[-6.386073506411739,-1.7594200413402494,-0.8939008490586634,0.2697491037526369,-0.23866412022884329,-0.5796882609888405]  |1          |04171318-00f9-4306-b404-2a07b0a9b977|\n",
            "|[-7.129222407604297,-4.926419640806815,-0.31519695506547396,1.0317516067449828,-0.18254537665299872,0.11464385626683521]  |21         |04a03e35-1a8b-4fc9-ac13-c23956ad89cf|\n",
            "|[-7.458884405969681,-3.4245989881456613,-0.8666657006113468,0.7619396394053578,-0.24152009058091015,-0.2175972901673076]  |21         |04a8d9c5-daca-44f8-a891-aac9af65fd10|\n",
            "|[-0.8564047690068697,-5.298148139489146,-1.7344733902956808,0.4226728245684609,-0.10813093681804839,0.7118198791965696]   |18         |058e6011-b830-4557-9823-9e3876b70f29|\n",
            "|[-4.229029041682446,-1.2101847132975898,-3.6358918597875096,0.31426352507789634,-0.16543215085596064,0.4294815798753878]  |4          |05beb775-9afa-428f-b823-75d8049c982e|\n",
            "|[-1.1070524167797753,-3.7291947175183875,-1.1811299201602168,0.4211201197564449,0.006612703063397618,1.3682711708074518]  |18         |067673ae-4b0f-4440-8f4e-168ec972d9b5|\n",
            "|[-5.077723944470113,-1.0465278841609993,1.429725846454999,-0.027878074800166575,0.14271150008384148,1.3311793284808586]   |19         |07bd5c4a-e06d-4dad-b9bb-905752252be1|\n",
            "|[-1.9075536075604536,-4.152101955900341,0.8932671175554833,0.2601477318037084,-0.19373338369614804,-0.5501910083990493]   |0          |07d28395-2a02-4850-a7a3-d39238af0b8c|\n",
            "|[-7.9300838795313835,-5.215930482780286,-0.9175676589394043,1.0342756543142544,-0.30157636753871664,-0.10318597312833383] |21         |08f243b2-ff9f-447c-8aa9-31554d9398c5|\n",
            "|[-2.8852216306425453,-6.006077254832967,-2.2084913243736866,0.5926124144151241,-0.11895291686179432,1.3355289233180347]   |18         |09a73a8c-7314-4dd2-820b-e37551201872|\n",
            "|[-6.73111277191735,-2.0262310731285873,-1.5728562434686397,3.3569581574245255,-0.03222735627376477,0.6827771621085355]    |12         |09afc288-5ca7-40b2-9b9d-4718244995bb|\n",
            "|[-7.4186767987888755,-4.631930496164698,-1.5561386618124162,0.7908272706481904,-0.14470688502393472,0.21310734683112398]  |21         |0a34687d-4c41-41ba-91a5-99a5e2e41ce4|\n",
            "|[-6.910302164356212,-1.1782853321853928,-0.6266002946841187,0.20466208470220532,-0.13689591300900014,0.044564760603640785]|1          |0a35241d-3051-40c4-a2d9-669d32e7ac14|\n",
            "+--------------------------------------------------------------------------------------------------------------------------+-----------+------------------------------------+\n",
            "only showing top 20 rows\n",
            "\n"
          ]
        }
      ]
    },
    {
      "cell_type": "markdown",
      "source": [
        "## c. Visualização de um cluster"
      ],
      "metadata": {
        "id": "utP8Ia87f_PD"
      }
    },
    {
      "cell_type": "markdown",
      "source": [
        "Com o intuito de verificar a validação de um dos clusteres, escolhe-se um id aleatório e, assim, mostra-se o cluster em que ele está alocado:"
      ],
      "metadata": {
        "id": "Hbzoc2hrgDWD"
      }
    },
    {
      "cell_type": "code",
      "source": [
        "id_imovel = '04171318-00f9-4306-b404-2a07b0a9b977'"
      ],
      "metadata": {
        "id": "HyeLV61kgThc"
      },
      "execution_count": 91,
      "outputs": []
    },
    {
      "cell_type": "code",
      "source": [
        "projection_kmeans\\\n",
        "    .filter(projection_kmeans.id == id_imovel)\\\n",
        "    .select('cluster_pca')\\\n",
        "    .show()"
      ],
      "metadata": {
        "colab": {
          "base_uri": "https://localhost:8080/"
        },
        "id": "HFWMLz8tgdKb",
        "outputId": "1fdb2122-75e7-4f47-94d2-ac9ec04cdbe7"
      },
      "execution_count": 92,
      "outputs": [
        {
          "output_type": "stream",
          "name": "stdout",
          "text": [
            "+-----------+\n",
            "|cluster_pca|\n",
            "+-----------+\n",
            "|          1|\n",
            "+-----------+\n",
            "\n"
          ]
        }
      ]
    },
    {
      "cell_type": "code",
      "source": [
        "cluster = projection_kmeans\\\n",
        "    .filter(projection_kmeans.id == id_imovel)\\\n",
        "    .select('cluster_pca')\\\n",
        "    .collect()[0][0]"
      ],
      "metadata": {
        "id": "4xuEWh0kg7YG"
      },
      "execution_count": 93,
      "outputs": []
    },
    {
      "cell_type": "code",
      "source": [
        "print(cluster)"
      ],
      "metadata": {
        "colab": {
          "base_uri": "https://localhost:8080/"
        },
        "id": "4KpIRO65hIG8",
        "outputId": "01a4400a-4de5-4852-e629-25041c9fae78"
      },
      "execution_count": 94,
      "outputs": [
        {
          "output_type": "stream",
          "name": "stdout",
          "text": [
            "1\n"
          ]
        }
      ]
    },
    {
      "cell_type": "code",
      "source": [
        "recomendacoes = projection_kmeans\\\n",
        "    .filter(projection_kmeans.cluster_pca == cluster)\\\n",
        "    .select('bairro', 'id', 'pca_features')"
      ],
      "metadata": {
        "id": "R0mcesTHhF-D"
      },
      "execution_count": 95,
      "outputs": []
    },
    {
      "cell_type": "code",
      "source": [
        "recomendacoes.show(8, truncate=False)"
      ],
      "metadata": {
        "colab": {
          "base_uri": "https://localhost:8080/"
        },
        "id": "csMeRhmYhc4M",
        "outputId": "c7d5019b-9aeb-4d58-c6d7-48013cf2d1dd"
      },
      "execution_count": 97,
      "outputs": [
        {
          "output_type": "stream",
          "name": "stdout",
          "text": [
            "+------------------------+------------------------------------+--------------------------------------------------------------------------------------------------------------------------+\n",
            "|bairro                  |id                                  |pca_features                                                                                                              |\n",
            "+------------------------+------------------------------------+--------------------------------------------------------------------------------------------------------------------------+\n",
            "|Recreio dos Bandeirantes|04171318-00f9-4306-b404-2a07b0a9b977|[-6.386073506411739,-1.7594200413402494,-0.8939008490586634,0.2697491037526369,-0.23866412022884329,-0.5796882609888405]  |\n",
            "|Recreio dos Bandeirantes|0a35241d-3051-40c4-a2d9-669d32e7ac14|[-6.910302164356212,-1.1782853321853928,-0.6266002946841187,0.20466208470220532,-0.13689591300900014,0.044564760603640785]|\n",
            "|Recreio dos Bandeirantes|0ed4db7a-f9a8-4857-bcd5-9f09ed7ab46b|[-6.3912670396428055,-1.4276827496701405,0.0482904019186885,0.1471404300093987,-0.02930405598533406,0.4762764858709706]   |\n",
            "|Jacarepaguá             |115fd86e-7fba-4d6e-8304-8c05e10c1c40|[-6.980433387020103,-1.4815549140832847,-0.595453414235577,0.36503924207610844,-0.16732612579014186,0.02401292738391536]  |\n",
            "|Anil                    |13612339-e5d9-4d65-aa68-153ff4d0a07c|[-6.927988043220674,-1.0570344238634504,-0.6308590543703803,0.21693080472702647,-0.14215632267032016,-0.2096601783737309] |\n",
            "|Barra da Tijuca         |15e6a0a7-053b-4f10-b52f-1c45303eeaa3|[-7.178388246002773,-2.418100013633993,-0.7152377640488474,0.55733416133878,-0.19186830398952512,-0.07748122817045516]    |\n",
            "|Anil                    |1734879b-15a6-470a-a718-2eeb4666fe20|[-7.00990979171648,-1.5697666659337202,-0.6541602581538845,0.38415182078512844,-0.17113193025726905,-0.10325828726339253] |\n",
            "|Pechincha               |1c57342d-b87e-4190-baa7-2aa628f2483a|[-7.1090554594373065,-1.8761053240910202,-0.6819374081788838,0.4200604826924239,-0.17177782949325562,-0.3342726341165381] |\n",
            "+------------------------+------------------------------------+--------------------------------------------------------------------------------------------------------------------------+\n",
            "only showing top 8 rows\n",
            "\n"
          ]
        }
      ]
    },
    {
      "cell_type": "markdown",
      "source": [
        "#Finalização"
      ],
      "metadata": {
        "id": "A-bAYvwth--8"
      }
    },
    {
      "cell_type": "markdown",
      "source": [
        "## a. Busca pelas 10 melhores recomendações"
      ],
      "metadata": {
        "id": "eiUdabfJklOX"
      }
    },
    {
      "cell_type": "markdown",
      "source": [
        "Com o cálculo da distância euclidiana entre os elementos de um cluster, é possível elencar as 10 melhores recomendações. Para este teste, ainda se vale do `id` aleatório `id_imovel`."
      ],
      "metadata": {
        "id": "KZPyk6EqiO31"
      }
    },
    {
      "cell_type": "code",
      "source": [
        "imovel_procurado = recomendacoes\\\n",
        "    .filter(recomendacoes.id == id_imovel)\\\n",
        "    .select('pca_features')\\\n",
        "    .collect()[0][0]"
      ],
      "metadata": {
        "id": "HRGFrBywixE_"
      },
      "execution_count": 99,
      "outputs": []
    },
    {
      "cell_type": "code",
      "source": [
        "print(f'Vetor: {imovel_procurado}')"
      ],
      "metadata": {
        "colab": {
          "base_uri": "https://localhost:8080/"
        },
        "id": "G3Ln92H2jDyw",
        "outputId": "7f798a99-95ad-42ba-a137-a814973d195e"
      },
      "execution_count": 101,
      "outputs": [
        {
          "output_type": "stream",
          "name": "stdout",
          "text": [
            "Vetor: [-6.386073506411739,-1.7594200413402494,-0.8939008490586634,0.2697491037526369,-0.23866412022884329,-0.5796882609888405]\n"
          ]
        }
      ]
    },
    {
      "cell_type": "code",
      "source": [
        "from scipy.spatial.distance import euclidean\n",
        "from pyspark.sql.types import FloatType"
      ],
      "metadata": {
        "id": "ht1jdEOyjGSV"
      },
      "execution_count": 102,
      "outputs": []
    },
    {
      "cell_type": "code",
      "source": [
        "def calculate_euclidean_distance(imovel, valor):\n",
        "    return euclidean(imovel, valor)\n",
        "\n",
        "euclidean_udf = f.udf(lambda x: calculate_euclidean_distance(imovel_procurado, x), FloatType())\n",
        "\n",
        "recomendacoes\\\n",
        "    .withColumn('distancia', euclidean_udf('pca_features'))\\\n",
        "    .select('bairro', 'id', 'distancia')\\\n",
        "    .orderBy('distancia')\\\n",
        "    .show(5)"
      ],
      "metadata": {
        "colab": {
          "base_uri": "https://localhost:8080/"
        },
        "id": "fA4U7BNGjTGU",
        "outputId": "733c6c36-1681-48ba-d7bf-6f3975e8f9a5"
      },
      "execution_count": 103,
      "outputs": [
        {
          "output_type": "stream",
          "name": "stdout",
          "text": [
            "+--------------------+--------------------+-----------+\n",
            "|              bairro|                  id|  distancia|\n",
            "+--------------------+--------------------+-----------+\n",
            "|Recreio dos Bande...|04171318-00f9-430...|        0.0|\n",
            "|Recreio dos Bande...|3dc65040-ff74-403...|0.015714277|\n",
            "|         Jacarepaguá|9c8a005d-e127-4d8...|0.016470006|\n",
            "|Recreio dos Bande...|c7dc293c-3a36-4db...|0.016532231|\n",
            "|Freguesia (Jacare...|01a5aae1-6767-463...|0.020644499|\n",
            "+--------------------+--------------------+-----------+\n",
            "only showing top 5 rows\n",
            "\n"
          ]
        }
      ]
    },
    {
      "cell_type": "code",
      "source": [
        "top_recomendacoes = recomendacoes\\\n",
        "    .withColumn('distancia', euclidean_udf('pca_features'))\\\n",
        "    .select('bairro', 'id', 'distancia')\\\n",
        "    .orderBy('distancia')\n",
        "\n",
        "top_recomendacoes.show(10, truncate=False)"
      ],
      "metadata": {
        "colab": {
          "base_uri": "https://localhost:8080/"
        },
        "id": "zoq0KrRRjbTN",
        "outputId": "7ae3eceb-2a81-4f7a-a776-234ff26012cd"
      },
      "execution_count": 106,
      "outputs": [
        {
          "output_type": "stream",
          "name": "stdout",
          "text": [
            "+------------------------+------------------------------------+-----------+\n",
            "|bairro                  |id                                  |distancia  |\n",
            "+------------------------+------------------------------------+-----------+\n",
            "|Recreio dos Bandeirantes|04171318-00f9-4306-b404-2a07b0a9b977|0.0        |\n",
            "|Recreio dos Bandeirantes|3dc65040-ff74-4034-af77-6b5f575ce8b6|0.015714277|\n",
            "|Jacarepaguá             |9c8a005d-e127-4d8b-9c44-da0523637e5f|0.016470006|\n",
            "|Recreio dos Bandeirantes|c7dc293c-3a36-4db8-8a91-3a9d37f55aaa|0.016532231|\n",
            "|Freguesia (Jacarepaguá) |01a5aae1-6767-4634-9e87-490724b6ed90|0.020644499|\n",
            "|Freguesia (Jacarepaguá) |f3e29161-e611-48d1-9678-82210822855a|0.023297567|\n",
            "|Pechincha               |31685d3f-3b08-4027-8669-d34adb46edce|0.026400762|\n",
            "|Freguesia (Jacarepaguá) |624060ee-2412-4d90-93f0-9f86c87d0898|0.03780748 |\n",
            "|Pechincha               |a68a378a-a0ec-4d0f-a762-22ab663cdf85|0.038690396|\n",
            "|Freguesia (Jacarepaguá) |5c253135-5609-4d63-a330-fa5b9a6fdabc|0.042061623|\n",
            "+------------------------+------------------------------------+-----------+\n",
            "only showing top 10 rows\n",
            "\n"
          ]
        }
      ]
    },
    {
      "cell_type": "markdown",
      "source": [
        "## b. Disponibilização da ref. de função recomendadora para o time de dev "
      ],
      "metadata": {
        "id": "Icx5PQhUkWzO"
      }
    },
    {
      "cell_type": "markdown",
      "source": [
        "Consolidando tudo o que foi discutido e implementado, chega-se à função que o time de desenvolvimento usará como referência para o recomendador:"
      ],
      "metadata": {
        "id": "qXGxBdBqlHxY"
      }
    },
    {
      "cell_type": "code",
      "source": [
        "def calculate_euclidean_distance(imovel, valor):\n",
        "    return euclidean(imovel, valor)\n",
        "\n",
        "\n",
        "def recommender(id_imovel, dataframe_kmeans):\n",
        "    cluster = dataframe_kmeans\\\n",
        "        .filter(dataframe_kmeans.id == id_imovel)\\\n",
        "        .select('cluster_pca')\\\n",
        "        .collect()[0][0]\n",
        "\n",
        "    imoveis_recomendadas = dataframe_kmeans\\\n",
        "        .filter(dataframe_kmeans.cluster_pca == cluster)\n",
        "\n",
        "    imovel_procurado = imoveis_recomendadas\\\n",
        "        .filter(imoveis_recomendadas.id == id_imovel)\\\n",
        "        .select('pca_features')\\\n",
        "        .collect()[0][0]\n",
        "\n",
        "    euclidean_udf = f.udf(lambda x: calculate_euclidean_distance(\n",
        "        imovel_procurado, x), FloatType())\n",
        "\n",
        "    colunas_nao_utilizadas = [\n",
        "        'features', 'scaled_features', 'pca_features', 'cluster_pca', 'distancia']\n",
        "\n",
        "    recomendadas = imoveis_recomendadas\\\n",
        "        .withColumn('distancia', euclidean_udf('pca_features'))\\\n",
        "        .select([col for col in imoveis_recomendadas.columns if col not in colunas_nao_utilizadas])\\\n",
        "        .orderBy('distancia')\n",
        "\n",
        "    return recomendadas"
      ],
      "metadata": {
        "id": "QmLgcSjalIa5"
      },
      "execution_count": 107,
      "outputs": []
    },
    {
      "cell_type": "markdown",
      "source": [
        "Realiza-se um teste para recomendar imóveis parecidos com o imóvel `id = '00b23c6d-0e9d-4be3-a4cc-cf64ca06f3d2'`"
      ],
      "metadata": {
        "id": "0zAsWFe2lua3"
      }
    },
    {
      "cell_type": "code",
      "source": [
        "id_validacao = '00b23c6d-0e9d-4be3-a4cc-cf64ca06f3d2'"
      ],
      "metadata": {
        "id": "bZXg3tYvnFnI"
      },
      "execution_count": 110,
      "outputs": []
    },
    {
      "cell_type": "code",
      "source": [
        "recommender(id_validacao, projection_kmeans)\\\n",
        "    .select('id', 'bairro')\\\n",
        "    .show(10, truncate=False)"
      ],
      "metadata": {
        "colab": {
          "base_uri": "https://localhost:8080/"
        },
        "id": "geKuHIWynIqn",
        "outputId": "f2f75284-f998-4913-a4f0-06d708766929"
      },
      "execution_count": 138,
      "outputs": [
        {
          "output_type": "stream",
          "name": "stdout",
          "text": [
            "+------------------------------------+---------------+\n",
            "|id                                  |bairro         |\n",
            "+------------------------------------+---------------+\n",
            "|00b23c6d-0e9d-4be3-a4cc-cf64ca06f3d2|Parada de Lucas|\n",
            "|03b3fee4-fd36-48c5-8911-00bfdfc79762|Tomás Coelho   |\n",
            "|db0ad902-d0d0-4233-8a67-63428d698023|Todos os Santos|\n",
            "|69e53fc2-2885-44d5-a675-9d09750f879a|Cachambi       |\n",
            "|f32d7f78-f06f-4b43-9d98-62b3d7dc5d39|Tijuca         |\n",
            "|d51fd7fc-ab7e-4755-9e91-0fb347ed1541|São Cristóvão  |\n",
            "|b5ac5c83-4d2f-44f7-b1b6-97764decf782|Vila Isabel    |\n",
            "|d7dfc69b-b974-4301-9cde-61ea052423c8|Engenho Novo   |\n",
            "|2e0a73cb-5c7a-4cf8-8ded-58d0ccab3cba|Todos os Santos|\n",
            "|5eb84915-78e1-4748-8b0a-a1feba703210|Andaraí        |\n",
            "+------------------------------------+---------------+\n",
            "only showing top 10 rows\n",
            "\n"
          ]
        }
      ]
    }
  ]
}