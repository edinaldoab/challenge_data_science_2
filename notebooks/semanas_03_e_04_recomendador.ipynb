{
  "nbformat": 4,
  "nbformat_minor": 0,
  "metadata": {
    "colab": {
      "provenance": [],
      "authorship_tag": "ABX9TyNi2SWGrKIjwi8nf+M+QuHP",
      "include_colab_link": true
    },
    "kernelspec": {
      "name": "python3",
      "display_name": "Python 3"
    },
    "language_info": {
      "name": "python"
    }
  },
  "cells": [
    {
      "cell_type": "markdown",
      "metadata": {
        "id": "view-in-github",
        "colab_type": "text"
      },
      "source": [
        "<a href=\"https://colab.research.google.com/github/edinaldoab/challenge_data_science_2/blob/main/notebooks/semanas_03_e_04_recomendador.ipynb\" target=\"_parent\"><img src=\"https://colab.research.google.com/assets/colab-badge.svg\" alt=\"Open In Colab\"/></a>"
      ]
    },
    {
      "cell_type": "markdown",
      "source": [
        "# Semanas 03 e 04\n",
        "\n",
        "Durante as semanas 3 e 4 vamos focar em melhorar o sistema de recomendação da InsightPlaces.\n",
        "Nosso sistema não está recebendo os clicks que esperava apenas recomendando imoveis das mesmas regiões e na mesma faixa de preço, por isso como parte do time de Data Science precisamos criar uma nova mecânica de recomendação de imóveis.\n",
        "\n",
        "O objetivo é criar um sistema de recomendação de imóveis baseado em similaridade de características. A base de dados utilizada será a base de dados tratada na semana 2, após transformar as variáveis categóricas em variáveis binárias e antes de aplicarmos a vetorização."
      ],
      "metadata": {
        "id": "sguyvI4v8vJ7"
      }
    },
    {
      "cell_type": "markdown",
      "source": [
        "# 1. Preparação do Ambiente"
      ],
      "metadata": {
        "id": "B5zbNtd08BcA"
      }
    },
    {
      "cell_type": "markdown",
      "source": [
        "## a. Instalação das dependências"
      ],
      "metadata": {
        "id": "ZgP_g3XXwcwm"
      }
    },
    {
      "cell_type": "code",
      "execution_count": 1,
      "metadata": {
        "id": "enbmM_NMUB9c"
      },
      "outputs": [],
      "source": [
        "!apt-get update -qq\n",
        "!apt-get install openjdk-8-jdk-headless -qq > /dev/null\n",
        "!wget -q https://archive.apache.org/dist/spark/spark-3.1.2/spark-3.1.2-bin-hadoop2.7.tgz\n",
        "!tar xf spark-3.1.2-bin-hadoop2.7.tgz\n",
        "!pip install -q findspark"
      ]
    },
    {
      "cell_type": "code",
      "source": [
        "import os\n",
        "os.environ[\"JAVA_HOME\"] = \"/usr/lib/jvm/java-8-openjdk-amd64\"\n",
        "os.environ[\"SPARK_HOME\"] = \"/content/spark-3.1.2-bin-hadoop2.7\""
      ],
      "metadata": {
        "id": "QK0uK6A-UzhY"
      },
      "execution_count": 2,
      "outputs": []
    },
    {
      "cell_type": "markdown",
      "source": [
        "## b. Inicialização da SparkSession"
      ],
      "metadata": {
        "id": "WBjX4aVhkXCg"
      }
    },
    {
      "cell_type": "code",
      "source": [
        "import findspark\n",
        "findspark.init()"
      ],
      "metadata": {
        "id": "_Gk1F5mMU1nt"
      },
      "execution_count": 3,
      "outputs": []
    },
    {
      "cell_type": "code",
      "source": [
        "from pyspark.sql import SparkSession\n",
        "\n",
        "spark = SparkSession.builder \\\n",
        "    .master('local[*]') \\\n",
        "    .appName(\"recomendador\") \\\n",
        "    .config('spark.ui.port', '4050') \\\n",
        "    .getOrCreate()"
      ],
      "metadata": {
        "id": "U-PSvJevU5aJ"
      },
      "execution_count": 4,
      "outputs": []
    },
    {
      "cell_type": "markdown",
      "source": [
        "## c. Montagem do Drive"
      ],
      "metadata": {
        "id": "ppAaMj1Ikism"
      }
    },
    {
      "cell_type": "code",
      "source": [
        "from google.colab import drive\n",
        "drive.mount('/content/drive')"
      ],
      "metadata": {
        "colab": {
          "base_uri": "https://localhost:8080/"
        },
        "id": "Z8_AQdaNVS8b",
        "outputId": "592c3083-03c0-424b-e456-e941fabca386"
      },
      "execution_count": 5,
      "outputs": [
        {
          "output_type": "stream",
          "name": "stdout",
          "text": [
            "Mounted at /content/drive\n"
          ]
        }
      ]
    },
    {
      "cell_type": "markdown",
      "source": [
        "## d. Inicializando a  UI do Spark "
      ],
      "metadata": {
        "id": "D5ogW79Oy2as"
      }
    },
    {
      "cell_type": "code",
      "source": [
        "!wget -q https://bin.equinox.io/c/4VmDzA7iaHb/ngrok-stable-linux-amd64.zip\n",
        "!unzip ngrok-stable-linux-amd64.zip"
      ],
      "metadata": {
        "colab": {
          "base_uri": "https://localhost:8080/"
        },
        "id": "-H8K8pQFVCgk",
        "outputId": "3cdf42d3-f706-4a79-ec14-1ccf6d8995fe"
      },
      "execution_count": 6,
      "outputs": [
        {
          "output_type": "stream",
          "name": "stdout",
          "text": [
            "Archive:  ngrok-stable-linux-amd64.zip\n",
            "  inflating: ngrok                   \n"
          ]
        }
      ]
    },
    {
      "cell_type": "code",
      "source": [
        "with open('/content/drive/MyDrive/Colab Notebooks/projeto_data_science_imobni/dados/authTokenngrok.txt', 'r') as file:\n",
        "  content = file.read()\n",
        "  file.close()\n",
        "\n",
        "my_authtoken = str(content)"
      ],
      "metadata": {
        "id": "LSsGlSu4VG5h"
      },
      "execution_count": 7,
      "outputs": []
    },
    {
      "cell_type": "code",
      "source": [
        "get_ipython().system_raw('./ngrok authtoken ' + my_authtoken)\n",
        "get_ipython().system_raw('./ngrok http 4050 &')\n",
        "\n",
        "!curl -s http://localhost:4040/api/tunnels"
      ],
      "metadata": {
        "colab": {
          "base_uri": "https://localhost:8080/"
        },
        "id": "JN7VU6ErJ6-m",
        "outputId": "abd5e458-cb2a-49c6-843f-656adc9adde3"
      },
      "execution_count": 8,
      "outputs": [
        {
          "output_type": "stream",
          "name": "stdout",
          "text": [
            "{\"tunnels\":[],\"uri\":\"/api/tunnels\"}\n"
          ]
        }
      ]
    },
    {
      "cell_type": "code",
      "source": [
        "spark"
      ],
      "metadata": {
        "id": "vDWpd4nrVKwm",
        "colab": {
          "base_uri": "https://localhost:8080/",
          "height": 219
        },
        "outputId": "47105168-5647-425b-d6ff-255a5e8c3c5f"
      },
      "execution_count": 9,
      "outputs": [
        {
          "output_type": "execute_result",
          "data": {
            "text/plain": [
              "<pyspark.sql.session.SparkSession at 0x7ff0ac3eba00>"
            ],
            "text/html": [
              "\n",
              "            <div>\n",
              "                <p><b>SparkSession - in-memory</b></p>\n",
              "                \n",
              "        <div>\n",
              "            <p><b>SparkContext</b></p>\n",
              "\n",
              "            <p><a href=\"http://c33e83081241:4050\">Spark UI</a></p>\n",
              "\n",
              "            <dl>\n",
              "              <dt>Version</dt>\n",
              "                <dd><code>v3.1.2</code></dd>\n",
              "              <dt>Master</dt>\n",
              "                <dd><code>local[*]</code></dd>\n",
              "              <dt>AppName</dt>\n",
              "                <dd><code>recomendador</code></dd>\n",
              "            </dl>\n",
              "        </div>\n",
              "        \n",
              "            </div>\n",
              "        "
            ]
          },
          "metadata": {},
          "execution_count": 9
        }
      ]
    },
    {
      "cell_type": "markdown",
      "source": [
        "Carregamento dos dados:"
      ],
      "metadata": {
        "id": "9Te7vFd8ddtt"
      }
    },
    {
      "cell_type": "markdown",
      "source": [
        "# 2. Carregamento e tratamento dos dados"
      ],
      "metadata": {
        "id": "UTWlLTRvlM-K"
      }
    },
    {
      "cell_type": "markdown",
      "source": [
        "## a. Leitura do dataset"
      ],
      "metadata": {
        "id": "k8V1MvMj5PzO"
      }
    },
    {
      "cell_type": "code",
      "source": [
        "path='/content/drive/MyDrive/Colab Notebooks/projeto_data_science_imobni/dataset_ml_regressao'\n",
        "\n",
        "data = spark.read.parquet(path)"
      ],
      "metadata": {
        "id": "6_hFMHTuddN7"
      },
      "execution_count": 10,
      "outputs": []
    },
    {
      "cell_type": "code",
      "source": [
        "data.show(5)"
      ],
      "metadata": {
        "colab": {
          "base_uri": "https://localhost:8080/"
        },
        "id": "sdt03fOPeKkA",
        "outputId": "715594a5-0294-41b5-f12e-1cf22fd9e3da"
      },
      "execution_count": 11,
      "outputs": [
        {
          "output_type": "stream",
          "name": "stdout",
          "text": [
            "+--------------------+-----+---------+---------+-------+------+----+---------------+----------+-------+---------+------------+----------+----------+--------+--------+------------------+-------------+------------------+--------+-------+----------+------------+-----------------+---------------+\n",
            "|                  id|andar|area_util|banheiros|quartos|suites|vaga|         bairro|condominio|   iptu|    valor|zona_central|zona_norte|zona_oeste|zona_sul|Academia|animais_permitidos|Churrasqueira|condominio_fechado|Elevador|Piscina|Playground|portaria_24h|portao_eletronico|salao_de_festas|\n",
            "+--------------------+-----+---------+---------+-------+------+----+---------------+----------+-------+---------+------------+----------+----------+--------+--------+------------------+-------------+------------------+--------+-------+----------+------------+-----------------+---------------+\n",
            "|00790b85-56e3-43a...|   11|    166.0|        5|      4|     4|   2|    Jacarepaguá|    2100.0| 4600.0|1750000.0|           0|         0|         1|       0|       1|                 1|            1|                 1|       1|      1|         1|           1|                1|              1|\n",
            "|007f8099-8e1d-45f...|    4|    640.0|        5|     11|     3|   0|           Urca|    3060.0|20030.0|3800000.0|           0|         0|         0|       1|       0|                 1|            0|                 0|       0|      0|         0|           0|                1|              0|\n",
            "|00b23c6d-0e9d-4be...|    1|     50.0|        1|      2|     0|   1|Parada de Lucas|     363.0|   97.0| 192000.0|           0|         1|         0|       0|       1|                 1|            1|                 1|       0|      1|         1|           1|                0|              1|\n",
            "|012aebd7-278f-4b4...|    0|    160.0|        4|      3|     1|   3|        Ipanema|    1530.0| 7440.0|3490000.0|           0|         0|         0|       1|       0|                 0|            0|                 0|       1|      0|         0|           0|                0|              0|\n",
            "|0267dcdb-7705-44a...|    0|     52.0|        1|      2|     1|   1|      Pechincha|       0.0|    0.0| 440000.0|           0|         0|         1|       0|       0|                 0|            1|                 0|       0|      1|         1|           0|                0|              1|\n",
            "+--------------------+-----+---------+---------+-------+------+----+---------------+----------+-------+---------+------------+----------+----------+--------+--------+------------------+-------------+------------------+--------+-------+----------+------------+-----------------+---------------+\n",
            "only showing top 5 rows\n",
            "\n"
          ]
        }
      ]
    },
    {
      "cell_type": "code",
      "source": [
        "data.printSchema()"
      ],
      "metadata": {
        "colab": {
          "base_uri": "https://localhost:8080/"
        },
        "id": "cAHnwqXxzYeC",
        "outputId": "4a6400e4-0708-45f6-d168-82c823836c05"
      },
      "execution_count": 12,
      "outputs": [
        {
          "output_type": "stream",
          "name": "stdout",
          "text": [
            "root\n",
            " |-- id: string (nullable = true)\n",
            " |-- andar: integer (nullable = true)\n",
            " |-- area_util: double (nullable = true)\n",
            " |-- banheiros: integer (nullable = true)\n",
            " |-- quartos: integer (nullable = true)\n",
            " |-- suites: integer (nullable = true)\n",
            " |-- vaga: integer (nullable = true)\n",
            " |-- bairro: string (nullable = true)\n",
            " |-- condominio: double (nullable = true)\n",
            " |-- iptu: double (nullable = true)\n",
            " |-- valor: double (nullable = true)\n",
            " |-- zona_central: integer (nullable = true)\n",
            " |-- zona_norte: integer (nullable = true)\n",
            " |-- zona_oeste: integer (nullable = true)\n",
            " |-- zona_sul: integer (nullable = true)\n",
            " |-- Academia: integer (nullable = true)\n",
            " |-- animais_permitidos: integer (nullable = true)\n",
            " |-- Churrasqueira: integer (nullable = true)\n",
            " |-- condominio_fechado: integer (nullable = true)\n",
            " |-- Elevador: integer (nullable = true)\n",
            " |-- Piscina: integer (nullable = true)\n",
            " |-- Playground: integer (nullable = true)\n",
            " |-- portaria_24h: integer (nullable = true)\n",
            " |-- portao_eletronico: integer (nullable = true)\n",
            " |-- salao_de_festas: integer (nullable = true)\n",
            "\n"
          ]
        }
      ]
    },
    {
      "cell_type": "code",
      "source": [
        "print(f'Quantidade de linhas: {data.count()}')\n",
        "print(f'Quantidade de colunas: {len(data.columns)}')"
      ],
      "metadata": {
        "colab": {
          "base_uri": "https://localhost:8080/"
        },
        "id": "Oa4jrwC3znSb",
        "outputId": "73a1eb63-b473-4a39-9764-5a33fd4eccc7"
      },
      "execution_count": 14,
      "outputs": [
        {
          "output_type": "stream",
          "name": "stdout",
          "text": [
            "Quantidade de linhas: 66551\n",
            "Quantidade de colunas: 25\n"
          ]
        }
      ]
    },
    {
      "cell_type": "markdown",
      "source": [
        "Checagem de nulos: "
      ],
      "metadata": {
        "id": "1RdqH2juz7je"
      }
    },
    {
      "cell_type": "code",
      "source": [
        "from pyspark.sql import functions as f"
      ],
      "metadata": {
        "id": "Qkp28Jvn0Cq7"
      },
      "execution_count": 15,
      "outputs": []
    },
    {
      "cell_type": "code",
      "source": [
        "data.select([f.count(f.when(f.isnull(c), 1)).alias(c) for c in data.columns]).show()"
      ],
      "metadata": {
        "colab": {
          "base_uri": "https://localhost:8080/"
        },
        "id": "Z3ENcRlK0Mw_",
        "outputId": "a8f64942-5eff-4a02-94d2-54d3baffc447"
      },
      "execution_count": 18,
      "outputs": [
        {
          "output_type": "stream",
          "name": "stdout",
          "text": [
            "+---+-----+---------+---------+-------+------+----+------+----------+----+-----+------------+----------+----------+--------+--------+------------------+-------------+------------------+--------+-------+----------+------------+-----------------+---------------+\n",
            "| id|andar|area_util|banheiros|quartos|suites|vaga|bairro|condominio|iptu|valor|zona_central|zona_norte|zona_oeste|zona_sul|Academia|animais_permitidos|Churrasqueira|condominio_fechado|Elevador|Piscina|Playground|portaria_24h|portao_eletronico|salao_de_festas|\n",
            "+---+-----+---------+---------+-------+------+----+------+----------+----+-----+------------+----------+----------+--------+--------+------------------+-------------+------------------+--------+-------+----------+------------+-----------------+---------------+\n",
            "|  0|    0|        0|        0|      0|     0|   0|     0|         0|   0|    0|           0|         0|         0|       0|       0|                 0|            0|                 0|       0|      0|         0|           0|                0|              0|\n",
            "+---+-----+---------+---------+-------+------+----+------+----------+----+-----+------------+----------+----------+--------+--------+------------------+-------------+------------------+--------+-------+----------+------------+-----------------+---------------+\n",
            "\n"
          ]
        }
      ]
    },
    {
      "cell_type": "markdown",
      "source": [
        "## b. Seleção de features"
      ],
      "metadata": {
        "id": "klH1TWa1AIlQ"
      }
    },
    {
      "cell_type": "markdown",
      "source": [
        "Aqui devem ser removidas as colunas que possuem apenas um valor atribuído, de acordo com o que foi elaborado na primeira semana. Esta etapa é muito importante para se reduzir a complexidade dos dados e aumentar a velocidade de ajuste do modelo."
      ],
      "metadata": {
        "id": "SBWXYLwJAyUl"
      }
    },
    {
      "cell_type": "code",
      "source": [
        "data\\\n",
        "    .select('tipo')\\\n",
        "    .distinct()\\\n",
        "    .show(5)"
      ],
      "metadata": {
        "colab": {
          "base_uri": "https://localhost:8080/"
        },
        "id": "mm25lRD5gFqj",
        "outputId": "cd509379-0f6b-488a-cf7b-545e1c3b2091"
      },
      "execution_count": null,
      "outputs": [
        {
          "output_type": "stream",
          "name": "stdout",
          "text": [
            "+-----+\n",
            "| tipo|\n",
            "+-----+\n",
            "|Venda|\n",
            "+-----+\n",
            "\n"
          ]
        }
      ]
    },
    {
      "cell_type": "code",
      "source": [
        "data\\\n",
        "    .select('tipo_anuncio')\\\n",
        "    .distinct()\\\n",
        "    .show(5)"
      ],
      "metadata": {
        "colab": {
          "base_uri": "https://localhost:8080/"
        },
        "id": "xSd2nvun96GN",
        "outputId": "7f5179dd-2441-43f8-9017-a799c799c777"
      },
      "execution_count": null,
      "outputs": [
        {
          "output_type": "stream",
          "name": "stdout",
          "text": [
            "+------------+\n",
            "|tipo_anuncio|\n",
            "+------------+\n",
            "|       Usado|\n",
            "+------------+\n",
            "\n"
          ]
        }
      ]
    },
    {
      "cell_type": "code",
      "source": [
        "data\\\n",
        "    .select('tipo_unidade')\\\n",
        "    .distinct()\\\n",
        "    .show(5)"
      ],
      "metadata": {
        "colab": {
          "base_uri": "https://localhost:8080/"
        },
        "id": "6AR5L7TV-UB5",
        "outputId": "00da3b23-35e2-47dc-efcf-df4adfa33e82"
      },
      "execution_count": null,
      "outputs": [
        {
          "output_type": "stream",
          "name": "stdout",
          "text": [
            "+------------+\n",
            "|tipo_unidade|\n",
            "+------------+\n",
            "| Apartamento|\n",
            "+------------+\n",
            "\n"
          ]
        }
      ]
    },
    {
      "cell_type": "code",
      "source": [
        "data\\\n",
        "    .select('tipo_uso')\\\n",
        "    .distinct()\\\n",
        "    .show(5)"
      ],
      "metadata": {
        "colab": {
          "base_uri": "https://localhost:8080/"
        },
        "id": "aaMyYHUq-XMV",
        "outputId": "1affa45e-5142-4937-c6a0-0bd88a9cff69"
      },
      "execution_count": null,
      "outputs": [
        {
          "output_type": "stream",
          "name": "stdout",
          "text": [
            "+-----------+\n",
            "|   tipo_uso|\n",
            "+-----------+\n",
            "|Residencial|\n",
            "+-----------+\n",
            "\n"
          ]
        }
      ]
    },
    {
      "cell_type": "markdown",
      "source": [
        "As colunas `area_total` e `area_util` têm um potencial maior de aderência ao modelo. Assim, analisa-se:"
      ],
      "metadata": {
        "id": "1B9LDacC-589"
      }
    },
    {
      "cell_type": "code",
      "source": [
        "data\\\n",
        "    .select('area_total','area_util')\\\n",
        "    .show(5)"
      ],
      "metadata": {
        "colab": {
          "base_uri": "https://localhost:8080/"
        },
        "id": "sbiWtfKP_w4Z",
        "outputId": "cc7a4c6f-23b5-4e3d-9aee-ece12672987e"
      },
      "execution_count": null,
      "outputs": [
        {
          "output_type": "stream",
          "name": "stdout",
          "text": [
            "+----------+---------+\n",
            "|area_total|area_util|\n",
            "+----------+---------+\n",
            "|       166|      166|\n",
            "|       640|      640|\n",
            "|        50|       50|\n",
            "|       160|      160|\n",
            "|        52|       52|\n",
            "+----------+---------+\n",
            "only showing top 5 rows\n",
            "\n"
          ]
        }
      ]
    }
  ]
}