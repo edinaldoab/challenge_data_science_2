{
  "nbformat": 4,
  "nbformat_minor": 0,
  "metadata": {
    "colab": {
      "provenance": [],
      "authorship_tag": "ABX9TyP9+3crbqj8TA2bIXGK/nPb",
      "include_colab_link": true
    },
    "kernelspec": {
      "name": "python3",
      "display_name": "Python 3"
    },
    "language_info": {
      "name": "python"
    }
  },
  "cells": [
    {
      "cell_type": "markdown",
      "metadata": {
        "id": "view-in-github",
        "colab_type": "text"
      },
      "source": [
        "<a href=\"https://colab.research.google.com/github/edinaldoab/challenge_data_science_2/blob/main/notebooks/semanas_03_e_04_recomendador.ipynb\" target=\"_parent\"><img src=\"https://colab.research.google.com/assets/colab-badge.svg\" alt=\"Open In Colab\"/></a>"
      ]
    },
    {
      "cell_type": "markdown",
      "source": [
        "# Semanas 03 e 04\n",
        "\n",
        "Durante as semanas 3 e 4 vamos focar em melhorar o sistema de recomendação da InsightPlaces.\n",
        "Nosso sistema não está recebendo os clicks que esperava apenas recomendando imoveis das mesmas regiões e na mesma faixa de preço, por isso como parte do time de Data Science precisamos criar uma nova mecânica de recomendação de imóveis.\n",
        "\n",
        "O objetivo é criar um sistema de recomendação de imóveis baseado em similaridade de características. A base de dados utilizada será a base de dados tratada na semana 2, após transformar as variáveis categóricas em variáveis binárias e antes de aplicarmos a vetorização."
      ],
      "metadata": {
        "id": "sguyvI4v8vJ7"
      }
    },
    {
      "cell_type": "markdown",
      "source": [
        "# 1. Preparação do Ambiente"
      ],
      "metadata": {
        "id": "B5zbNtd08BcA"
      }
    },
    {
      "cell_type": "markdown",
      "source": [
        "## a. Instalação das dependências"
      ],
      "metadata": {
        "id": "ZgP_g3XXwcwm"
      }
    },
    {
      "cell_type": "code",
      "execution_count": 58,
      "metadata": {
        "id": "enbmM_NMUB9c"
      },
      "outputs": [],
      "source": [
        "!apt-get update -qq\n",
        "!apt-get install openjdk-8-jdk-headless -qq > /dev/null\n",
        "!wget -q https://archive.apache.org/dist/spark/spark-3.1.2/spark-3.1.2-bin-hadoop2.7.tgz\n",
        "!tar xf spark-3.1.2-bin-hadoop2.7.tgz\n",
        "!pip install -q findspark"
      ]
    },
    {
      "cell_type": "code",
      "source": [
        "import os\n",
        "os.environ[\"JAVA_HOME\"] = \"/usr/lib/jvm/java-8-openjdk-amd64\"\n",
        "os.environ[\"SPARK_HOME\"] = \"/content/spark-3.1.2-bin-hadoop2.7\""
      ],
      "metadata": {
        "id": "QK0uK6A-UzhY"
      },
      "execution_count": 59,
      "outputs": []
    },
    {
      "cell_type": "markdown",
      "source": [
        "## b. Inicialização da SparkSession"
      ],
      "metadata": {
        "id": "WBjX4aVhkXCg"
      }
    },
    {
      "cell_type": "code",
      "source": [
        "import findspark\n",
        "findspark.init()"
      ],
      "metadata": {
        "id": "_Gk1F5mMU1nt"
      },
      "execution_count": 60,
      "outputs": []
    },
    {
      "cell_type": "code",
      "source": [
        "from pyspark.sql import SparkSession\n",
        "\n",
        "spark = SparkSession.builder \\\n",
        "    .master('local[*]') \\\n",
        "    .appName(\"recomendador\") \\\n",
        "    .config('spark.ui.port', '4050') \\\n",
        "    .getOrCreate()"
      ],
      "metadata": {
        "id": "U-PSvJevU5aJ"
      },
      "execution_count": 61,
      "outputs": []
    },
    {
      "cell_type": "markdown",
      "source": [
        "## c. Montagem do Drive"
      ],
      "metadata": {
        "id": "ppAaMj1Ikism"
      }
    },
    {
      "cell_type": "code",
      "source": [
        "from google.colab import drive\n",
        "drive.mount('/content/drive')"
      ],
      "metadata": {
        "colab": {
          "base_uri": "https://localhost:8080/"
        },
        "id": "Z8_AQdaNVS8b",
        "outputId": "fa154314-9bc5-4c25-a609-960f65e07a69"
      },
      "execution_count": 62,
      "outputs": [
        {
          "output_type": "stream",
          "name": "stdout",
          "text": [
            "Drive already mounted at /content/drive; to attempt to forcibly remount, call drive.mount(\"/content/drive\", force_remount=True).\n"
          ]
        }
      ]
    },
    {
      "cell_type": "markdown",
      "source": [
        "## d. Inicializando a  UI do Spark "
      ],
      "metadata": {
        "id": "D5ogW79Oy2as"
      }
    },
    {
      "cell_type": "code",
      "source": [
        "!wget -q https://bin.equinox.io/c/4VmDzA7iaHb/ngrok-stable-linux-amd64.zip\n",
        "!unzip ngrok-stable-linux-amd64.zip"
      ],
      "metadata": {
        "colab": {
          "base_uri": "https://localhost:8080/"
        },
        "id": "-H8K8pQFVCgk",
        "outputId": "b38830fe-a67e-4c2e-fb7d-d790c3b0b657"
      },
      "execution_count": 63,
      "outputs": [
        {
          "output_type": "stream",
          "name": "stdout",
          "text": [
            "Archive:  ngrok-stable-linux-amd64.zip\n",
            "  inflating: ngrok                   \n"
          ]
        }
      ]
    },
    {
      "cell_type": "code",
      "source": [
        "with open('/content/drive/MyDrive/Colab Notebooks/projeto_data_science_imobni/dados/authTokenngrok.txt', 'r') as file:\n",
        "  content = file.read()\n",
        "  file.close()\n",
        "\n",
        "my_authtoken = str(content)"
      ],
      "metadata": {
        "id": "LSsGlSu4VG5h"
      },
      "execution_count": 64,
      "outputs": []
    },
    {
      "cell_type": "code",
      "source": [
        "get_ipython().system_raw('./ngrok authtoken ' + my_authtoken)\n",
        "get_ipython().system_raw('./ngrok http 4050 &')\n",
        "\n",
        "!curl -s http://localhost:4040/api/tunnels"
      ],
      "metadata": {
        "colab": {
          "base_uri": "https://localhost:8080/"
        },
        "id": "JN7VU6ErJ6-m",
        "outputId": "f16d6487-2345-4339-f3de-d2a661b87297"
      },
      "execution_count": 65,
      "outputs": [
        {
          "output_type": "stream",
          "name": "stdout",
          "text": [
            "{\"tunnels\":[],\"uri\":\"/api/tunnels\"}\n"
          ]
        }
      ]
    },
    {
      "cell_type": "code",
      "source": [
        "spark"
      ],
      "metadata": {
        "id": "vDWpd4nrVKwm",
        "colab": {
          "base_uri": "https://localhost:8080/",
          "height": 219
        },
        "outputId": "65883283-681e-4614-f773-819f2ab65769"
      },
      "execution_count": 66,
      "outputs": [
        {
          "output_type": "execute_result",
          "data": {
            "text/plain": [
              "<pyspark.sql.session.SparkSession at 0x7f3c600a9d30>"
            ],
            "text/html": [
              "\n",
              "            <div>\n",
              "                <p><b>SparkSession - in-memory</b></p>\n",
              "                \n",
              "        <div>\n",
              "            <p><b>SparkContext</b></p>\n",
              "\n",
              "            <p><a href=\"http://d2a30190c914:4050\">Spark UI</a></p>\n",
              "\n",
              "            <dl>\n",
              "              <dt>Version</dt>\n",
              "                <dd><code>v3.1.2</code></dd>\n",
              "              <dt>Master</dt>\n",
              "                <dd><code>local[*]</code></dd>\n",
              "              <dt>AppName</dt>\n",
              "                <dd><code>recomendador</code></dd>\n",
              "            </dl>\n",
              "        </div>\n",
              "        \n",
              "            </div>\n",
              "        "
            ]
          },
          "metadata": {},
          "execution_count": 66
        }
      ]
    },
    {
      "cell_type": "markdown",
      "source": [
        "Carregamento dos dados:"
      ],
      "metadata": {
        "id": "9Te7vFd8ddtt"
      }
    },
    {
      "cell_type": "markdown",
      "source": [
        "# 2. Carregamento e preparação dos dados"
      ],
      "metadata": {
        "id": "UTWlLTRvlM-K"
      }
    },
    {
      "cell_type": "markdown",
      "source": [
        "## a. Leitura do dataset"
      ],
      "metadata": {
        "id": "k8V1MvMj5PzO"
      }
    },
    {
      "cell_type": "code",
      "source": [
        "path='/content/drive/MyDrive/Colab Notebooks/projeto_data_science_imobni/dataset_ml_regressao'\n",
        "\n",
        "data = spark.read.parquet(path)"
      ],
      "metadata": {
        "id": "6_hFMHTuddN7"
      },
      "execution_count": 67,
      "outputs": []
    },
    {
      "cell_type": "code",
      "source": [
        "data.show(5)"
      ],
      "metadata": {
        "colab": {
          "base_uri": "https://localhost:8080/"
        },
        "id": "sdt03fOPeKkA",
        "outputId": "5042c924-d374-4f4c-f925-7e8b16f4480b"
      },
      "execution_count": 68,
      "outputs": [
        {
          "output_type": "stream",
          "name": "stdout",
          "text": [
            "+--------------------+-----+---------+---------+-------+------+----+---------------+----------+-------+---------+------------+----------+----------+--------+--------+------------------+-------------+------------------+--------+-------+----------+------------+-----------------+---------------+\n",
            "|                  id|andar|area_util|banheiros|quartos|suites|vaga|         bairro|condominio|   iptu|    valor|zona_central|zona_norte|zona_oeste|zona_sul|Academia|animais_permitidos|Churrasqueira|condominio_fechado|Elevador|Piscina|Playground|portaria_24h|portao_eletronico|salao_de_festas|\n",
            "+--------------------+-----+---------+---------+-------+------+----+---------------+----------+-------+---------+------------+----------+----------+--------+--------+------------------+-------------+------------------+--------+-------+----------+------------+-----------------+---------------+\n",
            "|00790b85-56e3-43a...|   11|    166.0|        5|      4|     4|   2|    Jacarepaguá|    2100.0| 4600.0|1750000.0|           0|         0|         1|       0|       1|                 1|            1|                 1|       1|      1|         1|           1|                1|              1|\n",
            "|007f8099-8e1d-45f...|    4|    640.0|        5|     11|     3|   0|           Urca|    3060.0|20030.0|3800000.0|           0|         0|         0|       1|       0|                 1|            0|                 0|       0|      0|         0|           0|                1|              0|\n",
            "|00b23c6d-0e9d-4be...|    1|     50.0|        1|      2|     0|   1|Parada de Lucas|     363.0|   97.0| 192000.0|           0|         1|         0|       0|       1|                 1|            1|                 1|       0|      1|         1|           1|                0|              1|\n",
            "|012aebd7-278f-4b4...|    0|    160.0|        4|      3|     1|   3|        Ipanema|    1530.0| 7440.0|3490000.0|           0|         0|         0|       1|       0|                 0|            0|                 0|       1|      0|         0|           0|                0|              0|\n",
            "|0267dcdb-7705-44a...|    0|     52.0|        1|      2|     1|   1|      Pechincha|       0.0|    0.0| 440000.0|           0|         0|         1|       0|       0|                 0|            1|                 0|       0|      1|         1|           0|                0|              1|\n",
            "+--------------------+-----+---------+---------+-------+------+----+---------------+----------+-------+---------+------------+----------+----------+--------+--------+------------------+-------------+------------------+--------+-------+----------+------------+-----------------+---------------+\n",
            "only showing top 5 rows\n",
            "\n"
          ]
        }
      ]
    },
    {
      "cell_type": "code",
      "source": [
        "data.printSchema()"
      ],
      "metadata": {
        "colab": {
          "base_uri": "https://localhost:8080/"
        },
        "id": "cAHnwqXxzYeC",
        "outputId": "a71bc835-fca8-4f16-f4f4-1289390239e9"
      },
      "execution_count": 69,
      "outputs": [
        {
          "output_type": "stream",
          "name": "stdout",
          "text": [
            "root\n",
            " |-- id: string (nullable = true)\n",
            " |-- andar: integer (nullable = true)\n",
            " |-- area_util: double (nullable = true)\n",
            " |-- banheiros: integer (nullable = true)\n",
            " |-- quartos: integer (nullable = true)\n",
            " |-- suites: integer (nullable = true)\n",
            " |-- vaga: integer (nullable = true)\n",
            " |-- bairro: string (nullable = true)\n",
            " |-- condominio: double (nullable = true)\n",
            " |-- iptu: double (nullable = true)\n",
            " |-- valor: double (nullable = true)\n",
            " |-- zona_central: integer (nullable = true)\n",
            " |-- zona_norte: integer (nullable = true)\n",
            " |-- zona_oeste: integer (nullable = true)\n",
            " |-- zona_sul: integer (nullable = true)\n",
            " |-- Academia: integer (nullable = true)\n",
            " |-- animais_permitidos: integer (nullable = true)\n",
            " |-- Churrasqueira: integer (nullable = true)\n",
            " |-- condominio_fechado: integer (nullable = true)\n",
            " |-- Elevador: integer (nullable = true)\n",
            " |-- Piscina: integer (nullable = true)\n",
            " |-- Playground: integer (nullable = true)\n",
            " |-- portaria_24h: integer (nullable = true)\n",
            " |-- portao_eletronico: integer (nullable = true)\n",
            " |-- salao_de_festas: integer (nullable = true)\n",
            "\n"
          ]
        }
      ]
    },
    {
      "cell_type": "code",
      "source": [
        "print(f'Quantidade de linhas: {data.count()}')\n",
        "print(f'Quantidade de colunas: {len(data.columns)}')"
      ],
      "metadata": {
        "colab": {
          "base_uri": "https://localhost:8080/"
        },
        "id": "Oa4jrwC3znSb",
        "outputId": "5558364a-32c5-4121-8949-78b5385030f6"
      },
      "execution_count": 70,
      "outputs": [
        {
          "output_type": "stream",
          "name": "stdout",
          "text": [
            "Quantidade de linhas: 66551\n",
            "Quantidade de colunas: 25\n"
          ]
        }
      ]
    },
    {
      "cell_type": "markdown",
      "source": [
        "Checagem de nulos: "
      ],
      "metadata": {
        "id": "1RdqH2juz7je"
      }
    },
    {
      "cell_type": "code",
      "source": [
        "from pyspark.sql import functions as f"
      ],
      "metadata": {
        "id": "Qkp28Jvn0Cq7"
      },
      "execution_count": 71,
      "outputs": []
    },
    {
      "cell_type": "code",
      "source": [
        "data.select([f.count(f.when(f.isnull(c), 1)).alias(c) for c in data.columns]).show()"
      ],
      "metadata": {
        "colab": {
          "base_uri": "https://localhost:8080/"
        },
        "id": "Z3ENcRlK0Mw_",
        "outputId": "06eef0a8-2e55-47bd-a8e8-0a4b2fe8585f"
      },
      "execution_count": 72,
      "outputs": [
        {
          "output_type": "stream",
          "name": "stdout",
          "text": [
            "+---+-----+---------+---------+-------+------+----+------+----------+----+-----+------------+----------+----------+--------+--------+------------------+-------------+------------------+--------+-------+----------+------------+-----------------+---------------+\n",
            "| id|andar|area_util|banheiros|quartos|suites|vaga|bairro|condominio|iptu|valor|zona_central|zona_norte|zona_oeste|zona_sul|Academia|animais_permitidos|Churrasqueira|condominio_fechado|Elevador|Piscina|Playground|portaria_24h|portao_eletronico|salao_de_festas|\n",
            "+---+-----+---------+---------+-------+------+----+------+----------+----+-----+------------+----------+----------+--------+--------+------------------+-------------+------------------+--------+-------+----------+------------+-----------------+---------------+\n",
            "|  0|    0|        0|        0|      0|     0|   0|     0|         0|   0|    0|           0|         0|         0|       0|       0|                 0|            0|                 0|       0|      0|         0|           0|                0|              0|\n",
            "+---+-----+---------+---------+-------+------+----+------+----------+----+-----+------------+----------+----------+--------+--------+------------------+-------------+------------------+--------+-------+----------+------------+-----------------+---------------+\n",
            "\n"
          ]
        }
      ]
    },
    {
      "cell_type": "markdown",
      "source": [
        "Nenhuma variável com atributo nulo, como previsto no último tratamento!"
      ],
      "metadata": {
        "id": "BnnncKXw06mx"
      }
    },
    {
      "cell_type": "markdown",
      "source": [
        "## b. Preparração dos dados"
      ],
      "metadata": {
        "id": "klH1TWa1AIlQ"
      }
    },
    {
      "cell_type": "markdown",
      "source": [
        "O modddelo de clustering a ser montado também demanda a vetorizaçõ dos dados, assim como os modelos de regressão demandavam:"
      ],
      "metadata": {
        "id": "SBWXYLwJAyUl"
      }
    },
    {
      "cell_type": "code",
      "source": [
        "from pyspark.ml.feature import VectorAssembler"
      ],
      "metadata": {
        "id": "-HSE9RpA8_fn"
      },
      "execution_count": 73,
      "outputs": []
    },
    {
      "cell_type": "code",
      "source": [
        "data.columns"
      ],
      "metadata": {
        "colab": {
          "base_uri": "https://localhost:8080/"
        },
        "id": "mm25lRD5gFqj",
        "outputId": "99197536-b27c-43ef-dccf-cdc774045482"
      },
      "execution_count": 74,
      "outputs": [
        {
          "output_type": "execute_result",
          "data": {
            "text/plain": [
              "['id',\n",
              " 'andar',\n",
              " 'area_util',\n",
              " 'banheiros',\n",
              " 'quartos',\n",
              " 'suites',\n",
              " 'vaga',\n",
              " 'bairro',\n",
              " 'condominio',\n",
              " 'iptu',\n",
              " 'valor',\n",
              " 'zona_central',\n",
              " 'zona_norte',\n",
              " 'zona_oeste',\n",
              " 'zona_sul',\n",
              " 'Academia',\n",
              " 'animais_permitidos',\n",
              " 'Churrasqueira',\n",
              " 'condominio_fechado',\n",
              " 'Elevador',\n",
              " 'Piscina',\n",
              " 'Playground',\n",
              " 'portaria_24h',\n",
              " 'portao_eletronico',\n",
              " 'salao_de_festas']"
            ]
          },
          "metadata": {},
          "execution_count": 74
        }
      ]
    },
    {
      "cell_type": "markdown",
      "source": [
        "Desta vez, todas as colunas serão utilizadas no modelo, exceto:\n",
        "*  `id`: identificador único e \n",
        "*  `bairro`: não foi transformada em variável dummy por possuir muitas atribuições\n",
        "\n",
        "Aqui, outra especificidade: a coluna `valor` não é removida para o modelo, pois o cluster será criado de acordo com um algoritmo não supervisionado, em que não é necessário uma variável alvo. "
      ],
      "metadata": {
        "id": "b-Sj7Wy69kG6"
      }
    },
    {
      "cell_type": "code",
      "source": [
        "input_col = [i for i in data.columns if i not in ['id', 'bairro']]\n",
        "\n",
        "print(input_col)"
      ],
      "metadata": {
        "colab": {
          "base_uri": "https://localhost:8080/"
        },
        "id": "xSd2nvun96GN",
        "outputId": "d760ef0c-b957-44b9-b1cc-ea931ecabff4"
      },
      "execution_count": 75,
      "outputs": [
        {
          "output_type": "stream",
          "name": "stdout",
          "text": [
            "['andar', 'area_util', 'banheiros', 'quartos', 'suites', 'vaga', 'condominio', 'iptu', 'valor', 'zona_central', 'zona_norte', 'zona_oeste', 'zona_sul', 'Academia', 'animais_permitidos', 'Churrasqueira', 'condominio_fechado', 'Elevador', 'Piscina', 'Playground', 'portaria_24h', 'portao_eletronico', 'salao_de_festas']\n"
          ]
        }
      ]
    },
    {
      "cell_type": "code",
      "source": [
        "assembler = VectorAssembler(inputCols=input_col, outputCol='features')"
      ],
      "metadata": {
        "id": "6AR5L7TV-UB5"
      },
      "execution_count": 76,
      "outputs": []
    },
    {
      "cell_type": "code",
      "source": [
        "data_prep = assembler.transform(data).select(['features'])"
      ],
      "metadata": {
        "id": "p38aWnN0-vE6"
      },
      "execution_count": 77,
      "outputs": []
    },
    {
      "cell_type": "code",
      "source": [
        "data_prep.show(truncate=False, n=5)"
      ],
      "metadata": {
        "colab": {
          "base_uri": "https://localhost:8080/"
        },
        "id": "aaMyYHUq-XMV",
        "outputId": "af0547d1-c2fb-4811-8668-3c9f2e354372"
      },
      "execution_count": 78,
      "outputs": [
        {
          "output_type": "stream",
          "name": "stdout",
          "text": [
            "+------------------------------------------------------------------------------------------------------------+\n",
            "|features                                                                                                    |\n",
            "+------------------------------------------------------------------------------------------------------------+\n",
            "|[11.0,166.0,5.0,4.0,4.0,2.0,2100.0,4600.0,1750000.0,0.0,0.0,1.0,0.0,1.0,1.0,1.0,1.0,1.0,1.0,1.0,1.0,1.0,1.0]|\n",
            "|(23,[0,1,2,3,4,6,7,8,12,14,21],[4.0,640.0,5.0,11.0,3.0,3060.0,20030.0,3800000.0,1.0,1.0,1.0])               |\n",
            "|[1.0,50.0,1.0,2.0,0.0,1.0,363.0,97.0,192000.0,0.0,1.0,0.0,0.0,1.0,1.0,1.0,1.0,0.0,1.0,1.0,1.0,0.0,1.0]      |\n",
            "|(23,[1,2,3,4,5,6,7,8,12,17],[160.0,4.0,3.0,1.0,3.0,1530.0,7440.0,3490000.0,1.0,1.0])                        |\n",
            "|(23,[1,2,3,4,5,8,11,15,18,19,22],[52.0,1.0,2.0,1.0,1.0,440000.0,1.0,1.0,1.0,1.0,1.0])                       |\n",
            "+------------------------------------------------------------------------------------------------------------+\n",
            "only showing top 5 rows\n",
            "\n"
          ]
        }
      ]
    },
    {
      "cell_type": "markdown",
      "source": [
        "## c. Padronização dos dados"
      ],
      "metadata": {
        "id": "rRcOy-E3_SPt"
      }
    },
    {
      "cell_type": "markdown",
      "source": [
        "Com a classe `StandardScaler` do PySpark, pode-se padronizar os dados, fazendo com que adquiram média 0 e desvio padrão 1, de acordo com a fórmula *z-score*:\n",
        "\n",
        "<center>\n",
        "$x_{i} = \\dfrac{x_{i} - \\mu}{\\sigma}$\n",
        "</center>\n",
        "\n",
        "em que a $\\mu$ representa a média aritmética do conjunto e $\\sigma$ seu desvio padrão."
      ],
      "metadata": {
        "id": "DRaKquyi_Xwo"
      }
    },
    {
      "cell_type": "code",
      "source": [
        "from pyspark.ml.feature import StandardScaler"
      ],
      "metadata": {
        "id": "1f5kTs9z_XHh"
      },
      "execution_count": 79,
      "outputs": []
    },
    {
      "cell_type": "code",
      "source": [
        "scaler = StandardScaler(inputCol='features', outputCol='scaled_features')\n",
        "scaler_model = scaler.fit(data_prep)\n",
        "data_scaler = scaler_model.transform(data_prep)"
      ],
      "metadata": {
        "id": "zH7KOnT6BYb1"
      },
      "execution_count": 80,
      "outputs": []
    },
    {
      "cell_type": "code",
      "source": [
        "data_scaler.show(5, truncate=False)"
      ],
      "metadata": {
        "colab": {
          "base_uri": "https://localhost:8080/"
        },
        "id": "eYnmusinBjzq",
        "outputId": "fba95c63-d265-43b6-a101-4fcfaa56756e"
      },
      "execution_count": 81,
      "outputs": [
        {
          "output_type": "stream",
          "name": "stdout",
          "text": [
            "+------------------------------------------------------------------------------------------------------------+---------------------------------------------------------------------------------------------------------------------------------------------------------------------------------------------------------------------------------------------------------------------------------------------------------------------------------------------------------------------------------------------------+\n",
            "|features                                                                                                    |scaled_features                                                                                                                                                                                                                                                                                                                                                                                    |\n",
            "+------------------------------------------------------------------------------------------------------------+---------------------------------------------------------------------------------------------------------------------------------------------------------------------------------------------------------------------------------------------------------------------------------------------------------------------------------------------------------------------------------------------------+\n",
            "|[11.0,166.0,5.0,4.0,4.0,2.0,2100.0,4600.0,1750000.0,0.0,0.0,1.0,0.0,1.0,1.0,1.0,1.0,1.0,1.0,1.0,1.0,1.0,1.0]|[0.7484249436138242,1.863158919100964,3.6811694096817855,4.403280974701522,3.753883296713496,1.4893400916863262,0.020162028711138737,0.026879151254259267,1.189023524203362,0.0,0.0,2.0000643742960476,0.0,2.029288675697721,2.0063986358410992,2.00212608660304,2.0026140142259217,2.0917437099198977,1.9999864552247013,2.001812384720792,2.007706141209056,2.0142448870054395,2.000069820806827]|\n",
            "|(23,[0,1,2,3,4,6,7,8,12,14,21],[4.0,640.0,5.0,11.0,3.0,3060.0,20030.0,3800000.0,1.0,1.0,1.0])               |(23,[0,1,2,3,4,6,7,8,12,14,21],[0.27215452495048154,7.183263302557934,3.6811694096817855,12.109022680429185,2.815412472535122,0.029378956121945018,0.11704117383104633,2.581879652555872,2.165075093568037,2.0063986358410992,2.0142448870054395])                                                                                                                                                 |\n",
            "|[1.0,50.0,1.0,2.0,0.0,1.0,363.0,97.0,192000.0,0.0,1.0,0.0,0.0,1.0,1.0,1.0,1.0,0.0,1.0,1.0,1.0,0.0,1.0]      |[0.06803863123762038,0.5611924455123386,0.7362338819363571,2.201640487350761,0.0,0.7446700458431631,0.0034851506772111246,5.66799493839815E-4,0.13045286665545458,0.0,2.6098864683972236,0.0,0.0,2.029288675697721,2.0063986358410992,2.00212608660304,2.0026140142259217,0.0,1.9999864552247013,2.001812384720792,2.007706141209056,0.0,2.000069820806827]                                        |\n",
            "|(23,[1,2,3,4,5,6,7,8,12,17],[160.0,4.0,3.0,1.0,3.0,1530.0,7440.0,3490000.0,1.0,1.0])                        |(23,[1,2,3,4,5,6,7,8,12,17],[1.7958158256394836,2.9449355277454283,3.3024607310261413,0.938470824178374,2.234010137529489,0.014689478060972509,0.0434741055068889,2.371252628268419,2.165075093568037,2.0917437099198977])                                                                                                                                                                         |\n",
            "|(23,[1,2,3,4,5,8,11,15,18,19,22],[52.0,1.0,2.0,1.0,1.0,440000.0,1.0,1.0,1.0,1.0,1.0])                       |(23,[1,2,3,4,5,8,11,15,18,19,22],[0.5836401433328321,0.7362338819363571,2.201640487350761,0.938470824178374,0.7446700458431631,0.29895448608541675,2.0000643742960476,2.00212608660304,1.9999864552247013,2.001812384720792,2.000069820806827])                                                                                                                                                    |\n",
            "+------------------------------------------------------------------------------------------------------------+---------------------------------------------------------------------------------------------------------------------------------------------------------------------------------------------------------------------------------------------------------------------------------------------------------------------------------------------------------------------------------------------------+\n",
            "only showing top 5 rows\n",
            "\n"
          ]
        }
      ]
    },
    {
      "cell_type": "markdown",
      "source": [
        "## d. Redução de dimensionalidade"
      ],
      "metadata": {
        "id": "d3iRzXTdC_8i"
      }
    },
    {
      "cell_type": "markdown",
      "source": [
        "Para gerar uma combinação linear de todas as colunas e assim diminuir a dimensão do sistema, realiza-se a redução de dimensionalidade através da classe `PCA`:"
      ],
      "metadata": {
        "id": "JEVK_C3SDOfH"
      }
    },
    {
      "cell_type": "code",
      "source": [
        "from pyspark.ml.feature import PCA"
      ],
      "metadata": {
        "id": "RZsm1GlcC_mr"
      },
      "execution_count": 82,
      "outputs": []
    },
    {
      "cell_type": "code",
      "source": [
        "pca = PCA(k=2, inputCol='scaled_features', outputCol='pca_features')\n",
        "model_pca = pca.fit(data_scaler)\n",
        "data_pca = model_pca.transform(data_scaler)"
      ],
      "metadata": {
        "id": "ippVDjAPBrbi"
      },
      "execution_count": 83,
      "outputs": []
    },
    {
      "cell_type": "code",
      "source": [
        "data_pca.select('pca_features').show(5, truncate=False)"
      ],
      "metadata": {
        "colab": {
          "base_uri": "https://localhost:8080/"
        },
        "id": "VY04ivGUDwm5",
        "outputId": "97601de5-95c2-45d4-8e17-3e96a9dc7266"
      },
      "execution_count": 84,
      "outputs": [
        {
          "output_type": "stream",
          "name": "stdout",
          "text": [
            "+-----------------------------------------+\n",
            "|pca_features                             |\n",
            "+-----------------------------------------+\n",
            "|[-7.914179810286645,-5.023192740643865]  |\n",
            "|[-2.938732076637182,-11.039000981915983] |\n",
            "|[-5.091216714107639,-0.1418972328546243] |\n",
            "|[-1.3047552598967083,-5.1610096090868565]|\n",
            "|[-3.3948649730270692,-1.8954056038703295]|\n",
            "+-----------------------------------------+\n",
            "only showing top 5 rows\n",
            "\n"
          ]
        }
      ]
    },
    {
      "cell_type": "markdown",
      "source": [
        "# Criação de um pipeline de Machine Learning"
      ],
      "metadata": {
        "id": "HFFENwxBEGie"
      }
    },
    {
      "cell_type": "markdown",
      "source": [
        "A implementação da classe `Pipeline` facilita muito a forma como se estabelece um conjunto de transformações de dados nos scripts PySpark: "
      ],
      "metadata": {
        "id": "mt3c4oHREiCu"
      }
    },
    {
      "cell_type": "code",
      "source": [
        "from pyspark.ml import Pipeline"
      ],
      "metadata": {
        "id": "RT33wuhVEWIF"
      },
      "execution_count": 85,
      "outputs": []
    },
    {
      "cell_type": "markdown",
      "source": [
        "Como se viu nas células anteriores, o pipeline deste projeto é constituído pelos seguintes estágios:\n",
        "\n",
        "`vectorr_assembler` > `standard_scaler` > `pca`"
      ],
      "metadata": {
        "id": "XMGlNHtOFdwH"
      }
    },
    {
      "cell_type": "code",
      "source": [
        "pca_pipeline = Pipeline(stages=[assembler, scaler, pca])"
      ],
      "metadata": {
        "id": "wwDtTU7eGW8O"
      },
      "execution_count": 86,
      "outputs": []
    },
    {
      "cell_type": "code",
      "source": [
        "pca_pipeline_model = pca_pipeline.fit(data)"
      ],
      "metadata": {
        "id": "6OJxStbDGrO1"
      },
      "execution_count": 87,
      "outputs": []
    },
    {
      "cell_type": "code",
      "source": [
        "data_pca = pca_pipeline_model.transform(data)"
      ],
      "metadata": {
        "id": "ViEo3CemGvpl"
      },
      "execution_count": 88,
      "outputs": []
    },
    {
      "cell_type": "code",
      "source": [
        "data_pca.show(5)"
      ],
      "metadata": {
        "colab": {
          "base_uri": "https://localhost:8080/"
        },
        "id": "_hzGmw3rHHNN",
        "outputId": "b6a8e3fd-5577-438a-8451-ff1903b52cfd"
      },
      "execution_count": 89,
      "outputs": [
        {
          "output_type": "stream",
          "name": "stdout",
          "text": [
            "+--------------------+-----+---------+---------+-------+------+----+---------------+----------+-------+---------+------------+----------+----------+--------+--------+------------------+-------------+------------------+--------+-------+----------+------------+-----------------+---------------+--------------------+--------------------+--------------------+\n",
            "|                  id|andar|area_util|banheiros|quartos|suites|vaga|         bairro|condominio|   iptu|    valor|zona_central|zona_norte|zona_oeste|zona_sul|Academia|animais_permitidos|Churrasqueira|condominio_fechado|Elevador|Piscina|Playground|portaria_24h|portao_eletronico|salao_de_festas|            features|     scaled_features|        pca_features|\n",
            "+--------------------+-----+---------+---------+-------+------+----+---------------+----------+-------+---------+------------+----------+----------+--------+--------+------------------+-------------+------------------+--------+-------+----------+------------+-----------------+---------------+--------------------+--------------------+--------------------+\n",
            "|00790b85-56e3-43a...|   11|    166.0|        5|      4|     4|   2|    Jacarepaguá|    2100.0| 4600.0|1750000.0|           0|         0|         1|       0|       1|                 1|            1|                 1|       1|      1|         1|           1|                1|              1|[11.0,166.0,5.0,4...|[0.74842494361382...|[-7.9141798102866...|\n",
            "|007f8099-8e1d-45f...|    4|    640.0|        5|     11|     3|   0|           Urca|    3060.0|20030.0|3800000.0|           0|         0|         0|       1|       0|                 1|            0|                 0|       0|      0|         0|           0|                1|              0|(23,[0,1,2,3,4,6,...|(23,[0,1,2,3,4,6,...|[-2.9387320766371...|\n",
            "|00b23c6d-0e9d-4be...|    1|     50.0|        1|      2|     0|   1|Parada de Lucas|     363.0|   97.0| 192000.0|           0|         1|         0|       0|       1|                 1|            1|                 1|       0|      1|         1|           1|                0|              1|[1.0,50.0,1.0,2.0...|[0.06803863123762...|[-5.0912167141076...|\n",
            "|012aebd7-278f-4b4...|    0|    160.0|        4|      3|     1|   3|        Ipanema|    1530.0| 7440.0|3490000.0|           0|         0|         0|       1|       0|                 0|            0|                 0|       1|      0|         0|           0|                0|              0|(23,[1,2,3,4,5,6,...|(23,[1,2,3,4,5,6,...|[-1.3047552598967...|\n",
            "|0267dcdb-7705-44a...|    0|     52.0|        1|      2|     1|   1|      Pechincha|       0.0|    0.0| 440000.0|           0|         0|         1|       0|       0|                 0|            1|                 0|       0|      1|         1|           0|                0|              1|(23,[1,2,3,4,5,8,...|(23,[1,2,3,4,5,8,...|[-3.3948649730270...|\n",
            "+--------------------+-----+---------+---------+-------+------+----+---------------+----------+-------+---------+------------+----------+----------+--------+--------+------------------+-------------+------------------+--------+-------+----------+------------+-----------------+---------------+--------------------+--------------------+--------------------+\n",
            "only showing top 5 rows\n",
            "\n"
          ]
        }
      ]
    },
    {
      "cell_type": "markdown",
      "source": [
        "Resultado da redução:"
      ],
      "metadata": {
        "id": "YSh0PNHoIWsW"
      }
    },
    {
      "cell_type": "code",
      "source": [
        "data_pca.select('pca_features').show(5, truncate=False)"
      ],
      "metadata": {
        "colab": {
          "base_uri": "https://localhost:8080/"
        },
        "id": "3q1DT47LH15d",
        "outputId": "d8aab2a1-d883-4a09-fd2e-d056f2f6cf27"
      },
      "execution_count": 90,
      "outputs": [
        {
          "output_type": "stream",
          "name": "stdout",
          "text": [
            "+-----------------------------------------+\n",
            "|pca_features                             |\n",
            "+-----------------------------------------+\n",
            "|[-7.914179810286645,-5.023192740643865]  |\n",
            "|[-2.938732076637182,-11.039000981915983] |\n",
            "|[-5.091216714107639,-0.1418972328546243] |\n",
            "|[-1.3047552598967083,-5.1610096090868565]|\n",
            "|[-3.3948649730270692,-1.8954056038703295]|\n",
            "+-----------------------------------------+\n",
            "only showing top 5 rows\n",
            "\n"
          ]
        }
      ]
    },
    {
      "cell_type": "markdown",
      "source": [
        "#Clusterização dos dados com o algoritmo KMeans"
      ],
      "metadata": {
        "id": "U_NV0ExuId9g"
      }
    },
    {
      "cell_type": "markdown",
      "source": [
        "Com a classe `KMeans` implementa-se o algoritmo que será responsável por agrupar os dados que possuem características semelhantes (cluster)."
      ],
      "metadata": {
        "id": "gLkcWMuUIo78"
      }
    },
    {
      "cell_type": "code",
      "source": [
        "from pyspark.ml.clustering import KMeans"
      ],
      "metadata": {
        "id": "qd10Efr2LCRj"
      },
      "execution_count": 91,
      "outputs": []
    },
    {
      "cell_type": "code",
      "source": [
        "SEED = 1224"
      ],
      "metadata": {
        "id": "DXg_Q9MtLDo8"
      },
      "execution_count": 92,
      "outputs": []
    },
    {
      "cell_type": "markdown",
      "source": [
        "O algoritmo `KMeans` precisa das seguintes entradas:\n",
        "\n",
        "*  `featuresCol`: coluna dos dados a serem clusterizados\n",
        "*  `predictionCol`: coluna de clusters a que cada dado pertence\n",
        "*  `k`: número de cluster a serem criados\n",
        "*  `seed`: número para geração de números pseudoaletórios\n"
      ],
      "metadata": {
        "id": "9HNULX5BLX9g"
      }
    },
    {
      "cell_type": "code",
      "source": [
        "kmeans = KMeans(featuresCol='pca_features', predictionCol='cluster_pca', k=5, seed=SEED)"
      ],
      "metadata": {
        "id": "aHADQE6MLIB9"
      },
      "execution_count": 93,
      "outputs": []
    },
    {
      "cell_type": "code",
      "source": [
        "model_kmeans = kmeans.fit(data_pca)"
      ],
      "metadata": {
        "id": "r2DVdrMGRcFb"
      },
      "execution_count": 94,
      "outputs": []
    },
    {
      "cell_type": "code",
      "source": [
        "predictions_kmeans = model_kmeans.transform(data_pca)"
      ],
      "metadata": {
        "id": "oT0QaqQNRfar"
      },
      "execution_count": 95,
      "outputs": []
    },
    {
      "cell_type": "code",
      "source": [
        "predictions_kmeans.select('pca_features', 'cluster_pca')\\\n",
        "    .show(5, truncate=False)"
      ],
      "metadata": {
        "colab": {
          "base_uri": "https://localhost:8080/"
        },
        "id": "PWU3bTZIRlrC",
        "outputId": "0fe8c547-34de-4cd2-badb-87088af8f567"
      },
      "execution_count": 96,
      "outputs": [
        {
          "output_type": "stream",
          "name": "stdout",
          "text": [
            "+-----------------------------------------+-----------+\n",
            "|pca_features                             |cluster_pca|\n",
            "+-----------------------------------------+-----------+\n",
            "|[-7.914179810286645,-5.023192740643865]  |1          |\n",
            "|[-2.938732076637182,-11.039000981915983] |3          |\n",
            "|[-5.091216714107639,-0.1418972328546243] |2          |\n",
            "|[-1.3047552598967083,-5.1610096090868565]|3          |\n",
            "|[-3.3948649730270692,-1.8954056038703295]|4          |\n",
            "+-----------------------------------------+-----------+\n",
            "only showing top 5 rows\n",
            "\n"
          ]
        }
      ]
    },
    {
      "cell_type": "markdown",
      "source": [
        "## a. Análise dos clusters criados"
      ],
      "metadata": {
        "id": "27BjZU2JR9GL"
      }
    },
    {
      "cell_type": "markdown",
      "source": [
        "A query a seguir mostra um resumo para informações dos clusters de acordo com as informações dos cômodos e de tamanho do imóvel:"
      ],
      "metadata": {
        "id": "uTxzq8riSZ9q"
      }
    },
    {
      "cell_type": "code",
      "source": [
        "data_pca\\\n",
        "    .join(predictions_kmeans.select('id', 'cluster_pca'), on='id')\\\n",
        "    .groupBy('cluster_pca')\\\n",
        "    .agg(\n",
        "        f.count('id').alias('quantidade'),\n",
        "        f.mean('valor').alias('valor_medio'),\n",
        "        f.mean('area_util').alias('area_media'),\n",
        "        f.round(f.mean('quartos'),0).alias('quartos_medio'),\n",
        "        f.round(f.mean('vaga'), 0).alias('vagas_medio'),\n",
        "        f.round(f.mean('banheiros'), 0).alias('banheiros_medio'),\n",
        "        f.round(f.mean('suites'), 0).alias('suites_medio'),\n",
        "        f.mean('condominio').alias('condominio_medio'),\n",
        "        f.mean('iptu').alias('iptu_medio'),\n",
        "    )\\\n",
        "    .orderBy('cluster_pca')\\\n",
        "    .show()"
      ],
      "metadata": {
        "colab": {
          "base_uri": "https://localhost:8080/"
        },
        "id": "j2uSXrUORqcb",
        "outputId": "66efb924-64ec-43c8-bb5c-0e6a404de01c"
      },
      "execution_count": 36,
      "outputs": [
        {
          "output_type": "stream",
          "name": "stdout",
          "text": [
            "+-----------+----------+-----------------+------------------+-------------+-----------+---------------+------------+------------------+------------------+\n",
            "|cluster_pca|quantidade|      valor_medio|        area_media|quartos_medio|vagas_medio|banheiros_medio|suites_medio|  condominio_medio|        iptu_medio|\n",
            "+-----------+----------+-----------------+------------------+-------------+-----------+---------------+------------+------------------+------------------+\n",
            "|          0|     17606|805744.7303760082| 83.96370555492446|          2.0|        1.0|            2.0|         0.0|1672.8136998750426|1727.7102124275816|\n",
            "|          1|      5164|3864096.858249419|283.64000774593336|          4.0|        3.0|            5.0|         3.0|16689.941518202944|15476.259101471727|\n",
            "|          2|     20536|858257.9870471368| 90.33117452278925|          2.0|        1.0|            2.0|         1.0| 4352.482226334242|3669.3767530190885|\n",
            "|          3|      8390|2683309.111203814|206.60703218116805|          4.0|        2.0|            4.0|         2.0| 6505.283313468415|12809.864600715136|\n",
            "|          4|     14855| 798965.733625042| 83.31161225176709|          2.0|        1.0|            2.0|         1.0|3363.4352743184113| 2034.408818579603|\n",
            "+-----------+----------+-----------------+------------------+-------------+-----------+---------------+------------+------------------+------------------+\n",
            "\n"
          ]
        }
      ]
    },
    {
      "cell_type": "markdown",
      "source": [
        "## b. Melhoria do modelo com a métrica de variância explicada "
      ],
      "metadata": {
        "id": "yh0gMOFETVMk"
      }
    },
    {
      "cell_type": "markdown",
      "source": [
        "Como atividade extra, verifica-se a quantidade ideal de componentes que os dados devem possuir após a transformação PCA. Para isto, vale-se da medida de **variância explicada**."
      ],
      "metadata": {
        "id": "_rXF-4uaT6fv"
      }
    },
    {
      "cell_type": "code",
      "source": [
        "pca_pipeline_model.stages[2].explainedVariance"
      ],
      "metadata": {
        "colab": {
          "base_uri": "https://localhost:8080/"
        },
        "id": "4Rg9jFFTSL9T",
        "outputId": "e257e6c9-0c16-4900-fe5d-f1280898257c"
      },
      "execution_count": 37,
      "outputs": [
        {
          "output_type": "execute_result",
          "data": {
            "text/plain": [
              "DenseVector([0.2655, 0.1721])"
            ]
          },
          "metadata": {},
          "execution_count": 37
        }
      ]
    },
    {
      "cell_type": "code",
      "source": [
        "k = len(input_col)"
      ],
      "metadata": {
        "id": "lyb-9T74V-fD"
      },
      "execution_count": 38,
      "outputs": []
    },
    {
      "cell_type": "code",
      "source": [
        "print(k)"
      ],
      "metadata": {
        "colab": {
          "base_uri": "https://localhost:8080/"
        },
        "id": "GZTY-bfpWLBv",
        "outputId": "de59278a-20e4-4818-e965-7dcebd6f28e1"
      },
      "execution_count": 39,
      "outputs": [
        {
          "output_type": "stream",
          "name": "stdout",
          "text": [
            "23\n"
          ]
        }
      ]
    },
    {
      "cell_type": "code",
      "source": [
        "data_pca.select('pca_features').show(5, truncate=False)"
      ],
      "metadata": {
        "colab": {
          "base_uri": "https://localhost:8080/"
        },
        "id": "ZjOXuZNjWNLW",
        "outputId": "4c165bb7-5a97-4465-9043-721d26892e08"
      },
      "execution_count": 40,
      "outputs": [
        {
          "output_type": "stream",
          "name": "stdout",
          "text": [
            "+-----------------------------------------+\n",
            "|pca_features                             |\n",
            "+-----------------------------------------+\n",
            "|[-7.914179810286645,-5.023192740643865]  |\n",
            "|[-2.938732076637182,-11.039000981915983] |\n",
            "|[-5.091216714107639,-0.1418972328546243] |\n",
            "|[-1.3047552598967083,-5.1610096090868565]|\n",
            "|[-3.3948649730270692,-1.8954056038703295]|\n",
            "+-----------------------------------------+\n",
            "only showing top 5 rows\n",
            "\n"
          ]
        }
      ]
    },
    {
      "cell_type": "code",
      "source": [
        "pca = PCA(k=k, inputCol='scaled_features', outputCol='pca_features')\n",
        "model_pca = pca.fit(data_pca.drop('pca_features'))\n",
        "data_imoveis_pca = model_pca.transform(data_pca.drop('pca_features'))"
      ],
      "metadata": {
        "id": "JzkVyDxVWUbu"
      },
      "execution_count": 41,
      "outputs": []
    },
    {
      "cell_type": "code",
      "source": [
        "data_imoveis_pca.select('pca_features').show(5, truncate=False)"
      ],
      "metadata": {
        "colab": {
          "base_uri": "https://localhost:8080/"
        },
        "id": "SfSLdskbWqG2",
        "outputId": "8d86aeb5-4e92-42f6-b999-49ec50fe5c14"
      },
      "execution_count": 42,
      "outputs": [
        {
          "output_type": "stream",
          "name": "stdout",
          "text": [
            "+---------------------------------------------------------------------------------------------------------------------------------------------------------------------------------------------------------------------------------------------------------------------------------------------------------------------------------------------------------------------------------------------------------------------------------------------------------------------------+\n",
            "|pca_features                                                                                                                                                                                                                                                                                                                                                                                                                                                               |\n",
            "+---------------------------------------------------------------------------------------------------------------------------------------------------------------------------------------------------------------------------------------------------------------------------------------------------------------------------------------------------------------------------------------------------------------------------------------------------------------------------+\n",
            "|[-7.914179810286645,-5.023192740643865,-1.011036112444359,0.9748710818561146,-0.2847670025663553,-0.29618581901658153,-0.2529093215299016,0.1575887810280968,-0.19072651074791275,-1.4929831544379495,-0.3025048154020221,1.582575321602241,0.464195405045242,-1.5356910874791496,0.013938385381798299,-0.03144277071261618,0.07079600992009018,-0.14839656523958777,0.3511874353238224,0.00821408552014491,-0.012062402861483648,0.22612740314284233,-1.262871982069199]  |\n",
            "|[-2.938732076637182,-11.039000981915983,-4.038490438016014,2.187986153253318,-0.437860766162797,-0.09260027190872322,-0.24182651704594194,-0.3104240030730829,-0.36438225425848053,-3.854948885528871,1.8530586760822558,3.5893765514671903,-5.242280814919762,-4.509630525985213,-0.40841480956774906,0.655664949666313,0.9685023457505089,-0.5291446213360352,0.7330671170354862,-0.547867610898828,1.4904952027603624,-1.2980952922752838,-1.2628719820685648]          |\n",
            "|[-5.091216714107639,-0.1418972328546243,-0.14369304838874228,2.775392580635547,0.1370110834766442,1.0604617546093567,-0.26372821861882384,0.011836528170195787,-0.02890550793092513,0.0648433321465482,1.6402863650250477,0.4613766532150679,-0.7694091500062453,-1.4053625482719645,-0.54436815399673,0.9658235058066582,0.01945190064973558,0.0147817362801419,-0.44892423171621965,0.013093576330461598,-1.3744731852794383,0.15749555107972682,-1.2628719820689331]    |\n",
            "|[-1.3047552598967083,-5.1610096090868565,-2.151348198589037,0.5930678901415252,-0.041801161519937874,1.1330543488639357,-0.40791655584303715,-0.0528198825013729,-0.11364752665465838,0.6168218484408597,-1.659006612955145,0.980983573092892,-0.6782831753945621,-1.0427654660684924,0.02566365794291158,0.06520727360550727,0.06718993671269775,0.2265765795239274,-0.6204512214305532,-0.08822766337719523,0.035847621799680346,0.9407446902631558,-1.2628719820688938] |\n",
            "|[-3.3948649730270692,-1.8954056038703295,2.041885447153389,0.021934892842321724,0.08521905610799249,0.9684732130864733,-0.1919933160526359,0.27117912696807817,-0.03217342327757328,-0.10906260891881409,0.5833764025594672,1.1827075970833594,-0.856630525089298,-0.7040100817712626,-0.1969971132438334,-0.8959261439459916,-0.6382025949507519,-0.10198041757571463,0.5837957623435621,-0.8429721590297266,-0.14274141932869316,0.14279501027986793,-1.2628719820689995]|\n",
            "+---------------------------------------------------------------------------------------------------------------------------------------------------------------------------------------------------------------------------------------------------------------------------------------------------------------------------------------------------------------------------------------------------------------------------------------------------------------------------+\n",
            "only showing top 5 rows\n",
            "\n"
          ]
        }
      ]
    },
    {
      "cell_type": "code",
      "source": [
        "round(sum(model_pca.explainedVariance)*100)"
      ],
      "metadata": {
        "colab": {
          "base_uri": "https://localhost:8080/"
        },
        "id": "yq_lZ3FEW012",
        "outputId": "4adf7337-e6ce-45a3-de39-40fe192901c8"
      },
      "execution_count": 43,
      "outputs": [
        {
          "output_type": "execute_result",
          "data": {
            "text/plain": [
              "100"
            ]
          },
          "metadata": {},
          "execution_count": 43
        }
      ]
    },
    {
      "cell_type": "markdown",
      "source": [
        "Como espera-se, as 23 colunas explicam  100% dos daods."
      ],
      "metadata": {
        "id": "szJNvY4gXC2E"
      }
    },
    {
      "cell_type": "code",
      "source": [
        "model_pca.explainedVariance[:]"
      ],
      "metadata": {
        "colab": {
          "base_uri": "https://localhost:8080/"
        },
        "id": "PDog-1QMW6vO",
        "outputId": "513e1e81-0eb7-4e99-832e-bce9882571ba"
      },
      "execution_count": 44,
      "outputs": [
        {
          "output_type": "execute_result",
          "data": {
            "text/plain": [
              "array([2.65457494e-01, 1.72067301e-01, 9.12744818e-02, 5.43737219e-02,\n",
              "       5.22298117e-02, 4.66203459e-02, 4.42659008e-02, 4.16021312e-02,\n",
              "       3.46818214e-02, 2.72266440e-02, 2.43947461e-02, 2.01043117e-02,\n",
              "       1.92103152e-02, 1.76122901e-02, 1.55070658e-02, 1.38947785e-02,\n",
              "       1.20074124e-02, 1.13351577e-02, 1.01096341e-02, 9.23012235e-03,\n",
              "       8.89844650e-03, 7.89606599e-03, 8.57717522e-15])"
            ]
          },
          "metadata": {},
          "execution_count": 44
        }
      ]
    },
    {
      "cell_type": "markdown",
      "source": [
        "Soma cumulativa (`cumsum`) dos valores de variância para cada componente principal:"
      ],
      "metadata": {
        "id": "YA6e6f6GXXpd"
      }
    },
    {
      "cell_type": "code",
      "source": [
        "import numpy as np"
      ],
      "metadata": {
        "id": "r5ET4fbxXP6-"
      },
      "execution_count": 45,
      "outputs": []
    },
    {
      "cell_type": "code",
      "source": [
        "lista_valores = np.cumsum(model_pca.explainedVariance[:])"
      ],
      "metadata": {
        "id": "2nxQlX-sXnwW"
      },
      "execution_count": 46,
      "outputs": []
    },
    {
      "cell_type": "code",
      "source": [
        "print(lista_valores)"
      ],
      "metadata": {
        "colab": {
          "base_uri": "https://localhost:8080/"
        },
        "id": "Ecfp7yyrYnns",
        "outputId": "89f06d53-d85f-481d-d258-60d36735b403"
      },
      "execution_count": 47,
      "outputs": [
        {
          "output_type": "stream",
          "name": "stdout",
          "text": [
            "[0.26545749 0.43752479 0.52879928 0.583173   0.63540281 0.68202316\n",
            " 0.72628906 0.76789119 0.80257301 0.82979965 0.8541944  0.87429871\n",
            " 0.89350903 0.91112132 0.92662838 0.94052316 0.95253057 0.96386573\n",
            " 0.97397537 0.98320549 0.99210393 1.         1.        ]\n"
          ]
        }
      ]
    },
    {
      "cell_type": "markdown",
      "source": [
        "Com o intuito de se explicar até 70% dos dados, atualiza-se o valor de k:"
      ],
      "metadata": {
        "id": "DQc8dTQwYqxA"
      }
    },
    {
      "cell_type": "code",
      "source": [
        "k = sum(lista_valores <= 0.7)\n",
        "\n",
        "print(f'Novo k: {k}')"
      ],
      "metadata": {
        "colab": {
          "base_uri": "https://localhost:8080/"
        },
        "id": "6jofMwj2Ypav",
        "outputId": "661c9412-2662-4d09-b895-8c035fece57c"
      },
      "execution_count": 48,
      "outputs": [
        {
          "output_type": "stream",
          "name": "stdout",
          "text": [
            "Novo k: 6\n"
          ]
        }
      ]
    },
    {
      "cell_type": "markdown",
      "source": [
        "E atualiza-se a redução também:"
      ],
      "metadata": {
        "id": "HsR_HFHvZL5j"
      }
    },
    {
      "cell_type": "code",
      "source": [
        "pca = PCA(k=k, inputCol='scaled_features', outputCol='pca_features')\n",
        "model_pca = pca.fit(data_pca.drop('pca_features'))\n",
        "data_imoveis_pca_final = model_pca.transform(data_pca.drop('pca_features'))"
      ],
      "metadata": {
        "id": "kP0I08P-Y3wP"
      },
      "execution_count": 49,
      "outputs": []
    },
    {
      "cell_type": "code",
      "source": [
        "data_imoveis_pca_final.select('pca_features').show(truncate=False, n=5)"
      ],
      "metadata": {
        "colab": {
          "base_uri": "https://localhost:8080/"
        },
        "id": "oTkzH5IhZcFP",
        "outputId": "b9cd2042-dec2-44c8-b6d6-ec345e1b8408"
      },
      "execution_count": 50,
      "outputs": [
        {
          "output_type": "stream",
          "name": "stdout",
          "text": [
            "+------------------------------------------------------------------------------------------------------------------------+\n",
            "|pca_features                                                                                                            |\n",
            "+------------------------------------------------------------------------------------------------------------------------+\n",
            "|[-7.914179810286645,-5.023192740643865,-1.011036112444359,0.9748710818561146,-0.2847670025663553,-0.29618581901658153]  |\n",
            "|[-2.938732076637182,-11.039000981915983,-4.038490438016014,2.187986153253318,-0.437860766162797,-0.09260027190872322]   |\n",
            "|[-5.091216714107639,-0.1418972328546243,-0.14369304838874228,2.775392580635547,0.1370110834766442,1.0604617546093567]   |\n",
            "|[-1.3047552598967083,-5.1610096090868565,-2.151348198589037,0.5930678901415252,-0.041801161519937874,1.1330543488639357]|\n",
            "|[-3.3948649730270692,-1.8954056038703295,2.041885447153389,0.021934892842321724,0.08521905610799249,0.9684732130864733] |\n",
            "+------------------------------------------------------------------------------------------------------------------------+\n",
            "only showing top 5 rows\n",
            "\n"
          ]
        }
      ]
    },
    {
      "cell_type": "markdown",
      "source": [
        "Validando a porcentagem de dados explicados pelo conjunto principal:"
      ],
      "metadata": {
        "id": "6NziWtuzZqET"
      }
    },
    {
      "cell_type": "code",
      "source": [
        "sum(model_pca.explainedVariance) *100"
      ],
      "metadata": {
        "colab": {
          "base_uri": "https://localhost:8080/"
        },
        "id": "7lYNOTtyZjBv",
        "outputId": "578f71cd-bb8d-4697-8c03-e113a10cd498"
      },
      "execution_count": 51,
      "outputs": [
        {
          "output_type": "execute_result",
          "data": {
            "text/plain": [
              "68.20231562211647"
            ]
          },
          "metadata": {},
          "execution_count": 51
        }
      ]
    },
    {
      "cell_type": "markdown",
      "source": [
        "Novo pipeline:"
      ],
      "metadata": {
        "id": "tD1TWhWdapzg"
      }
    },
    {
      "cell_type": "code",
      "source": [
        "pca_pipeline = Pipeline(stages=[assembler, scaler, pca])"
      ],
      "metadata": {
        "id": "lTtSY88ra5Rk"
      },
      "execution_count": 52,
      "outputs": []
    },
    {
      "cell_type": "code",
      "source": [
        "model_pca_pipeline = pca_pipeline.fit(data)"
      ],
      "metadata": {
        "id": "FL_kT_F8a5Rl"
      },
      "execution_count": 53,
      "outputs": []
    },
    {
      "cell_type": "code",
      "source": [
        "projection = model_pca_pipeline.transform(data)"
      ],
      "metadata": {
        "id": "aCpT72fpa5Rm"
      },
      "execution_count": 54,
      "outputs": []
    },
    {
      "cell_type": "code",
      "source": [
        "projection.select('pca_features').show(truncate=False, n=5)"
      ],
      "metadata": {
        "colab": {
          "base_uri": "https://localhost:8080/"
        },
        "outputId": "d020da67-5b6b-4ff0-f8d1-2cf227fd65f9",
        "id": "lViYzS65a5Rm"
      },
      "execution_count": 55,
      "outputs": [
        {
          "output_type": "stream",
          "name": "stdout",
          "text": [
            "+------------------------------------------------------------------------------------------------------------------------+\n",
            "|pca_features                                                                                                            |\n",
            "+------------------------------------------------------------------------------------------------------------------------+\n",
            "|[-7.914179810286645,-5.023192740643865,-1.011036112444359,0.9748710818561146,-0.2847670025663553,-0.29618581901658153]  |\n",
            "|[-2.938732076637182,-11.039000981915983,-4.038490438016014,2.187986153253318,-0.437860766162797,-0.09260027190872322]   |\n",
            "|[-5.091216714107639,-0.1418972328546243,-0.14369304838874228,2.775392580635547,0.1370110834766442,1.0604617546093567]   |\n",
            "|[-1.3047552598967083,-5.1610096090868565,-2.151348198589037,0.5930678901415252,-0.041801161519937874,1.1330543488639357]|\n",
            "|[-3.3948649730270692,-1.8954056038703295,2.041885447153389,0.021934892842321724,0.08521905610799249,0.9684732130864733] |\n",
            "+------------------------------------------------------------------------------------------------------------------------+\n",
            "only showing top 5 rows\n",
            "\n"
          ]
        }
      ]
    },
    {
      "cell_type": "markdown",
      "source": [
        "## c. Melhoria do modelo com a métrica do Silhoute Score"
      ],
      "metadata": {
        "id": "DAAWLyML8RO1"
      }
    },
    {
      "cell_type": "markdown",
      "source": [
        "Cálculo do Silhoute Score\n",
        "\n",
        "> Silhoutte Score é uma métrica usada para calculara o quão bom está a clusterização utilizada. Esse valor varia de -1 a 1.\n",
        "\n",
        "*  1: Significa que os clusters estão bem separados uns dos outros.\n",
        "\n",
        "*  0: Significa que os clusters são indiferentes, ou podemos dizer que a distância entre os clusters não é significativa.\n",
        "\n",
        "*  -1: Significa que os clusters são atribuídos da maneira errada.\n",
        "\n",
        "Reprodução: Alura"
      ],
      "metadata": {
        "id": "Lw5mhToqbhXZ"
      }
    },
    {
      "cell_type": "markdown",
      "source": [
        "Aumentando-se a quantidade de cluster para 50, garante-se que todos sejam mais bem definidos, uma vez que a volumetria de dados é grande."
      ],
      "metadata": {
        "id": "c2PvkmIfcWBB"
      }
    },
    {
      "cell_type": "code",
      "source": [
        "from pyspark.ml.clustering import KMeans\n",
        "from pyspark.ml.evaluation import ClusteringEvaluator\n",
        "silhouette_score=[]\n",
        "\n",
        "evaluator = ClusteringEvaluator(predictionCol='cluster_pca', featuresCol='pca_features', \\\n",
        "                                metricName='silhouette', distanceMeasure='squaredEuclidean')\n",
        "silhouette_score = {}\n",
        "\n",
        "for i in range(2,51):\n",
        "    \n",
        "    KMeans_algo = KMeans(k=i, featuresCol='pca_features', predictionCol='cluster_pca', seed=SEED)\n",
        "    \n",
        "    KMeans_fit = KMeans_algo.fit(projection)\n",
        "    \n",
        "    output = KMeans_fit.transform(projection)\n",
        "    \n",
        "    score = evaluator.evaluate(output)\n",
        "    silhouette_score[i] = score"
      ],
      "metadata": {
        "id": "7pTfTkjhcJju"
      },
      "execution_count": 56,
      "outputs": []
    },
    {
      "cell_type": "code",
      "source": [
        "silhouette_score"
      ],
      "metadata": {
        "colab": {
          "base_uri": "https://localhost:8080/"
        },
        "id": "0tKZXi5tdWJI",
        "outputId": "6bc49149-c6b8-4fcb-e718-fe2bcb1e2196"
      },
      "execution_count": 57,
      "outputs": [
        {
          "data": {
            "text/plain": [
              "{2: 0.48064274154868714,\n",
              " 3: 0.4860937907315559,\n",
              " 4: 0.38161823258583105,\n",
              " 5: 0.4428249783856506,\n",
              " 6: 0.3746979200672158,\n",
              " 7: 0.4263994145412974,\n",
              " 8: 0.4743536007834268,\n",
              " 9: 0.3661472020143287,\n",
              " 10: 0.4695180160820781,\n",
              " 11: 0.46194569424407,\n",
              " 12: 0.4323722525329695,\n",
              " 13: 0.4186546380724803,\n",
              " 14: 0.4398037135494111,\n",
              " 15: 0.5185124458287033,\n",
              " 16: 0.49798351103543803,\n",
              " 17: 0.47958504281783393,\n",
              " 18: 0.5123974508196731,\n",
              " 19: 0.4917913636609113,\n",
              " 20: 0.5035444946846203,\n",
              " 21: 0.5202501022252746,\n",
              " 22: 0.5040977398571795,\n",
              " 23: 0.502429863706091,\n",
              " 24: 0.5201312985392625,\n",
              " 25: 0.5050848054248894,\n",
              " 26: 0.4924774938970464,\n",
              " 27: 0.5245001606961731,\n",
              " 28: 0.4700128652984269,\n",
              " 29: 0.5008089746525817,\n",
              " 30: 0.5217495600060424,\n",
              " 31: 0.5163381820267522,\n",
              " 32: 0.509093331017846,\n",
              " 33: 0.5247714919048561,\n",
              " 34: 0.5190114857535318,\n",
              " 35: 0.5253519428890208,\n",
              " 36: 0.521047104583288,\n",
              " 37: 0.4760468027155057,\n",
              " 38: 0.4958720825658593,\n",
              " 39: 0.4981203158967082,\n",
              " 40: 0.47775279627182016,\n",
              " 41: 0.49826407458106253,\n",
              " 42: 0.47231945670424136,\n",
              " 43: 0.488919993787059,\n",
              " 44: 0.47921743896259955,\n",
              " 45: 0.5120696653134762,\n",
              " 46: 0.4945148053258398,\n",
              " 47: 0.4754737283254767,\n",
              " 48: 0.5037949906586253,\n",
              " 49: 0.5024250458128829,\n",
              " 50: 0.5046758908214133}"
            ]
          },
          "execution_count": 57,
          "metadata": {},
          "output_type": "execute_result"
        }
      ]
    },
    {
      "cell_type": "code",
      "source": [
        "k_best = [key for key, value in silhouette_score.items() if value == max(silhouette_score.values())]\n",
        "k_best[0]"
      ],
      "metadata": {
        "colab": {
          "base_uri": "https://localhost:8080/"
        },
        "id": "FgnBN_OjdYNx",
        "outputId": "776e57a3-d010-44cb-b33b-77d9738a174a"
      },
      "execution_count": 97,
      "outputs": [
        {
          "output_type": "execute_result",
          "data": {
            "text/plain": [
              "35"
            ]
          },
          "metadata": {},
          "execution_count": 97
        }
      ]
    },
    {
      "cell_type": "code",
      "source": [
        "kmeans = KMeans(k=k_best[0], featuresCol='pca_features', predictionCol='cluster_pca', seed=SEED)\n",
        "modelo_kmeans = kmeans.fit(projection)\n",
        "projection_kmeans = modelo_kmeans.transform(projection)"
      ],
      "metadata": {
        "id": "4QJ_ai3-djyT"
      },
      "execution_count": 98,
      "outputs": []
    },
    {
      "cell_type": "code",
      "source": [
        "projection_kmeans.select(['pca_features','cluster_pca', \"id\"]).show(truncate=False)"
      ],
      "metadata": {
        "colab": {
          "base_uri": "https://localhost:8080/"
        },
        "id": "edvNbAeqdg7T",
        "outputId": "bd9af3b4-03d0-4778-aa95-2492105f914a"
      },
      "execution_count": 99,
      "outputs": [
        {
          "output_type": "stream",
          "name": "stdout",
          "text": [
            "+-------------------------------------------------------------------------------------------------------------------------+-----------+------------------------------------+\n",
            "|pca_features                                                                                                             |cluster_pca|id                                  |\n",
            "+-------------------------------------------------------------------------------------------------------------------------+-----------+------------------------------------+\n",
            "|[-7.914179810286645,-5.023192740643865,-1.011036112444359,0.9748710818561146,-0.2847670025663553,-0.29618581901658153]   |0          |00790b85-56e3-43a5-a499-9e4c3708b95c|\n",
            "|[-2.938732076637182,-11.039000981915983,-4.038490438016014,2.187986153253318,-0.437860766162797,-0.09260027190872322]    |6          |007f8099-8e1d-45f6-9cdf-dee58ea462f4|\n",
            "|[-5.091216714107639,-0.1418972328546243,-0.14369304838874228,2.775392580635547,0.1370110834766442,1.0604617546093567]    |4          |00b23c6d-0e9d-4be3-a4cc-cf64ca06f3d2|\n",
            "|[-1.3047552598967083,-5.1610096090868565,-2.151348198589037,0.5930678901415252,-0.041801161519937874,1.1330543488639357] |5          |012aebd7-278f-4b4f-b621-a7b0b0f15201|\n",
            "|[-3.3948649730270692,-1.8954056038703295,2.041885447153389,0.021934892842321724,0.08521905610799249,0.9684732130864733]  |1          |0267dcdb-7705-44ad-b4f5-fa94720aa3cc|\n",
            "|[-7.160649456143885,-4.8558119271663225,-0.42263319621007267,0.8765765513148482,-0.1435115194345956,0.39020435470858494] |33         |02ad9d93-7b89-46b2-b07e-182773c19065|\n",
            "|[-5.196716599117334,-2.082151336841546,-2.438142395790295,0.2877448806364637,0.02954503281047298,2.075327136740063]      |34         |02ef01fe-9333-40f5-ab7b-6bc638657932|\n",
            "|[-6.38607350641174,-1.7594200413402548,-0.8939008490586647,0.26974910375263605,-0.2386641202288416,-0.5796882609888316]  |11         |04171318-00f9-4306-b404-2a07b0a9b977|\n",
            "|[-7.1292224076042965,-4.926419640806822,-0.31519695506547574,1.0317516067449826,-0.18254537665299575,0.11464385626683365]|33         |04a03e35-1a8b-4fc9-ac13-c23956ad89cf|\n",
            "|[-7.458884405969681,-3.424598988145671,-0.8666657006113484,0.7619396394053556,-0.24152009058090834,-0.21759729016731105] |33         |04a8d9c5-daca-44f8-a891-aac9af65fd10|\n",
            "|[-0.8564047690068687,-5.298148139489154,-1.7344733902956826,0.42267282456845956,-0.10813093681804767,0.711819879196552]  |5          |058e6011-b830-4557-9823-9e3876b70f29|\n",
            "|[-4.229029041682446,-1.2101847132975943,-3.635891859787511,0.31426352507789573,-0.1654321508559583,0.42948157987539193]  |12         |05beb775-9afa-428f-b823-75d8049c982e|\n",
            "|[-1.1070524167797746,-3.729194717518393,-1.1811299201602186,0.4211201197564459,0.006612703063400546,1.3682711708074449]  |5          |067673ae-4b0f-4440-8f4e-168ec972d9b5|\n",
            "|[-5.077723944470113,-1.0465278841610033,1.4297258464549987,-0.027878074800163882,0.14271150008384337,1.331179328480853]  |28         |07bd5c4a-e06d-4dad-b9bb-905752252be1|\n",
            "|[-1.9075536075604531,-4.152101955900346,0.8932671175554828,0.2601477318037063,-0.193733383696147,-0.5501910083990457]    |3          |07d28395-2a02-4850-a7a3-d39238af0b8c|\n",
            "|[-7.930083879531384,-5.215930482780297,-0.9175676589394065,1.034275654314254,-0.3015763675387129,-0.10318597312833216]   |0          |08f243b2-ff9f-447c-8aa9-31554d9398c5|\n",
            "|[-2.8852216306425444,-6.0060772548329755,-2.2084913243736892,0.5926124144151266,-0.1189529168617905,1.3355289233180274]  |5          |09a73a8c-7314-4dd2-820b-e37551201872|\n",
            "|[-6.73111277191735,-2.0262310731285957,-1.5728562434686424,3.3569581574245237,-0.032227356273758806,0.6827771621085186]  |4          |09afc288-5ca7-40b2-9b9d-4718244995bb|\n",
            "|[-7.4186767987888755,-4.631930496164707,-1.5561386618124189,0.7908272706481906,-0.14470688502393192,0.2131073468311233]  |33         |0a34687d-4c41-41ba-91a5-99a5e2e41ce4|\n",
            "|[-6.910302164356212,-1.178285332185398,-0.62660029468412,0.20466208470220604,-0.13689591300899812,0.044564760603646114]  |11         |0a35241d-3051-40c4-a2d9-669d32e7ac14|\n",
            "+-------------------------------------------------------------------------------------------------------------------------+-----------+------------------------------------+\n",
            "only showing top 20 rows\n",
            "\n"
          ]
        }
      ]
    },
    {
      "cell_type": "markdown",
      "source": [
        "## d. Visualização de um cluster"
      ],
      "metadata": {
        "id": "utP8Ia87f_PD"
      }
    },
    {
      "cell_type": "markdown",
      "source": [
        "Com o intuito de verificar a validação de um dos clusteres, escolhe-se um id aleatório e, assim, mostra-se o cluster em que ele está alocado:"
      ],
      "metadata": {
        "id": "Hbzoc2hrgDWD"
      }
    },
    {
      "cell_type": "code",
      "source": [
        "id_imovel = '04171318-00f9-4306-b404-2a07b0a9b977'"
      ],
      "metadata": {
        "id": "HyeLV61kgThc"
      },
      "execution_count": 100,
      "outputs": []
    },
    {
      "cell_type": "code",
      "source": [
        "projection_kmeans\\\n",
        "    .filter(projection_kmeans.id == id_imovel)\\\n",
        "    .select('cluster_pca')\\\n",
        "    .show()"
      ],
      "metadata": {
        "colab": {
          "base_uri": "https://localhost:8080/"
        },
        "id": "HFWMLz8tgdKb",
        "outputId": "de2ed8a0-3038-43ca-d9a2-f920a97f9922"
      },
      "execution_count": 101,
      "outputs": [
        {
          "output_type": "stream",
          "name": "stdout",
          "text": [
            "+-----------+\n",
            "|cluster_pca|\n",
            "+-----------+\n",
            "|         11|\n",
            "+-----------+\n",
            "\n"
          ]
        }
      ]
    },
    {
      "cell_type": "code",
      "source": [
        "cluster = projection_kmeans\\\n",
        "    .filter(projection_kmeans.id == id_imovel)\\\n",
        "    .select('cluster_pca')\\\n",
        "    .collect()[0][0]"
      ],
      "metadata": {
        "id": "4xuEWh0kg7YG"
      },
      "execution_count": 102,
      "outputs": []
    },
    {
      "cell_type": "code",
      "source": [
        "print(cluster)"
      ],
      "metadata": {
        "colab": {
          "base_uri": "https://localhost:8080/"
        },
        "id": "4KpIRO65hIG8",
        "outputId": "2bcd6fac-f13b-4e9f-94db-c987b80439a2"
      },
      "execution_count": 103,
      "outputs": [
        {
          "output_type": "stream",
          "name": "stdout",
          "text": [
            "11\n"
          ]
        }
      ]
    },
    {
      "cell_type": "code",
      "source": [
        "recomendacoes = projection_kmeans\\\n",
        "    .filter(projection_kmeans.cluster_pca == cluster)\\\n",
        "    .select('bairro', 'id', 'pca_features')"
      ],
      "metadata": {
        "id": "R0mcesTHhF-D"
      },
      "execution_count": 104,
      "outputs": []
    },
    {
      "cell_type": "code",
      "source": [
        "recomendacoes.show(8, truncate=False)"
      ],
      "metadata": {
        "colab": {
          "base_uri": "https://localhost:8080/"
        },
        "id": "csMeRhmYhc4M",
        "outputId": "7bc935e7-0167-499b-94bb-c87be5f06876"
      },
      "execution_count": 105,
      "outputs": [
        {
          "output_type": "stream",
          "name": "stdout",
          "text": [
            "+------------------------+------------------------------------+--------------------------------------------------------------------------------------------------------------------------+\n",
            "|bairro                  |id                                  |pca_features                                                                                                              |\n",
            "+------------------------+------------------------------------+--------------------------------------------------------------------------------------------------------------------------+\n",
            "|Recreio dos Bandeirantes|04171318-00f9-4306-b404-2a07b0a9b977|[-6.38607350641174,-1.7594200413402548,-0.8939008490586647,0.26974910375263605,-0.2386641202288416,-0.5796882609888316]   |\n",
            "|Recreio dos Bandeirantes|0a35241d-3051-40c4-a2d9-669d32e7ac14|[-6.910302164356212,-1.178285332185398,-0.62660029468412,0.20466208470220604,-0.13689591300899812,0.044564760603646114]   |\n",
            "|Recreio dos Bandeirantes|0ed4db7a-f9a8-4857-bcd5-9f09ed7ab46b|[-6.3912670396428055,-1.4276827496701459,0.048290401918687414,0.1471404300093989,-0.02930405598533313,0.47627648587096794]|\n",
            "|Jacarepaguá             |115fd86e-7fba-4d6e-8304-8c05e10c1c40|[-6.980433387020103,-1.4815549140832909,-0.5954534142355785,0.3650392420761083,-0.1673261257901395,0.02401292738392158]   |\n",
            "|Anil                    |13612339-e5d9-4d65-aa68-153ff4d0a07c|[-6.927988043220673,-1.0570344238634548,-0.6308590543703816,0.21693080472702475,-0.14215632267032008,-0.20966017837373657]|\n",
            "|Anil                    |1734879b-15a6-470a-a718-2eeb4666fe20|[-7.00990979171648,-1.569766665933726,-0.6541602581538859,0.3841518207851271,-0.1711319302572678,-0.10325828726339265]    |\n",
            "|Pechincha               |1c57342d-b87e-4190-baa7-2aa628f2483a|[-7.109055459437307,-1.8761053240910264,-0.6819374081788849,0.420060482692422,-0.17177782949325526,-0.334272634116544]    |\n",
            "|Barra da Tijuca         |2cae7274-d1f3-46dd-8639-e1acd8e7c44e|[-6.831923037978679,-0.7454614240984275,-0.556196529611255,0.13276306849349406,-0.11670500862266954,0.03086109455040953]  |\n",
            "+------------------------+------------------------------------+--------------------------------------------------------------------------------------------------------------------------+\n",
            "only showing top 8 rows\n",
            "\n"
          ]
        }
      ]
    },
    {
      "cell_type": "markdown",
      "source": [
        "#Finalização"
      ],
      "metadata": {
        "id": "A-bAYvwth--8"
      }
    },
    {
      "cell_type": "markdown",
      "source": [
        "## a. Busca pelas 10 melhores recomendações"
      ],
      "metadata": {
        "id": "eiUdabfJklOX"
      }
    },
    {
      "cell_type": "markdown",
      "source": [
        "Com o cálculo da distância euclidiana entre os elementos de um cluster, é possível elencar as 10 melhores recomendações. Para este teste, ainda se vale do `id` aleatório `id_imovel`."
      ],
      "metadata": {
        "id": "KZPyk6EqiO31"
      }
    },
    {
      "cell_type": "code",
      "source": [
        "imovel_procurado = recomendacoes\\\n",
        "    .filter(recomendacoes.id == id_imovel)\\\n",
        "    .select('pca_features')\\\n",
        "    .collect()[0][0]"
      ],
      "metadata": {
        "id": "HRGFrBywixE_"
      },
      "execution_count": 106,
      "outputs": []
    },
    {
      "cell_type": "code",
      "source": [
        "print(f'Vetor: {imovel_procurado}')"
      ],
      "metadata": {
        "colab": {
          "base_uri": "https://localhost:8080/"
        },
        "id": "G3Ln92H2jDyw",
        "outputId": "f33b665f-b309-4203-fd17-39890102f243"
      },
      "execution_count": 107,
      "outputs": [
        {
          "output_type": "stream",
          "name": "stdout",
          "text": [
            "Vetor: [-6.38607350641174,-1.7594200413402548,-0.8939008490586647,0.26974910375263605,-0.2386641202288416,-0.5796882609888316]\n"
          ]
        }
      ]
    },
    {
      "cell_type": "code",
      "source": [
        "from scipy.spatial.distance import euclidean\n",
        "from pyspark.sql.types import FloatType"
      ],
      "metadata": {
        "id": "ht1jdEOyjGSV"
      },
      "execution_count": 108,
      "outputs": []
    },
    {
      "cell_type": "code",
      "source": [
        "def calculate_euclidean_distance(imovel, valor):\n",
        "    return euclidean(imovel, valor)\n",
        "\n",
        "euclidean_udf = f.udf(lambda x: calculate_euclidean_distance(imovel_procurado, x), FloatType())\n",
        "\n",
        "recomendacoes\\\n",
        "    .withColumn('distancia', euclidean_udf('pca_features'))\\\n",
        "    .select('bairro', 'id', 'distancia')\\\n",
        "    .orderBy('distancia')\\\n",
        "    .show(5)"
      ],
      "metadata": {
        "colab": {
          "base_uri": "https://localhost:8080/"
        },
        "id": "fA4U7BNGjTGU",
        "outputId": "cba0caa1-f9ac-4bd5-ae51-cc24f7363540"
      },
      "execution_count": 109,
      "outputs": [
        {
          "output_type": "stream",
          "name": "stdout",
          "text": [
            "+--------------------+--------------------+-----------+\n",
            "|              bairro|                  id|  distancia|\n",
            "+--------------------+--------------------+-----------+\n",
            "|Recreio dos Bande...|04171318-00f9-430...|        0.0|\n",
            "|Recreio dos Bande...|3dc65040-ff74-403...|0.015714277|\n",
            "|         Jacarepaguá|9c8a005d-e127-4d8...|0.016470006|\n",
            "|Recreio dos Bande...|c7dc293c-3a36-4db...|0.016532231|\n",
            "|Freguesia (Jacare...|01a5aae1-6767-463...|0.020644499|\n",
            "+--------------------+--------------------+-----------+\n",
            "only showing top 5 rows\n",
            "\n"
          ]
        }
      ]
    },
    {
      "cell_type": "code",
      "source": [
        "top_recomendacoes = recomendacoes\\\n",
        "    .withColumn('distancia', euclidean_udf('pca_features'))\\\n",
        "    .select('bairro', 'id', 'distancia')\\\n",
        "    .orderBy('distancia')\n",
        "\n",
        "top_recomendacoes.show(10, truncate=False)"
      ],
      "metadata": {
        "colab": {
          "base_uri": "https://localhost:8080/"
        },
        "id": "zoq0KrRRjbTN",
        "outputId": "f4df8909-5a13-413e-ee7e-7c0ccca9bac8"
      },
      "execution_count": 110,
      "outputs": [
        {
          "output_type": "stream",
          "name": "stdout",
          "text": [
            "+------------------------+------------------------------------+-----------+\n",
            "|bairro                  |id                                  |distancia  |\n",
            "+------------------------+------------------------------------+-----------+\n",
            "|Recreio dos Bandeirantes|04171318-00f9-4306-b404-2a07b0a9b977|0.0        |\n",
            "|Recreio dos Bandeirantes|3dc65040-ff74-4034-af77-6b5f575ce8b6|0.015714277|\n",
            "|Jacarepaguá             |9c8a005d-e127-4d8b-9c44-da0523637e5f|0.016470006|\n",
            "|Recreio dos Bandeirantes|c7dc293c-3a36-4db8-8a91-3a9d37f55aaa|0.016532231|\n",
            "|Freguesia (Jacarepaguá) |01a5aae1-6767-4634-9e87-490724b6ed90|0.020644499|\n",
            "|Freguesia (Jacarepaguá) |f3e29161-e611-48d1-9678-82210822855a|0.023297567|\n",
            "|Pechincha               |31685d3f-3b08-4027-8669-d34adb46edce|0.026400762|\n",
            "|Freguesia (Jacarepaguá) |624060ee-2412-4d90-93f0-9f86c87d0898|0.03780748 |\n",
            "|Pechincha               |a68a378a-a0ec-4d0f-a762-22ab663cdf85|0.038690396|\n",
            "|Freguesia (Jacarepaguá) |5c253135-5609-4d63-a330-fa5b9a6fdabc|0.042061623|\n",
            "+------------------------+------------------------------------+-----------+\n",
            "only showing top 10 rows\n",
            "\n"
          ]
        }
      ]
    },
    {
      "cell_type": "markdown",
      "source": [
        "## b. Disponibilização da ref. de função recomendadora para o time de dev "
      ],
      "metadata": {
        "id": "Icx5PQhUkWzO"
      }
    },
    {
      "cell_type": "markdown",
      "source": [
        "Consolidando tudo o que foi discutido e implementado, chega-se à função que o time de desenvolvimento usará como referência para o recomendador:"
      ],
      "metadata": {
        "id": "qXGxBdBqlHxY"
      }
    },
    {
      "cell_type": "code",
      "source": [
        "def calculate_euclidean_distance(imovel, valor):\n",
        "    return euclidean(imovel, valor)\n",
        "\n",
        "\n",
        "def recommender(id_imovel, dataframe_kmeans):\n",
        "    cluster = dataframe_kmeans\\\n",
        "        .filter(dataframe_kmeans.id == id_imovel)\\\n",
        "        .select('cluster_pca')\\\n",
        "        .collect()[0][0]\n",
        "\n",
        "    imoveis_recomendadas = dataframe_kmeans\\\n",
        "        .filter(dataframe_kmeans.cluster_pca == cluster)\n",
        "\n",
        "    imovel_procurado = imoveis_recomendadas\\\n",
        "        .filter(imoveis_recomendadas.id == id_imovel)\\\n",
        "        .select('pca_features')\\\n",
        "        .collect()[0][0]\n",
        "\n",
        "    euclidean_udf = f.udf(lambda x: calculate_euclidean_distance(\n",
        "        imovel_procurado, x), FloatType())\n",
        "\n",
        "    colunas_nao_utilizadas = [\n",
        "        'features', 'scaled_features', 'pca_features', 'cluster_pca', 'distancia']\n",
        "\n",
        "    recomendadas = imoveis_recomendadas\\\n",
        "        .withColumn('distancia', euclidean_udf('pca_features'))\\\n",
        "        .select([col for col in imoveis_recomendadas.columns if col not in colunas_nao_utilizadas])\\\n",
        "        .orderBy('distancia')\n",
        "\n",
        "    return recomendadas"
      ],
      "metadata": {
        "id": "QmLgcSjalIa5"
      },
      "execution_count": 74,
      "outputs": []
    },
    {
      "cell_type": "markdown",
      "source": [
        "Realiza-se um teste para recomendar imóveis parecidos com o imóvel `id = '00b23c6d-0e9d-4be3-a4cc-cf64ca06f3d2'`"
      ],
      "metadata": {
        "id": "0zAsWFe2lua3"
      }
    },
    {
      "cell_type": "code",
      "source": [
        "id_validacao = '00b23c6d-0e9d-4be3-a4cc-cf64ca06f3d2'"
      ],
      "metadata": {
        "id": "bZXg3tYvnFnI"
      },
      "execution_count": 75,
      "outputs": []
    },
    {
      "cell_type": "code",
      "source": [
        "recommender(id_validacao, projection_kmeans)\\\n",
        "    .select('id', 'bairro')\\\n",
        "    .show(10, truncate=False)"
      ],
      "metadata": {
        "colab": {
          "base_uri": "https://localhost:8080/"
        },
        "id": "geKuHIWynIqn",
        "outputId": "644dce90-ffc3-49ea-d49a-8da1450f688c"
      },
      "execution_count": 76,
      "outputs": [
        {
          "output_type": "stream",
          "name": "stdout",
          "text": [
            "+------------------------------------+---------------+\n",
            "|id                                  |bairro         |\n",
            "+------------------------------------+---------------+\n",
            "|00b23c6d-0e9d-4be3-a4cc-cf64ca06f3d2|Parada de Lucas|\n",
            "|03b3fee4-fd36-48c5-8911-00bfdfc79762|Tomás Coelho   |\n",
            "|db0ad902-d0d0-4233-8a67-63428d698023|Todos os Santos|\n",
            "|69e53fc2-2885-44d5-a675-9d09750f879a|Cachambi       |\n",
            "|f32d7f78-f06f-4b43-9d98-62b3d7dc5d39|Tijuca         |\n",
            "|d51fd7fc-ab7e-4755-9e91-0fb347ed1541|São Cristóvão  |\n",
            "|b5ac5c83-4d2f-44f7-b1b6-97764decf782|Vila Isabel    |\n",
            "|d7dfc69b-b974-4301-9cde-61ea052423c8|Engenho Novo   |\n",
            "|2e0a73cb-5c7a-4cf8-8ded-58d0ccab3cba|Todos os Santos|\n",
            "|5eb84915-78e1-4748-8b0a-a1feba703210|Andaraí        |\n",
            "+------------------------------------+---------------+\n",
            "only showing top 10 rows\n",
            "\n"
          ]
        }
      ]
    }
  ]
}